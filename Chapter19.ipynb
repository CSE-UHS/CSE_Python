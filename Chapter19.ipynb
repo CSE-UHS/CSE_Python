{
 "cells": [
  {
   "cell_type": "markdown",
   "metadata": {},
   "source": [
    "<div align=\"right\">\n",
    "<a href=\"http://nbviewer.ipython.org/github/CSE-UHS/CSE_Python/blob/master/Chapter00.ipynb\" align=\"right\"><h2>Table of Contents</h2></a>\n",
    "</div>"
   ]
  },
  {
   "cell_type": "markdown",
   "metadata": {},
   "source": [
    "# Chapter 19: MVC Pattern"
   ]
  },
  {
   "cell_type": "markdown",
   "metadata": {},
   "source": [
    "## Introduction"
   ]
  },
  {
   "cell_type": "markdown",
   "metadata": {},
   "source": [
    "&nbsp;&nbsp;&nbsp;&nbsp;&nbsp;Human-computer interaction (HCI) depends on the user knowing how to use the interface. A good interface is intuitive or easy to learn. Mice and touchscreens are now so common that users expect certain behavior tied to these devices in a graphical user interface (GUI). How do programs usually respond to user input? You are familiar with what programmers have settled on as standard interfaces such as scroll bars or a dropdown menu. Such tools are often packaged in an API as widgets. How do programmers make the interface behave the way a user expects it to? How do software developers design a solution to a problem so that it can be reused for other, similar problems?"
   ]
  },
  {
   "cell_type": "markdown",
   "metadata": {},
   "source": [
    "## Software Design Patterns"
   ]
  },
  {
   "cell_type": "markdown",
   "metadata": {},
   "source": [
    "&nbsp;&nbsp;&nbsp;&nbsp;&nbsp;Software design problems also appear over and over. Many design problems are problems that are solved by creating a big-picture plan for a piece of software. These solutions are called design patterns. A design pattern guides software development, making it more likely that programmers will make rapid progress and avoid major roadblocks. You have seen that an object-oriented software solution is communicated by showing relationships among classes. Design patterns are even more abstract. \n",
    "\n"
   ]
  },
  {
   "cell_type": "markdown",
   "metadata": {},
   "source": [
    "## Model-View-Controller (MVC) Pattern"
   ]
  },
  {
   "cell_type": "markdown",
   "metadata": {},
   "source": [
    "&nbsp;&nbsp;&nbsp;&nbsp;&nbsp;The <b>model-view-controller (MVC) pattern</b> allows the user to use a <b>Controller</b> to affect both the <b>Model</b> (data) and how the data is observed <b>(View)</b>. <br><br>\n",
    "<center><img src=\"https://dl.dropboxusercontent.com/u/90219577/Hermon/CSE_Website/notebooks/19/mvc.png\"></center>"
   ]
  },
  {
   "cell_type": "markdown",
   "metadata": {},
   "source": [
    "&nbsp;&nbsp;&nbsp;&nbsp;&nbsp;The <b>MODEL</b> stores the data. The <b>VIEW</b> presents data to the user. The <b>CONTROLLER</b> lets the user change the view and/or the underlying data. Separating these three concerns was one of the key accomplishments of one of the first GUIs. This was the work of the Xerox PARC team and was captured and built on by both Apple and Microsoft.\n",
    "<HR>\n",
    "&nbsp;&nbsp;&nbsp;&nbsp;&nbsp;Consider a grade book system like Power School and two UHS students, Jay Z and Beyonce. Beyonce likes to look at her grades sorted by the due date, but Jay Z likes to look at his grades sorted by the percentage scores. The code for Power School is separated into model, view, and controller classes. \n",
    "\n",
    "The <b>MODEL</b> or data would contain things like a list of assignment titles, due dates, points possible, student names and student scores on each assignment.<br><br>\n",
    "The Power School interface might offer some <b>CONTROLS</b> to the user, such as narrowing the view to only the current grading period or only missing assignments. Or the user might be able to change the view by sorting by due date, assignment name or score. Some parts of the <b>CONTROLLER</b> might do other things when it sees a change in the <b>MODEL</b>. For example it might send an e-mail notification (VIEW) to Beyonce on the \"A\" she received on a song she wrote for CSE called, \"Your Love for Me is Binary: Either You Do or You Don't\"<br><br>\n",
    "The student might then receive different <b>VIEWS</b> such as a list of assignment names, scores, and calculations of overall grade or percentage per assignment.<br><br>\n",
    "<HR>\n",
    "&nbsp;&nbsp;&nbsp;&nbsp;&nbsp;Our current LMS (Learning Management System), Scholar is also clearly patterned around <b>Model-View-Controller</b>.<br><br>\n",
    "\n",
    "The <b>MODEL</b> or data is a database which contains usernames, passwords, page preferences, quiz attempts, checklist progress, forum posts, course lists and a ton of other types of data<br><br>\n",
    "The Scholar interface offers many <b>CONTROLS</b> to the user, such as hiding blocks, completing assignments, making forum posts or changing the color preference of Scholar. Some parts of the <b>CONTROLLER</b> might do other things when it sees a change in the <b>MODEL</b>. For example it might present a green progress bar view to Jay Z when he finally submits his last CSE assignment, which was a song about breaking up called, \"If Done == True:\".<br><br>\n",
    "The student will then receive different <b>VIEWS</b> such as their Dashboard or different course pages."
   ]
  },
  {
   "cell_type": "markdown",
   "metadata": {},
   "source": [
    "## MVC Pattern with Tkinter"
   ]
  },
  {
   "cell_type": "markdown",
   "metadata": {},
   "source": [
    "&nbsp;&nbsp;&nbsp;&nbsp;&nbsp;We will consider the MVC pattern as we continue to examine the GUI toolkit in Python called <b>Tkinter</b>. \n",
    "\n",
    "<b><u>ANOTHER REMINDER</U>: When running Python programs with Tkinter, Canopy needs to be taken out of its interactive mode to avoid having two GUI event loops competing with each other. In the Canopy Welcome window, select Edit > Preferences... from the menu at the top. In the Preferences dialog box that appears, select the Python tab. In the Python tab's window, from the dropdown selection for Pylab backend, select Inline (SVG). If an alert appears advising you to restart the kernel, select Restart kernel.</b>"
   ]
  },
  {
   "cell_type": "markdown",
   "metadata": {},
   "source": [
    "## Radius Changer Program"
   ]
  },
  {
   "cell_type": "markdown",
   "metadata": {},
   "source": [
    "&nbsp;&nbsp;&nbsp;&nbsp;&nbsp;The Radius Changer Program is intended for a client who wants to visualize the distance represented by various pixel lengths by the video card and monitor. A video card is the hardware component of a computer which accepts data and instructions from the computer's processor and renders an image on the computer's monitor(s). We will build this program step by step together using the MVC pattern and then you will modify it in the activity at the end of this chapter. Create a new file in your working directory and call it something like <b>\"radius_changer.py\"</b>. Below is what the final GUI will hopefully look like.<br><br>\n",
    "<center><img src=\"https://dl.dropboxusercontent.com/u/90219577/Hermon/CSE_Website/notebooks/19/radius_program.png\"></center>\n",
    "\n",
    "&nbsp;&nbsp;&nbsp;&nbsp;&nbsp;We will first import the Tkinter library and then initialize Tkinter by creating a Tk root window and giving it a title. <br><br>\n",
    "<img src=\"https://dl.dropboxusercontent.com/u/90219577/Hermon/CSE_Website/notebooks/19/1-12.png\"><br>\n",
    "\n",
    "&nbsp;&nbsp;&nbsp;&nbsp;&nbsp;This window and anything we put into the window will never show up until we call the <b>mainloop( ) function</b> on our window. This <b>Tkinter event loop</b> is the last line of code in our program. Drop down many lines of code to include the following. <br>\n",
    "<img src=\"https://dl.dropboxusercontent.com/u/90219577/Hermon/CSE_Website/notebooks/19/50-53.png\"><br>\n",
    "\n",
    "<h2><b>MODEL</b></h2><br> The first code we will write we will classify at the <b>model section</b> of our MVC pattern although it doesn't really contain that much data. The first thing we are going to do is initialize a variable called <b>radius</b> and set it to 100 pixels. We will be using a Tkinter slider widget to change the value of <b>radius</b> during the program and it's not possible to hand over a regular Python variable to a Tkinter widget. The only kinds of variables for which this works are variables that are subclassed from a class called Variable, defined in the Tkinter library. They are declared like this:<br><br>\n",
    "<b>x = StringVar() # Holds a string; default value \"\"<br>\n",
    "x = IntVar() # Holds an integer; default value 0<br>\n",
    "x = DoubleVar() # Holds a float; default value 0.0<br>\n",
    "x = BooleanVar() # Holds a boolean, returns 0 for False and 1 for True</b><br><br>\n",
    "&nbsp;&nbsp;&nbsp;&nbsp;&nbsp;To read the current value of such a variable, call the method <b>get( )</b>. The value of such a variable can be changed with the <b>set( )</b> method. Since we want our radius variable to be an integer we will use the Tkinter variable type, <b>IntVar( )</b>. We will then use the <b>set( )</b> method to initialize the radius at 100 pixels.\n",
    "\n",
    "&nbsp;&nbsp;&nbsp;&nbsp;&nbsp;We also will set values for x and y which will be the center of the circle. We are setting them to 175 and 175 because later we will be making a drawing canvas like we did in the last chapter and the size of that canvas will be 350 x 350. Therefore the circle will be centered in the canvas.\n",
    "\n",
    "<img src=\"https://dl.dropboxusercontent.com/u/90219577/Hermon/CSE_Website/notebooks/19/13-21.png\"><br>\n",
    "<h2><b>VIEW</b></h2><br> We will now drop down again just above the mainloop section to create the <b>view section</b> of our MVC pattern. We could make an argument that the slider, the directions and the circle should all be created in the <b>VIEW</b> section. However, we are going to consider the slider and the directions to be in the <b>CONTROLLER</b> section and we are only going to worry about the circle being in the <b>VIEW</b> section.\n",
    "\n",
    "&nbsp;&nbsp;&nbsp;&nbsp;&nbsp;To make a circle you first have to create a Canvas widget on which to draw shapes. I created a Canvas object on line 43, which I called, <b>the_view</b>. The Canvas object is placed into the root window, given a size of 350 x 350 and a white background color. \n",
    "\n",
    "<img src=\"https://dl.dropboxusercontent.com/u/90219577/Hermon/CSE_Website/notebooks/19/39-43.png\"><br>\n",
    "\n",
    "&nbsp;&nbsp;&nbsp;&nbsp;&nbsp;On line 44 we use the <b>grid( )</b> method to place the canvas object into the correct section of the window. In the last chapter we never entered any arguments into the grid( ) method which meant the canvas would just fill the entire window. This time, however, we did use arguments. We are able to divide our window up by creating a table or grid of cells/containers for various widgets. We label rows starting with row=0 and columns starting with column=0. If you look at the GUI that we are trying to create, there are directions in the upper left, a slider in the lower left and the circle in a cell that covers both rows. Therefore, we want the Canvas to be in the second column (column=1) and span the first two rows. Therefore we set <b>column=1, row=0</b> and use <b>rowspan=2</b>\n",
    "\n",
    "<img src=\"https://dl.dropboxusercontent.com/u/90219577/Hermon/CSE_Website/notebooks/19/44-45.png\"><br>\n",
    "\n",
    "&nbsp;&nbsp;&nbsp;&nbsp;&nbsp;Now we need to draw the circle on the Canvas. First we need to <b>get( )</b> the radius variable on line 47. Next we create the circle using the <b>create_oval</b> method. For arguments of this method we have the upper left and lower right coordinates of the circle's bounding box as well as a black outline and a cyan fill color. I called my circle object, <b>circle_item</b>.\n",
    "\n",
    "<img src=\"https://dl.dropboxusercontent.com/u/90219577/Hermon/CSE_Website/notebooks/19/46-49.png\"><br>\n",
    "\n",
    "<h2><b>CONTROLLER</b></h2><br> There are three things we want to do in the <b>CONTROLLER</b> section of our code.<br><br>\n",
    "1.) We want to create a function that changes the coordinates of the circle each time the slider changes.<br>\n",
    "2.) We want to create the actual slider<br>\n",
    "3.) We want to create some directions to the user.<br>\n",
    "\n",
    "&nbsp;&nbsp;&nbsp;&nbsp;&nbsp;On lines 22-30 we made a simple function called <b>radius_changed</b> that requires a variable called <b>new_radius</b> to be entered when the function is called. In the function we do another <b>get( )</b>method to determine the current radius of the circle. Then on the Canvas we used the <b>coords( )</b> method to update the bounding box coordinates of the <b>circle_item</b>. This is a pretty simple function and it will be called every time the slider is dragged to a different number.\n",
    "<img src=\"https://dl.dropboxusercontent.com/u/90219577/Hermon/CSE_Website/notebooks/19/22-30.png\"><br>>\n",
    "\n",
    "&nbsp;&nbsp;&nbsp;&nbsp;&nbsp;On line 32, we created a <b>radius_slider</b> object using the <b>Scale( )</b> method. Read the official documentation about sliders <a href=\"http://effbot.org/tkinterbook/scale.htm\" target=\"_blank\">here</a>. We entered 6 arguments into our Scale( ) method. The first one, AS ALWAYS, is the window. The next two are the <b>from_</b> and <b>to</b> paramters which define the minimum and maximum values that can be assigned to our <b>radius</b> variable. Notice \"from\" is a reserved word in Python so it needs an underscore after it. The next argument is <b>variable</b>. Our variable is <b>radius</b>. Each time the slider is moved to a different value that value will be stored in <b>radius</b>. The <b>label</b> parameter is fairly obvious. It labels the slider with some text. Finally, the <b>command</b> parameter is set equal to our <b>radius_changed</b> function. This means every time the slider is moved it will continually call the function. The function then changes the radius of the circle.<br><br>\n",
    "<img src=\"https://dl.dropboxusercontent.com/u/90219577/Hermon/CSE_Website/notebooks/19/31-33.png\"><br>\n",
    "\n",
    "&nbsp;&nbsp;&nbsp;&nbsp;&nbsp;On line 34, we place the slider into the window again using the <b>grid( )</b> method. It goes in the second row and the first column which would actually be (row=1 and column=0). What does <b>sticky = W</b> mean?  <a href=\"http://effbot.org/tkinterbook/grid.htm\" target=\"_blank\">(Read here and record in your notebook!)</a>.<br><br>\n",
    "\n",
    "<img src=\"https://dl.dropboxusercontent.com/u/90219577/Hermon/CSE_Website/notebooks/19/34.png\"><br>\n",
    "\n",
    "&nbsp;&nbsp;&nbsp;&nbsp;&nbsp;On line 36 we create some directions using the <b>Label( ) method</b>.  <a href=\"http://effbot.org/tkinterbook/label.htm\" target=\"_blank\">(Read about this method)</a>.\n",
    "<img src=\"https://dl.dropboxusercontent.com/u/90219577/Hermon/CSE_Website/notebooks/19/35-36.png\"><br>\n",
    "\n",
    "&nbsp;&nbsp;&nbsp;&nbsp;&nbsp;On line 37, we place the label into the window again using the <b>grid( )</b> method. It goes in the first row and the first column which would actually be (row=0 and column=0).<br><br>\n",
    "<img src=\"https://dl.dropboxusercontent.com/u/90219577/Hermon/CSE_Website/notebooks/19/37.png\"><br>\n",
    "<h2>If your program works go on to the activity below!</h2>"
   ]
  },
  {
   "cell_type": "markdown",
   "metadata": {},
   "source": [
    "<table width=\"100%\" border=\"1\" cellpadding=\"2\" cellspacing=\"0\">\n",
    "<tr>\n",
    "<td width=\"90\" bgcolor=\"#00FF00\" style=\"vertical-align:top\"><img src=\"https://dl.dropboxusercontent.com/u/90219577/Hermon/CSE_Website/notebooks/sith.png\" style=\"border:2px solid #021a40;\"><center><b>\n",
    "Jedi<br>Training<br>Task</b></center></td>\n",
    "<td valign=\"top\"><center><font size=\"+2\"><b>Position Changer</b></font></center><br>\n",
    "<font size=\"+1\">\n",
    "\n",
    "&nbsp;&nbsp;&nbsp;&nbsp;&nbsp;In this activity first make a copy of your radius changer program and name it <b>\"position_changer.py\"</b>. Modify your program by connecting the action of the slider to the circle's y-position instead of to the circle's radius. Change other attributes in the program as demonstrated in this <a href=\"https://youtu.be/jKt_99a6kAA\" target=\"_blank\">video</a>. When you are done, demonstrate it to your instructor.\n",
    "</td></tr></table>"
   ]
  },
  {
   "cell_type": "markdown",
   "metadata": {},
   "source": [
    "<table width=\"100%\" cellpadding=\"2\" cellspacing=\"2\">\n",
    "<tr>\n",
    "<td style=\"border: 1px solid white;\" width=\"100px\">\n",
    "<div>\n",
    "<a href=\"http://nbviewer.ipython.org/github/CSE-UHS/CSE_Python/blob/master/Chapter18.ipynb\"><img src=\"https://dl.dropboxusercontent.com/u/90219577/Hermon/CSE_Website/notebooks/leftarrow.png\" height=\"50px\" width=\"50px\" align=\"left\"></a>\n",
    "</div>\n",
    "</td>\n",
    "<td style=\"border: 1px solid white;\">\n",
    "<div align=\"center\">\n",
    "<a href=\"http://nbviewer.ipython.org/github/CSE-UHS/CSE_Python/blob/master/Chapter00.ipynb\"><h2>Table of Contents</h2></a>\n",
    "</div>\n",
    "</td>\n",
    "<td style=\"border: 1px solid white;\" width=\"100px\">\n",
    "<div>\n",
    "<a href=\"http://nbviewer.ipython.org/github/CSE-UHS/CSE_Python/blob/master/Chapter20.ipynb\"><img src=\"https://dl.dropboxusercontent.com/u/90219577/Hermon/CSE_Website/notebooks/rightarrow.png\"  height=\"50px\" width=\"50px\"  align=\"right\"></a>\n",
    "</div>\n",
    "</td>\n",
    "</tr></table>"
   ]
  }
 ],
 "metadata": {
  "kernelspec": {
   "display_name": "Python 2",
   "language": "python",
   "name": "python2"
  },
  "language_info": {
   "codemirror_mode": {
    "name": "ipython",
    "version": 2
   },
   "file_extension": ".py",
   "mimetype": "text/x-python",
   "name": "python",
   "nbconvert_exporter": "python",
   "pygments_lexer": "ipython2",
   "version": "2.7.10"
  }
 },
 "nbformat": 4,
 "nbformat_minor": 0
}
