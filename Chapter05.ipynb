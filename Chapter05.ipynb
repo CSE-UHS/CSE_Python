{
 "cells": [
  {
   "cell_type": "markdown",
   "metadata": {},
   "source": [
    "<div align=\"right\">\n",
    "<a href=\"http://nbviewer.ipython.org/github/CSE-UHS/CSE_Python/blob/master/Chapter00.ipynb\" align=\"right\"><h2>Table of Contents</h2></a>\n",
    "</div>"
   ]
  },
  {
   "cell_type": "markdown",
   "metadata": {},
   "source": [
    "# Chapter 5: Lists, Tuples and Strings"
   ]
  },
  {
   "cell_type": "markdown",
   "metadata": {},
   "source": [
    "The two new types of data introduced in this chapter are Lists and Tuples. Try running the following commands in the interactive Python shell and see what is displayed: "
   ]
  },
  {
   "cell_type": "code",
   "execution_count": null,
   "metadata": {
    "collapsed": false
   },
   "outputs": [],
   "source": [
    "type( (2, 3, 4, 5) )\n",
    "type( [2, 3, 4, 5] )"
   ]
  },
  {
   "cell_type": "markdown",
   "metadata": {},
   "source": [
    "The first type is a <b>tuple</b> and the second is a <b>list</b>. There are only two differences between a tuple and a list. First, it is created with parentheses rather than square brackets. Second, it is not possible to change the tuple once created. The term we use for that is immutable. Therefore lists are <b>mutable</b> and tuples are <b>immutable</b>. So why would we want to use a tuple if it is immutable? First, the computer can run faster if it knows the value won't change. Second, some lists we don't want to change, such as a list of RGB colors for red. The color red doesn't change, therefore an immutable tuple is a better choice. \n",
    "\n",
    "Lists and Tuples can be assigned to a single variable name."
   ]
  },
  {
   "cell_type": "code",
   "execution_count": 2,
   "metadata": {
    "collapsed": false
   },
   "outputs": [
    {
     "name": "stdout",
     "output_type": "stream",
     "text": [
      "['Rock', 'Paper', 'Scissors']\n"
     ]
    }
   ],
   "source": [
    "roshambo = [\"Rock\",\"Paper\",\"Scissors\"]\n",
    "print(roshambo)"
   ]
  },
  {
   "cell_type": "markdown",
   "metadata": {},
   "source": [
    "How would I print out the second item in this list?"
   ]
  },
  {
   "cell_type": "code",
   "execution_count": 6,
   "metadata": {
    "collapsed": false
   },
   "outputs": [
    {
     "name": "stdout",
     "output_type": "stream",
     "text": [
      "Paper\n"
     ]
    }
   ],
   "source": [
    "print(roshambo[1])"
   ]
  },
  {
   "cell_type": "markdown",
   "metadata": {},
   "source": [
    "This number with the item's location is called the index. Note that list locations start at zero. So a list with 10 elements does not have an element in spot [10]. Just spots [0] through [9]. It can be very confusing to create an array of 10 items and then not have an item 10, but most computer languages start counting at 0 rather than 1.\n",
    "\n",
    "Think of a list as an ice cube tray that holds numbers, as shown below. The values are stored inside each tray spot, and written on the side of the tray are numbers starting at zero that identify the location of each spot.\n",
    "Don't mix the index and the value!\n",
    "\n",
    "<center><img src=\"https://dl.dropboxusercontent.com/u/90219577/Hermon/CSE_Website/notebooks/05/icecubetray.png\"></center>\n",
    "\n",
    "Remember, there are two sets of numbers to consider when working with a list of numbers: the position and the value. The position, also known as index, refers to where a value is. The value is the actual number stored at that location. When working with an array, make sure to think if you need the location or the value.\n",
    "\n",
    "It is easy to get the value given the location, but it is harder to get the location given the value.\n",
    "\n",
    "A program can assign new values to an individual element in a list. In the case below, the second spot at location one (not two) is changed to Chuck Norris. Remember, you would not be able to do this if roshambo was a tuple instead of a list."
   ]
  },
  {
   "cell_type": "code",
   "execution_count": 7,
   "metadata": {
    "collapsed": false
   },
   "outputs": [
    {
     "name": "stdout",
     "output_type": "stream",
     "text": [
      "['Rock', 'Chuck Norris', 'Scissors']\n"
     ]
    }
   ],
   "source": [
    "roshambo[1] = \"Chuck Norris\"  #Chuck Norris will win every time...yes...even against the Rock!\n",
    "print(roshambo)"
   ]
  },
  {
   "cell_type": "markdown",
   "metadata": {},
   "source": [
    "## Iteration"
   ]
  },
  {
   "cell_type": "markdown",
   "metadata": {},
   "source": [
    "Iteration is the process of stepping through each item in a collection of data such as a list. If a program needs to iterate through each item in a list, such as to print it out, there are two types of for loops that can do this.\n",
    "\n",
    "The first method to iterate through each item in a loop is by using a “for-each” loop. This type of loop takes a collection of items, and loops the code once per item. It will take a copy of the item and store it in a variable for processing.\n",
    "\n",
    "The format of the command:<br>\n",
    "<center><b>for</b> item_variable <b>in</b> list_name:</center>\n",
    "\n",
    "Here are some examples: \n"
   ]
  },
  {
   "cell_type": "code",
   "execution_count": 9,
   "metadata": {
    "collapsed": false
   },
   "outputs": [
    {
     "name": "stdout",
     "output_type": "stream",
     "text": [
      "Rock\n",
      "Chuck Norris\n",
      "Scissors\n"
     ]
    }
   ],
   "source": [
    "for item in roshambo:\n",
    "    print(item)"
   ]
  },
  {
   "cell_type": "code",
   "execution_count": 11,
   "metadata": {
    "collapsed": false
   },
   "outputs": [
    {
     "name": "stdout",
     "output_type": "stream",
     "text": [
      "3\n",
      "7\n",
      "5\n",
      "1\n",
      "0\n"
     ]
    }
   ],
   "source": [
    "my_list = [3, 7, 5, 1, 0]\n",
    "for item in my_list:\n",
    "    print(item)"
   ]
  },
  {
   "cell_type": "code",
   "execution_count": 2,
   "metadata": {
    "collapsed": false
   },
   "outputs": [
    {
     "name": "stdout",
     "output_type": "stream",
     "text": [
      "[2, 3]\n",
      "[4, 3]\n",
      "[6, 7]\n"
     ]
    }
   ],
   "source": [
    "my_list = [ [2,3], [4,3], [6,7] ]\n",
    "for item in my_list:\n",
    "    print(item)"
   ]
  },
  {
   "cell_type": "markdown",
   "metadata": {},
   "source": [
    "You might have noticed in this last example that my_list is a list of lists!\n",
    "\n",
    "You can still locate an item by its index number within the list's index number. Does that make sense? Hopefully the following code will demonstrate it clearly. The list nat_league_top3 contains a list of 3 lists and the lists would be indexed as 0,1,2. Each list then contains three teams which would also be indexed 0,1,2. In our example we look at nat_league_top3[1][0]. The [1] means the second list and the [0] means the first team in that second list, which just happens to be the greatest team in Major League Baseball, the Saint Louis Cardinals!"
   ]
  },
  {
   "cell_type": "code",
   "execution_count": 65,
   "metadata": {
    "collapsed": false
   },
   "outputs": [
    {
     "name": "stdout",
     "output_type": "stream",
     "text": [
      "Cardinals\n"
     ]
    }
   ],
   "source": [
    "nat_league_top3 = [[\"Mets\",\"Nationals\",\"Braves\"],[\"Cardinals\",\"Pirates\",\"Cubs\"],[\"Dodgers\",\"Giants\",\"Diamondbacks\"]]\n",
    "team = nat_league_top3[1][0]\n",
    "print(team)"
   ]
  },
  {
   "cell_type": "markdown",
   "metadata": {},
   "source": [
    "The other way to iterate through a list is to use an index variable and directly access the list rather than through a copy of each item. To use an index variable, the program counts from 0 up to the length of the list. If there are ten elements, the loop must go from 0 to 9 for a total of ten elements."
   ]
  },
  {
   "cell_type": "code",
   "execution_count": null,
   "metadata": {
    "collapsed": false
   },
   "outputs": [],
   "source": [
    "my_list = [101, 20, 10, 50, 60]\n",
    "for item in range(5):\n",
    "    print(my_list[item])"
   ]
  },
  {
   "cell_type": "markdown",
   "metadata": {},
   "source": [
    "What if we added one more item to this list? Our code would no longer work correctly because the range would be different. The length of a list may be found by using the <b>len</b> function. Combining that with the range function allows the program to loop through the entire list. "
   ]
  },
  {
   "cell_type": "code",
   "execution_count": 14,
   "metadata": {
    "collapsed": false
   },
   "outputs": [
    {
     "data": {
      "text/plain": [
       "5"
      ]
     },
     "execution_count": 14,
     "metadata": {},
     "output_type": "execute_result"
    }
   ],
   "source": [
    "len(my_list)"
   ]
  },
  {
   "cell_type": "markdown",
   "metadata": {},
   "source": [
    "Combine the two blocks of code above to give the following. This method is more complex, but is also more powerful. Because we are working directly with the list elements, rather than a copy, the list can be modified. The for-each loop does not allow modification of the original list."
   ]
  },
  {
   "cell_type": "code",
   "execution_count": null,
   "metadata": {
    "collapsed": false
   },
   "outputs": [],
   "source": [
    "my_list = [101, 20, 10, 50, 60]\n",
    "for item in range(len(my_list)):\n",
    "    print(my_list[item])"
   ]
  },
  {
   "cell_type": "markdown",
   "metadata": {},
   "source": [
    "## Adding to a List"
   ]
  },
  {
   "cell_type": "markdown",
   "metadata": {},
   "source": [
    "New items may be added to a list (but not a tuple) by using the append command. For example: "
   ]
  },
  {
   "cell_type": "code",
   "execution_count": 16,
   "metadata": {
    "collapsed": false
   },
   "outputs": [
    {
     "name": "stdout",
     "output_type": "stream",
     "text": [
      "[2, 4, 5, 6]\n",
      "[2, 4, 5, 6, 9]\n"
     ]
    }
   ],
   "source": [
    "my_list = [2, 4, 5, 6]\n",
    "print(my_list)\n",
    "my_list.append(9)\n",
    "print(my_list)"
   ]
  },
  {
   "cell_type": "markdown",
   "metadata": {},
   "source": [
    "To create a list from scratch, it is necessary to create a blank list and then use the append function. This example creates a list based upon user input: "
   ]
  },
  {
   "cell_type": "code",
   "execution_count": 17,
   "metadata": {
    "collapsed": false
   },
   "outputs": [
    {
     "name": "stdout",
     "output_type": "stream",
     "text": [
      "Enter an integer: 2\n",
      "[2]\n",
      "Enter an integer: 4\n",
      "[2, 4]\n",
      "Enter an integer: 6\n",
      "[2, 4, 6]\n",
      "Enter an integer: 8\n",
      "[2, 4, 6, 8]\n",
      "Enter an integer: 8\n",
      "[2, 4, 6, 8, 8]\n"
     ]
    }
   ],
   "source": [
    "my_list = [] # Empty list\n",
    "for i in range(5):\n",
    "    userInput = raw_input( \"Enter an integer: \")\n",
    "    userInput = int( userInput )\n",
    "    my_list.append(userInput)\n",
    "    print(my_list)"
   ]
  },
  {
   "cell_type": "markdown",
   "metadata": {},
   "source": [
    "If a program needs to create an array of a specific length, all with the same value, a simple trick is to use the following code: "
   ]
  },
  {
   "cell_type": "code",
   "execution_count": 18,
   "metadata": {
    "collapsed": false
   },
   "outputs": [
    {
     "name": "stdout",
     "output_type": "stream",
     "text": [
      "['Mr. Hermon is a Wizard!', 'Mr. Hermon is a Wizard!', 'Mr. Hermon is a Wizard!']\n"
     ]
    }
   ],
   "source": [
    "# Creates a list with 3 of the same items.\n",
    "my_list = [\"Mr. Hermon is a Wizard!\"] * 3\n",
    "print(my_list)"
   ]
  },
  {
   "cell_type": "markdown",
   "metadata": {},
   "source": [
    "## Summing or Modifying a List"
   ]
  },
  {
   "cell_type": "markdown",
   "metadata": {},
   "source": [
    "Creating a running total of an array is a common operation. Here's how it is done: "
   ]
  },
  {
   "cell_type": "code",
   "execution_count": 20,
   "metadata": {
    "collapsed": false
   },
   "outputs": [
    {
     "name": "stdout",
     "output_type": "stream",
     "text": [
      "184\n"
     ]
    }
   ],
   "source": [
    "# Copy of the array to sum\n",
    "my_list = [5, 76, 8, 5, 3, 3, 56, 5, 23]\n",
    "# Initial sum should be zero\n",
    "list_total = 0\n",
    "# Loop through array, copying each item in the array into\n",
    "# the variable named item.\n",
    "for item in my_list:\n",
    "# Add each item\n",
    "    list_total += item\n",
    "# Print the result\n",
    "print(list_total)"
   ]
  },
  {
   "cell_type": "markdown",
   "metadata": {},
   "source": [
    "Numbers in an array can also be changed by using a <b>for</b> loop. The following code doubles each item in the list."
   ]
  },
  {
   "cell_type": "code",
   "execution_count": 21,
   "metadata": {
    "collapsed": false
   },
   "outputs": [
    {
     "name": "stdout",
     "output_type": "stream",
     "text": [
      "[10, 152, 16, 10, 6, 6, 112, 10, 46]\n"
     ]
    }
   ],
   "source": [
    "# Copy of the array to modify\n",
    "my_list = [5, 76, 8, 5, 3, 3, 56, 5, 23]\n",
    "# Loop from 0 up to the number of elements\n",
    "# in the array:\n",
    "for i in range(len(my_list)):\n",
    "# Modify the element by doubling it\n",
    "    my_list[i] = my_list[i] * 2\n",
    "# Print the result\n",
    "print(my_list)"
   ]
  },
  {
   "cell_type": "markdown",
   "metadata": {},
   "source": [
    "## Strings"
   ]
  },
  {
   "cell_type": "markdown",
   "metadata": {},
   "source": [
    "<center><img src=\"https://dl.dropboxusercontent.com/u/90219577/Hermon/CSE_Website/notebooks/05/cat.png\"></center>Strings are actually lists of characters. Strings are <b>iterables</b>. Iterables are sequences that can be counted in order, one at a time, during iteration. Strings contain a sequence of characters, one after another. The elements — including the spaces — are indexed, starting at 0. Let's setup a string and then check it's type for a review."
   ]
  },
  {
   "cell_type": "code",
   "execution_count": 26,
   "metadata": {
    "collapsed": false
   },
   "outputs": [
    {
     "data": {
      "text/plain": [
       "str"
      ]
     },
     "execution_count": 26,
     "metadata": {},
     "output_type": "execute_result"
    }
   ],
   "source": [
    "uhs_slogan = 'My school is the best'\n",
    "type(uhs_slogan)"
   ]
  },
  {
   "cell_type": "code",
   "execution_count": 27,
   "metadata": {
    "collapsed": false
   },
   "outputs": [
    {
     "name": "stdout",
     "output_type": "stream",
     "text": [
      "My school is the best\n"
     ]
    }
   ],
   "source": [
    "print(uhs_slogan)"
   ]
  },
  {
   "cell_type": "markdown",
   "metadata": {},
   "source": [
    "Predict the output for each of the following lines of code in your notebook and then test them."
   ]
  },
  {
   "cell_type": "code",
   "execution_count": null,
   "metadata": {
    "collapsed": false
   },
   "outputs": [],
   "source": [
    "print(uhs_slogan[0])\n",
    "print(uhs_slogan[2])\n",
    "print(uhs_slogan[8])\n",
    "print(uhs_slogan[-1]) #characters can be accessed from the right side also\n",
    "print(uhs_slogan[26])"
   ]
  },
  {
   "cell_type": "markdown",
   "metadata": {},
   "source": [
    "Python allows iterables such as lists and strings to be <b>sliced</b>. To slice, use square brackets and two indices separated by a colon. Python returns the iterable from the beginning index up to <u>but not including</u> the ending index."
   ]
  },
  {
   "cell_type": "code",
   "execution_count": 34,
   "metadata": {
    "collapsed": false
   },
   "outputs": [
    {
     "name": "stdout",
     "output_type": "stream",
     "text": [
      "My sc\n"
     ]
    }
   ],
   "source": [
    "print(uhs_slogan[0:5])"
   ]
  },
  {
   "cell_type": "code",
   "execution_count": 35,
   "metadata": {
    "collapsed": false
   },
   "outputs": [
    {
     "name": "stdout",
     "output_type": "stream",
     "text": [
      "hool is the best\n"
     ]
    }
   ],
   "source": [
    "print(uhs_slogan[5:21])"
   ]
  },
  {
   "cell_type": "markdown",
   "metadata": {},
   "source": [
    "When slicing, you can omit the starting (or ending) index if you want to start at the beginning (or end at the ending) of the string."
   ]
  },
  {
   "cell_type": "code",
   "execution_count": 37,
   "metadata": {
    "collapsed": false
   },
   "outputs": [
    {
     "name": "stdout",
     "output_type": "stream",
     "text": [
      "My sch\n"
     ]
    }
   ],
   "source": [
    "print(uhs_slogan[:6])"
   ]
  },
  {
   "cell_type": "code",
   "execution_count": 39,
   "metadata": {
    "collapsed": false
   },
   "outputs": [
    {
     "name": "stdout",
     "output_type": "stream",
     "text": [
      "ool is the best\n"
     ]
    }
   ],
   "source": [
    "print(uhs_slogan[6:])"
   ]
  },
  {
   "cell_type": "markdown",
   "metadata": {},
   "source": [
    "#### CHALLENGE: Try to print 'best' by slicing the variable uhs_slogan, omitting the end index."
   ]
  },
  {
   "cell_type": "markdown",
   "metadata": {},
   "source": [
    "Use slicing and <b>concatenation</b> to create your own sentence. <b>Concatenation</b> involves pasting together two strings, one after another. Follow the example here."
   ]
  },
  {
   "cell_type": "code",
   "execution_count": 41,
   "metadata": {
    "collapsed": false
   },
   "outputs": [
    {
     "name": "stdout",
     "output_type": "stream",
     "text": [
      "My school is awesome!\n"
     ]
    }
   ],
   "source": [
    "print(uhs_slogan[:13] + 'awesome!')"
   ]
  },
  {
   "cell_type": "markdown",
   "metadata": {},
   "source": [
    "The len() function returns the number of elements in an iterable. The index of the last element is always one less than the length of the iterable since the indices begin at 0. Therefore since the length of this string is 21 characters long the index value of the last character \"t\" is index 20!"
   ]
  },
  {
   "cell_type": "code",
   "execution_count": 42,
   "metadata": {
    "collapsed": false
   },
   "outputs": [
    {
     "name": "stdout",
     "output_type": "stream",
     "text": [
      "21\n"
     ]
    }
   ],
   "source": [
    "print(len(uhs_slogan))"
   ]
  },
  {
   "cell_type": "markdown",
   "metadata": {},
   "source": [
    "Although this is rather strange, strings in Python may be used with <b>some</b> of the mathematical operators. Try the following code and see what Python does:"
   ]
  },
  {
   "cell_type": "code",
   "execution_count": null,
   "metadata": {
    "collapsed": false
   },
   "outputs": [],
   "source": [
    "a = \"Hi\"\n",
    "b = \"There\"\n",
    "c = \"!\"\n",
    "print(a + b)\n",
    "print(a + b + c)\n",
    "print(3 * a)\n",
    "print(c * 4)\n",
    "print((a * 2) + (b * 2))"
   ]
  },
  {
   "cell_type": "markdown",
   "metadata": {},
   "source": [
    "Since a string is an array, a program can iterate through each character element just like an array: "
   ]
  },
  {
   "cell_type": "code",
   "execution_count": null,
   "metadata": {
    "collapsed": false
   },
   "outputs": [],
   "source": [
    "for character in uhs_slogan:\n",
    "    print(character)"
   ]
  },
  {
   "cell_type": "markdown",
   "metadata": {},
   "source": [
    "#### CHALLENGE: Using the starting code below, print the three month abbreviation for the month number that the user enters. (Calculate the start position in the string, then use the info we just learned to print out the correct substring.) Demonstrate your solution to your instructor."
   ]
  },
  {
   "cell_type": "code",
   "execution_count": null,
   "metadata": {
    "collapsed": false
   },
   "outputs": [],
   "source": [
    "months = \"JanFebMarAprMayJunJulAugSepOctNovDec\"\n",
    "n = int(raw_input(\"Enter a month number: \"))"
   ]
  },
  {
   "cell_type": "markdown",
   "metadata": {},
   "source": [
    "<table width=\"100%\" border=\"1\" cellpadding=\"2\" cellspacing=\"0\">\n",
    "<tr>\n",
    "<td width=\"90\" bgcolor=\"#00FF00\" style=\"vertical-align:top\"><img src=\"https://dl.dropboxusercontent.com/u/90219577/Hermon/CSE_Website/notebooks/sith.png\" style=\"border:2px solid #021a40;\"><center><b>\n",
    "Jedi<br>Training<br>Task</b></center></td>\n",
    "<td valign=\"top\"><center><font size=\"+2\"><b>The Adventure Game</b></font></center><br>\n",
    "<font size=\"+1\">\n",
    "\n",
    "&nbsp;&nbsp;&nbsp;&nbsp;&nbsp;One of the first and greatest text adventure games ever made was called <a href=\"http://en.wikipedia.org/wiki/Colossal_Cave_Adventure\" target=\"_blank\">Colossal Cave Adventure</a>.<br><br>\n",
    "\n",
    "&nbsp;&nbsp;&nbsp;&nbsp;&nbsp;It is easy to start an adventure like this. It is also a great way to practice using lists. Your team's game will involve a list of rooms that can be navigated by going north, east, south, or west. Each room will be a list with the room description, and then what rooms are in each of the directions. <br><br>\n",
    "\n",
    "&nbsp;&nbsp;&nbsp;&nbsp;&nbsp;Before beginning you should draw a map and index each room of your adventure with a room number.<br><br>\n",
    "<center><img src=\"https://dl.dropboxusercontent.com/u/90219577/Hermon/CSE_Website/notebooks/05/adventure.png\"></center><br>\n",
    "\n",
    "\n",
    "&nbsp;&nbsp;&nbsp;&nbsp;&nbsp;Below are the steps to complete this program. For this assignment you basically just need to let the user move around from room to room but feel free to modify and add to your adventure over the course of the year. <b>Make sure you fully comment your code.</b><br><br>\n",
    "<ol>\n",
    "<li>Create an empty array called <b>room_list</b>. </li><br>\n",
    "<li>Create a variable called <b>room</b>. Set it equal to an array with five elements. For the first element, create a string with a description of your first room. The last four elements will be the number of the next room if the user goes north, east, south, or west in that order. Look at your sketch to see what numbers to use. Use None if no room hooks up in that direction. (Do not put None in quotes. It is a special value that represents no value.) </li><br>\n",
    "<li>Append this room to the <b>room list</b>.</li><br>\n",
    "<li>Repeat the prior two steps for each room you want to create. Just re-use the room variable. </li><br>\n",
    "<li>Create a variable called <b>current_room</b>. Set it to zero. </li><br>\n",
    "<li>Print the <b>room_list</b> variable. Run the program. You should see a really long list of every room in your adventure.</li><br>\n",
    "<li>Adjust your print statement to only print the first room (element zero) in the list. Run the program and confirm you get output similar to:<br><br>\n",
    "<center><b>['You are in a room. There is a passage to the north.', 1, None, None, None]</b></center></li><br>\n",
    "<li>Using <b>current_room</b> and <b>room_list</b>, print the current room the user is in. Since your first room is zero, the output should be the same as before. </li><br>\n",
    "<li>Change the print statement so that you only print the description of the room, and not the rooms that hook up to it. Remember, if you are printing a list in a list the index goes after the first index. Don't do this: <b>room_list[current_room[0]]</b>, do this: <b>room_list[current_room][0]</b></li><br>\n",
    "<li>Create a variable called <b>done</b> and set it to <b>False</b>. Then move the printing of the room description inside a while loop that repeats until <b>done</b> is set to <b>True</b>.</li><br> \n",
    "<li>Before printing the description, add code to print a blank line. This will make it visually separate each turn when playing the game.</li><br> \n",
    "<li>After printing the room description, add a line of code that asks the user what direction they wish to go. </li><br>\n",
    "<li>Add an <b>if</b> statement to see if the user wants to go north. </li><br>\n",
    "<li>If the user wants to go north, create a variable called <b>next_room</b> and set it equal to <b>room_list[current_room][1]</b>, which should be the number for what room is to the north. </li><br>\n",
    "<li>Add another <b>if</b> statement to see if the next room is equal to <b>None</b>. If it is, print “You can't go that way.” Otherwise set <b>current_room</b> equal to <b>next_room</b>. </li><br>\n",
    "<li>Test your program. Can you go north to a new room? </li><br>\n",
    "<li>Add <b>elif</b> statements to handle east, south, and west. Add an else statement to let the user know the program doesn't understand what was typed. </li><br>\n",
    "<li>Add several rooms, at least five. It may be necessary to draw out the rooms and room numbers to keep everything straight. Test out the game. You can use \\n or triple quotes if you have a multi-line room description. </li><br>\n",
    "<li>Add a quit command. Make sure that the program works for upper and lower case directions. Have the program work if the user types in “north” or “n”. </li><br>\n",
    "\n",
    "</td></tr></table>"
   ]
  },
  {
   "cell_type": "markdown",
   "metadata": {},
   "source": [
    "<div align=\"right\">\n",
    "<a href=\"http://nbviewer.ipython.org/github/CSE-UHS/CSE_Python/blob/master/Chapter00.ipynb\" align=\"right\"><h2>Table of Contents</h2></a>\n",
    "</div>"
   ]
  }
 ],
 "metadata": {
  "kernelspec": {
   "display_name": "Python 2",
   "language": "python",
   "name": "python2"
  },
  "language_info": {
   "codemirror_mode": {
    "name": "ipython",
    "version": 2
   },
   "file_extension": ".py",
   "mimetype": "text/x-python",
   "name": "python",
   "nbconvert_exporter": "python",
   "pygments_lexer": "ipython2",
   "version": "2.7.10"
  }
 },
 "nbformat": 4,
 "nbformat_minor": 0
}
