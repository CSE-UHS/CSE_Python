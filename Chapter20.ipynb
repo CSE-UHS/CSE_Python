{
 "cells": [
  {
   "cell_type": "markdown",
   "metadata": {},
   "source": [
    "<div align=\"right\">\n",
    "<a href=\"http://nbviewer.ipython.org/github/CSE-UHS/CSE_Python/blob/master/Chapter00.ipynb\" align=\"right\"><h2>Hermon's Book of Python</h2></a>\n",
    "</div>"
   ]
  },
  {
   "cell_type": "markdown",
   "metadata": {},
   "source": [
    "# Chapter 20: More GUI"
   ]
  },
  {
   "cell_type": "markdown",
   "metadata": {},
   "source": [
    "## Introduction"
   ]
  },
  {
   "cell_type": "markdown",
   "metadata": {},
   "source": [
    "&nbsp;&nbsp;&nbsp;&nbsp;&nbsp;In this final chapter you will be given code to three GUIs and will be asked to examine the code and research documentation on items that you do not understand. You will then be asked to modify the code to make a revised GUI. You will demonstrate your modified GUI for your instructor and then upload the program online."
   ]
  },
  {
   "cell_type": "markdown",
   "metadata": {},
   "source": [
    "## GUI 1: Color Explorer"
   ]
  },
  {
   "cell_type": "markdown",
   "metadata": {},
   "source": [
    "&nbsp;&nbsp;&nbsp;&nbsp;&nbsp;Right-Click to download and then analyze the GUI called <a href=\"https://dl.dropboxusercontent.com/u/90219577/Hermon/CSE_Website/notebooks/20/color_string_changer.py\">color_string_changer.py</a>. This GUI needs to be modified so that an artist can see how different RGB colors actually LOOK so he/she can use them in a digital image. Modify the GUI so that it performs as can be seen in this <a href=\"https://youtu.be/_K8OwEqgMg0\" target=\"_blank\">video</a>. Notice a circle now changes color and the blue slider has been added. You might want to review hexadecimal color codes as well as examine the documentation of the <a href=\"http://effbot.org/tkinterbook/text.htm\" target=\"_blank\">Tkinter Text Widget</a>. When you have accomplished this task demonstrate it to your teacher and then upload online.<br><br>"
   ]
  },
  {
   "cell_type": "markdown",
   "metadata": {},
   "source": [
    "## GUI 2: Canvas Art"
   ]
  },
  {
   "cell_type": "markdown",
   "metadata": {},
   "source": [
    "&nbsp;&nbsp;&nbsp;&nbsp;&nbsp;All GUIs are based on events and event handlers. Tkinter provides four ways to connect an event to an event handler. Three of them are:<br>\n",
    "•\tthe variable argument of a widget<br>\n",
    "•\tthe command argument of a widget<br>\n",
    "•\tthe bind() method of a widget<br>\n",
    "\n",
    "&nbsp;&nbsp;&nbsp;&nbsp;&nbsp;The <b>variable argument</b> doesn't let you write your own event handler; it just changes the value of the variable when the user uses the widget. The <b>command argument</b> lets you write your own event handler but only for the widget's built-in kind of event. The <b>bind( )</b> method, however, lets you write your own event handler and attach it to any event that exists. The events include mouse, keyboard, and timer events. \n",
    "Two good sources of documentation on Tkinter events are listed here.<br>\n",
    "\n",
    "•\thttp://effbot.org/tkinterbook/tkinter-events-and-bindings.htm<br>\n",
    "•\thttp://infohost.nmt.edu/tcc/help/pubs/tkinter   Sections 52.2 - 52.6.<br>\n",
    "\n",
    "&nbsp;&nbsp;&nbsp;&nbsp;&nbsp;Right-Click to download and then analyze the GUI called <a href=\"https://dl.dropboxusercontent.com/u/90219577/Hermon/CSE_Website/notebooks/20/canvas_circle_art.py\">color_circle_art.py</a>. An artist is working on a series of acrylic paintings on large canvases. To plan each painting, she wants to paint circles on screens of different colors and experiment with their size, color, position, and overlap. In the code you will see the keyword <b>global</b>. Variables either have a <b>global</b> or a <b>local scope</b>. The scope of a variable identifies which part of a program can use the variable name to refer to the variable's value. For example, the scope of the variable <b>new_shape</b> is local to the <b>up</b> function and would be garbage collected shortly after <b>up( )</b> returned. The canvas object might (in fact does) continue to know about the new_shape, but the new_shape variable that is bound to the object will get garbage collected. That is why new_shape has to be put into the list shapes. The variables <b>startx</b> and <b>starty</b> are defined as <b>global</b> because they needed to be used everywhere including outide of that particular function. Modify the GUI so that it performs as can be seen in one of the following videos:<br><br>\n",
    "1.) <a href=\"https://youtu.be/_K8OwEqgMg0\" target=\"_blank\">video</a><br>\n",
    "2.) <a href=\"https://youtu.be/_K8OwEqgMg0\" target=\"_blank\">video</a><br>\n",
    "3.) <a href=\"https://youtu.be/_K8OwEqgMg0\" target=\"_blank\">video</a><br><br>\n",
    "When you have accomplished at least one of these tasks demonstrate it to your teacher and then upload online.<br><br>"
   ]
  },
  {
   "cell_type": "markdown",
   "metadata": {},
   "source": [
    "## GUI 3: Animated Ball"
   ]
  },
  {
   "cell_type": "markdown",
   "metadata": {},
   "source": [
    "<table width=\"100%\" border=\"1\" cellpadding=\"2\" cellspacing=\"0\">\n",
    "<tr>\n",
    "<td width=\"90\" bgcolor=\"#00FFFF\" style=\"vertical-align:top\"><img src=\"https://dl.dropboxusercontent.com/u/90219577/Hermon/CSE_Website/notebooks/Scholar.png\"></td>\n",
    "<td valign=\"top\"><center><font size=\"+2\"><b>Position Changer</b></font></center><br>\n",
    "<font size=\"+1\">\n",
    "\n",
    "&nbsp;&nbsp;&nbsp;&nbsp;&nbsp;In this activity first make a copy of your radius changer program and name it <b>\"position_changer.py\"</b>. Modify your program by connecting the action of the slider to the circle's y-position instead of to the circle's radius. Change other attributes in the program to look like the following. When you are done, show it to your instructor. If they approve you may upload it online.\n",
    "<table border=\"0\">\n",
    "<tr>\n",
    "<td>\n",
    "<img src=\"https://dl.dropboxusercontent.com/u/90219577/Hermon/CSE_Website/notebooks/19/ball1.png\" width=\"300\" height=\"300\">\n",
    "</td>\n",
    "<td>\n",
    "<img src=\"https://dl.dropboxusercontent.com/u/90219577/Hermon/CSE_Website/notebooks/19/ball2.png\" width=\"300\" height=\"300\">\n",
    "</td>\n",
    "<td>\n",
    "<img src=\"https://dl.dropboxusercontent.com/u/90219577/Hermon/CSE_Website/notebooks/19/ball3.png\" width=\"300\" height=\"300\">\n",
    "</td>\n",
    "</tr>\n",
    "</table>\n",
    "\n",
    "</td></tr></table>"
   ]
  },
  {
   "cell_type": "markdown",
   "metadata": {},
   "source": [
    "<div align=\"right\">\n",
    "<a href=\"http://nbviewer.ipython.org/github/CSE-UHS/CSE_Python/blob/master/Chapter00.ipynb\" align=\"right\"><h2>Hermon's Book of Python</h2></a>\n",
    "</div>"
   ]
  }
 ],
 "metadata": {
  "kernelspec": {
   "display_name": "Python 2",
   "language": "python",
   "name": "python2"
  },
  "language_info": {
   "codemirror_mode": {
    "name": "ipython",
    "version": 2
   },
   "file_extension": ".py",
   "mimetype": "text/x-python",
   "name": "python",
   "nbconvert_exporter": "python",
   "pygments_lexer": "ipython2",
   "version": "2.7.10"
  }
 },
 "nbformat": 4,
 "nbformat_minor": 0
}
