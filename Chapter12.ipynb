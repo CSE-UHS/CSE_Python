{
 "cells": [
  {
   "cell_type": "markdown",
   "metadata": {
    "deletable": true,
    "editable": true
   },
   "source": [
    "<div align=\"right\">\n",
    "<a href=\"http://nbviewer.ipython.org/github/CSP-UHS/Hermons_Book_of_Python/blob/master/Chapter00.ipynb\" align=\"right\"><h2>Table of Contents</h2></a>\n",
    "</div>"
   ]
  },
  {
   "cell_type": "markdown",
   "metadata": {
    "deletable": true,
    "editable": true
   },
   "source": [
    "## Chapter 12: Matplotlib Library"
   ]
  },
  {
   "cell_type": "markdown",
   "metadata": {
    "deletable": true,
    "editable": true
   },
   "source": [
    "&nbsp;&nbsp;&nbsp;&nbsp;&nbsp;<b>Matplotlib</b> is a python 2D plotting library which produces publication quality figures in a variety of hardcopy formats and interactive environments across platforms. <b>Matplotlib</b> can be used in python scripts and tries to make easy things easy and hard things possible. You can generate plots, histograms, power spectra, bar charts, errorcharts, scatterplots, etc, with just a few lines of code. For a sampling, see the screenshots, thumbnail gallery, and examples directory in the <a href=\"http://matplotlib.org/api/pyplot_summary.html\" target=\"_blank\">Matplotlib Documentation</a>.\n",
    "\n",
    "&nbsp;&nbsp;&nbsp;&nbsp;&nbsp;For simple plotting the <b>pyplot</b> interface provides a MATLAB-like interface, particularly when combined with IPython. For the power user, you have full control of line styles, font properties, axes properties, etc, via an object oriented interface or via a set of functions familiar to MATLAB users.\n",
    "\n",
    "&nbsp;&nbsp;&nbsp;&nbsp;&nbsp;In this chapter we will also use <b>NumPy</b> in conjunction with the <b>Matplotlib</b> libraries. <b>NumPy</b> is the fundamental package for scientific computing with Python. You can see examples in the <a href=\"http://www.numpy.org/\" target=\"_blank\">NumPy Documentation</a>.\n",
    "\n",
    "&nbsp;&nbsp;&nbsp;&nbsp;&nbsp;This chapter is probably the \"coolest\" so far! Instead of writing our own complicated code, we will be able to import classes, methods and functions from other libraries and use their very simple commands to easily create and manipulate various types of graphs. This chapter is the one that will make you look like a true genius and give you a huge leg up on the competition if you go to Iowa or Iowa State for engineering. \n",
    "\n",
    "&nbsp;&nbsp;&nbsp;&nbsp;&nbsp;I have attempted to heavily comment the examples below so they look like large programs when they really aren't. You should copy each program into a new .py file and play with the code to see how the output changes. When you run a program the graph should open up in a new window. You most likely will have to move windows around to see the graph. Note that you can zoom in, pan, and save the graph. You can even save the graph in vector formats that import into documents without loss of quality like raster graphics would have. If the graph actually shows up in the iSession window you should follow these directions to make it pop-up in an interactive window: Go up to Canopy - Preferences - Python Tab - Switch PyLab backend to <b>Interactive (TK)</b>. You probably will be asked to restart the Kernel which you should do.\n",
    "\n",
    "&nbsp;&nbsp;&nbsp;&nbsp;&nbsp;Working through these activities hopefully will teach you another very important skill - <u>How to learn on your own</u>. Your instructor or his text book has not spelled out how to do every last part of each activity. It is time for you to begin to learn about how to research and find out information on your own. Your smart friends only seem smart. In reality they are just a lot better than you at researching solutions. It's time for you to be the smart friend.  There is an excellent YouTube video series <a href=\"https://www.youtube.com/playlist?list=PLhy-Ne6FAXKag0HUZwuICEwC-bRXn0ad6\" target=\"_blank\">here.</a> that might help you figure out some things that I do not include in the examples in this chapter.\n",
    "\n",
    "&nbsp;&nbsp;&nbsp;&nbsp;&nbsp;Throughout this chapter, your goal is to reconstruct four different types of charts as closely as possible with your lastname in the title. If you want to do it perfectly you will have to research how to do some things. When you feel you've worked long enough and are ready to admit defeat, show the charts to your instructor and he will tell you whether they are good enough for you to be done. You will then save each chart as a png to keep in your Python folder. Enjoy!<br><br>"
   ]
  },
  {
   "cell_type": "markdown",
   "metadata": {
    "deletable": true,
    "editable": true
   },
   "source": [
    "## Line Charts"
   ]
  },
  {
   "cell_type": "code",
   "execution_count": 1,
   "metadata": {
    "collapsed": false,
    "deletable": true,
    "editable": true
   },
   "outputs": [
    {
     "data": {
      "image/png": "[encoded data removed]",
      "text/plain": [
       "<matplotlib.figure.Figure at 0x1044a54d0>"
      ]
     },
     "metadata": {},
     "output_type": "display_data"
    }
   ],
   "source": [
    "#LINE CHART\n",
    "'''These first two lines of code below are crucial as they import the libraries \n",
    "that contain the functions that we need. The 'as' is used to give an easy \n",
    "to use alias name to the modules. You don't have to do this but if you do\n",
    "you can can call it anything you want. Most programmers use 'np' for the numpy \n",
    "library and 'plt' for the pyplot library so we will also'''\n",
    "\n",
    "import numpy as np\n",
    "import matplotlib.pyplot as plt\n",
    "\n",
    "\n",
    "'''I'm probably trying to do too much in the program. The four lines below are our data. \n",
    "We assign a list to a variable. Again you can call the variables anything you want but x \n",
    "and y makes sense for graphs. We are actually trying to plot three graphs on the same plot\n",
    "so we have several series. The last one (y3) uses the arange function from the numpy \n",
    "library. It will give a list of values starting with .5 and ending with 4.5 and \n",
    "incrementing between them by .25. Notice when calling the 'arange' function we use the\n",
    "library abbreviation (np) and a dot (.) before it. This tells the computer from which\n",
    "library to pull the function.'''\n",
    "\n",
    "x =  [1, 2, 3, 4]\n",
    "y1 = [3, 6, 15, 4]\n",
    "y2 = [2, 4, 6, 8]\n",
    "y3 = np.arange(.5, 4.5, 0.25)\n",
    "\n",
    "\n",
    "'''Here is how you can actually annotate a point on your graph. Notice\n",
    "again the dot notation of the library followed by the function. Feel free\n",
    "to experiment with all of the arguments in the function to see how it \n",
    "changes your graph.'''\n",
    "\n",
    "plt.annotate('This is cool', \n",
    "             xy = (3, 15), \n",
    "             xycoords = 'data', \n",
    "             xytext = (-70, 20), \n",
    "             textcoords = 'offset points', \n",
    "             arrowprops = dict(arrowstyle=\"->\", \n",
    "                               connectionstyle=\"arc,angleA=0,armA=30,rad=10\"))\n",
    "\n",
    "\n",
    "'''Here is where the first two data series get plotted. We see the dot notation calling \n",
    "the 'plot' function from the pyplot(plt) library. The first two arguments are your x values\n",
    "and then your y values. The third argument controls alot of things. The first character\n",
    "is the Line Style. It can be one of - , -- ,  -. , :  or None. The second character is the\n",
    "Line Color. Here is the documentation on color: \n",
    "        http://matplotlib.org/1.4.2/api/colors_api.html\n",
    "The third character is Marker Shape such as circles (o), squares (s) and triangles (^).\n",
    "Here is the documentation on marker shapes:\n",
    "        http://matplotlib.org/1.4.2/api/markers_api.html\n",
    "Finally, you can specify a label that will be placed in the legend when we create one.'''\n",
    "\n",
    "plt.plot(x, y1, '-ro', label = \"Series 1\")\n",
    "plt.plot(x, y2, '--g^',  label = \"Series 2\")\n",
    "\n",
    "'''In the third data series below we actually plotted a function. Notice for the x values \n",
    "we used the y3 series which started with .5 and finished with 4.5 and incremented by .25.\n",
    "For the y values instead of specifying one of our data series we actually squared our\n",
    "y3 series.'''\n",
    "\n",
    "plt.plot(y3, y3**2, ':bs',  label = \"Series 3\")\n",
    "\n",
    "'''Below we call the \"fill\" function from the pyplot(plt) library which will fill\n",
    "beneath the graph. The first two arguments are the x and y values, the third argument\n",
    "is a color and the alpha argument is kind of a transparency from 0-1. Below an alpha\n",
    "of 0 means no color and an alpha of 1 means full color. Fill Documentation: \n",
    "        http://matplotlib.org/1.4.2/api/pyplot_api.html#matplotlib.pyplot.fill'''\n",
    "\n",
    "plt.fill(x, y1, 'r', alpha=.5)\n",
    "\n",
    "\n",
    "'''Below we create a legend object first and then we call the get_frame and\n",
    "set_facecolor methods on that object. Legend Documentation:\n",
    "        http://matplotlib.org/1.4.2/api/pyplot_api.html#matplotlib.pyplot.legend'''\n",
    "\n",
    "legend = plt.legend(loc='upper left', shadow=True, title='Legend')\n",
    "legend.get_frame().set_facecolor('yellow')\n",
    "\n",
    "\n",
    "'''Below we have three more attributes that we can set for our graph.'''\n",
    "plt.ylabel('Coolness')\n",
    "plt.xlabel('Nerdiness')\n",
    "plt.title('My Amazing Graph', loc='center', fontsize=30)\n",
    "\n",
    "'''Finally, probably the most important method if you want to see the result\n",
    "of all of your amazing programming! show() '''\n",
    " \n",
    "plt.show()"
   ]
  },
  {
   "cell_type": "markdown",
   "metadata": {
    "deletable": true,
    "editable": true
   },
   "source": [
    "<table style=\"background-color: #FFFFFF; border: 1px solid #000000; width: 100%; padding: 2px;\">\n",
    "<tr style=\"background-color: #00FF00;\">\n",
    "<td width=\"90\" style=\"vertical-align: top; border: 1px solid #000000;\"><img src=\"http://www.hermonswebsites.com/PyNotebooks/Python/sith.png\" style=\"border: 2px solid #021a40;\">\n",
    "</td><td style=\"border: 1px solid #000000;\"><h2><center><b>Jedi Training Task</b></center></h2></td></tr>\n",
    "<tr>\n",
    "<td valign=\"top\" colspan=\"2\" style=\"text-align: left;\"><center><font size=\"+1\"><b>Line Chart</b></font></center><br>\n",
    "<font size=\"+1\">\n",
    "\n",
    "You will need to import the numpy library and use <b>polyfit</b> and <b>poly1d</b> to draw a trendline and retrieve the slope and y-intercept. Use the following line of code:<br><br>\n",
    "\n",
    "<b>coefficients = np.polyfit(x,y,1)</b><br><br>\n",
    "\n",
    "This will do a 1st order polynomial fit on the x and y data. An example of a first order polynomial would look like <b>y = 3x + 2</b>. The variable <b>coefficients</b> would be a list of the coefficients. In this case 3 and 2 which would be the slope and the y-intercept. Therefore the next two lines of code will give you the slope and the y-intercept.<br><br>\n",
    "\n",
    "<b>slope = coefficients[0]<br>\n",
    "yint = coefficients[1]</b><br><br>\n",
    "\n",
    "Now how do I plot the best fit line? We can use the <b>poly1d</b> in the following line of code.<br><br>\n",
    "\n",
    "<b>fn_fit = np.poly1d(coefficients)</b> <br><br>\n",
    "\n",
    "This basically makes a function or an equation with the given coefficients. So for above, fn_fit would be equal to 3x + 2 and if you pass the x data into the fn_fit function you would have a new set of y values. Therefore we could plot a best fit line as follow:<br><br>\n",
    "\n",
    "<b>plt.plot(x, fn_fit(x), '--b')</b><br><br>\n",
    "\n",
    "This graphs a black dashed line using data set x and the new y values when you pass the x data into the fn_fit function. If this is confusing ask your instructor.<br><br>\n",
    "\n",
    "To incorporate the coefficient values into the title, first format them to the tenths place. Reformatting, these variables will change their type and allow them to be concatenated. If you don't reformat them you will have some errors. You must concatenate the string and variables with plus(+) signs rather than commas.  <br><br>\n",
    "\n",
    "<b>\"Hermon's Line Chart m=\"+slope+\" b=\"+intercept,</b><br><br>\n",
    "\n",
    "To change the background color of the graph you could create a background object with <b>get current axis (gca)</b> and then call the method <b>set_facecolor</b> on the object as follows:<br>\n",
    "<b>background = plt.gca()<br>\n",
    "background.set_facecolor('cornsilk')</b><br><br>\n",
    "Here is the data that needs to be used:<br>\n",
    "x = [0,1,2,3,4, 5, 6, 7, 8, 9, 10]<br>\n",
    "y = [.1,9.8,17,29,38,48,57,68,79,88,97]<br>\n",
    "<center><img src=\"http://www.hermonswebsites.com/PyNotebooks/Python/12/linechart.png\"></center>\n",
    "</font>\n",
    "</td></tr></table>"
   ]
  },
  {
   "cell_type": "markdown",
   "metadata": {
    "deletable": true,
    "editable": true
   },
   "source": [
    "## Bar Charts"
   ]
  },
  {
   "cell_type": "code",
   "execution_count": 5,
   "metadata": {
    "collapsed": false,
    "deletable": true,
    "editable": true
   },
   "outputs": [],
   "source": [
    "#BAR CHART\n",
    "\n",
    "'''Import pyplot library with plt abbreviation'''\n",
    "\n",
    "import matplotlib.pyplot as plt\n",
    "\n",
    "'''Create some data series'''\n",
    "\n",
    "x1 = [1, 2, 3, 4]\n",
    "y4 = [1, 3, 8, 4]\n",
    "\n",
    "'''Instead of using the numbers in the data series we can replace\n",
    "them with labels. Below we created a list of labels and then assigned\n",
    "them to the x values using 'xticks'. We could do the same thing with \n",
    "the y values and use 'yticks'''\n",
    "\n",
    "labels = ['Test 1', 'Test 2', 'Test 3', 'Test 4']\n",
    "plt.xticks(x1, labels)\n",
    "\n",
    "'''Here we made a my_color variable which contains a string of four colors \n",
    "which we will use to fill each bar.'''\n",
    "\n",
    "my_colors = 'rgby'  #red, green, blue, yellow\n",
    "\n",
    "\n",
    "'''Instead of plt.plot we use plt.bar to make a bar graph. The first two\n",
    "arguments are again the x and y data series. The third argument is the bar color\n",
    "which we set equal to my_colors which was our string of colors. The fourth\n",
    "argument is the percentage with of the bar. If 1 is used the bars will run together.'''\n",
    "\n",
    "plt.bar(x1, y4, color=my_colors, width=.8)\n",
    "\n",
    "'''We again set the following three attributes of our graph.'''\n",
    "\n",
    "plt.ylabel('Students Proficient')\n",
    "plt.xlabel('Competencies')\n",
    "plt.title('My Amazing Bar Chart', loc='center', fontsize=20)\n",
    "\n",
    "'''Don't forget to SHOW your graph after all of your hard work!'''\n",
    "\n",
    "plt.show()"
   ]
  },
  {
   "cell_type": "markdown",
   "metadata": {
    "deletable": true,
    "editable": true
   },
   "source": [
    "<img src=\"http://www.hermonswebsites.com/PyNotebooks/Python//12/hist.png\" width=\"300\" height=\"300\" align=\"left\">"
   ]
  },
  {
   "cell_type": "markdown",
   "metadata": {
    "deletable": true,
    "editable": true
   },
   "source": [
    "<table style=\"background-color: #FFFFFF; border: 1px solid #000000; width: 100%; padding: 2px;\">\n",
    "<tr style=\"background-color: #00FF00;\">\n",
    "<td width=\"90\" style=\"vertical-align: top; border: 1px solid #000000;\"><img src=\"http://www.hermonswebsites.com/PyNotebooks/Python/sith.png\" style=\"border: 2px solid #021a40;\">\n",
    "</td><td style=\"border: 1px solid #000000;\"><h2><center><b>Jedi Training Task</b></center></h2></td></tr>\n",
    "<tr>\n",
    "<td valign=\"top\" colspan=\"2\" style=\"text-align: left;\"><center><font size=\"+1\"><b>American Flag</b></font></center><br>\n",
    "<font size=\"+1\">\n",
    "\n",
    "You will need to determine how to do a horizontal bar chart. First make 13 red and white horizontal bars with a height of 1. (width has now become height since we are using horizontal bars) Use xticks and yticks to put 13 asterisks as the labels on the x and y axes. Make a single blue horizontal bar. Use Stars as the vertical label and Stripes as the horizontal label. Change the title of your flag to include your name. To get rid of whitespace on the top and right edges use <b>plt.autoscale(tight='yes')</b>\n",
    "<center><img src=\"http://www.hermonswebsites.com/PyNotebooks/Python/12/flag.png\"></center>\n",
    "</font>\n",
    "</td></tr></table>"
   ]
  },
  {
   "cell_type": "markdown",
   "metadata": {
    "deletable": true,
    "editable": true
   },
   "source": [
    "## Histograms"
   ]
  },
  {
   "cell_type": "code",
   "execution_count": 60,
   "metadata": {
    "collapsed": false,
    "deletable": true,
    "editable": true
   },
   "outputs": [
    {
     "data": {
      "image/png": "[encoded data removed]",
      "text/plain": [
       "<matplotlib.figure.Figure at 0x10ed64950>"
      ]
     },
     "metadata": {},
     "output_type": "display_data"
    }
   ],
   "source": [
    "#HISTOGRAM\n",
    "\n",
    "'''Import pyplot library with plt abbreviation'''\n",
    "\n",
    "import matplotlib.pyplot as plt\n",
    "\n",
    "'''Create some data series'''\n",
    "\n",
    "test_grades = [54,67,56,87,78,96,54,67,73,90,45,55,65,\n",
    "               78,78,71,72,73,78,78,89,62,63,80,81,82]\n",
    "\n",
    "'''Create some bins to drop the test_grades into. Each bin number\n",
    "will be the left side of the bar'''\n",
    "\n",
    "bins = [40,45,50,55,60,65,70,75,80,85,90,95,100,105]\n",
    "\n",
    "\n",
    "'''This time we use plt.hist to make a histogram. The first argument is the data,\n",
    "the second argument are the bins. We then set the histogram type, histogram color \n",
    "and bar width.'''\n",
    "\n",
    "plt.hist(test_grades, bins, histtype='bar', color='blue', rwidth=.9)\n",
    "\n",
    "\n",
    "'''We again set the following three attributes of our graph.'''\n",
    "\n",
    "plt.ylabel('Frequency')\n",
    "plt.xlabel('Grades')\n",
    "plt.title('My Amazing Histogram', loc='center', fontsize=25)\n",
    "\n",
    "'''Don't forget to SHOW your graph after all of your hard work!'''\n",
    "\n",
    "plt.show()"
   ]
  },
  {
   "cell_type": "markdown",
   "metadata": {
    "deletable": true,
    "editable": true
   },
   "source": [
    "<table style=\"background-color: #FFFFFF; border: 1px solid #000000; width: 100%; padding: 2px;\">\n",
    "<tr style=\"background-color: #00FF00;\">\n",
    "<td width=\"90\" style=\"vertical-align: top; border: 1px solid #000000;\"><img src=\"http://www.hermonswebsites.com/PyNotebooks/Python/sith.png\" style=\"border: 2px solid #021a40;\">\n",
    "</td><td style=\"border: 1px solid #000000;\"><h2><center><b>Jedi Training Task</b></center></h2></td></tr>\n",
    "<tr>\n",
    "<td valign=\"top\" colspan=\"2\" style=\"text-align: left;\"><center><font size=\"+1\"><b>Histogram</b></font></center><br>\n",
    "<font size=\"+1\">\n",
    "\n",
    "Hint: You will again need to import the numpy library and determine the mean and standard deviation of the data. You can do this like:<br><br>\n",
    "<b>average = np.mean(dataset)<br>\n",
    "standev = np.std(dataset)</b><br><br>\n",
    "You will have to create a vertical line at the mean as well as at +2 standard deviations above the mean and -2 standard deviations below the mean. To create a vertical line research (axvline). Then you will need to determine how to incorporate those values into the title. The Greek letters (mu) and (sigma) stand for mean and standard deviation respectively. Click <a href=\"http://matplotlib.org/users/mathtext.html\" target=\"_blank\">here</a> for documentation of how to insert those greek letters into the title.<br><br>\n",
    "Here is the data that needs to be used:<br>\n",
    "ages = [22,55,62,45,21,22,34,42,42,4,99,102,110,120,\n",
    "121,122,130,111,115,112,80,75,65,54,44,43,42,48]\n",
    "<center><img src=\"http://www.hermonswebsites.com/PyNotebooks/Python/12/histogram.png\"></center>\n",
    "</font>\n",
    "</td></tr></table>"
   ]
  },
  {
   "cell_type": "markdown",
   "metadata": {
    "deletable": true,
    "editable": true
   },
   "source": [
    "## Pie Charts"
   ]
  },
  {
   "cell_type": "code",
   "execution_count": 1,
   "metadata": {
    "collapsed": false,
    "deletable": true,
    "editable": true
   },
   "outputs": [
    {
     "data": {
      "image/png": "[encoded data removed]",
      "text/plain": [
       "<matplotlib.figure.Figure at 0x106127160>"
      ]
     },
     "metadata": {},
     "output_type": "display_data"
    }
   ],
   "source": [
    "#PIE CHART\n",
    "\n",
    "'''Import pyplot library with plt abbreviation'''\n",
    "\n",
    "import matplotlib.pyplot as plt\n",
    " \n",
    "'''Create labels for the pie chart'''\n",
    "\n",
    "languages = ['C', 'Java', 'Objective-C', 'C++', 'C#', 'PHP', 'Python']\n",
    " \n",
    "'''Sizes for each label. These can be made into percents easily later.'''\n",
    "\n",
    "sizes = [17, 14, 9, 6, 5, 3, 2.5]\n",
    " \n",
    "'''Corresponding colors for each slice of pie. \n",
    "Documentation oncolors can be found at:\n",
    "https://github.com/matplotlib/matplotlib/blob/master/lib/matplotlib/colors.py'''\n",
    "\n",
    "cols = ['yellowgreen', 'gold', 'lightskyblue', \n",
    "          'lightcoral', 'darkcyan', 'steelblue', 'rosybrown']\n",
    " \n",
    "'''How far to pull out a slice. This is normally 0 unless you\n",
    "want to pop out a piece for a more visually appealing look.'''\n",
    "\n",
    "poppit = (0, 0, 0, 0, 0, 0, 0.2)\n",
    " \n",
    "'''Set aspect ratio to be equal so that pie is drawn as a circle.'''\n",
    "\n",
    "plt.axis('equal')\n",
    " \n",
    "'''Finally we plot the chart. This time we use plt.pie. We set the arguments:\n",
    "sizes, explode, labels and colors to our variables above. The fifth argument,\n",
    "autopct will automatically print the percentages on the slices. Just use the same\n",
    "formatting as below. We set shadow = True to make it look better and finally\n",
    "we can set the start angle of our first slice to an angle from 0-360. The slices\n",
    "will be added on counter-clockwise.'''\n",
    "\n",
    "plt.pie(sizes, \n",
    "        explode=poppit, \n",
    "        labels=languages, \n",
    "        colors=cols,\n",
    "        autopct='%1.1f%%', \n",
    "        shadow=True, \n",
    "        startangle=0)\n",
    "\n",
    "'''Display the title of the chart'''\n",
    "\n",
    "plt.title('My Amazing Pie Chart', loc='center', fontsize=25)\n",
    " \n",
    "'''Don't forget to SHOW your graph after all of your hard work!'''\n",
    "\n",
    "plt.show()"
   ]
  },
  {
   "cell_type": "markdown",
   "metadata": {
    "deletable": true,
    "editable": true
   },
   "source": [
    "<table style=\"background-color: #FFFFFF; border: 1px solid #000000; width: 100%; padding: 2px;\">\n",
    "<tr style=\"background-color: #00FF00;\">\n",
    "<td width=\"90\" style=\"vertical-align: top; border: 1px solid #000000;\"><img src=\"http://www.hermonswebsites.com/PyNotebooks/Python/sith.png\" style=\"border: 2px solid #021a40;\">\n",
    "</td><td style=\"border: 1px solid #000000;\"><h2><center><b>Jedi Training Task</b></center></h2></td></tr>\n",
    "<tr>\n",
    "<td valign=\"top\" colspan=\"2\" style=\"text-align: left;\"><center><font size=\"+1\"><b>Pie Chart</b></font></center><br>\n",
    "<font size=\"+1\">\n",
    "\n",
    "<center><img src=\"http://www.hermonswebsites.com/PyNotebooks/Python/12/piechart.png\"></center>\n",
    "</font>\n",
    "</td></tr></table>"
   ]
  },
  {
   "cell_type": "markdown",
   "metadata": {
    "deletable": true,
    "editable": true
   },
   "source": [
    "<table  style=\"background-color: #FFFFFF; width: 100%; padding: 2px;\">\n",
    "<tr style=\"background-color: #FFFFFF;\">\n",
    "<td style=\"border: 1px solid white;\" width=\"100px\">\n",
    "<div>\n",
    "<a href=\"http://nbviewer.ipython.org/github/CSP-UHS/Hermons_Book_of_Python/blob/master/Chapter11.ipynb\"><img src=\"http://www.hermonswebsites.com/PyNotebooks/Python/leftarrow.png\" height=\"50px\" width=\"50px\" align=\"left\"></a>\n",
    "</div>\n",
    "</td>\n",
    "<td style=\"border: 1px solid white;\">\n",
    "<div align=\"center\">\n",
    "<a href=\"http://nbviewer.ipython.org/github/CSP-UHS/Hermons_Book_of_Python/blob/master/Chapter00.ipynb\"><h2>Table of Contents</h2></a>\n",
    "</div>\n",
    "</td>\n",
    "<td style=\"border: 1px solid white;\" width=\"100px\">\n",
    "<div>\n",
    "<a href=\"http://nbviewer.ipython.org/github/CSP-UHS/Hermons_Book_of_Python/blob/master/Chapter13.ipynb\"><img src=\"http://www.hermonswebsites.com/PyNotebooks/Python/rightarrow.png\"  height=\"50px\" width=\"50px\"  align=\"right\"></a>\n",
    "</div>\n",
    "</td>\n",
    "</tr></table>"
   ]
  }
 ],
 "metadata": {
  "kernelspec": {
   "display_name": "Python 3",
   "language": "python",
   "name": "python3"
  },
  "language_info": {
   "codemirror_mode": {
    "name": "ipython",
    "version": 3
   },
   "file_extension": ".py",
   "mimetype": "text/x-python",
   "name": "python",
   "nbconvert_exporter": "python",
   "pygments_lexer": "ipython3",
   "version": "3.5.2"
  }
 },
 "nbformat": 4,
 "nbformat_minor": 0
}
