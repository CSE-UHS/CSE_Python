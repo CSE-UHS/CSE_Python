{
 "metadata": {
  "name": "",
  "signature": "sha256:0ac92928f5f43bd5e6472345bb7943e3d68a924c3f45bb094c6fdbfbb6b4b585"
 },
 "nbformat": 3,
 "nbformat_minor": 0,
 "worksheets": [
  {
   "cells": [
    {
     "cell_type": "markdown",
     "metadata": {},
     "source": [
      "<div align=\"right\">\n",
      "<a href=\"http://nbviewer.ipython.org/github/CSE-UHS/CSE_Python/blob/master/Chapter00.ipynb\" align=\"right\"><h2>Hermon's Book of Python</h2></a>\n",
      "</div>"
     ]
    },
    {
     "cell_type": "heading",
     "level": 2,
     "metadata": {},
     "source": [
      "Chapter 12: Matplotlib Library"
     ]
    },
    {
     "cell_type": "markdown",
     "metadata": {},
     "source": [
      "&nbsp;&nbsp;&nbsp;&nbsp;&nbsp;<b>Matplotlib</b> is a python 2D plotting library which produces publication quality figures in a variety of hardcopy formats and interactive environments across platforms. <b>Matplotlib</b> can be used in python scripts and tries to make easy things easy and hard things possible. You can generate plots, histograms, power spectra, bar charts, errorcharts, scatterplots, etc, with just a few lines of code. For a sampling, see the screenshots, thumbnail gallery, and examples directory in the <a href=\"http://matplotlib.org/api/pyplot_summary.html\" target=\"_blank\">Matplotlib Documentation</a>.\n",
      "\n",
      "&nbsp;&nbsp;&nbsp;&nbsp;&nbsp;For simple plotting the <b>pyplot</b> interface provides a MATLAB-like interface, particularly when combined with IPython. For the power user, you have full control of line styles, font properties, axes properties, etc, via an object oriented interface or via a set of functions familiar to MATLAB users.\n",
      "\n",
      "&nbsp;&nbsp;&nbsp;&nbsp;&nbsp;In this chapter we will also use <b>NumPy</b> in conjunction with the <b>Matplotlib</b> libraries. <b>NumPy</b> is the fundamental package for scientific computing with Python. You can see examples in the <a href=\"http://www.numpy.org/\" target=\"_blank\">NumPy Documentation</a>.\n",
      "\n",
      "&nbsp;&nbsp;&nbsp;&nbsp;&nbsp;This chapter is probably the \"coolest\" so far! Instead of writing our own very complicated code, we will be able to import classes, methods and functions from other libraries and use their very simple commands to easily create and manipulate various types of graphs. This chapter is the one that will make you look like a true genius and give you a huge leg up on the competition if you go to Iowa or Iowa State for engineering. Enjoy!"
     ]
    },
    {
     "cell_type": "heading",
     "level": 2,
     "metadata": {},
     "source": [
      "Line Charts"
     ]
    },
    {
     "cell_type": "markdown",
     "metadata": {},
     "source": [
      "<table width=\"100%\" border=\"1\" cellpadding=\"2\" cellspacing=\"0\">\n",
      "<tr>\n",
      "<td width=\"90\" bgcolor=\"#00FFFF\" style=\"vertical-align:top\"><img src=\"https://dl.dropboxusercontent.com/u/90219577/Hermon/CSE_Website/notebooks/Scholar.png\"></td>\n",
      "<td valign=\"top\"><center><font size=\"+2\"><b>My Excel</b></font></center><br>\n",
      "<font size=\"+1\">\n",
      "\n",
      "&nbsp;&nbsp;&nbsp;&nbsp;&nbsp;Package up the five functions that you submitted in the Functions chapter into a Library file called my_library.py. Create a main program called my_program.py which will import the my_library module and call each function. Use the import * so you don't have to use namespaces for each function call. Upload these two files to Scholar.<br><br>\n",
      "</td></tr></table>"
     ]
    },
    {
     "cell_type": "markdown",
     "metadata": {},
     "source": [
      "<div align=\"right\">\n",
      "<a href=\"http://nbviewer.ipython.org/github/CSE-UHS/CSE_Python/blob/master/Chapter00.ipynb\" align=\"right\"><h2>Hermon's Book of Python</h2></a>\n",
      "</div>"
     ]
    }
   ],
   "metadata": {}
  }
 ]
}