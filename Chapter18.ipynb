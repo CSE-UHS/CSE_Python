{
 "cells": [
  {
   "cell_type": "markdown",
   "metadata": {},
   "source": [
    "<div align=\"right\">\n",
    "<a href=\"http://nbviewer.ipython.org/github/CSE-UHS/CSE_Python/blob/master/Chapter00.ipynb\" align=\"right\"><h2>Table of Contents</h2></a>\n",
    "</div>"
   ]
  },
  {
   "cell_type": "markdown",
   "metadata": {},
   "source": [
    "# Chapter 18: Graphics"
   ]
  },
  {
   "cell_type": "markdown",
   "metadata": {},
   "source": [
    "## Computer Coordinate Systems"
   ]
  },
  {
   "cell_type": "markdown",
   "metadata": {},
   "source": [
    "&nbsp;&nbsp;&nbsp;&nbsp;&nbsp;The Cartesian coordinate system, shown below, is the system most people are used to when plotting graphics. This is the system taught in school. The computer uses a similar, but somewhat different, coordinate system. Understanding why it is different requires a quick bit of computer history.\n",
    "\n",
    "<center><img src=\"https://dl.dropboxusercontent.com/u/90219577/Hermon/CSE_Website/notebooks/18/cartesian.png\" width=\"500\" height=\"500\"></center>\n",
    "\n",
    "&nbsp;&nbsp;&nbsp;&nbsp;&nbsp;During the early '80s, most computer systems were text-based and did not support graphics. The image below shows an early spreadsheet program run on an Apple ][ computer that was popular in the '80s. When positioning text on the screen, programmers started at the top calling it line 1. The screen continued down for 24 lines and across for 40 characters.\n",
    "\n",
    "<center><img src=\"https://dl.dropboxusercontent.com/u/90219577/Hermon/CSE_Website/notebooks/18/apple3screen.png\" width=\"400\" height=\"400\"></center>\n",
    "\n",
    "&nbsp;&nbsp;&nbsp;&nbsp;&nbsp;Even with plain text, it was possible to make rudimentary graphics by just using characters on the keyboard. See this cat shown below and look carefully at how it is drawn. When making this art, characters were still positioned starting with line 1 at the top. Many of you have used ASCII art in your Camel and Toin Coss Programs. Search the web for “ASCII art” and many more examples can be found. \n",
    "\n",
    "<center><img src=\"https://dl.dropboxusercontent.com/u/90219577/Hermon/CSE_Website/notebooks/18/simpleASCII.png\"></center>\n",
    "\n",
    "<center><img src=\"https://dl.dropboxusercontent.com/u/90219577/Hermon/CSE_Website/notebooks/18/jediascii.png\"></center>\n",
    "\n",
    "&nbsp;&nbsp;&nbsp;&nbsp;&nbsp;Later the character set was expanded to include boxes and other primitive drawing shapes. Characters could be drawn in different colors. As seen below the graphics got more advanced.\n",
    "\n",
    "\n",
    "<center><img src=\"https://dl.dropboxusercontent.com/u/90219577/Hermon/CSE_Website/notebooks/18/spacewar.png\" width=\"400\" height=\"400\"></center>\n",
    "\n",
    "&nbsp;&nbsp;&nbsp;&nbsp;&nbsp;Even after computers moved to being able to control individual pixels for graphics, the text-based coordinate system stuck.\n",
    "\n",
    "<center><img src=\"https://dl.dropboxusercontent.com/u/90219577/Hermon/CSE_Website/notebooks/18/Computer_coordinates_2D.png\" width=\"400\" height=\"400\"></center>\n",
    "\n",
    "&nbsp;&nbsp;&nbsp;&nbsp;&nbsp;The (x) coordinates work the same as the Cartesian coordinates system. But the  (y) coordinates are reversed. Rather than the zero (y) coordinate at the bottom of the graph like in Cartesian graphics, the zero (y) coordinate is at the top of the screen with the computer. As the (y) values go up, the computer coordinate position moved down the screen, just like lines of text rather than standard Cartesian graphics.\n",
    "\n",
    "&nbsp;&nbsp;&nbsp;&nbsp;&nbsp;Also, note the screen covers the lower right quadrant, whereas the Cartesian coordinate system usually focuses on the upper right quadrant. It is possible to draw items at negative coordinates, but they will be drawn off-screen. This can be useful when part of a shape is off screen. The computer figures out what is off-screen and the programmer does not need to worry too much about it."
   ]
  },
  {
   "cell_type": "markdown",
   "metadata": {},
   "source": [
    "## Using the Tkinter Library"
   ]
  },
  {
   "cell_type": "markdown",
   "metadata": {},
   "source": [
    "&nbsp;&nbsp;&nbsp;&nbsp;&nbsp;There are several toolkits for building a GUI and working with graphics that can be used across multiple languages. For example, across Python, C++, and Java, there are the toolkits Tk, wx, and Qt. We will use Tk, which is implemented with the Python library <b>Tkinter</b>, so named because it is the Python <b><u>inter</u></b>face to the <b><u>Tk</u></b> toolkit.\n",
    "\n",
    "&nbsp;&nbsp;&nbsp;&nbsp;&nbsp;<b><u>IMPORTANT</u>: When running Python programs with Tkinter, Canopy needs to be taken out of its interactive mode to avoid having two GUI event loops competing with each other. In the Canopy Welcome window, select Edit > Preferences... from the menu at the top. In the Preferences dialog box that appears, select the Python tab. In the Python tab's window, from the dropdown selection for Pylab backend, select Inline (SVG). If an alert appears advising you to restart the kernel, select Restart kernel.</b>\n",
    "\n"
   ]
  },
  {
   "cell_type": "markdown",
   "metadata": {},
   "source": [
    "<font color=\"red\"><b>Also there are two points to note concerning the use of Tkinter. At this time you might not understand these but if you get stuck remember to come back to this paragraph to troubleshoot the following:</b></font><br><br>\n",
    "\n",
    "\n",
    "<b>1.) If there is an error in a program that creates a Tk( ) window, that failed window will appear the next time you successfully reach mainloop( ) with a program. So you'll get a bunch of Tk windows opening, only one of which is the current program.<br><br>\n",
    "\n",
    "\n",
    "2.) A bug in Tkinter affects code using create_image( ) method. If the sequence</b><br><br>\n",
    "img = PIL.Image.open(filename)<br>\n",
    "tkimg = PIL.ImageTk.PhotoImage(img)<br>\n",
    "sprite = canvas.create_image(50, 50, image=tkimg)<br><br>\n",
    "<b>fails because the filename doesn't exist or the directory path is incorrect, subsequent execution with a valid filename will raise the following error:<h2>TclError: image \"pyimage#\" doesn't exist</h2><br>Commenting out the call to create_image( ) and executing once will resolve it. Once a program successfully reaches Tkinter.Tk().mainloop( ), all the Tk instances from previous failed trials will appear. Then the code above (with a valid filename) will work correctly. \n",
    "</b>"
   ]
  },
  {
   "cell_type": "markdown",
   "metadata": {},
   "source": [
    "## Tkinter Documentation"
   ]
  },
  {
   "cell_type": "markdown",
   "metadata": {},
   "source": [
    "&nbsp;&nbsp;&nbsp;&nbsp;&nbsp;As you have been learning recently, creating a program is many times 10% coding and 90% reading the documentation. This will be very true when using Tkinter. There are many things we can do but sometimes it takes quite a bit of time to do the research. Below are two outstanding sources of documentation on the Tkinter Library. Throughout this chapter you will be asked to find many things in this documentation.\n",
    "<center><h2><a href=\"http://effbot.org/tkinterbook/tkinter-index.htm\" target=\"_blank\">Official Tkinter Documentation</a></h2>\n",
    "<h2><a href=\"http://infohost.nmt.edu/tcc/help/pubs/tkinter/web/index.html\" target=\"_blank\">Some 3rd Party Documentation</a></h2></center>"
   ]
  },
  {
   "cell_type": "markdown",
   "metadata": {},
   "source": [
    "## Canvas Widget"
   ]
  },
  {
   "cell_type": "markdown",
   "metadata": {},
   "source": [
    "&nbsp;&nbsp;&nbsp;&nbsp;&nbsp;One of the most used widgets that we can create from the Tkinter Library is called the Canvas Widget. We can call many drawing methods on the Canvas Widget to create lines, circles, polygons and text. We can even paste images onto the Canvas. Before we get into the actual coding using the Tkinter Library let's examine the following design created on the graph paper below. On the right, the designer worked out the design (except the arc) using a coordinate system. We will use these numbers to implement the design using the methods of the Canvas widget.<br><br>\n",
    "<center><img src=\"https://dl.dropboxusercontent.com/u/90219577/Hermon/CSE_Website/notebooks/18/graph.png\"></center>"
   ]
  },
  {
   "cell_type": "markdown",
   "metadata": {},
   "source": [
    "<b>To answer the following questions in red in your notebook you can either print out the above image or zoom in.</b><br><br>\n",
    "a.\tOn the graph above, <font color=\"red\">plot the three points whose coordinates are given for the check mark.</font><br><br>\n",
    "\n",
    "b.\tThe designer’s work indicates they think they have drawn the checkmark 20 pixels thick. <font color=\"red\">Draw a line across the width of the check mark to indicate what is meant by 20 pixels.</font><br><br>\n",
    "\n",
    "c.\tPlace a dot at the point (380, 250) indicated as the center of the text. <font color=\"red\">Is the actual center of the text further to the left or further to the right?</font><br><br>\n",
    "\n",
    "d.\tThe list of radii shown above for the concentric circles' radii (10, 20, 30, 40, 50) can be produced with the range(start, stop, step) function. An  example of range( ) is shown here.</font><br>\n",
    "\n",
    "<img src=\"https://dl.dropboxusercontent.com/u/90219577/Hermon/CSE_Website/notebooks/18/stepper.png\" align=\"left\">\n",
    "\n",
    "<br><br><br>\n",
    "\n",
    "<font color=\"red\">What arguments for range( ) will produce the list of radii?</font> Check your answer in the iPython session.<br><br>\n",
    "\n",
    "e.\tThe oval is specified by the coordinates of two points: the upper left and lower right of a bounding box. The bounding box circumscribes the circle and is specified with the (x, y) coordinates of opposite vertices. The designer noted (100, 450) (500, 550) for the oval's bounding box in the notes above. Sketch this bounding box in the figure above. <font color=\"red\">Which of these coordinates from the designer’s notes is off by a little bit?</font><br><br>\n",
    "\n",
    "&nbsp;&nbsp;&nbsp;&nbsp;&nbsp;<b>This designer made a separate diagram, shown below, to work out the coordinates and angles of the arc which is actually a section of a circle.</b>\n",
    "<br><br>\n",
    "<center><img src=\"https://dl.dropboxusercontent.com/u/90219577/Hermon/CSE_Website/notebooks/18/arc.png\"></center><br><br>\n",
    "\n",
    "f. Mark the two points specified for the bounding box in the figure. <font color=\"red\">Are these points correctly identified?</font><br><br>\n",
    "\n",
    "g. The “start” of the arc is given as the angle in standard position: counterclockwise from the positive x direction. You should have learned this in math. Zero degrees is what we would consider East or to the Right. We then start measuring angles counterclockwise. The “continue” is given as the central angle: the angle of the sector of the circle from the arc beginning to the arc end.</font>"
   ]
  },
  {
   "cell_type": "markdown",
   "metadata": {},
   "source": [
    "## Drawing with Tkinter"
   ]
  },
  {
   "cell_type": "markdown",
   "metadata": {},
   "source": [
    "&nbsp;&nbsp;&nbsp;&nbsp;&nbsp;OK! Let's try to use Python and the Tkinter library to draw our graphic that we designed above. Create a new file in your working directory and name it <b>TkinterDraw.py</b>. We start by importing the Tkinter module. It contains all classes, functions and other things needed to work with the Tk toolkit. In most cases, you can simply import everything from Tkinter into your module’s namespace. The (*) means to import everything from the library. Generally we don't do this because it can sometime slow down our program. Generally, you just import certain things that you need from the library.<br><br>\n",
    "<img src=\"https://dl.dropboxusercontent.com/u/90219577/Hermon/CSE_Website/notebooks/18/1-4.png\" align=\"left\"><br><br><br><br><br><br>\n",
    "\n",
    "&nbsp;&nbsp;&nbsp;&nbsp;&nbsp;To initialize Tkinter, we have to create a Tk root widget. This is an ordinary window, with a title bar and other decoration provided by your window manager. You should only create one root widget for each program, and it must be created before any other widgets. A lot of times, coders name this window 'root' but you don't have to. I named mine <b>my_window</b>. The line of code below shows how create the window.<br><br>\n",
    "<img src=\"https://dl.dropboxusercontent.com/u/90219577/Hermon/CSE_Website/notebooks/18/5.png\" align=\"left\"><br><br>\n",
    "\n",
    "&nbsp;&nbsp;&nbsp;&nbsp;&nbsp;The title of your new window will be called <b>Tk</b>. We can call a title attribute on our new window and title the window whatever we want. Below is how you do that.<br><br>\n",
    "<img src=\"https://dl.dropboxusercontent.com/u/90219577/Hermon/CSE_Website/notebooks/18/6.png\" align=\"left\"><br><br>\n",
    "\n",
    "&nbsp;&nbsp;&nbsp;&nbsp;&nbsp;This window and anything we put into the window will never show up until we call the <b>mainloop( ) function</b> on our window. This <b>Tkinter event loop</b> is the last line of code in our program. Drop down many lines of code to include the following. <br><br>\n",
    "<img src=\"https://dl.dropboxusercontent.com/u/90219577/Hermon/CSE_Website/notebooks/18/55-57.png\" align=\"left\"><br><br><br><br>\n",
    "\n",
    "&nbsp;&nbsp;&nbsp;&nbsp;&nbsp;The program will stay in the event loop until we close the window. The event loop doesn’t only handle events from the user (such as mouse clicks and key presses) or the windowing system (such as redraw events and window configuration messages), it also handle operations queued by Tkinter itself. Among these operations are geometry management (queued by the pack or grid methods) and display updates. This also means that the application window will not appear before you enter the main loop. <b>We will put all of the important parts of our program between the creation of the window (line 5) and entering the main loop. (line 57)</b> <font color=\"red\"><b> At this time, run your program to make sure that your created window opens up. You can can grab a corner and resize it. Notice you won't get an iSession cursor until you close the Tk window.</font>\n",
    "\n",
    "&nbsp;&nbsp;&nbsp;&nbsp;&nbsp;We can't actually draw objects in our window. We will need to create a widget in the window called a <b>Canvas</b> and then we will be able to draw objects on it. You can name your Canvas object anything you would like. I named my Canvas object <b>drawing_pad</b> and created it by calling the <b>Canvas</b> class. There are several attibutes of the Canvas class that can be used. The first one is very important and is the name of your window in which you are going to insert your Canvas widget. The other attributes we used were height, width, relief and bg. Look these up in the documentation <a href=\"http://effbot.org/tkinterbook/canvas.htm#Tkinter.Canvas.config-method\" target=\"_blank\">here</a> to see what they do to the Canvas object.<br><br>\n",
    "\n",
    "<img src=\"https://dl.dropboxusercontent.com/u/90219577/Hermon/CSE_Website/notebooks/18/8-9.png\" align=\"left\"><br><br><br>\n",
    "&nbsp;&nbsp;&nbsp;&nbsp;&nbsp;Now I need to tell the computer where in my window should I place the canvas. There are a couple of \"geometry managers\" that we can use called grid( ) and pack( ). We will be using the <b>grid( ) method</b>. Basically the grid( ) method can divide your window up into a table format starting at row=0 and column=0 and then you can insert different widgets in different parts of the window. We aren't too worried about that right now so in the line of code below since we didn't put anything into the grid( ) method our window will just contain one grid cell and the Canvas object will fill the entire window. <a href=\"http://effbot.org/tkinterbook/grid.htm\" target=\"_blank\">(Read Grid Documentation)</a><br><br>\n",
    "<img src=\"https://dl.dropboxusercontent.com/u/90219577/Hermon/CSE_Website/notebooks/18/10.png\" align=\"left\"><br><br><br><br>\n",
    "<b>Let's run this program again to see how the window looks different now that it contains a Canvas Widget. Perhaps change the bg value also.</b><br><br>\n",
    "&nbsp;&nbsp;&nbsp;&nbsp;&nbsp;Now let's start drawing our designed graphic onto our canvas. The first item we will draw will be our checkbox which we can make with a create_rectangle method. <a href=\"http://effbot.org/tkinterbook/canvas.htm#Tkinter.Canvas.create_rectangle-method\" target=\"_blank\">(Read create_rectangle Documentation)</a> You can name this rectangle object anything you want. I called mine <b>checkbox</b>. <b>Notice you have to call your create_rectangle method on your Canvas widget with the (.) dot method.</b> Everytime we draw anything on our Canvas we will have to use this syntax. Now look at the parameters we used in the create_rectangle method, The first four are the upper left and lower right coordinates of the rectangle. The fifth parameter is a list called dash. See if you can tell from the documentation and perhaps also playing with the dash numbers how it works. Run the program to see your first <b>drawing object</b> on your <b>Canvas</b> in your <b>window</b>.<br><br>\n",
    "<img src=\"https://dl.dropboxusercontent.com/u/90219577/Hermon/CSE_Website/notebooks/18/12-13.png\" align=\"left\"><br><br><br><br>\n",
    "&nbsp;&nbsp;&nbsp;&nbsp;&nbsp;Next,we will create the red check which we can make with a create_line method. <a href=\"http://effbot.org/tkinterbook/canvas.htm#Tkinter.Canvas.create_line-method\" target=\"_blank\">(Read create_line Documentation)</a> Again, you can name this line object anything you want. I called mine <b>check</b>. Look at the parameters we used in the create_line method, The first six are just coordinates of each \"change of direction\" in the line and of course the start and ending coordinates of the line. The <b>fill</b> parameter gives the color of the line and the <b>width</b> gives you the thickness of the line in pixels.<br><br>\n",
    "<img src=\"https://dl.dropboxusercontent.com/u/90219577/Hermon/CSE_Website/notebooks/18/14.png\" align=\"left\"><br><br><br><br><br>\n",
    "&nbsp;&nbsp;&nbsp;&nbsp;&nbsp;Next,we will create the text using the create_text method. <a href=\"http://effbot.org/tkinterbook/canvas.htm#Tkinter.Canvas.create_text-method\" target=\"_blank\">(Read create_text Documentation)</a> Again, you can name this text object anything you want. I called mine <b>message</b>. Look at the parameters we used in the create_text method, The first two are the coordinates of the <b>center</b> of the text. The <b>text</b> parameter is obviously the text string. The <b>font</b> parameter is actually a 2-tuple and is explained <a href=\"http://infohost.nmt.edu/tcc/help/pubs/tkinter/web/fonts.html\" target=\"_blank\">here</a>. <font color=\"red\">What does the negative sign in -100 cause the method to do? What does the documentation say the method will do if the negative sign is omitted?</font><br><br>\n",
    "<img src=\"https://dl.dropboxusercontent.com/u/90219577/Hermon/CSE_Website/notebooks/18/15.png\" align=\"left\"><br><br><br><br>\n",
    "&nbsp;&nbsp;&nbsp;&nbsp;&nbsp;Next,we will create the oval using the create_oval method. <a href=\"http://effbot.org/tkinterbook/canvas.htm#Tkinter.Canvas.create_oval-method\" target=\"_blank\">(Read create_oval Documentation)</a> Again, you can name this oval object anything you want. I called mine <b>shadow</b>. Look at the parameters we used in the create_oval method, The first four are the upper left and lower right coordinates of a <b>bounding box</b> that circumscribes the oval. What do the <b>fill</b> and <b>outline</b> attributes do?<br><br>\n",
    "<img src=\"https://dl.dropboxusercontent.com/u/90219577/Hermon/CSE_Website/notebooks/18/16.png\" align=\"left\"><br><br><br><br>\n",
    "&nbsp;&nbsp;&nbsp;&nbsp;&nbsp;Next,we will create the concentric circles. This is a bit more challenging and requires us to remember our basic Python. A circle again uses the <b>create_oval method</b>. Since we are going to create several circle objects we will first create a list variable to hold all of them. Line 20 shows that I created an empty list variable called <b>circles</b>. Next we made our <b>for</b> loop that uses the <b>range</b> that hopefully you figured out up in question <b>(d)</b>. In this <b>for</b> loop we will create circles and append each circle to the list. We will use the radius in the <b>for</b> loop to change the upper left and lower right coordinates of the bounding boxes that circumscribe each concentric circle.  We also used an <b>outline</b> parameter that colors the circle. Analyze this code and try to really have a good understanding. Ask your instuctor for help if you are not sure. You will be required to use a <b>for</b> loop in your final activity to make repeated objects such as this.<br><br>\n",
    "<img src=\"https://dl.dropboxusercontent.com/u/90219577/Hermon/CSE_Website/notebooks/18/19-22.png\" align=\"left\"><br><br><br><br><br><br>\n",
    "&nbsp;&nbsp;&nbsp;&nbsp;&nbsp;Next,we will create the arc using the create_arc method. <a href=\"http://effbot.org/tkinterbook/canvas.htm#Tkinter.Canvas.create_arc-method\" target=\"_blank\">(Read create_arc Documentation)</a> Again, you can name this arc object anything you want. I called mine <b>my_arc</b>. Look at the parameters we used in the create_arc method, The first four are the upper left and lower right coordinates of a <b>bounding box</b> that circumscribes what would be an entire circle if the arc went all the way around. Look in the documentation and record the meaning of the attributes, <b>start, extent, width and style</b>? What are the other options for <b>style</b>? How could you change the color of the arc? Experiment for a while with these parameters.<br><br>\n",
    "<img src=\"https://dl.dropboxusercontent.com/u/90219577/Hermon/CSE_Website/notebooks/18/24-26.png\" align=\"left\"><br><br><br><br>\n",
    "&nbsp;&nbsp;&nbsp;&nbsp;&nbsp;What if we would like to go back and change one of the attributes of an object that we already made? To do this we will use the <b>itemconfig method</b>. Let's say for example that we want to change the third concentric circle to black. This is fairly easy. The first parameter of the method is the object id variable. Since the object we are updating is the third circle in the circles list the item name would be <b>circles[2]</b>. The second parameter is the attribute we are changing...in this case a black outline.<br><br>\n",
    "<img src=\"https://dl.dropboxusercontent.com/u/90219577/Hermon/CSE_Website/notebooks/18/30.png\" align=\"left\"><br><br><br><br>\n",
    "&nbsp;&nbsp;&nbsp;&nbsp;&nbsp;Now let's say we want to find the coordinates of an object that we have already made. To do this we will use the <b>coords method</b>. Let's say for example that we want to find the coordinates of the third concentric circle. We will need four variables to hold the two coordinates of the bounding box. We will keep it simple and call them, <b>a, b, c and d</b><br><br>\n",
    "<img src=\"https://dl.dropboxusercontent.com/u/90219577/Hermon/CSE_Website/notebooks/18/31.png\" align=\"left\"><br><br><br><br>\n",
    "&nbsp;&nbsp;&nbsp;&nbsp;&nbsp;Now that we have the coordinates we could reset them and subtract 5 from both of the y-coordinates so that the entire circle will be moved up 5 pixels. Again, we will use the <b>coords method</b> to reset them.<br><br>\n",
    "<img src=\"https://dl.dropboxusercontent.com/u/90219577/Hermon/CSE_Website/notebooks/18/32.png\" align=\"left\"><br><br><br><br>\n",
    "\n",
    "<u><b>CHALLENGE</u>! Insert lines of code so that the inner circle is filled black, with a wider outline, and moved 5 pixels to the right. Demonstrate to your instructor.<br><br>\n",
    "<img src=\"https://dl.dropboxusercontent.com/u/90219577/Hermon/CSE_Website/notebooks/18/modified.png\">\n"
   ]
  },
  {
   "cell_type": "markdown",
   "metadata": {},
   "source": [
    "## Adding an Image to the Canvas"
   ]
  },
  {
   "cell_type": "markdown",
   "metadata": {},
   "source": [
    " &nbsp;&nbsp;&nbsp;&nbsp;&nbsp;We can also add images to the canvas although this is a little more complicated. We will have to import a couple more libraries to do this. The good thing is we are already familiar with several of them. Before we attempt this find a small .jpg image that will be able to fit into the checkbox area in your graphic and put the image in your working directory. Make sure it is a .jpg!<br><br>\n",
    " &nbsp;&nbsp;&nbsp;&nbsp;&nbsp;In lines 40-42 we do something that we have done several times before. We need to import the os.path library and set variables for the directory and filename. My file name was scholar.jpg. You should change this to the name of your .jpg that you are using. <br><br>\n",
    " &nbsp;&nbsp;&nbsp;&nbsp;&nbsp;In lines 45-47 we import the PIL.Image library as we have done before, however, this time we are importing a PIL.ImageTk library also which will help us convert our PIL image into one that works with Tkinter. We then make a PIL image object which I named <b>img</b> and then we convert it to a PIL.Tkimage which I called <b>tkimg</b><br><br>\n",
    " &nbsp;&nbsp;&nbsp;&nbsp;&nbsp;Finally on line 50 we used the <b>create_image method</b> to make a Canvas image which I called <b>icon</b>.  <a href=\"http://effbot.org/tkinterbook/canvas.htm#Tkinter.Canvas.create_image-method\" target=\"_blank\">(Read create_image Documentation)</a> Look at the parameters we used in the create_image method, The first two are the coordinates of the center of the image. The <b>image</b> parameter refers to the image object.<br><br>\n",
    "<img src=\"https://dl.dropboxusercontent.com/u/90219577/Hermon/CSE_Website/notebooks/18/adding_image.png\" align=\"left\"><br><br><br><br><br><br><br><br><br><br><br>\n",
    "\n",
    " &nbsp;&nbsp;&nbsp;&nbsp;&nbsp;If you run this program you will see your image on top of your checkmark since it came later. Refer to the documentation <a href=\"http://infohost.nmt.edu/tcc/help/pubs/tkinter/web/index.html\" target=\"_blank\">here</a> and see section 8.6 on methods of the Canvas class. Read the explanation of the <b>tag_lower( )  method</b>. Using this method we can rearrange the layers of various objects that we have drawn on the canvas. Try adding the following line of code.<br><br>\n",
    " <img src=\"https://dl.dropboxusercontent.com/u/90219577/Hermon/CSE_Website/notebooks/18/52-53.png\" align=\"left\"><br><br><br>\n",
    " &nbsp;&nbsp;&nbsp;&nbsp;&nbsp;Remember, if you get the <b>TclError: image \"pyimage#\" doesn't exist</b> error refer to earlier in this chapter on how to fix it.<br><br>"
   ]
  },
  {
   "cell_type": "markdown",
   "metadata": {},
   "source": [
    "## Final Tkinter Canvas"
   ]
  },
  {
   "cell_type": "markdown",
   "metadata": {},
   "source": [
    "<center><img src=\"https://dl.dropboxusercontent.com/u/90219577/Hermon/CSE_Website/notebooks/18/final.png\"></center>"
   ]
  },
  {
   "cell_type": "markdown",
   "metadata": {},
   "source": [
    "<table width=\"100%\" border=\"1\" cellpadding=\"2\" cellspacing=\"0\">\n",
    "<tr>\n",
    "<td width=\"90\" bgcolor=\"#00FF00\" style=\"vertical-align:top\"><img src=\"https://dl.dropboxusercontent.com/u/90219577/Hermon/CSE_Website/notebooks/sith.png\" style=\"border:2px solid #021a40;\"><center><b>\n",
    "Jedi<br>Training<br>Task</b></center></td>\n",
    "<td valign=\"top\"><center><font size=\"+2\"><b>Python Picasso</b></font></center><br>\n",
    "<font size=\"+1\">\n",
    "\n",
    "&nbsp;&nbsp;&nbsp;&nbsp;&nbsp;<u>In this activity you will simply draw a picture using the Canvas widget in the Tkinter Library</u>.<br>\n",
    "<ol>\n",
    "<li>You must use multiple colors.</li><br>\n",
    "<li>You must have a coherent picture. I am not interested in abstract art with random shapes.</li><br>\n",
    "<li>You must use multiple types of graphic functions (e.g. circles, rectangles, lines, etc.)</li><br>\n",
    "<li>You must use a while or for loop to create a repeating pattern like we did with the concentric circles. Do not just redraw the same thing in the same location 10 times. Remember that you can contain multiple drawing commands in a loop, so you can draw multiple train cars for example.</li><br>\n",
    "<li>Please use comments and blank lines to make it easy to follow your program. If you have 5 lines that draw a robot, group them together with blank lines above and below. Then add a comment at the top telling the reader what you are drawing.</li><br>\n",
    "<li>After you have showed your picture to your instructor, screenshot your picture, name it firstname_lastname.jpg and upload it to be included in the <a href=\"https://sites.google.com/a/urbandaleschools.com/cse-book/2-1-statics/04-python-picasso\" target=\"_blank\">Python Picasso Gallery</a>.</li><br>\n",
    "<b>Below is a drawing I made of a map of Simpson College. IT TOOK ME FOREVER! You don't have to be this elaborate but take pride in your work.<br><br>\n",
    "<center><img src=\"https://dl.dropboxusercontent.com/u/90219577/Hermon/CSE_Website/notebooks/18/simpson.png\"></center>\n",
    "</td></tr></table>"
   ]
  },
  {
   "cell_type": "markdown",
   "metadata": {},
   "source": [
    "<table width=\"100%\" cellpadding=\"2\" cellspacing=\"2\">\n",
    "<tr>\n",
    "<td style=\"border: 1px solid white;\" width=\"100px\">\n",
    "<div>\n",
    "<a href=\"http://nbviewer.ipython.org/github/CSE-UHS/CSE_Python/blob/master/Chapter17.ipynb\"><img src=\"https://dl.dropboxusercontent.com/u/90219577/Hermon/CSE_Website/notebooks/leftarrow.png\" height=\"50px\" width=\"50px\" align=\"left\"></a>\n",
    "</div>\n",
    "</td>\n",
    "<td style=\"border: 1px solid white;\">\n",
    "<div align=\"center\">\n",
    "<a href=\"http://nbviewer.ipython.org/github/CSE-UHS/CSE_Python/blob/master/Chapter00.ipynb\"><h2>Table of Contents</h2></a>\n",
    "</div>\n",
    "</td>\n",
    "<td style=\"border: 1px solid white;\" width=\"100px\">\n",
    "<div>\n",
    "<a href=\"http://nbviewer.ipython.org/github/CSE-UHS/CSE_Python/blob/master/Chapter19.ipynb\"><img src=\"https://dl.dropboxusercontent.com/u/90219577/Hermon/CSE_Website/notebooks/rightarrow.png\"  height=\"50px\" width=\"50px\"  align=\"right\"></a>\n",
    "</div>\n",
    "</td>\n",
    "</tr></table>"
   ]
  }
 ],
 "metadata": {
  "kernelspec": {
   "display_name": "Python 2",
   "language": "python",
   "name": "python2"
  },
  "language_info": {
   "codemirror_mode": {
    "name": "ipython",
    "version": 2
   },
   "file_extension": ".py",
   "mimetype": "text/x-python",
   "name": "python",
   "nbconvert_exporter": "python",
   "pygments_lexer": "ipython2",
   "version": "2.7.10"
  }
 },
 "nbformat": 4,
 "nbformat_minor": 0
}
