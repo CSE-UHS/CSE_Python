{
 "cells": [
  {
   "cell_type": "markdown",
   "metadata": {
    "deletable": true,
    "editable": true
   },
   "source": [
    "<div align=\"right\">\n",
    "<a href=\"http://nbviewer.ipython.org/github/CSP-UHS/Hermons_Book_of_Python/blob/master/Chapter00.ipynb\" align=\"right\"><h2>Table of Contents</h2></a>\n",
    "</div>"
   ]
  },
  {
   "cell_type": "markdown",
   "metadata": {
    "deletable": true,
    "editable": true
   },
   "source": [
    "# Chapter 28: LEDs and Buttons"
   ]
  },
  {
   "cell_type": "markdown",
   "metadata": {
    "deletable": true,
    "editable": true
   },
   "source": [
    "&nbsp;&nbsp;&nbsp;&nbsp;&nbsp;Controlling the two LEDs located under the buttons of the EV3 brick must be one of the simplest things we can do in EV3 Python so... we saved it until close to the end! The official documentation is <a href=\"http://python-ev3dev.readthedocs.io/en/latest/other.html#leds\" target=\"_blank\">HERE</a>. Note that the <b>Leds</b> class is a child of the <b>Led</b> class so you should look at the documentation for that too. All you really need to know as a beginner is how to set the color of each LED and how to make the LEDs blink. For other functions such as setting the brightness of each LED, see the official documentation."
   ]
  },
  {
   "cell_type": "markdown",
   "metadata": {
    "deletable": true,
    "editable": true
   },
   "source": [
    "## Set the Color of an LED"
   ]
  },
  {
   "cell_type": "markdown",
   "metadata": {
    "deletable": true,
    "editable": true
   },
   "source": [
    "&nbsp;&nbsp;&nbsp;&nbsp;&nbsp;Use <b>Leds.set_color(group, color)</b> where group can be <b>Leds.LEFT</b> or <b>Leds.RIGHT</b>. Color can be <b>Leds.RED, Leds.GREEN, Leds.YELLOW, Leds.ORANGE or Leds.AMBER</b>. There is not much difference between <b>Leds.ORANGE and Leds.AMBER</b>. You can also turn off both LEDs by using <b>Leds.all_off()</b>\n",
    "\n",
    "&nbsp;&nbsp;&nbsp;&nbsp;&nbsp;Create a file called <b>leds.py</b> with the following code. This example cycles both leds through all five colors and then off. When you run this or any other program, be aware that the program will take a few seconds to start. All five colors were put into a list called <b>colors</b> and then we just iterate through that list.\n",
    "\n",
    "<img src=\"http://www.hermonswebsites.com/PyNotebooks/Python/28/code1.jpg\">"
   ]
  },
  {
   "cell_type": "markdown",
   "metadata": {
    "deletable": true,
    "editable": true
   },
   "source": [
    "## Buttons"
   ]
  },
  {
   "cell_type": "markdown",
   "metadata": {
    "deletable": true,
    "editable": true
   },
   "source": [
    "&nbsp;&nbsp;&nbsp;&nbsp;&nbsp;The official documentation for the <b>Button( )</b> class is <a href=\"http://python-ev3dev.readthedocs.io/en/latest/other.html#button\" target=\"_blank\">HERE</a>. Create a file called <b>buttons.py</b> with the following code. On line 5 we created a Button( ) object called <b>btn</b>. You could name it whatever you want. There are 6 buttons and their names are: <b>left, right, up, down, enter and backspace</b> On line 8, however, the loop checks whether ANY button is pressed and if so plays one of our WAV files from last chapter. The last two lines make the script check the button state every 0.01 second but they are not really necessary.\n",
    "\n",
    "<img src=\"http://www.hermonswebsites.com/PyNotebooks/Python/28/code2.jpg\">"
   ]
  },
  {
   "cell_type": "markdown",
   "metadata": {
    "deletable": true,
    "editable": true
   },
   "source": [
    "## Starting and Stopping Programs with Buttons"
   ]
  },
  {
   "cell_type": "markdown",
   "metadata": {
    "deletable": true,
    "editable": true
   },
   "source": [
    "&nbsp;&nbsp;&nbsp;&nbsp;&nbsp;We can use the functions <b>(up, down, left, right, backspace and enter)</b> to start and stop programs. The code below lights the LEDS up green when it's ready to start. You can start the beeping by pressing the enter key and stop the beeping by pressing the right key.\n",
    "\n",
    "<img src=\"http://www.hermonswebsites.com/PyNotebooks/Python/28/code3.jpg\">"
   ]
  },
  {
   "cell_type": "markdown",
   "metadata": {
    "deletable": true,
    "editable": true
   },
   "source": [
    "## React to Button Presses and Releases"
   ]
  },
  {
   "cell_type": "markdown",
   "metadata": {
    "deletable": true,
    "editable": true
   },
   "source": [
    "&nbsp;&nbsp;&nbsp;&nbsp;&nbsp;In this program's loop, the very important command <b>btn.process()</b> checks for any change in the state of the buttons. If it detects a change then it triggers the corresponding 'events'. For example, if it detects that the left button has just been pressed then it triggers a <b>'left button state change'</b> event and a <b>'button change'</b> event. It also assigns a value of True to the parameter state if the button is pressed and a value of False if the button is released. Event handlers respond to the events. For example, if the left button is pressed then the <b>'left button state change'</b> event will trigger the <b>on_left</b> event handler which will call the function <b>'left'</b> (the function does not have to have this name).\n",
    "\n",
    "These are the functions with the state parameter of that particular button being sent. For the left and the right buttons we did different actions if the <b>state</b> is True or False. (pressed or released). For the last four buttons we just played a sound each time the <b>state</b> is changed.\n",
    "<img src=\"http://www.hermonswebsites.com/PyNotebooks/Python/28/process1.jpg\">\n",
    "\n",
    "These are the <b>event handlers</b> which will call the appropriate function if that particular button has a state change.\n",
    "<img src=\"http://www.hermonswebsites.com/PyNotebooks/Python/28/process2.jpg\">\n",
    "\n",
    "This is the very simple main program which basically runs the <b>btn.process( )</b> which checks for any change in the state of the buttons.\n",
    "<img src=\"http://www.hermonswebsites.com/PyNotebooks/Python/28/process3.jpg\">"
   ]
  },
  {
   "cell_type": "markdown",
   "metadata": {
    "deletable": true,
    "editable": true
   },
   "source": [
    "<table style=\"background-color: #FFFFFF; border: 1px solid #000000; width: 100%; padding: 2px;\">\n",
    "<tr style=\"background-color: #00FF00;\">\n",
    "<td width=\"90\" style=\"vertical-align: top; border: 1px solid #000000;\"><img src=\"http://www.hermonswebsites.com/PyNotebooks/Python/sith.png\" style=\"border: 2px solid #021a40;\">\n",
    "</td><td style=\"border: 1px solid #000000;\"><h2><center><b>Droid Training Task</b></center></h2></td></tr>\n",
    "<tr>\n",
    "<td valign=\"top\" colspan=\"2\" style=\"text-align: left;\">\n",
    "<center><font size=\"+1\"><b>General Grievous 2.0</b></font></center><br>\n",
    "<font size=\"+1\">\n",
    "&nbsp;&nbsp;&nbsp;&nbsp;&nbsp;For the battle bot competition at the IT Olympics both robots have to push the enter button at the same time and after three seconds the robots can begin moving. You might have noticed that its about 8-10 seconds before a program begins from when we select it in the menu. We need to modify our program to solve this problem. Make sure you know when the program has loaded by turning the LEDs green. Don't let the program run until the enter button is pressed. Immediately after the enter button is pressed have the robot count down 3 seconds out loud before the battle bot moves.<br><br>\n",
    "\n",
    "</font>\n",
    "\n",
    "\n",
    "</td></tr></table>\n"
   ]
  },
  {
   "cell_type": "markdown",
   "metadata": {
    "deletable": true,
    "editable": true
   },
   "source": [
    "<table  style=\"background-color: #FFFFFF; width: 100%; padding: 2px;\">\n",
    "<tr style=\"background-color: #FFFFFF;\">\n",
    "<td style=\"border: 1px solid white;\" width=\"100px\">\n",
    "<div>\n",
    "<a href=\"http://nbviewer.ipython.org/github/CSP-UHS/Hermons_Book_of_Python/blob/master/Chapter27.ipynb\"><img src=\"http://www.hermonswebsites.com/PyNotebooks/Python/leftarrow.png\" height=\"50px\" width=\"50px\" align=\"left\"></a>\n",
    "</div>\n",
    "</td>\n",
    "<td style=\"border: 1px solid white;\">\n",
    "<div align=\"center\">\n",
    "<a href=\"http://nbviewer.ipython.org/github/CSP-UHS/Hermons_Book_of_Python/blob/master/Chapter00.ipynb\"><h2>Table of Contents</h2></a>\n",
    "</div>\n",
    "</td>\n",
    "<td style=\"border: 1px solid white;\" width=\"100px\">\n",
    "<div>\n",
    "<a href=\"http://nbviewer.ipython.org/github/CSP-UHS/Hermons_Book_of_Python/blob/master/Chapter29.ipynb\"><img src=\"http://www.hermonswebsites.com/PyNotebooks/Python/rightarrow.png\"  height=\"50px\" width=\"50px\"  align=\"right\"></a>\n",
    "</div>\n",
    "</td>\n",
    "</tr></table>"
   ]
  }
 ],
 "metadata": {
  "kernelspec": {
   "display_name": "Python 3",
   "language": "python",
   "name": "python3"
  },
  "language_info": {
   "codemirror_mode": {
    "name": "ipython",
    "version": 3
   },
   "file_extension": ".py",
   "mimetype": "text/x-python",
   "name": "python",
   "nbconvert_exporter": "python",
   "pygments_lexer": "ipython3",
   "version": "3.5.2"
  }
 },
 "nbformat": 4,
 "nbformat_minor": 0
}
