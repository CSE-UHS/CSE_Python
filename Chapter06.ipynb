{
 "metadata": {
  "name": "",
  "signature": "sha256:b32b76f17153230153d88073e79ed22da370b350e3b07f3177bc8c48fefb0e19"
 },
 "nbformat": 3,
 "nbformat_minor": 0,
 "worksheets": [
  {
   "cells": [
    {
     "cell_type": "markdown",
     "metadata": {},
     "source": [
      "<table width=\"100%\" border=\"0\" cellpadding=\"2\" cellspacing=\"0\">\n",
      "<tr>\n",
      "<td width=\"40%\"><center><a href=\"http://nbviewer.ipython.org/github/CSE-UHS/CSE_Python/blob/master/Chapter05.ipynb\"> <---Ch. 05 Lists, Tuples and Strings</a></td>\n",
      "<td width=\"20%\"><center><a href=\"http://nbviewer.ipython.org/github/CSE-UHS/CSE_Python/blob/master/Chapter00.ipynb\">Table of Contents</a></td>\n",
      "<td width=\"40%\"><center><a href=\"http://nbviewer.ipython.org/github/CSE-UHS/CSE_Python/blob/master/Chapter07.ipynb\">Ch. 07 ?????  ---></a></td>\n",
      "</tr></table>"
     ]
    },
    {
     "cell_type": "heading",
     "level": 1,
     "metadata": {},
     "source": [
      "Chapter 6: Functions"
     ]
    },
    {
     "cell_type": "markdown",
     "metadata": {},
     "source": [
      "Create a new file called Functions.py where you can practice creating functions during this chapter.<br><br>\n",
      "<b>Functions are used for two reasons:</b><br> \n",
      "1.) they make code easier to read and understand.<br>\n",
      "2.) they allow code to be used more than once.<br><br>\n",
      "By defining a function we can make the program easier to read. To define a function, start by using the def command. After the def command goes the function name. Function names are very important! If the function names are descriptive, even a non-programmer should be able to read a set of code and get an idea what is happening. Function names follow the same rules as variable names, and should start with a lower case letter. In this case we are calling it volume_sphere( ). Following the function name will be a set of parenthesis and a colon. All the commands for the function will have the 4 space indention. See the example below. (the import print_function is not part of this function. It just needs to always be the first line at the top of any python program)"
     ]
    },
    {
     "cell_type": "code",
     "collapsed": false,
     "input": [
      "from __future__ import print_function \n",
      "def volume_sphere(radius):\n",
      "    pi = 3.141592653589\n",
      "    volume = (4 / 3) * pi * radius ** 3\n",
      "    print(\"The volume is\", volume)"
     ],
     "language": "python",
     "metadata": {},
     "outputs": [],
     "prompt_number": 7
    },
    {
     "cell_type": "markdown",
     "metadata": {},
     "source": [
      "Functions can take parameters. These can be used to increase the flexibility of a function by altering what it does based on parameters passed to it. The data going into our volume_sphere function will be stored in a new variable called radius. The resulting volume is printed to the screen. The radius variable does not get a value here. Frequently new programmers get confused because parameter variables aren't given a value when the function is defined, so it doesn't look legal. <b>Parameters are given a value when the function is called!</b><br><br>\n",
      "Below is how you would call the function at any time during the rest of your program:"
     ]
    },
    {
     "cell_type": "code",
     "collapsed": false,
     "input": [
      "volume_sphere(5)"
     ],
     "language": "python",
     "metadata": {},
     "outputs": [
      {
       "output_type": "stream",
       "stream": "stdout",
       "text": [
        "The volume is 392.699081699\n"
       ]
      }
     ],
     "prompt_number": 8
    },
    {
     "cell_type": "markdown",
     "metadata": {},
     "source": [
      "The radius variable in the function is created and initialized with a value of 5. The function's code is run once the execution reaches the call to the function. What if we need to pass in more than one value? Multiple parameters can be passed to a function, each parameter is simply seperated by a comma. Examine the function below that will calculate the volume of a cylinder."
     ]
    },
    {
     "cell_type": "code",
     "collapsed": false,
     "input": [
      "from __future__ import print_function \n",
      "def volume_cylinder(radius, height):\n",
      "    pi = 3.141592653589\n",
      "    volume = pi * radius ** 2 * height\n",
      "    print(\"The volume is\", volume)"
     ],
     "language": "python",
     "metadata": {},
     "outputs": [],
     "prompt_number": 10
    },
    {
     "cell_type": "code",
     "collapsed": false,
     "input": [
      "volume_cylinder(12,3)"
     ],
     "language": "python",
     "metadata": {},
     "outputs": [
      {
       "output_type": "stream",
       "stream": "stdout",
       "text": [
        "The volume is 1357.16802635\n"
       ]
      }
     ],
     "prompt_number": 11
    },
    {
     "cell_type": "heading",
     "level": 2,
     "metadata": {},
     "source": [
      "Printing versus Returning"
     ]
    },
    {
     "cell_type": "markdown",
     "metadata": {},
     "source": [
      "Unfortunately, the example functions above are limited. Why? If a person wanted to use the volume_cylinder function to calculate the volume in a six-pack of Mt. Dew, it wouldn't work. It only <b>prints</b> out the volume of one cylinder. It doesn't actually <b>return</b> the value to the program. It is not possible to use the function's print result for one cylinder's volume in an equation and multiply it by six to get a six-pack volume.\n",
      "\n",
      "This can be solved by using a <b>return</b> statement. For example:\n"
     ]
    },
    {
     "cell_type": "code",
     "collapsed": false,
     "input": [
      "def volume_cylinder(radius, height):\n",
      "    pi = 3.141592653589\n",
      "    volume = pi * radius ** 2 * height\n",
      "    return volume"
     ],
     "language": "python",
     "metadata": {},
     "outputs": [],
     "prompt_number": 12
    },
    {
     "cell_type": "markdown",
     "metadata": {},
     "source": [
      "Return is not a function, and does not use parentheses. Don't do return(volume).\n",
      "\n",
      "Because of the <b>return</b>, this function could be used later on as part of an equation to calculate the volume of a six-pack or Mt. Dew and then print that result as follows:"
     ]
    },
    {
     "cell_type": "code",
     "collapsed": false,
     "input": [
      "six_pack_volume = volume_cylinder(2.5, 5) * 6\n",
      "print(six_pack_volume)"
     ],
     "language": "python",
     "metadata": {},
     "outputs": [
      {
       "output_type": "stream",
       "stream": "stdout",
       "text": [
        "589.048622548\n"
       ]
      }
     ],
     "prompt_number": 16
    },
    {
     "cell_type": "markdown",
     "metadata": {},
     "source": [
      "The value returned from volume_cylinder goes into the equation and is multiplied by six.\n",
      "\n",
      "There is a big difference between a function that prints a value and a function that returns a value. Look at the code below and try them out."
     ]
    },
    {
     "cell_type": "code",
     "collapsed": false,
     "input": [
      "# Function that prints the result\n",
      "def sum_print(a, b):\n",
      "    result = a + b\n",
      "    print(result)\n",
      "\n",
      "# Function that returns the results\n",
      "def sum_return(a, b):\n",
      "    result = a + b\n",
      "    return result\n",
      " \n",
      "# This prints the sum of 4+4\n",
      "sum_print(4, 4)\n",
      " \n",
      "# This does not\n",
      "sum_return(4, 4)\n",
      " \n",
      "# This will not set x1 to the sum\n",
      "# It actually gets a value of 'None'\n",
      "x1 = sum_print(4, 4)\n",
      " \n",
      "# This will\n",
      "x2 = sum_return(4, 4)"
     ],
     "language": "python",
     "metadata": {},
     "outputs": []
    },
    {
     "cell_type": "heading",
     "level": 2,
     "metadata": {},
     "source": [
      "Documenting Functions"
     ]
    },
    {
     "cell_type": "markdown",
     "metadata": {},
     "source": [
      "Functions in Python typically have a comment as the first statement of the function. This comment is delimited using three single quotes ('''), and is called a docstring. A function may look like:"
     ]
    },
    {
     "cell_type": "code",
     "collapsed": false,
     "input": [
      "def volume_cylinder(radius, height):\n",
      "    '''Returns volume of a cylinder given radius, height.'''\n",
      "    pi = 3.141592653589\n",
      "    volume = pi * radius ** 2 * height\n",
      "    return volume"
     ],
     "language": "python",
     "metadata": {},
     "outputs": [],
     "prompt_number": 24
    },
    {
     "cell_type": "markdown",
     "metadata": {},
     "source": [
      "The great thing about using docstrings in functions is that the comment can be pulled out and put into a website documenting your code. You can also easily use a help function to call the docstring from a function as seen below:"
     ]
    },
    {
     "cell_type": "code",
     "collapsed": false,
     "input": [
      "help(volume_cylinder)"
     ],
     "language": "python",
     "metadata": {},
     "outputs": [
      {
       "output_type": "stream",
       "stream": "stdout",
       "text": [
        "Help on function volume_cylinder in module __main__:\n",
        "\n",
        "volume_cylinder(radius, height)\n",
        "    Returns volume of a cylinder given radius, height.\n",
        "\n"
       ]
      }
     ],
     "prompt_number": 25
    },
    {
     "cell_type": "heading",
     "level": 2,
     "metadata": {},
     "source": [
      "Variable Scope"
     ]
    },
    {
     "cell_type": "markdown",
     "metadata": {},
     "source": [
      "The use of functions introduces the concept of variable scope. Scope is where in the code a variable is \u201calive\u201d and can be accessed. Variable scope is one of the most difficult concepts for beginning programmers. Take notes in your notebook over the following YouTube video by Prof. Paul Craven from Simpson College."
     ]
    },
    {
     "cell_type": "markdown",
     "metadata": {},
     "source": [
      "<iframe width=\"420\" height=\"315\" src=\"https://www.youtube.com/embed/_zE5zs_hleQ\" frameborder=\"0\" allowfullscreen></iframe>"
     ]
    },
    {
     "cell_type": "code",
     "collapsed": false,
     "input": [
      "my_list = [2, 4, 5, 6]\n",
      "print(my_list)\n",
      "my_list.append(9)\n",
      "print(my_list)"
     ],
     "language": "python",
     "metadata": {},
     "outputs": [
      {
       "output_type": "stream",
       "stream": "stdout",
       "text": [
        "[2, 4, 5, 6]\n",
        "[2, 4, 5, 6, 9]\n"
       ]
      }
     ],
     "prompt_number": 16
    },
    {
     "cell_type": "markdown",
     "metadata": {},
     "source": [
      "To create a list from scratch, it is necessary to create a blank list and then use the append function. This example creates a list based upon user input: "
     ]
    },
    {
     "cell_type": "code",
     "collapsed": false,
     "input": [
      "my_list = [] # Empty list\n",
      "for i in range(5):\n",
      "    userInput = raw_input( \"Enter an integer: \")\n",
      "    userInput = int( userInput )\n",
      "    my_list.append(userInput)\n",
      "    print(my_list)"
     ],
     "language": "python",
     "metadata": {},
     "outputs": [
      {
       "name": "stdout",
       "output_type": "stream",
       "stream": "stdout",
       "text": [
        "Enter an integer: 2\n"
       ]
      },
      {
       "output_type": "stream",
       "stream": "stdout",
       "text": [
        "[2]\n"
       ]
      },
      {
       "name": "stdout",
       "output_type": "stream",
       "stream": "stdout",
       "text": [
        "Enter an integer: 4\n"
       ]
      },
      {
       "output_type": "stream",
       "stream": "stdout",
       "text": [
        "[2, 4]\n"
       ]
      },
      {
       "name": "stdout",
       "output_type": "stream",
       "stream": "stdout",
       "text": [
        "Enter an integer: 6\n"
       ]
      },
      {
       "output_type": "stream",
       "stream": "stdout",
       "text": [
        "[2, 4, 6]\n"
       ]
      },
      {
       "name": "stdout",
       "output_type": "stream",
       "stream": "stdout",
       "text": [
        "Enter an integer: 8\n"
       ]
      },
      {
       "output_type": "stream",
       "stream": "stdout",
       "text": [
        "[2, 4, 6, 8]\n"
       ]
      },
      {
       "name": "stdout",
       "output_type": "stream",
       "stream": "stdout",
       "text": [
        "Enter an integer: 8\n"
       ]
      },
      {
       "output_type": "stream",
       "stream": "stdout",
       "text": [
        "[2, 4, 6, 8, 8]\n"
       ]
      }
     ],
     "prompt_number": 17
    },
    {
     "cell_type": "markdown",
     "metadata": {},
     "source": [
      "If a program needs to create an array of a specific length, all with the same value, a simple trick is to use the following code: "
     ]
    },
    {
     "cell_type": "code",
     "collapsed": false,
     "input": [
      "# Creates a list with 3 of the same items.\n",
      "my_list = [\"Mr. Hermon is a Wizard!\"] * 3\n",
      "print(my_list)"
     ],
     "language": "python",
     "metadata": {},
     "outputs": [
      {
       "output_type": "stream",
       "stream": "stdout",
       "text": [
        "['Mr. Hermon is a Wizard!', 'Mr. Hermon is a Wizard!', 'Mr. Hermon is a Wizard!']\n"
       ]
      }
     ],
     "prompt_number": 18
    },
    {
     "cell_type": "heading",
     "level": 2,
     "metadata": {},
     "source": [
      "Summing or Modifying a List"
     ]
    },
    {
     "cell_type": "markdown",
     "metadata": {},
     "source": [
      "Creating a running total of an array is a common operation. Here's how it is done: "
     ]
    },
    {
     "cell_type": "code",
     "collapsed": false,
     "input": [
      "# Copy of the array to sum\n",
      "my_list = [5, 76, 8, 5, 3, 3, 56, 5, 23]\n",
      "# Initial sum should be zero\n",
      "list_total = 0\n",
      "# Loop through array, copying each item in the array into\n",
      "# the variable named item.\n",
      "for item in my_list:\n",
      "# Add each item\n",
      "    list_total += item\n",
      "# Print the result\n",
      "print(list_total)"
     ],
     "language": "python",
     "metadata": {},
     "outputs": [
      {
       "output_type": "stream",
       "stream": "stdout",
       "text": [
        "184\n"
       ]
      }
     ],
     "prompt_number": 20
    },
    {
     "cell_type": "markdown",
     "metadata": {},
     "source": [
      "Numbers in an array can also be changed by using a <b>for</b> loop. The following code doubles each item in the list."
     ]
    },
    {
     "cell_type": "code",
     "collapsed": false,
     "input": [
      "# Copy of the array to modify\n",
      "my_list = [5, 76, 8, 5, 3, 3, 56, 5, 23]\n",
      "# Loop from 0 up to the number of elements\n",
      "# in the array:\n",
      "for i in range(len(my_list)):\n",
      "# Modify the element by doubling it\n",
      "    my_list[i] = my_list[i] * 2\n",
      "# Print the result\n",
      "print(my_list)"
     ],
     "language": "python",
     "metadata": {},
     "outputs": [
      {
       "output_type": "stream",
       "stream": "stdout",
       "text": [
        "[10, 152, 16, 10, 6, 6, 112, 10, 46]\n"
       ]
      }
     ],
     "prompt_number": 21
    },
    {
     "cell_type": "heading",
     "level": 2,
     "metadata": {},
     "source": [
      "Strings"
     ]
    },
    {
     "cell_type": "markdown",
     "metadata": {},
     "source": [
      "<center><img src=\"https://dl.dropboxusercontent.com/u/90219577/Hermon/CSE_Website/notebooks/05/cat.png\"></center>Strings are actually lists of characters. Strings are <b>iterables</b>. Iterables are sequences that can be counted in order, one at a time, during iteration. Strings contain a sequence of characters, one after another. The elements \u2014 including the spaces \u2014 are indexed, starting at 0. Let's setup a string and then check it's type for a review."
     ]
    },
    {
     "cell_type": "code",
     "collapsed": false,
     "input": [
      "uhs_slogan = 'My school is the best'\n",
      "type(uhs_slogan)"
     ],
     "language": "python",
     "metadata": {},
     "outputs": [
      {
       "metadata": {},
       "output_type": "pyout",
       "prompt_number": 26,
       "text": [
        "str"
       ]
      }
     ],
     "prompt_number": 26
    },
    {
     "cell_type": "code",
     "collapsed": false,
     "input": [
      "print(uhs_slogan)"
     ],
     "language": "python",
     "metadata": {},
     "outputs": [
      {
       "output_type": "stream",
       "stream": "stdout",
       "text": [
        "My school is the best\n"
       ]
      }
     ],
     "prompt_number": 27
    },
    {
     "cell_type": "markdown",
     "metadata": {},
     "source": [
      "Predict the output for each of the following lines of code in your notebook and then test them."
     ]
    },
    {
     "cell_type": "code",
     "collapsed": false,
     "input": [
      "print(uhs_slogan[0])\n",
      "print(uhs_slogan[2])\n",
      "print(uhs_slogan[8])\n",
      "print(uhs_slogan[-1]) #characters can be accessed from the right side also\n",
      "print(uhs_slogan[26])"
     ],
     "language": "python",
     "metadata": {},
     "outputs": []
    },
    {
     "cell_type": "markdown",
     "metadata": {},
     "source": [
      "Python allows iterables such as lists and strings to be <b>sliced</b>. To slice, use square brackets and two indices separated by a colon. Python returns the iterable from the beginning index up to <u>but not including</u> the ending index."
     ]
    },
    {
     "cell_type": "code",
     "collapsed": false,
     "input": [
      "print(uhs_slogan[0:5])"
     ],
     "language": "python",
     "metadata": {},
     "outputs": [
      {
       "output_type": "stream",
       "stream": "stdout",
       "text": [
        "My sc\n"
       ]
      }
     ],
     "prompt_number": 34
    },
    {
     "cell_type": "code",
     "collapsed": false,
     "input": [
      "print(uhs_slogan[5:21])"
     ],
     "language": "python",
     "metadata": {},
     "outputs": [
      {
       "output_type": "stream",
       "stream": "stdout",
       "text": [
        "hool is the best\n"
       ]
      }
     ],
     "prompt_number": 35
    },
    {
     "cell_type": "markdown",
     "metadata": {},
     "source": [
      "When slicing, you can omit the starting (or ending) index if you want to start at the beginning (or end at the ending) of the string."
     ]
    },
    {
     "cell_type": "code",
     "collapsed": false,
     "input": [
      "print(uhs_slogan[:6])"
     ],
     "language": "python",
     "metadata": {},
     "outputs": [
      {
       "output_type": "stream",
       "stream": "stdout",
       "text": [
        "My sch\n"
       ]
      }
     ],
     "prompt_number": 37
    },
    {
     "cell_type": "code",
     "collapsed": false,
     "input": [
      "print(uhs_slogan[6:])"
     ],
     "language": "python",
     "metadata": {},
     "outputs": [
      {
       "output_type": "stream",
       "stream": "stdout",
       "text": [
        "ool is the best\n"
       ]
      }
     ],
     "prompt_number": 39
    },
    {
     "cell_type": "heading",
     "level": 4,
     "metadata": {},
     "source": [
      "CHALLENGE: Try to print 'best' by slicing the variable uhs_slogan, omitting the end index."
     ]
    },
    {
     "cell_type": "markdown",
     "metadata": {},
     "source": [
      "Use slicing and <b>concatenation</b> to create your own sentence. <b>Concatenation</b> involves pasting together two strings, one after another. Follow the example here."
     ]
    },
    {
     "cell_type": "code",
     "collapsed": false,
     "input": [
      "print(uhs_slogan[:13] + 'awesome!')"
     ],
     "language": "python",
     "metadata": {},
     "outputs": [
      {
       "output_type": "stream",
       "stream": "stdout",
       "text": [
        "My school is awesome!\n"
       ]
      }
     ],
     "prompt_number": 41
    },
    {
     "cell_type": "markdown",
     "metadata": {},
     "source": [
      "The len() function returns the number of elements in an iterable. The index of the last element is always one less than the length of the iterable since the indices begin at 0. Therefore since the length of this string is 21 characters long the index value of the last character \"t\" is index 20!"
     ]
    },
    {
     "cell_type": "code",
     "collapsed": false,
     "input": [
      "print(len(uhs_slogan))"
     ],
     "language": "python",
     "metadata": {},
     "outputs": [
      {
       "output_type": "stream",
       "stream": "stdout",
       "text": [
        "21\n"
       ]
      }
     ],
     "prompt_number": 42
    },
    {
     "cell_type": "markdown",
     "metadata": {},
     "source": [
      "Although this is rather strange, strings in Python may be used with <b>some</b> of the mathematical operators. Try the following code and see what Python does:"
     ]
    },
    {
     "cell_type": "code",
     "collapsed": false,
     "input": [
      "a = \"Hi\"\n",
      "b = \"There\"\n",
      "c = \"!\"\n",
      "print(a + b)\n",
      "print(a + b + c)\n",
      "print(3 * a)\n",
      "print(c * 4)\n",
      "print((a * 2) + (b * 2))"
     ],
     "language": "python",
     "metadata": {},
     "outputs": []
    },
    {
     "cell_type": "markdown",
     "metadata": {},
     "source": [
      "Since a string is an array, a program can iterate through each character element just like an array: "
     ]
    },
    {
     "cell_type": "code",
     "collapsed": false,
     "input": [
      "for character in uhs_slogan:\n",
      "    print(character)"
     ],
     "language": "python",
     "metadata": {},
     "outputs": []
    },
    {
     "cell_type": "heading",
     "level": 4,
     "metadata": {},
     "source": [
      "CHALLENGE: Using the starting code below, print the three month abbreviation for the month number that the user enters. (Calculate the start position in the string, then use the info we just learned to print out the correct substring.) Demonstrate your solution to your instructor."
     ]
    },
    {
     "cell_type": "code",
     "collapsed": false,
     "input": [
      "months = \"JanFebMarAprMayJunJulAugSepOctNovDec\"\n",
      "n = int(raw_input(\"Enter a month number: \"))"
     ],
     "language": "python",
     "metadata": {},
     "outputs": []
    },
    {
     "cell_type": "markdown",
     "metadata": {},
     "source": [
      "<table width=\"100%\" border=\"1\" cellpadding=\"2\" cellspacing=\"0\">\n",
      "<tr>\n",
      "<td width=\"90\" bgcolor=\"#00FFFF\" style=\"vertical-align:top\"><img src=\"https://dl.dropboxusercontent.com/u/90219577/Hermon/CSE_Website/notebooks/Scholar.png\"></td>\n",
      "<td valign=\"top\"><center><font size=\"+2\"><b>The Adventure Game</b></font></center><br>\n",
      "<font size=\"+1\">\n",
      "\n",
      "&nbsp;&nbsp;&nbsp;&nbsp;&nbsp;One of the first and greatest text adventure games ever made was called <a href=\"http://en.wikipedia.org/wiki/Colossal_Cave_Adventure\" target=\"_blank\">Colossal Cave Adventure</a>.<br><br>\n",
      "\n",
      "&nbsp;&nbsp;&nbsp;&nbsp;&nbsp;It is easy to start an adventure like this. It is also a great way to practice using lists. Your team's game will involve a list of rooms that can be navigated by going north, east, south, or west. Each room will be a list with the room description, and then what rooms are in each of the directions. <br><br>\n",
      "\n",
      "&nbsp;&nbsp;&nbsp;&nbsp;&nbsp;Before beginning you should draw a map and index each room of your adventure.<br><br>\n",
      "<center><img src=\"https://dl.dropboxusercontent.com/u/90219577/Hermon/CSE_Website/notebooks/05/adventure.png\"></center><br>\n",
      "\n",
      "\n",
      "&nbsp;&nbsp;&nbsp;&nbsp;&nbsp;Below are the steps to complete this program. For this assignment you basically just need to let the user move around from room to room but feel free to modify and add to your adventure over the course of the year. This program is easy to expand into a full game. Using all eight cardinal directions (including \u201cNorthWest\u201d), along with \u201cup\u201d and \u201cdown\u201d is rather easy. Managing an inventory of objects that can exist in rooms, be picked up, and dropped is also a matter of keeping lists.  Try the game with friends and family.<br><br>\n",
      "<ol>\n",
      "<li>Create an empty array called room_list. </li><br>\n",
      "<li>Create a variable called room. Set it equal to an array with five elements. For the first element, create a string with a description of your first room. The last four elements will be the number of the next room if the user goes north, east, south, or west. Look at your sketch to see what numbers to use. Use None if no room hooks up in that direction. (Do not put None in quotes. It is a special value that represents no value.) </li><br>\n",
      "<li>Create a while loop that will keep looping while done is False.</li><br>\n",
      "<li>Append this room to the room list.</li><br>\n",
      "<li>Repeat the prior two steps for each room you want to create. Just re-use the room variable. </li><br>\n",
      "<li>Create a variable called current_room. Set it to zero. </li><br>\n",
      "<li>Print the room_list variable. Run the program. You should see a really long list of every room in your adventure.</li><br>\n",
      "<li>Adjust your print statement to only print the first room (element zero) in the list. Run the program and confirm you get output similar to:<br><br>\n",
      "<center><b>['You are in a room. There is a passage to the north.', 1, None, None, None]</b></center></li><br>\n",
      "<li>Using current_room and room_list, print the current room the user is in. Since your first room is zero, the output should be the same as before. </li><br>\n",
      "<li>Change the print statement so that you only print the description of the room, and not the rooms that hook up to it.</li><br>\n",
      "<li>Create a variable called done and set it to False. Then put the printing of the room description in a while loop that repeats until done is set to True.</li><br> \n",
      "<li>After printing the room description, add a line of code that asks the user what direction they wish to go. </li><br>\n",
      "<li>Add an if statement to see if the user wants to go north. </li><br>\n",
      "<li>If the user wants to go north, create a variable called next_room and get it equal to room_list[current_room][1], which should be the number for what room is to the north. </li><br>\n",
      "<li>Add another if statement to see if the next room is equal to None. If it is, print \u201cYou can't go that way.\u201d Otherwise set current_room equal to next_room. </li><br>\n",
      "<li>Test your program. Can you go north to a new room? </li><br>\n",
      "<li>Add elif statements to handle east, south, and west. Add an else statement to let the user know the program doesn't understand what she typed. </li><br>\n",
      "<li>Add several rooms, at least five. It may be necessary to draw out the rooms and room numbers to keep everything straight. Test out the game. You can use \\n if you have a multi-line room description. </li><br>\n",
      "<li>Add a quit command. Make sure that the program works for upper and lower case directions. Have the program work if the user types in \u201cnorth\u201d or \u201cn\u201d. </li><br>\n",
      "<li>FINALLY, COMMENT EVERYTHING YOUR CODE IS DOING!</li><br>\n",
      "\n",
      "</td></tr></table>"
     ]
    }
   ],
   "metadata": {}
  }
 ]
}