{
 "metadata": {
  "name": "",
  "signature": "sha256:bcc5926e92017f186eba16acc43afeab66e5c041faa67ccd1bebf865a23e91a8"
 },
 "nbformat": 3,
 "nbformat_minor": 0,
 "worksheets": [
  {
   "cells": [
    {
     "cell_type": "markdown",
     "metadata": {},
     "source": [
      "<table width=\"100%\" border=\"0\" cellpadding=\"2\" cellspacing=\"0\">\n",
      "<tr>\n",
      "<td width=\"40%\"><center><a href=\"http://nbviewer.ipython.org/github/CSE-UHS/CSE_Python/blob/master/Chapter05.ipynb\"> <---Ch. 05 Lists, Tuples and Strings</a></td>\n",
      "<td width=\"20%\"><center><a href=\"http://nbviewer.ipython.org/github/CSE-UHS/CSE_Python/blob/master/Chapter00.ipynb\">Table of Contents</a></td>\n",
      "<td width=\"40%\"><center><a href=\"http://nbviewer.ipython.org/github/CSE-UHS/CSE_Python/blob/master/Chapter07.ipynb\">Ch. 07 Version Control - GitHub  ---></a></td>\n",
      "</tr></table>"
     ]
    },
    {
     "cell_type": "heading",
     "level": 1,
     "metadata": {},
     "source": [
      "Chapter 6: Functions"
     ]
    },
    {
     "cell_type": "markdown",
     "metadata": {},
     "source": [
      "Create a new file called Functions.py where you can practice creating functions during this chapter.<br><br>\n",
      "<b>Functions are used for two reasons:</b><br> \n",
      "1.) they make code easier to read and understand.<br>\n",
      "2.) they allow code to be used more than once.<br><br>\n",
      "By defining a function we can make the program easier to read. To define a function, start by using the def command. After the def command goes the function name. Function names are very important! If the function names are descriptive, even a non-programmer should be able to read a set of code and get an idea what is happening. Function names follow the same rules as variable names, and should start with a lower case letter. In this case we are calling it volume_sphere( ). Following the function name will be a set of parenthesis and a colon. All the commands for the function will have the 4 space indention. See the example below. (the import print_function is not part of this function. It just needs to always be the first line at the top of any python program)"
     ]
    },
    {
     "cell_type": "code",
     "collapsed": false,
     "input": [
      "from __future__ import print_function \n",
      "def volume_sphere(radius):\n",
      "    pi = 3.141592653589\n",
      "    volume = (4 / 3) * pi * radius ** 3\n",
      "    print(\"The volume is\", volume)"
     ],
     "language": "python",
     "metadata": {},
     "outputs": [],
     "prompt_number": 7
    },
    {
     "cell_type": "markdown",
     "metadata": {},
     "source": [
      "Functions can take parameters. These can be used to increase the flexibility of a function by altering what it does based on parameters passed to it. The data going into our volume_sphere function will be stored in a new variable called radius. The resulting volume is printed to the screen. The radius variable does not get a value here. Frequently new programmers get confused because parameter variables aren't given a value when the function is defined, so it doesn't look legal. <b>Parameters are given a value when the function is called!</b><br><br>\n",
      "Below is how you would call the function at any time during the rest of your program:"
     ]
    },
    {
     "cell_type": "code",
     "collapsed": false,
     "input": [
      "volume_sphere(5)"
     ],
     "language": "python",
     "metadata": {},
     "outputs": [
      {
       "output_type": "stream",
       "stream": "stdout",
       "text": [
        "The volume is 392.699081699\n"
       ]
      }
     ],
     "prompt_number": 8
    },
    {
     "cell_type": "markdown",
     "metadata": {},
     "source": [
      "The radius variable in the function is created and initialized with a value of 5. The function's code is run once the execution reaches the call to the function. What if we need to pass in more than one value? Multiple parameters can be passed to a function, each parameter is simply seperated by a comma. Examine the function below that will calculate the volume of a cylinder."
     ]
    },
    {
     "cell_type": "code",
     "collapsed": false,
     "input": [
      "from __future__ import print_function \n",
      "def volume_cylinder(radius, height):\n",
      "    pi = 3.141592653589\n",
      "    volume = pi * radius ** 2 * height\n",
      "    print(\"The volume is\", volume)"
     ],
     "language": "python",
     "metadata": {},
     "outputs": [],
     "prompt_number": 10
    },
    {
     "cell_type": "code",
     "collapsed": false,
     "input": [
      "volume_cylinder(12,3)"
     ],
     "language": "python",
     "metadata": {},
     "outputs": [
      {
       "output_type": "stream",
       "stream": "stdout",
       "text": [
        "The volume is 1357.16802635\n"
       ]
      }
     ],
     "prompt_number": 11
    },
    {
     "cell_type": "heading",
     "level": 2,
     "metadata": {},
     "source": [
      "Printing versus Returning"
     ]
    },
    {
     "cell_type": "markdown",
     "metadata": {},
     "source": [
      "Unfortunately, the example functions above are limited. Why? If a person wanted to use the volume_cylinder function to calculate the volume in a six-pack of Mt. Dew, it wouldn't work. It only <b>prints</b> out the volume of one cylinder. It doesn't actually <b>return</b> the value to the program. It is not possible to use the function's print result for one cylinder's volume in an equation and multiply it by six to get a six-pack volume.\n",
      "\n",
      "This can be solved by using a <b>return</b> statement. For example:\n"
     ]
    },
    {
     "cell_type": "code",
     "collapsed": false,
     "input": [
      "def volume_cylinder(radius, height):\n",
      "    pi = 3.141592653589\n",
      "    volume = pi * radius ** 2 * height\n",
      "    return volume"
     ],
     "language": "python",
     "metadata": {},
     "outputs": [],
     "prompt_number": 12
    },
    {
     "cell_type": "markdown",
     "metadata": {},
     "source": [
      "Return is not a function, and does not use parentheses. Don't do return(volume).\n",
      "\n",
      "Because of the <b>return</b>, this function could be used later on as part of an equation to calculate the volume of a six-pack or Mt. Dew and then print that result as follows:"
     ]
    },
    {
     "cell_type": "code",
     "collapsed": false,
     "input": [
      "six_pack_volume = volume_cylinder(2.5, 5) * 6\n",
      "print(six_pack_volume)"
     ],
     "language": "python",
     "metadata": {},
     "outputs": [
      {
       "output_type": "stream",
       "stream": "stdout",
       "text": [
        "589.048622548\n"
       ]
      }
     ],
     "prompt_number": 16
    },
    {
     "cell_type": "markdown",
     "metadata": {},
     "source": [
      "The value returned from volume_cylinder goes into the equation and is multiplied by six.\n",
      "\n",
      "There is a big difference between a function that prints a value and a function that returns a value. Look at the code below and try them out."
     ]
    },
    {
     "cell_type": "code",
     "collapsed": false,
     "input": [
      "# Function that prints the result\n",
      "def sum_print(a, b):\n",
      "    result = a + b\n",
      "    print(result)\n",
      "\n",
      "# Function that returns the results\n",
      "def sum_return(a, b):\n",
      "    result = a + b\n",
      "    return result\n",
      " \n",
      "# This prints the sum of 4+4\n",
      "sum_print(4, 4)\n",
      " \n",
      "# This does not\n",
      "sum_return(4, 4)\n",
      " \n",
      "# This will not set x1 to the sum\n",
      "# It actually gets a value of 'None'\n",
      "x1 = sum_print(4, 4)\n",
      " \n",
      "# This will\n",
      "x2 = sum_return(4, 4)"
     ],
     "language": "python",
     "metadata": {},
     "outputs": []
    },
    {
     "cell_type": "heading",
     "level": 2,
     "metadata": {},
     "source": [
      "Documenting Functions"
     ]
    },
    {
     "cell_type": "markdown",
     "metadata": {},
     "source": [
      "Functions in Python typically have a comment as the first statement of the function. This comment is delimited using three single quotes ('''), and is called a docstring. A function may look like:"
     ]
    },
    {
     "cell_type": "code",
     "collapsed": false,
     "input": [
      "def volume_cylinder(radius, height):\n",
      "    '''Returns volume of a cylinder given radius, height.'''\n",
      "    pi = 3.141592653589\n",
      "    volume = pi * radius ** 2 * height\n",
      "    return volume"
     ],
     "language": "python",
     "metadata": {},
     "outputs": [],
     "prompt_number": 24
    },
    {
     "cell_type": "markdown",
     "metadata": {},
     "source": [
      "The great thing about using docstrings in functions is that the comment can be pulled out and put into a website documenting your code. You can also easily use a help function to call the docstring from a function as seen below:"
     ]
    },
    {
     "cell_type": "code",
     "collapsed": false,
     "input": [
      "help(volume_cylinder)"
     ],
     "language": "python",
     "metadata": {},
     "outputs": [
      {
       "output_type": "stream",
       "stream": "stdout",
       "text": [
        "Help on function volume_cylinder in module __main__:\n",
        "\n",
        "volume_cylinder(radius, height)\n",
        "    Returns volume of a cylinder given radius, height.\n",
        "\n"
       ]
      }
     ],
     "prompt_number": 25
    },
    {
     "cell_type": "heading",
     "level": 2,
     "metadata": {},
     "source": [
      "Variable Scope"
     ]
    },
    {
     "cell_type": "markdown",
     "metadata": {},
     "source": [
      "The use of functions introduces the concept of variable scope. Scope is where in the code a variable is \u201calive\u201d and can be accessed. Variable scope is one of the most difficult concepts for beginning programmers. Take notes in your notebook over the following YouTube video by Prof. Paul Craven from Simpson College."
     ]
    },
    {
     "cell_type": "markdown",
     "metadata": {},
     "source": [
      "<iframe width=\"420\" height=\"315\" src=\"https://www.youtube.com/embed/_zE5zs_hleQ\" frameborder=\"0\" allowfullscreen></iframe>"
     ]
    },
    {
     "cell_type": "heading",
     "level": 2,
     "metadata": {},
     "source": [
      "Three Functions Practice"
     ]
    },
    {
     "cell_type": "markdown",
     "metadata": {},
     "source": [
      "Before moving on to the \"crazy difficult\" functions that you need to submit to your instructor you need to first complete the following three functions for practice and to feel good about yourself. Test your functions to make sure they are \"functioning\" correctly. Start by creating a new file called \"Three_Functions.py\".\n",
      "\n",
      "<b>Function #1: Hypotenuse</b></br>\n",
      "\n",
      "Define a function hyp(leg1, leg2) that prints the length of the hypotenuse of a right triangle.\n",
      "\n",
      "<b>Function #2: Mean</b></br>\n",
      "\n",
      "Define a function mean(a, b, c) that prints the mean of three numbers. Divide by 3.0 to get a float.\n",
      "\n",
      "<b>Function #3: Perimeter</b></br>\n",
      "\n",
      "Define a function perimeter(base, height) that prints the perimeter of a rectangle with side lengths: base and height."
     ]
    },
    {
     "cell_type": "markdown",
     "metadata": {},
     "source": [
      "<table width=\"100%\" border=\"1\" cellpadding=\"2\" cellspacing=\"0\">\n",
      "<tr>\n",
      "<td width=\"90\" bgcolor=\"#00FFFF\" style=\"vertical-align:top\"><img src=\"https://dl.dropboxusercontent.com/u/90219577/Hermon/CSE_Website/notebooks/Scholar.png\"></td>\n",
      "<td valign=\"top\"><center><font size=\"+2\"><b>min( ) function</b></font></center><br>\n",
      "<font size=\"+1\">\n",
      "\n",
      "&nbsp;&nbsp;&nbsp;&nbsp;&nbsp;Write a function called <b>min</b> that will take three numbers as parameters and return the smallest value. If more than one number is tied for smallest, still return that smallest number. Once you've finished writing your function, copy/paste the following code and make sure that it runs correctly with the function you created:<br><br>\n",
      "\n",
      "<font color=\"blue\"><b><u>INPUT</b></u><br>\n",
      "print(min(4, 7, 5))<br>\n",
      "print(min(4, 5, 5))<br>\n",
      "print(min(4, 4, 4))<br>\n",
      "print(min(-2, -6, -100))<br>\n",
      "print(min(\"Z\", \"B\", \"A\"))<br><br></font>\n",
      "\n",
      "\n",
      "<font color=\"red\"><b><u>OUTPUT</b></u><br>\n",
      "4<br>\n",
      "4<br>\n",
      "4<br>\n",
      "-100<br>\n",
      "A<br><br>\n",
      "</font>\n",
      "\n",
      "The function should return the value, not print the value. Also, while there is a min function built into Python, <b>don't use it</b>. Please use if statements and practice creating it yourself. Once it works properly, upload it to Scholar.\n",
      "\n",
      "</td></tr></table>"
     ]
    },
    {
     "cell_type": "markdown",
     "metadata": {},
     "source": [
      "<table width=\"100%\" border=\"1\" cellpadding=\"2\" cellspacing=\"0\">\n",
      "<tr>\n",
      "<td width=\"90\" bgcolor=\"#00FFFF\" style=\"vertical-align:top\"><img src=\"https://dl.dropboxusercontent.com/u/90219577/Hermon/CSE_Website/notebooks/Scholar.png\"></td>\n",
      "<td valign=\"top\"><center><font size=\"+2\"><b>box( ) function</b></font></center><br>\n",
      "<font size=\"+1\">\n",
      "\n",
      "&nbsp;&nbsp;&nbsp;&nbsp;&nbsp;Write a function called <b>box</b> that will output boxes given a height and width. Once you've finished writing your function, copy and paste the following code after it and make sure it works with the function you wrote:<br><br>\n",
      "\n",
      "<font color=\"blue\"><b><u>INPUT</b></u><br>\n",
      "box(7,5)  # Print a box 7 high, 5 across<br>\n",
      "print()   # Blank line<br>\n",
      "box(3,2)  # Print a box 3 high, 2 across<br>\n",
      "print()   # Blank line<br>\n",
      "box(3,10) # Print a box 3 high, 10 across<br><br></font>\n",
      "\n",
      "\n",
      "<font color=\"red\"><b><u>OUTPUT</b></u><br>\n",
      "ooooo<br>\n",
      "ooooo<br>\n",
      "ooooo<br>\n",
      "ooooo<br>\n",
      "ooooo<br>\n",
      "ooooo<br>\n",
      "ooooo<br><br>\n",
      " \n",
      "oo<br>\n",
      "oo<br>\n",
      "oo<br><br>\n",
      " \n",
      "oooooooooo<br>\n",
      "oooooooooo<br>\n",
      "oooooooooo<br><br>\n",
      "</font>\n",
      "Once you get it to work properly, upload to Scholar.\n",
      "</td></tr></table>"
     ]
    },
    {
     "cell_type": "markdown",
     "metadata": {},
     "source": [
      "<table width=\"100%\" border=\"1\" cellpadding=\"2\" cellspacing=\"0\">\n",
      "<tr>\n",
      "<td width=\"90\" bgcolor=\"#00FFFF\" style=\"vertical-align:top\"><img src=\"https://dl.dropboxusercontent.com/u/90219577/Hermon/CSE_Website/notebooks/Scholar.png\"></td>\n",
      "<td valign=\"top\"><center><font size=\"+2\"><b>find( ) function</b></font></center><br>\n",
      "<font size=\"+1\">\n",
      "\n",
      "&nbsp;&nbsp;&nbsp;&nbsp;&nbsp;Write a function called <b>find</b> that will take a list of numbers, \"list\", along with one other number, \"key\". Have it search the list for the value contained in key. Each time your function finds the key value, print the array position of the key. You will need to juggle three variables, one for the list, one for the key, and one for the position of where you are in the list. You may want to review your notes for the code to iterate though a list using the range and len functions. Start with that code and modify the print to show each element and its position. Then instead of just printing each number, add an if statement to only print the ones we care about. Once you've finished writing your function, copy and paste the following code after it and make sure it works with the function you wrote:<br><br>\n",
      "\n",
      "<font color=\"blue\"><b><u>INPUT</b></u><br>\n",
      "list = [36, 31, 79, 96, 36, 91, 77, 33, 19, 3, 34, 12, 70, 12, 54, 98, 86, 11, 17, 17]<br><br>\n",
      "find(list, 12)<br>\n",
      "find(list, 91)<br>\n",
      "find(list, 80)<br><br></font>\n",
      "\n",
      "\n",
      "<font color=\"red\"><b><u>OUTPUT</b></u><br>\n",
      "Found 12 at position 11<br>\n",
      "Found 12 at position 13<br>\n",
      "Found 91 at position 5<br><br>\n",
      "\n",
      "</font>\n",
      "Use a <b>for</b> loop with an index variable and a range. Inside the loop use an if statement. The function can be written in about four lines of code. Once you get it to work properly, upload to Scholar.\n",
      "</td></tr></table>"
     ]
    },
    {
     "cell_type": "markdown",
     "metadata": {},
     "source": [
      "<table width=\"100%\" border=\"1\" cellpadding=\"2\" cellspacing=\"0\">\n",
      "<tr>\n",
      "<td width=\"90\" bgcolor=\"#00FFFF\" style=\"vertical-align:top\"><img src=\"https://dl.dropboxusercontent.com/u/90219577/Hermon/CSE_Website/notebooks/Scholar.png\"></td>\n",
      "<td valign=\"top\"><center><font size=\"+2\"><b>FIZZBUZZ</b></font></center><br>\n",
      "<font size=\"+1\">\n",
      "\n",
      "&nbsp;&nbsp;&nbsp;&nbsp;&nbsp;The \"Fizz-Buzz test\" is an interview question designed to help filter out the 99.5% of programming job candidates who can't seem to program their way out of a wet paper bag.<br><br>\n",
      "\n",
      "&nbsp;&nbsp;&nbsp;&nbsp;&nbsp;Write a function called <b>fizzbuzz</b> that prints the numbers from 1 to \"endpoint\", where endpoint is your final number. But for multiples of three print \u201cFizz\u201d instead of the number and for the multiples of five print \u201cBuzz\u201d. For numbers which are multiples of both three and five print \u201cFizzBuzz\u201d. Once you've finished writing your function, copy and paste the following code after it and make sure it works with the function you wrote:<br><br>\n",
      "\n",
      "<font color=\"blue\"><b><u>INPUT</b></u><br>\n",
      "fizzbuzz(15)<br><br></font>\n",
      "\n",
      "\n",
      "<font color=\"red\"><b><u>OUTPUT</b></u><br>\n",
      "1<br>\n",
      "2<br>\n",
      "fizz<br>\n",
      "4<br>\n",
      "buzz<br>\n",
      "fizz<br>\n",
      "7<br>\n",
      "8<br>\n",
      "fizz<br>\n",
      "buzz<br>\n",
      "11<br>\n",
      "fizz<br>\n",
      "13<br>\n",
      "14<br>\n",
      "fizzbuzz<br>\n",
      "<br><br>\n",
      "\n",
      "</font>\n",
      "The classic test is to use the numbers 1-100 so make sure you test that with your function. Once you get it to work properly, upload to Scholar.<br><br>\n",
      "<center><img src=\"https://dl.dropboxusercontent.com/u/90219577/Hermon/CSE_Website/notebooks/06/fizzbuzz.jpeg\"></center>\n",
      "\n",
      "</td></tr></table>"
     ]
    },
    {
     "cell_type": "markdown",
     "metadata": {},
     "source": [
      "<table width=\"100%\" border=\"1\" cellpadding=\"2\" cellspacing=\"0\">\n",
      "<tr>\n",
      "<td width=\"90\" bgcolor=\"#00FFFF\" style=\"vertical-align:top\"><img src=\"https://dl.dropboxusercontent.com/u/90219577/Hermon/CSE_Website/notebooks/Scholar.png\"></td>\n",
      "<td valign=\"top\"><center><font size=\"+2\"><b>10,000 #'s</b></font></center><br>\n",
      "<font size=\"+1\">\n",
      "&nbsp;&nbsp;&nbsp;&nbsp;&nbsp;<u><b>Write a program that first defines the following three functions</u>:</b><br><br>\n",
      "\n",
      "<b>Function #1:</b> Write a function named <b>create_list</b> that takes in a list size and <b>returns</b> a list of random numbers from 1-6. i.e., calling create_list(5) should return 5 random numbers from 1-6. Once you've finished writing your function, copy and paste the following code after it and make sure it works with the function you wrote:<br><br>\n",
      "\n",
      "<font color=\"blue\"><b><u>INPUT</b></u><br>\n",
      "my_list = create_list(5)<br>\n",
      "print(my_list)<br><br></font>\n",
      "\n",
      "\n",
      "<font color=\"red\"><b><u>OUTPUT</b></u><br>\n",
      "[2,5,1,6,3] #something like this\n",
      "</font><br><br>\n",
      "\n",
      "<b>Function #2:</b> Write a function called <b>count_list</b> that takes in a list and a number. Have the function <b>return</b> the number of times the specified number appears in the list.  Once you've finished writing your function, copy and paste the following code after it and make sure it works with the function you wrote:<br><br>\n",
      "\n",
      "<font color=\"blue\"><b><u>INPUT</b></u><br>\n",
      "my_list = [1,2,3,3,3,4,2,1]<br>\n",
      "count = count_list(my_list,3)<br>\n",
      "print(count)<br><br></font>\n",
      "\n",
      "\n",
      "<font color=\"red\"><b><u>OUTPUT</b></u><br>\n",
      "3\n",
      "</font><br><br>\n",
      "\n",
      "\n",
      "<b>Function #3:</b> Write a function called <b>average_list</b> that <b>returns</b> the average of the list passed into it. Once you've finished writing your function, copy and paste the following code after it and make sure it works with the function you wrote:<br><br>\n",
      "\n",
      "<font color=\"blue\"><b><u>INPUT</b></u><br>\n",
      "my_list = [1,2,3]<br>\n",
      "avg = average_list(my_list)<br>\n",
      "print(avg)<br><br></font>\n",
      "\n",
      "\n",
      "<font color=\"red\"><b><u>OUTPUT</b></u><br>\n",
      "2\n",
      "</font><br><br>\n",
      "\n",
      "\n",
      "<u><b>Now that the functions have been created, use them all in a main program that will</u>:</b><br><br>\n",
      "1.) Create a list of 10,000 random numbers from 1 to 6.<br><br>\n",
      "2.) Print the count of 1 through 6. (That is, print the number of times 1 appears in the 10,000 and so on.)<br><br>\n",
      "3.) Print the average of all 10,000 random numbers.\n",
      "\n",
      "<br><br><b>Once you get it to work properly, upload to Scholar.</b><br><br>\n",
      "</td></tr></table>"
     ]
    },
    {
     "cell_type": "markdown",
     "metadata": {},
     "source": [
      "<table width=\"100%\" border=\"0\" cellpadding=\"2\" cellspacing=\"0\">\n",
      "<tr>\n",
      "<td width=\"40%\"><center><a href=\"http://nbviewer.ipython.org/github/CSE-UHS/CSE_Python/blob/master/Chapter05.ipynb\"> <---Ch. 05 Lists, Tuples and Strings</a></td>\n",
      "<td width=\"20%\"><center><a href=\"http://nbviewer.ipython.org/github/CSE-UHS/CSE_Python/blob/master/Chapter00.ipynb\">Table of Contents</a></td>\n",
      "<td width=\"40%\"><center><a href=\"http://nbviewer.ipython.org/github/CSE-UHS/CSE_Python/blob/master/Chapter07.ipynb\">Ch. 07 Version Control - GitHub  ---></a></td>\n",
      "</tr></table>"
     ]
    }
   ],
   "metadata": {}
  }
 ]
}