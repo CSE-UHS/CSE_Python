{
 "metadata": {
  "name": "",
  "signature": "sha256:21e30e712f6a8a694a8903dc2a2bac83c17c49355a3e06d84f5caba24e34aae9"
 },
 "nbformat": 3,
 "nbformat_minor": 0,
 "worksheets": [
  {
   "cells": [
    {
     "cell_type": "markdown",
     "metadata": {},
     "source": [
      "<table width=\"100%\" border=\"0\" cellpadding=\"2\" cellspacing=\"0\">\n",
      "<tr>\n",
      "<td width=\"40%\"><center><a href=\"http://nbviewer.ipython.org/github/CSE-UHS/CSE_Python/blob/master/Chapter01.ipynb\"><--- Ch. 01 Variable Types and Operators</a></td>\n",
      "<td width=\"20%\"><center><a href=\"http://nbviewer.ipython.org/github/CSE-UHS/CSE_Python/blob/master/Chapter00.ipynb\">Table of Contents</a></td>\n",
      "<td width=\"40%\"><center><a href=\"http://nbviewer.ipython.org/github/CSE-UHS/CSE_Python/blob/master/Chapter03.ipynb\">Ch. 03 If-Else Structures  ---></a></td>\n",
      "</tr></table>"
     ]
    },
    {
     "cell_type": "heading",
     "level": 1,
     "metadata": {},
     "source": [
      "Chapter 2: Printing and User Input"
     ]
    },
    {
     "cell_type": "heading",
     "level": 2,
     "metadata": {},
     "source": [
      "Using the Editor Window to Write Programs"
     ]
    },
    {
     "cell_type": "markdown",
     "metadata": {},
     "source": [
      "When writing and running entire programs which utilize mutliple lines of code we will use the Python editor window as shown below. We then can save the file which will have a .py extension and then can run the program by clicking on the green play arrow.\n",
      "\n",
      "<center><img src=\"https://dl.dropboxusercontent.com/u/90219577/Hermon/CSE_Website/notebooks/02/editor.png\"><br><img src=\"https://dl.dropboxusercontent.com/u/90219577/Hermon/CSE_Website/notebooks/02/start.png\"></center>"
     ]
    },
    {
     "cell_type": "heading",
     "level": 2,
     "metadata": {},
     "source": [
      "Writing Your First Program!"
     ]
    },
    {
     "cell_type": "markdown",
     "metadata": {},
     "source": [
      "From the dawn of computer science languages the simplest and first program that coders learn to write is printing the words \"Hello World\" to the screen. Under the File menu in Canopy create a New python file. In the editor window paste the following two lines of code. The first line imports a \"future\" module print function. We need to do this because we are still using an older version of python. <b><u>DON'T FORGET! This line of code needs to always be at the very top of all python programs where you will be printing output!</u>.</b> Click the green arrow and run your program. You should see the output printed below in the iPython Session window."
     ]
    },
    {
     "cell_type": "code",
     "collapsed": false,
     "input": [
      "from __future__ import print_function \n",
      "# The above line imports Python 3.0 printing - NEVER FORGET THE ABOVE LINE OF CODE!\n",
      "print(\"Hello World\")"
     ],
     "language": "python",
     "metadata": {},
     "outputs": [
      {
       "output_type": "stream",
       "stream": "stdout",
       "text": [
        "Hello World\n"
       ]
      }
     ],
     "prompt_number": 2
    },
    {
     "cell_type": "markdown",
     "metadata": {},
     "source": [
      "Save your program as Hello_World.py and then tell your parents tonight that today you coded your very first computer program!!!! Feel free to tweak your code and print other things to the screen. \n",
      "\n",
      "What does the \u201cHello World\u201d program look like in other computer programming languages? Check out Wikipedia. They keep a nice set of \u201cHello World\u201d programs written in many different computer programming languages\n",
      "\n",
      "http://en.wikipedia.org/wiki/Hello_world_program_examples\n",
      "\n",
      "It is interesting to see how many different computer languages there are. You can get an idea how complex a language is by how easy the \u201cHello World\u201d program is.\n",
      "\n",
      "\n",
      "Remember, the command for printing in Python is easy. Just use print. After the print command are a set of parentheses ( ). Inside these parentheses is what should be printed to the screen. Using parentheses to pass information to a function is standard practice in math, and computer languages. Math students learn to use parentheses evaluating an expression like sin(&theta;) which is called a function. Data passed to this function is inside the parenthesis. What is different in our case is that the information being passed is text.\n",
      "\n",
      "<u>Try to predict the result of each line of code below. Enter each line at a time in the iPython Session window and record the results. Which one gave a Syntax Error and why? </u>."
     ]
    },
    {
     "cell_type": "code",
     "collapsed": false,
     "input": [
      "print(\"2 + 3\")\n",
      "print(2 + 3)\n",
      "print(Hello World)"
     ],
     "language": "python",
     "metadata": {},
     "outputs": []
    },
    {
     "cell_type": "heading",
     "level": 2,
     "metadata": {},
     "source": [
      "Printing Multiple Items"
     ]
    },
    {
     "cell_type": "markdown",
     "metadata": {},
     "source": [
      "<u>Try to predict the result of each line of code below. Enter each line at a time in the iPython Session window and record the results. Which one gave a Syntax Error and why? </u>."
     ]
    },
    {
     "cell_type": "code",
     "collapsed": false,
     "input": [
      "print(\"Your new score is\", 1030 + 10)\n",
      "print(\"Your new score is\", \"1030 + 10\")\n",
      "print(\"Your new score is,\" 1030 + 10)\n",
      "print(\"Your new score is,\", 1030 + 10)\n"
     ],
     "language": "python",
     "metadata": {},
     "outputs": []
    },
    {
     "cell_type": "heading",
     "level": 2,
     "metadata": {},
     "source": [
      "Escape Codes"
     ]
    },
    {
     "cell_type": "markdown",
     "metadata": {},
     "source": [
      "If quotes are used to tell the computer the start and end of the string of text you wish to print, how does a program print out a set of double quotes? For example:"
     ]
    },
    {
     "cell_type": "code",
     "collapsed": false,
     "input": [
      "print(\"I want to print a double quote \" for some reason.\")"
     ],
     "language": "python",
     "metadata": {},
     "outputs": []
    },
    {
     "cell_type": "markdown",
     "metadata": {},
     "source": [
      "This code doesn't work. The computer looks at the quote in the middle of the string and thinks that is the end of the text. Then it has no idea what to do with the commands for some reason and the quote at the end of the string confuses the computer even further.\n",
      "\n",
      "It is necessary to tell the computer that we want to treat that middle double quote as text, not as a quote ending the string. This is easy, just prepend a backslash in front of quotes to tell the computer it is part of a string, not a character that terminates a string. For example:"
     ]
    },
    {
     "cell_type": "code",
     "collapsed": false,
     "input": [
      "print(\"I want to print a double quote \\\" for some reason.\")"
     ],
     "language": "python",
     "metadata": {},
     "outputs": []
    },
    {
     "cell_type": "markdown",
     "metadata": {},
     "source": [
      "This combination of the two characters \\\" is called an escape code. Almost every language has them. Because the backslash is used as part of an escape code, the backslash itself must be escaped. For example, this code does not work correctly:"
     ]
    },
    {
     "cell_type": "code",
     "collapsed": false,
     "input": [
      "print(\"The file is stored in C:\\new folder\")"
     ],
     "language": "python",
     "metadata": {},
     "outputs": []
    },
    {
     "cell_type": "markdown",
     "metadata": {},
     "source": [
      "Why? Because \\n is an escape code. To print the backslash it is necessary to escape it like so:"
     ]
    },
    {
     "cell_type": "code",
     "collapsed": false,
     "input": [
      "print(\"The file is stored in C:\\\\new folder\")"
     ],
     "language": "python",
     "metadata": {},
     "outputs": []
    },
    {
     "cell_type": "markdown",
     "metadata": {},
     "source": [
      "There are a few other important escape codes to know. Here is a table of the important escape codes:\n",
      "\n",
      "<center><img src=\"https://dl.dropboxusercontent.com/u/90219577/Hermon/CSE_Website/notebooks/02/escape.png\"></center>\n",
      "\n",
      "What is a \u201cCarriage Return\u201d and a \u201cLinefeed\u201d? Try printing some text strings with \\r and \\n escape codes at various places in the text and record what happens."
     ]
    },
    {
     "cell_type": "heading",
     "level": 2,
     "metadata": {},
     "source": [
      "End Characters"
     ]
    },
    {
     "cell_type": "markdown",
     "metadata": {},
     "source": [
      "By default, the <b>print</b> statement puts a carriage return at the end of what is printed out. The carriage return is a character that moves the next line of output to be printed to the next line. Most of the time this is what we want. Sometimes it isn't. If we want to continue printing on the same line, we can change the default character printed at the end. This is an example before we change the ending character: "
     ]
    },
    {
     "cell_type": "code",
     "collapsed": false,
     "input": [
      "from __future__ import print_function\n",
      "print(\"CSE\")\n",
      "print(\"Rocks!\")"
     ],
     "language": "python",
     "metadata": {},
     "outputs": [
      {
       "output_type": "stream",
       "stream": "stdout",
       "text": [
        "CSE\n",
        "Rocks!\n"
       ]
      }
     ],
     "prompt_number": 3
    },
    {
     "cell_type": "markdown",
     "metadata": {},
     "source": [
      "But if we wanted the code output to print on the same line, it can be done by using a new option to set the end character. A space between the double quotes will put a space between the two print statments. Here are a couple of examples:"
     ]
    },
    {
     "cell_type": "code",
     "collapsed": false,
     "input": [
      "from __future__ import print_function\n",
      "print(\"CSE\", end=\" \")\n",
      "print(\"Rocks!\")"
     ],
     "language": "python",
     "metadata": {},
     "outputs": [
      {
       "output_type": "stream",
       "stream": "stdout",
       "text": [
        "CSE Rocks!\n"
       ]
      }
     ],
     "prompt_number": 4
    },
    {
     "cell_type": "code",
     "collapsed": false,
     "input": [
      "from __future__ import print_function\n",
      "i = 0\n",
      "print(i, end=\" \")\n",
      "i = 1\n",
      "print(i, end=\" \")"
     ],
     "language": "python",
     "metadata": {},
     "outputs": [
      {
       "output_type": "stream",
       "stream": "stdout",
       "text": [
        "0 1 "
       ]
      }
     ],
     "prompt_number": 5
    },
    {
     "cell_type": "heading",
     "level": 2,
     "metadata": {},
     "source": [
      "Comments"
     ]
    },
    {
     "cell_type": "markdown",
     "metadata": {},
     "source": [
      "Sometimes code needs some extra explanation to the person reading it. To do this, we add \u201ccomments\u201d to the code. The comments are meant for the human reading the code, and not for the computer.\n",
      "\n",
      "There are two ways to create a comment. The first is to use the # symbol. The computer will ignore any text in a Python program that occurs after the #. Therefore, you can temporarily disable a line of code simply by putting the # in front of it. Test the results of each of the following lines of code."
     ]
    },
    {
     "cell_type": "code",
     "collapsed": false,
     "input": [
      "# This is a comment, it begins with a # sign\n",
      "# and the computer will ignore it.\n",
      "print(\"This is not a comment, the computer will\")\n",
      "print(\"run this and print it out.\")\n",
      "print(\"A # sign between quotes is not a comment.\")\n",
      "# print(\"This is a comment, even if it is computer code.\")\n",
      "print(\"Hi\") # This is an end-of-line comment"
     ],
     "language": "python",
     "metadata": {},
     "outputs": []
    },
    {
     "cell_type": "markdown",
     "metadata": {},
     "source": [
      "It is possible to comment out multiple lines of code using three single quotes in a row to delimit the comments as seen in the example below.\n",
      "\n",
      "Most professional Python programmers will only use this type of multi-line comment for something called docstrings. Docstrings allow documentation to be written along side the code and later be automatically pulled out into printed documentation, websites, and Integrated Development Environments (IDEs). For general comments, the # tag works best.\n",
      "\n",
      "Even if you are going to be the only one reading the code that you write, comments can help save time. Adding a comment that says \u201cHandle alien bombs\u201d will allow you to quickly remember what that section of code does without having to read and decipher it. <b><u>I cannot stress enough the importance of commenting your code</u>!!!</b>"
     ]
    },
    {
     "cell_type": "code",
     "collapsed": false,
     "input": [
      "print(\"Hi\")\n",
      "'''\n",
      "This is\n",
      "a\n",
      "multi\n",
      "line\n",
      "comment. Nothing\n",
      "Will run in between these quotes.\n",
      "print(\"There\")\n",
      "'''\n",
      "print(\"Done\")"
     ],
     "language": "python",
     "metadata": {},
     "outputs": []
    },
    {
     "cell_type": "heading",
     "level": 2,
     "metadata": {},
     "source": [
      "Creating Calculators with User Input"
     ]
    },
    {
     "cell_type": "markdown",
     "metadata": {},
     "source": [
      "Let's take what we've learned so far and make a simple mpg calculator program. Copy the following script into your script editor and run it to see the output."
     ]
    },
    {
     "cell_type": "code",
     "collapsed": false,
     "input": [
      "miles_driven = 294\n",
      "gallons_used = 10.5\n",
      "mpg = miles_driven / gallons_used\n",
      "print(mpg)"
     ],
     "language": "python",
     "metadata": {},
     "outputs": [
      {
       "output_type": "stream",
       "stream": "stdout",
       "text": [
        "28.0\n"
       ]
      }
     ],
     "prompt_number": 4
    },
    {
     "cell_type": "markdown",
     "metadata": {},
     "source": [
      "Go ahead and save this program as MPG_calculator.py. This program would be even more useful if it would interact with the user and ask the user for the miles driven and gallons used. This can be done with the <b>raw_input</b> statement. Now it's getting exciting! Modify your program to look like the following and run it. You will get a <b>TypeError</b>. What is the cause of the error?"
     ]
    },
    {
     "cell_type": "code",
     "collapsed": false,
     "input": [
      "# This code almost works\n",
      "miles_driven = raw_input(\"Enter miles driven:\")\n",
      "gallons_used = raw_input(\"Enter gallons used:\")\n",
      "mpg = miles_driven / gallons_used\n",
      "print(\"Miles per gallon:\", mpg)"
     ],
     "language": "python",
     "metadata": {},
     "outputs": [
      {
       "name": "stdout",
       "output_type": "stream",
       "stream": "stdout",
       "text": [
        "Enter miles driven:300\n"
       ]
      },
      {
       "name": "stdout",
       "output_type": "stream",
       "stream": "stdout",
       "text": [
        "Enter gallons used:12\n"
       ]
      },
      {
       "ename": "TypeError",
       "evalue": "unsupported operand type(s) for /: 'str' and 'str'",
       "output_type": "pyerr",
       "traceback": [
        "\u001b[0;31m---------------------------------------------------------------------------\u001b[0m\n\u001b[0;31mTypeError\u001b[0m                                 Traceback (most recent call last)",
        "\u001b[0;32m<ipython-input-6-6ba6ff10477a>\u001b[0m in \u001b[0;36m<module>\u001b[0;34m()\u001b[0m\n\u001b[1;32m      2\u001b[0m \u001b[0mmiles_driven\u001b[0m \u001b[0;34m=\u001b[0m \u001b[0mraw_input\u001b[0m\u001b[0;34m(\u001b[0m\u001b[0;34m\"Enter miles driven:\"\u001b[0m\u001b[0;34m)\u001b[0m\u001b[0;34m\u001b[0m\u001b[0m\n\u001b[1;32m      3\u001b[0m \u001b[0mgallons_used\u001b[0m \u001b[0;34m=\u001b[0m \u001b[0mraw_input\u001b[0m\u001b[0;34m(\u001b[0m\u001b[0;34m\"Enter gallons used:\"\u001b[0m\u001b[0;34m)\u001b[0m\u001b[0;34m\u001b[0m\u001b[0m\n\u001b[0;32m----> 4\u001b[0;31m \u001b[0mmpg\u001b[0m \u001b[0;34m=\u001b[0m \u001b[0mmiles_driven\u001b[0m \u001b[0;34m/\u001b[0m \u001b[0mgallons_used\u001b[0m\u001b[0;34m\u001b[0m\u001b[0m\n\u001b[0m\u001b[1;32m      5\u001b[0m \u001b[0;32mprint\u001b[0m\u001b[0;34m(\u001b[0m\u001b[0;34m\"Miles per gallon:\"\u001b[0m\u001b[0;34m,\u001b[0m \u001b[0mmpg\u001b[0m\u001b[0;34m)\u001b[0m\u001b[0;34m\u001b[0m\u001b[0m\n",
        "\u001b[0;31mTypeError\u001b[0m: unsupported operand type(s) for /: 'str' and 'str'"
       ]
      }
     ],
     "prompt_number": 6
    },
    {
     "cell_type": "markdown",
     "metadata": {},
     "source": [
      "The reason for the error is that the computer will take the user input and assume it is a \"string\". To tell the computer these are numbers, it is necessary to surround the raw_input function with an int( ) or a float( ). Use the former for integers, and the latter for floating point numbers. Let's modify and run the program again."
     ]
    },
    {
     "cell_type": "code",
     "collapsed": false,
     "input": [
      "# This code should now work!\n",
      "miles_driven = int(raw_input(\"Enter miles driven:\"))\n",
      "gallons_used = float(raw_input(\"Enter gallons used:\"))\n",
      "mpg = miles_driven / gallons_used\n",
      "print(\"Miles per gallon:\", mpg)"
     ],
     "language": "python",
     "metadata": {},
     "outputs": [
      {
       "name": "stdout",
       "output_type": "stream",
       "stream": "stdout",
       "text": [
        "Enter miles driven:300\n"
       ]
      },
      {
       "name": "stdout",
       "output_type": "stream",
       "stream": "stdout",
       "text": [
        "Enter gallons used:12\n"
       ]
      },
      {
       "output_type": "stream",
       "stream": "stdout",
       "text": [
        "Miles per gallon: 25.0\n"
       ]
      }
     ],
     "prompt_number": 7
    },
    {
     "cell_type": "markdown",
     "metadata": {},
     "source": [
      "<table width=\"100%\" border=\"1\" cellpadding=\"2\" cellspacing=\"0\">\n",
      "<tr>\n",
      "<td width=\"90\" bgcolor=\"#00FFFF\"><img src=\"https://dl.dropboxusercontent.com/u/90219577/Hermon/CSE_Website/notebooks/Scholar.png\"></td>\n",
      "<td valign=\"top\"><font size=\"+2\"><b>For this chapter you will create the following three calculator programs. Once you demonstrate them to your instructor you will be able to upload them to Scholar.</b><br><br>\n",
      "<b><u>Temperature Program</u>:</b><br>\n",
      "Create a program that asks the user for a temperature in Fahrenheit, and then prints the temperature in Celsius.<br><br>\n",
      "<b><u>Trapezoid Program</u>:</b><br>\n",
      "Create a new program that will ask the user for the information needed to find the area of a trapezoid, and then print the area.<br><br>\n",
      "<b><u>Grading Program</u>:</b><br>\n",
      "Create a program that asks the user for their semester grade, final exam grade, and final exam worth and then calculates the overall final grade. </font></td></tr></table>"
     ]
    },
    {
     "cell_type": "markdown",
     "metadata": {},
     "source": [
      "<table width=\"100%\" border=\"0\" cellpadding=\"2\" cellspacing=\"0\">\n",
      "<tr>\n",
      "<td width=\"40%\"><center><a href=\"http://nbviewer.ipython.org/github/CSE-UHS/CSE_Python/blob/master/Chapter01.ipynb\"><--- Ch. 01 Variable Types and Operators</a></td>\n",
      "<td width=\"20%\"><center><a href=\"http://nbviewer.ipython.org/github/CSE-UHS/CSE_Python/blob/master/Chapter00.ipynb\">Table of Contents</a></td>\n",
      "<td width=\"40%\"><center><a href=\"http://nbviewer.ipython.org/github/CSE-UHS/CSE_Python/blob/master/Chapter03.ipynb\">Ch. 03 If-Else Structures  ---></a></td>\n",
      "</tr></table>"
     ]
    }
   ],
   "metadata": {}
  }
 ]
}