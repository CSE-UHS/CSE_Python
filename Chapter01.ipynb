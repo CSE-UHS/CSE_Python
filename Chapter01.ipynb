{
 "metadata": {
  "name": "",
  "signature": "sha256:bb09d89e5da889de4733803a2a14d067bee50d4cd5f218551769c5c76ba55385"
 },
 "nbformat": 3,
 "nbformat_minor": 0,
 "worksheets": [
  {
   "cells": [
    {
     "cell_type": "markdown",
     "metadata": {},
     "source": [
      "<table width=\"100%\" border=\"0\" cellpadding=\"2\" cellspacing=\"0\">\n",
      "<tr>\n",
      "<td width=\"33%\"><center></a></td>\n",
      "<td width=\"33%\"><center><a href=\"http://nbviewer.ipython.org/github/CSE-UHS/CSE_Python/blob/master/Chapter00.ipynb\">Table of Contents</a></td>\n",
      "<td width=\"33%\"><center><a href=\"http://nbviewer.ipython.org/github/CSE-UHS/CSE_Python/blob/master/Chapter02.ipynb\">Ch. 02 Printing and User Input  ---></a></td>\n",
      "</tr></table>"
     ]
    },
    {
     "cell_type": "heading",
     "level": 1,
     "metadata": {},
     "source": [
      "Chapter 1: Variable Types and Operators"
     ]
    },
    {
     "cell_type": "heading",
     "level": 2,
     "metadata": {},
     "source": [
      "Using Canopy from Enthought"
     ]
    },
    {
     "cell_type": "markdown",
     "metadata": {},
     "source": [
      "Launch Python using the Canopy distribution from Enthought. Open a new Canopy editor window by clicking Editor as shown below on the left. Click Create a new file as shown below on the right.\n",
      "\n",
      "<center><img src=\"https://dl.dropboxusercontent.com/u/90219577/Hermon/CSE_Website/notebooks/01/1canopy.png\"></center>"
     ]
    },
    {
     "cell_type": "markdown",
     "metadata": {},
     "source": [
      "This is Canopy's editor window. The editor window consists of the Code Editor where we will write multiple line programs and the iPython Session window where we can quickly check single lines of code. <b><u>In this first chapter we will only be working in the iPython Session Window</u>.</b>\n",
      "\n",
      "<center><img src=\"https://dl.dropboxusercontent.com/u/90219577/Hermon/CSE_Website/notebooks/01/1editor.png\"></center>"
     ]
    },
    {
     "cell_type": "heading",
     "level": 2,
     "metadata": {},
     "source": [
      "Setting up Your Working Directory"
     ]
    },
    {
     "cell_type": "markdown",
     "metadata": {},
     "source": [
      "Create a folder on your desktop, documents folder, flashdrive or Google Drive to store your Python Programs. I recommend the desktop Google Drive so that you can work on them from home. Change the working directory to this folder. A working directory is how we refer to the location in our file structure where a specific application like iPython will look for resources and save files. <b>This is very important. It is where your log file in this chapter will be stored!</b>\n",
      "\n",
      "<center><img src=\"https://dl.dropboxusercontent.com/u/90219577/Hermon/CSE_Website/notebooks/01/1directory.png\"></center>"
     ]
    },
    {
     "cell_type": "heading",
     "level": 2,
     "metadata": {},
     "source": [
      "Session Logging"
     ]
    },
    {
     "cell_type": "markdown",
     "metadata": {},
     "source": [
      "At the end of this chapter you will submit a log of your work. The iPython Session will actually do this for you if you tell it to. Start logging by typing in the following:"
     ]
    },
    {
     "cell_type": "code",
     "collapsed": false,
     "input": [
      "%logstart -ort firstname_lastname_1.log"
     ],
     "language": "python",
     "metadata": {},
     "outputs": []
    },
    {
     "cell_type": "markdown",
     "metadata": {},
     "source": [
      "%logstart begins the logging session. The flags -ort determine how your logfile will look. -o will log the Output lines. -r will log the Raw input lines. -t will timestamp each input line. The next section is the name of your logfile. At the end of this lesson we will type %logstop and a log file of all of your iPython Session work will be saved to your working directory for you to upload to your instructor."
     ]
    },
    {
     "cell_type": "markdown",
     "metadata": {},
     "source": [
      "Place a title in the logfile using a comment. In Python, the # symbol comments out the rest of the line. Since nothing is executed in a comment, iPython will offer a continuation line. Just press enter. You can write a comment at any time during your logging session if you want to take a note or answer a question."
     ]
    },
    {
     "cell_type": "code",
     "collapsed": false,
     "input": [
      "# This is Marc Hermon's Chapter 1 Log"
     ],
     "language": "python",
     "metadata": {},
     "outputs": [],
     "prompt_number": 46
    },
    {
     "cell_type": "heading",
     "level": 2,
     "metadata": {},
     "source": [
      "Operators"
     ]
    },
    {
     "cell_type": "markdown",
     "metadata": {},
     "source": [
      "The iPython session will evaluate expressions, and if you don't tell it to do anything with the expression, iPython will send the result back to you as output. Try adding two integers:"
     ]
    },
    {
     "cell_type": "code",
     "collapsed": false,
     "input": [
      "5 + 3"
     ],
     "language": "python",
     "metadata": {},
     "outputs": [
      {
       "metadata": {},
       "output_type": "pyout",
       "prompt_number": 2,
       "text": [
        "8"
       ]
      }
     ],
     "prompt_number": 2
    },
    {
     "cell_type": "markdown",
     "metadata": {},
     "source": [
      "Adding two integer types results in an <b>int</b>, which can only represent an integer. It is of type int. A variable is a place in memory to hold data, and a variable\u2019s type says what sort of things the bits in memory represent.\n",
      "\n",
      "<center><img src=\"https://dl.dropboxusercontent.com/u/90219577/Hermon/CSE_Website/notebooks/01/1types.png\"></center>"
     ]
    },
    {
     "cell_type": "markdown",
     "metadata": {},
     "source": [
      "If you put a decimal point in a number, that number is identified as the variable type float. Floats have limited precision but can approximate any real number, including integers. Ignore the last few digits if a lot of digits come after the decimal point. What happens if you add a <b>float</b> to an <b>int</b>?"
     ]
    },
    {
     "cell_type": "code",
     "collapsed": false,
     "input": [
      "5 + 3.  #Note the decimal point!"
     ],
     "language": "python",
     "metadata": {},
     "outputs": [
      {
       "metadata": {},
       "output_type": "pyout",
       "prompt_number": 4,
       "text": [
        "8.0"
       ]
      }
     ],
     "prompt_number": 4
    },
    {
     "cell_type": "markdown",
     "metadata": {},
     "source": [
      "Below is a table of some common mathematical operators. The <b>Floor</b> division will always round the answer down to the nearest integer. <b>Modulus</b> or <b>Mod</b> for short gives the remainder of a division problem. Normal mathematical order of operations still apply in coding.\n",
      "\n",
      "<center><img src=\"https://dl.dropboxusercontent.com/u/90219577/Hermon/CSE_Website/notebooks/01/1operators.png\"></center>\n",
      "\n",
      "Predict the output of the following in your Engineering Notebook before you evaluate them."
     ]
    },
    {
     "cell_type": "code",
     "collapsed": false,
     "input": [
      "7 * 2"
     ],
     "language": "python",
     "metadata": {},
     "outputs": []
    },
    {
     "cell_type": "code",
     "collapsed": false,
     "input": [
      "7 * 2."
     ],
     "language": "python",
     "metadata": {},
     "outputs": []
    },
    {
     "cell_type": "code",
     "collapsed": false,
     "input": [
      "7/2"
     ],
     "language": "python",
     "metadata": {},
     "outputs": []
    },
    {
     "cell_type": "code",
     "collapsed": false,
     "input": [
      "7/2."
     ],
     "language": "python",
     "metadata": {},
     "outputs": []
    },
    {
     "cell_type": "code",
     "collapsed": false,
     "input": [
      "10//3"
     ],
     "language": "python",
     "metadata": {},
     "outputs": []
    },
    {
     "cell_type": "code",
     "collapsed": false,
     "input": [
      "2**3"
     ],
     "language": "python",
     "metadata": {},
     "outputs": []
    },
    {
     "cell_type": "code",
     "collapsed": false,
     "input": [
      "8 % 3"
     ],
     "language": "python",
     "metadata": {},
     "outputs": []
    },
    {
     "cell_type": "code",
     "collapsed": false,
     "input": [
      "23 ** 43"
     ],
     "language": "python",
     "metadata": {},
     "outputs": []
    },
    {
     "cell_type": "markdown",
     "metadata": {},
     "source": [
      "The L in the output of this last problem stands for another native type: long.\n",
      "\n",
      "You can also call existing functions and they will return a value:"
     ]
    },
    {
     "cell_type": "code",
     "collapsed": false,
     "input": [
      "abs(-7) # absolute value function"
     ],
     "language": "python",
     "metadata": {},
     "outputs": []
    },
    {
     "cell_type": "heading",
     "level": 2,
     "metadata": {},
     "source": [
      "Assigning Variables"
     ]
    },
    {
     "cell_type": "markdown",
     "metadata": {},
     "source": [
      "You can assign a value to a variable. Python executes the assignment command, but nothing is returned. Only the state is affected: the variable a is now bound to bits in memory that represent the value 2. When you assign a value to a variable, the variable must be on the left side of the = sign. This is one of the syntax rules for Python. The syntax of a language specifies how the symbols of the language are allowed to be put together."
     ]
    },
    {
     "cell_type": "code",
     "collapsed": false,
     "input": [
      "a = 2\n",
      "b = 7"
     ],
     "language": "python",
     "metadata": {},
     "outputs": [],
     "prompt_number": 45
    },
    {
     "cell_type": "markdown",
     "metadata": {},
     "source": [
      "You can then do math on the assigned variables. Predict how the following will evaluate:"
     ]
    },
    {
     "cell_type": "code",
     "collapsed": false,
     "input": [
      "a * b"
     ],
     "language": "python",
     "metadata": {},
     "outputs": []
    },
    {
     "cell_type": "code",
     "collapsed": false,
     "input": [
      "b ** a"
     ],
     "language": "python",
     "metadata": {},
     "outputs": []
    },
    {
     "cell_type": "code",
     "collapsed": false,
     "input": [
      "b % 2"
     ],
     "language": "python",
     "metadata": {},
     "outputs": []
    },
    {
     "cell_type": "markdown",
     "metadata": {},
     "source": [
      "Examine the following:"
     ]
    },
    {
     "cell_type": "code",
     "collapsed": false,
     "input": [
      "x = 8\n",
      "x"
     ],
     "language": "python",
     "metadata": {},
     "outputs": [
      {
       "metadata": {},
       "output_type": "pyout",
       "prompt_number": 40,
       "text": [
        "8"
       ]
      }
     ],
     "prompt_number": 40
    },
    {
     "cell_type": "code",
     "collapsed": false,
     "input": [
      "x = x + 1\n",
      "x"
     ],
     "language": "python",
     "metadata": {},
     "outputs": [
      {
       "metadata": {},
       "output_type": "pyout",
       "prompt_number": 41,
       "text": [
        "9"
       ]
      }
     ],
     "prompt_number": 41
    },
    {
     "cell_type": "code",
     "collapsed": false,
     "input": [
      "x = 10\n",
      "x += 1 # This is a short cut for x = x + 1. You could do this for other math operators also.\n",
      "x"
     ],
     "language": "python",
     "metadata": {},
     "outputs": [
      {
       "metadata": {},
       "output_type": "pyout",
       "prompt_number": 44,
       "text": [
        "11"
       ]
      }
     ],
     "prompt_number": 44
    },
    {
     "cell_type": "markdown",
     "metadata": {},
     "source": [
      "Unlike most languages, Python allows <b>multiple assignment</b> in a single line of code, as shown here:"
     ]
    },
    {
     "cell_type": "code",
     "collapsed": false,
     "input": [
      "x, y = (65, 40)\n",
      "x"
     ],
     "language": "python",
     "metadata": {},
     "outputs": [
      {
       "metadata": {},
       "output_type": "pyout",
       "prompt_number": 1,
       "text": [
        "65"
       ]
      }
     ],
     "prompt_number": 1
    },
    {
     "cell_type": "heading",
     "level": 2,
     "metadata": {},
     "source": [
      "Proper Variable Names"
     ]
    },
    {
     "cell_type": "markdown",
     "metadata": {},
     "source": [
      "   Variables should start with a lower case letter. Variables can start with an upper case letter or an underscore, but those are special cases and should not be done on a normal basis. After the first lower case letter, the variable may include uppercase and lowercase letters, along with numbers and underscores. Variables may not include spaces. <b>Variables are case sensitive.</b> \n",
      "   The official style guide for Python says that multi-word variable names in Python should be separated by underscores. For example, use hair_style and not hairStyle. \n",
      "   All upper-case variable names like MAX_SPEED are allowed only in circumstances where the variable's value should never change. A variable that isn't variable is called a constant.\n",
      "   Here are some example variable names that are ok, and not ok to use:\n",
      "   \n",
      "   <center><img src=\"https://dl.dropboxusercontent.com/u/90219577/Hermon/CSE_Website/notebooks/01/1propervar.png\"></center>"
     ]
    },
    {
     "cell_type": "heading",
     "level": 2,
     "metadata": {},
     "source": [
      "Checking Variable Types"
     ]
    },
    {
     "cell_type": "markdown",
     "metadata": {},
     "source": [
      "Assign the following four variables as seen below:"
     ]
    },
    {
     "cell_type": "code",
     "collapsed": false,
     "input": [
      "a = \"This is a sentence!\"\n",
      "b = 3\n",
      "c = 4.3\n",
      "d = True"
     ],
     "language": "python",
     "metadata": {},
     "outputs": [],
     "prompt_number": 38
    },
    {
     "cell_type": "markdown",
     "metadata": {},
     "source": [
      "You can now check the type of each variable by using type( ). The first one is demonstrated below and you should do the rest."
     ]
    },
    {
     "cell_type": "code",
     "collapsed": false,
     "input": [
      "type(a)"
     ],
     "language": "python",
     "metadata": {},
     "outputs": [
      {
       "metadata": {},
       "output_type": "pyout",
       "prompt_number": 33,
       "text": [
        "str"
       ]
      }
     ],
     "prompt_number": 33
    },
    {
     "cell_type": "heading",
     "level": 3,
     "metadata": {},
     "source": [
      "This is a good place to stop the chapter and digest what you've learned so far. Enter the following command to stop your logging session. This will save a log file to your working directory."
     ]
    },
    {
     "cell_type": "code",
     "collapsed": false,
     "input": [
      "%logstop"
     ],
     "language": "python",
     "metadata": {},
     "outputs": []
    },
    {
     "cell_type": "markdown",
     "metadata": {},
     "source": [
      "<table width=\"100%\" border=\"1\" cellpadding=\"2\" cellspacing=\"0\">\n",
      "<tr>\n",
      "<td width=\"90\" bgcolor=\"#00FFFF\"><img src=\"https://dl.dropboxusercontent.com/u/90219577/Hermon/CSE_Website/notebooks/Scholar.png\"></td>\n",
      "<td valign=\"top\"><font size=\"+2\"><b>For this chapter submit your iPython Session log file in Scholar.</b></font></td></tr></table>"
     ]
    },
    {
     "cell_type": "markdown",
     "metadata": {},
     "source": [
      "<table width=\"100%\" border=\"0\" cellpadding=\"2\" cellspacing=\"0\">\n",
      "<tr>\n",
      "<td width=\"33%\"><center></a></td>\n",
      "<td width=\"33%\"><center><a href=\"http://nbviewer.ipython.org/github/CSE-UHS/CSE_Python/blob/master/Chapter00.ipynb\">Table of Contents</a></td>\n",
      "<td width=\"33%\"><center><a href=\"http://nbviewer.ipython.org/github/CSE-UHS/CSE_Python/blob/master/Chapter02.ipynb\">Ch. 02 Printing and User Input  ---></a></td>\n",
      "</tr></table>"
     ]
    }
   ],
   "metadata": {}
  }
 ]
}