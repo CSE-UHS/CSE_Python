{
 "cells": [
  {
   "cell_type": "markdown",
   "metadata": {},
   "source": [
    "<div align=\"right\">\n",
    "<a href=\"http://nbviewer.ipython.org/github/CSP-UHS/Hermons_Book_of_Python/blob/master/Chapter00.ipynb\" align=\"right\"><h2>Table of Contents</h2></a>\n",
    "</div>"
   ]
  },
  {
   "cell_type": "markdown",
   "metadata": {},
   "source": [
    "# Chapter 11: Libraries or Modules"
   ]
  },
  {
   "cell_type": "markdown",
   "metadata": {},
   "source": [
    "## Part 1: Introduction"
   ]
  },
  {
   "cell_type": "markdown",
   "metadata": {},
   "source": [
    "&nbsp;&nbsp;&nbsp;&nbsp;&nbsp;A library is a collection of code for functions and classes. Often, these libraries are written by someone else and brought into the project so that the programmer does not have to “reinvent the wheel.” In Python the term used to describe a library of code is module.\n",
    "\n",
    "&nbsp;&nbsp;&nbsp;&nbsp;&nbsp;By using import math or import random, the programs created so far have already used modules. A library can be made up of multiple modules that can be imported. Often a library only has one module, so these words can sometimes be used interchangeably.\n",
    "\n",
    "&nbsp;&nbsp;&nbsp;&nbsp;&nbsp;Modules are often organized into groups of similar functionality. Modules can be organized so that individual modules contain other modules. For example, the pygame module contains submodules for pygame.draw, pygame.image, and pygame.mouse.\n",
    "\n",
    "&nbsp;&nbsp;&nbsp;&nbsp;&nbsp;Modules are not loaded unless the program asks them to. This saves time and computer memory. This chapter shows how to create a module, and how to import and use that module."
   ]
  },
  {
   "cell_type": "markdown",
   "metadata": {},
   "source": [
    "## Part 2: Why Create a Library?"
   ]
  },
  {
   "cell_type": "markdown",
   "metadata": {},
   "source": [
    "There are three major reasons for a programmer to create his or her own libraries:\n",
    "\n",
    "1.) It breaks the code into smaller, easier to use parts.<br>\n",
    "2.) It allows multiple people to work on a program at the same time.<br>\n",
    "3.) The code written can be easily shared with other programmers.<br>\n",
    "\n",
    "&nbsp;&nbsp;&nbsp;&nbsp;&nbsp;Many programs can get rather long. By separating a large program into several smaller programs, it is easier to manage the code. \n",
    "\n",
    "&nbsp;&nbsp;&nbsp;&nbsp;&nbsp;If multiple programmers work on the same project, it is nearly impossible to do so if all the code is in one file. However, by breaking the program into multiple pieces, it becomes easier. One programmer could work on developing an “Orc” sprite class. Another programmer could work on the “Goblin” sprite class. Since the sprites are in separate files, the programmers do not run into conflict.\n",
    "\n",
    "&nbsp;&nbsp;&nbsp;&nbsp;&nbsp;Modern programmers rarely build programs from scratch. Often programs are built from parts of other programs that share the same functionality. If one programmer creates code that can handle a mortgage application form, that code will ideally go into a library. Then any other program that needs to manage a mortgage application form at that bank can call on that library."
   ]
  },
  {
   "cell_type": "markdown",
   "metadata": {},
   "source": [
    "## Part 3: Creating Your Own Library/Module File"
   ]
  },
  {
   "cell_type": "markdown",
   "metadata": {},
   "source": [
    "&nbsp;&nbsp;&nbsp;&nbsp;&nbsp;In this example we will break apart a short program into multiple files. Here we have a function in a file named test.py, and a call to that function:"
   ]
  },
  {
   "cell_type": "code",
   "execution_count": 1,
   "metadata": {
    "collapsed": false
   },
   "outputs": [
    {
     "name": "stdout",
     "output_type": "stream",
     "text": [
      "CSE Rocks!\n"
     ]
    }
   ],
   "source": [
    "# cse function\n",
    "def cse():\n",
    "    print(\"CSE Rocks!\")\n",
    " \n",
    "# cse call\n",
    "cse()"
   ]
  },
  {
   "cell_type": "markdown",
   "metadata": {},
   "source": [
    "&nbsp;&nbsp;&nbsp;&nbsp;&nbsp;Yes, this program probably not long enough to earn it's very own file, but if both the function and the main program code were long, it would be different. If we had several functions, each 100 lines long, it would be time consuming to manage that large of a file. But for this example we will keep the code short for clarity.\n",
    "\n",
    "&nbsp;&nbsp;&nbsp;&nbsp;&nbsp;We can move the cse function out of this file. Then this file would be left with only the main program code. (In this example there is no reason to separate them, aside from learning how to do so.)\n",
    "\n",
    "&nbsp;&nbsp;&nbsp;&nbsp;&nbsp;To do this, create a new file and copy the cse function into it. Save the new file with the name my_functions.py. The file must be saved to the same directory as test.py."
   ]
  },
  {
   "cell_type": "code",
   "execution_count": null,
   "metadata": {
    "collapsed": false
   },
   "outputs": [],
   "source": [
    "# my_functions.py\n",
    "\n",
    "def cse():\n",
    "    print(\"CSE Rocks!\")\n"
   ]
  },
  {
   "cell_type": "code",
   "execution_count": null,
   "metadata": {
    "collapsed": false
   },
   "outputs": [],
   "source": [
    "# test.py that doesn't work\n",
    "\n",
    "cse()"
   ]
  },
  {
   "cell_type": "markdown",
   "metadata": {},
   "source": [
    "&nbsp;&nbsp;&nbsp;&nbsp;&nbsp;Unfortunately it isn't as simple as this. The file test.py does not know to go and look at the my_functions.py file and import it. We have to add the command to import it:"
   ]
  },
  {
   "cell_type": "code",
   "execution_count": null,
   "metadata": {
    "collapsed": false
   },
   "outputs": [],
   "source": [
    "# test.py that imports but still doesn't work\n",
    "\n",
    "# Import the my_functions.py file\n",
    "import my_functions\n",
    " \n",
    "# cse call that still doesn't work\n",
    "cse()"
   ]
  },
  {
   "cell_type": "markdown",
   "metadata": {},
   "source": [
    "&nbsp;&nbsp;&nbsp;&nbsp;&nbsp;That still doesn't work. What are we missing? Just like when we import random or math, we have to put the package name in front of the function. The following will work because my_functions. is prepended to the function call."
   ]
  },
  {
   "cell_type": "code",
   "execution_count": null,
   "metadata": {
    "collapsed": false
   },
   "outputs": [],
   "source": [
    "#test.py that finally works\n",
    "\n",
    "# Import the my_functions.py file\n",
    "import my_functions\n",
    " \n",
    "# cse call that does work\n",
    "my_functions.cse()"
   ]
  },
  {
   "cell_type": "markdown",
   "metadata": {},
   "source": [
    "## Part 4: Namespace"
   ]
  },
  {
   "cell_type": "markdown",
   "metadata": {},
   "source": [
    "&nbsp;&nbsp;&nbsp;&nbsp;&nbsp;A program might have two library files that need to be used. What if the libraries had functions that were named the same? What if there were two functions named print_report, one that printed grades, and one that printed an account statement? For instance:"
   ]
  },
  {
   "cell_type": "code",
   "execution_count": null,
   "metadata": {
    "collapsed": false
   },
   "outputs": [],
   "source": [
    "# student_functions.py\n",
    "\n",
    "def print_report():\n",
    "    print(\"Student Grade Report:\" )"
   ]
  },
  {
   "cell_type": "code",
   "execution_count": null,
   "metadata": {
    "collapsed": false
   },
   "outputs": [],
   "source": [
    "# financial_functions.py\n",
    "\n",
    "def print_report():\n",
    "    print(\"Financial Report:\" )"
   ]
  },
  {
   "cell_type": "markdown",
   "metadata": {},
   "source": [
    "&nbsp;&nbsp;&nbsp;&nbsp;&nbsp;How do you get a program to specify which function to call? Well, that is pretty easy. You specify the namespace. The namespace is the word that appears before the function name in the code below:"
   ]
  },
  {
   "cell_type": "code",
   "execution_count": null,
   "metadata": {
    "collapsed": false
   },
   "outputs": [],
   "source": [
    "# test.py that calls different print_report functions\n",
    "\n",
    "import student_functions\n",
    "import financial_functions\n",
    " \n",
    "student_functions.print_report()\n",
    "financial_functions.print_report()"
   ]
  },
  {
   "cell_type": "markdown",
   "metadata": {},
   "source": [
    "&nbsp;&nbsp;&nbsp;&nbsp;&nbsp;So now we can see why this might be needed. But what if you don't have name collisions? Typing in a namespace each and every time can be tiresome. You can get around this by importing the library into the local namespace. The local namespace is a list of functions, variables, and classes that you don't have to prepend with a namespace. Going back to the cse example, let's remove the original import and replace it with a new type of import:"
   ]
  },
  {
   "cell_type": "code",
   "execution_count": null,
   "metadata": {
    "collapsed": false
   },
   "outputs": [],
   "source": [
    "# test.py\n",
    "from my_functions import *\n",
    " \n",
    "cse()"
   ]
  },
  {
   "cell_type": "markdown",
   "metadata": {},
   "source": [
    "&nbsp;&nbsp;&nbsp;&nbsp;&nbsp;This works even without my_functions. prepended to the function call. The asterisk is a wildcard that will import all functions from my_functions. A programmer could import individual ones if desired by specifying the function name.\n",
    "\n",
    "&nbsp;&nbsp;&nbsp;&nbsp;&nbsp;Now that we've talked about Classes, Objects and Modules we might have a better understanding of our school's OLE (online learning environment) called MOODLE. Moodle is actually written in PHP but the syntax is very similar to Python. Moodle contains lots of Libraries (Modules) such as the Quiz Module, Forums Module and my personal favorite the Progress Bar Module. In these modules are classes from which any teacher through the GUI (Graphic User Interface) can call an instance (object) on their course home page. A teacher might have three checklist objects or a teacher might have four instances of a forum. Now perhaps you have a better understanding of the acronym:\n",
    "<h1>\n",
    "<font color=\"orange\"><b>M</b></font>odular<br>\n",
    "<font color=\"orange\"><b>O</b></font>bject-<br>\n",
    "<font color=\"orange\"><b>O</b></font>riented<br>\n",
    "<font color=\"orange\"><b>D</b></font>ynamic<br>\n",
    "<font color=\"orange\"><b>L</b></font>earning<br>\n",
    "<font color=\"orange\"><b>E</b></font>nvironment<br>\n",
    "</h1>"
   ]
  },
  {
   "cell_type": "markdown",
   "metadata": {},
   "source": [
    "## Part 5: Third Party Libraries"
   ]
  },
  {
   "cell_type": "markdown",
   "metadata": {},
   "source": [
    "&nbsp;&nbsp;&nbsp;&nbsp;&nbsp;When working with Python, it is possible to use many libraries that are built into Python. Take a look at all the libraries that are available here:\n",
    "http://docs.python.org/3/py-modindex.html\n",
    "\n",
    "It is possible to download and install other libraries. There are libraries that work with the web, complex numbers, databases, and more.\n",
    "\n",
    "<b>Pygame: The library used to create games.\n",
    "\n",
    "http://www.pygame.org/docs/<br>\n",
    "\n",
    "<br>wxPython: Create GUI programs, with windows, menus, and more.\n",
    "\n",
    "http://www.wxpython.org/\n",
    "\n",
    "pydot: Generate complex directed and non-directed graphs\n",
    "\n",
    "http://code.google.com/p/pydot/\n",
    "\n",
    "NumPy: Sophisticated library for working with matrices.\n",
    "\n",
    "http://numpy.scipy.org/\n",
    "\n",
    "A wonderful list of Python libraries and links to installers for them is available here:</b>\n",
    "\n",
    "http://www.lfd.uci.edu/~gohlke/pythonlibs/\n",
    "\n",
    "Going through lists of libraries that are available can help you brainstorm what types of programs you can create. Most programming involves assembling large parts, rather than writing everything from scratch.\n"
   ]
  },
  {
   "cell_type": "markdown",
   "metadata": {},
   "source": [
    "<table width=\"100%\" border=\"1\" cellpadding=\"2\" cellspacing=\"0\">\n",
    "<tr bgcolor=\"#00FF00\">\n",
    "<td width=\"90\" style=\"vertical-align:top\"><img src=\"http://www.hermonswebsites.com/PyNotebooks/Python/sith.png\" style=\"border:2px solid #021a40;\">\n",
    "</td><td><h2><center><b>Jedi Training Task</b></center></h2></td></tr>\n",
    "<tr>\n",
    "<td valign=\"top\" colspan=\"2\"><center><font size=\"+2\"><b>My Library</b></font></center><br>\n",
    "<font size=\"+1\">\n",
    "\n",
    "&nbsp;&nbsp;&nbsp;&nbsp;&nbsp;Paste the five functions that you submitted in the Functions chapter into a single file called <b>my_library.py</b>. This should only include all of the <b>(defs)</b>, not the inputs and function calls. Create a main program called <b>my_program.py</b> which will import the <b>my_library</b> module. In this program you will put the inputs and function calls. Use the import * so you don't have to use namespaces for each function call. When doing this sometimes some unexplainable errors all of a sudden arise. If this happens try quitting Canopy and restarting it.<br><br>\n",
    "</td></tr></table>"
   ]
  },
  {
   "cell_type": "markdown",
   "metadata": {},
   "source": [
    "<table width=\"100%\" cellpadding=\"2\" cellspacing=\"2\">\n",
    "<tr>\n",
    "<td style=\"border: 1px solid white;\" width=\"100px\">\n",
    "<div>\n",
    "<a href=\"http://nbviewer.ipython.org/github/CSP-UHS/Hermons_Book_of_Python/blob/master/Chapter10.ipynb\"><img src=\"http://www.hermonswebsites.com/PyNotebooks/Python/leftarrow.png\" height=\"50px\" width=\"50px\" align=\"left\"></a>\n",
    "</div>\n",
    "</td>\n",
    "<td style=\"border: 1px solid white;\">\n",
    "<div align=\"center\">\n",
    "<a href=\"http://nbviewer.ipython.org/github/CSP-UHS/Hermons_Book_of_Python/blob/master/Chapter00.ipynb\"><h2>Table of Contents</h2></a>\n",
    "</div>\n",
    "</td>\n",
    "<td style=\"border: 1px solid white;\" width=\"100px\">\n",
    "<div>\n",
    "<a href=\"http://nbviewer.ipython.org/github/CSP-UHS/Hermons_Book_of_Python/blob/master/Chapter12.ipynb\"><img src=\"http://www.hermonswebsites.com/PyNotebooks/Python/rightarrow.png\"  height=\"50px\" width=\"50px\"  align=\"right\"></a>\n",
    "</div>\n",
    "</td>\n",
    "</tr></table>"
   ]
  }
 ],
 "metadata": {
  "kernelspec": {
   "display_name": "Python 2",
   "language": "python",
   "name": "python2"
  },
  "language_info": {
   "codemirror_mode": {
    "name": "ipython",
    "version": 2
   },
   "file_extension": ".py",
   "mimetype": "text/x-python",
   "name": "python",
   "nbconvert_exporter": "python",
   "pygments_lexer": "ipython2",
   "version": "2.7.10"
  }
 },
 "nbformat": 4,
 "nbformat_minor": 0
}
