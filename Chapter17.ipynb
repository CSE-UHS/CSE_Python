{
 "cells": [
  {
   "cell_type": "markdown",
   "metadata": {},
   "source": [
    "<div align=\"right\">\n",
    "<a href=\"http://nbviewer.ipython.org/github/CSE-UHS/CSE_Python/blob/master/Chapter00.ipynb\" align=\"right\"><h2>Table of Contents</h2></a>\n",
    "</div>"
   ]
  },
  {
   "cell_type": "markdown",
   "metadata": {},
   "source": [
    "# Chapter 17: Image Algorithms"
   ]
  },
  {
   "cell_type": "markdown",
   "metadata": {},
   "source": [
    "## Introduction"
   ]
  },
  {
   "cell_type": "markdown",
   "metadata": {},
   "source": [
    "&nbsp;&nbsp;&nbsp;&nbsp;&nbsp;In this chapter you are going to download a program that will round the corners of every image file in a directory. Throughout this chapter we will examine in depth each and every line of code...so yes...this is definitely a note taking chapter. In this chapter you will be asked <b>35</b> questions (<font color=\"red\"><b>which you will find in bold red</b></font>) and you will record your answers in your notebook. You will probably find this assignment a lot more satisfying if you can find a partner to work with together on these questions. If neither of you understand a question do not hesitate to ask another colleague or your instructor. Don't move on without understanding a question. (The answers to the questions are written in invisible ink below each question) To begin you need to first download the following <b>\"Round Corners Program\"</b> and <b>\"Folder of Star Wars Images\"</b>.\n",
    "\n",
    "<center><a href=\"https://dl.dropboxusercontent.com/u/90219577/Hermon/CSE_Website/notebooks/17/round_corners.py\" target=\"_blank\"><H1>Round Corners Program</H1></a><br>\n",
    "<a href=\"https://dl.dropboxusercontent.com/u/90219577/Hermon/CSE_Website/notebooks/17/StarWars.zip\" target=\"_blank\"><H1>Folder of Star Wars Images</H1></a>\n"
   ]
  },
  {
   "cell_type": "markdown",
   "metadata": {},
   "source": [
    "## Deciphering the Code"
   ]
  },
  {
   "cell_type": "markdown",
   "metadata": {},
   "source": [
    "&nbsp;&nbsp;&nbsp;&nbsp;&nbsp;<b>Open the round_corners.py program and execute the code in the code editor by clicking the green play arrow.</b> NOTHING HAPPENS! This code defines three new functions but does not actually call any of them, <u>so nothing will visibly occur</u>. Examine the code in the Canopy code editor.<br><br><font color=\"red\"><b>1.) What are the names of the three functions?</b></font><br>\n",
    "<font size=\"+1\" color=\"white\">round_corners( )<br>get_images( )<br>round( )</font>\n",
    "\n",
    "&nbsp;&nbsp;&nbsp;&nbsp;&nbsp;<b><u>In the iPython session window, change your working directory to the unzipped folder StarWars</u></b>. Examine the contents of that folder. When you are done, go back to the <b>Round Corners Program</b>, click the green play button and in the iPython session window, execute the following command which of course will call the round( ) function. The program might take a moment to execute."
   ]
  },
  {
   "cell_type": "code",
   "execution_count": null,
   "metadata": {
    "collapsed": false
   },
   "outputs": [],
   "source": [
    "round()"
   ]
  },
  {
   "cell_type": "markdown",
   "metadata": {},
   "source": [
    "&nbsp;&nbsp;&nbsp;&nbsp;&nbsp;This program will create a new folder called \"modified\" in your StarWars folder. Examine the new folder’s contents by opening a few of the files. Also notice any changes in the file names.<br><br><font color=\"red\"><b>2.) What did the program do?</b></font><br>\n",
    "<font size=\"+1\" color=\"white\">It opened each image and rounded the corners. It also converted any RGB .jpg images to RGBA .png images.</font>\n",
    "\n",
    "&nbsp;&nbsp;&nbsp;&nbsp;&nbsp;A portion of round_corners.py is shown below. This is the code for the first function called round_corners( ). Try to go through the code line by line and decode what this first function is doing. <b><u>Take some time doing this</u>!</b> It can be frustrating but is great practice if you want to become a stone cold coder."
   ]
  },
  {
   "cell_type": "markdown",
   "metadata": {},
   "source": [
    "## round_corners( ) Function"
   ]
  },
  {
   "cell_type": "markdown",
   "metadata": {},
   "source": [
    "<center><img src=\"https://dl.dropboxusercontent.com/u/90219577/Hermon/CSE_Website/notebooks/17/function1.png\"></center>"
   ]
  },
  {
   "cell_type": "markdown",
   "metadata": {},
   "source": [
    "<font color=\"red\"><b>3.) The function round_corners( ) is defined to take how many arguments?<br>\n",
    "<font size=\"+1\" color=\"white\">Two. original_image and percent_of_side</font><br>\n",
    "4.) What is the variable type of each argument?<br>\n",
    "<font size=\"+1\" color=\"white\">original_image is a PIL.image object and percent_of_side is a float</font><br>\n",
    "5.) What is the variable type of the return value of the function?<br>\n",
    "<font size=\"+1\" color=\"white\">PIL.image object</font><br>\n",
    "6.) On line 14, the .size attribute is taken from the original_image and assigned to what two variable names?<br>\n",
    "<font size=\"+1\" color=\"white\">width and height</font><br>\n",
    "7.) What type of variable is \"radius\" in line 15?<br>\n",
    "<font size=\"+1\" color=\"white\">int</font><br>\n",
    "8.) How is the radius calculated?<br>\n",
    "<font size=\"+1\" color=\"white\">It first uses the min( ) function to see which of the width or the height of the image is smallest. It then takes that times the percent_of_side that was passed into the function.</font><br>\n",
    "9.) On line 22 a new RGBA PIL image is created called rounded_mask. The alpha channel is set at 0 which means transparent so no color will actually be seen even though an RGB color was given. What color was given?<br>\n",
    "<font size=\"+1\" color=\"white\">(127,0,127) which would be red + blue = magenta</font><br>\n",
    "10.) What is the size of the rounded_mask image?<br><br>\n",
    "<font size=\"+1\" color=\"white\">The same size as the original_image being fed to the function.</font><br>\n",
    "11.) On line 23, what is the name of the new ImageDraw object associated with the rounded_mask object?<br>\n",
    "<font size=\"+1\" color=\"white\">drawing_layer</font><br>\n",
    "12.) In your notebook draw a vertical rectangle to represent the drawing_layer object. Draw on the rectangle what lines 29-34 would do. Color it correctly or at least label it with a color.<br>\n",
    "13.) Add to your picture what lines 37-44 would do. Again color it correctly or at least label it with a color.<br>\n",
    "14.) How do we know that all the pixels you just added to the drawing were opaque (besides reading the comment)?<br><font size=\"+1\" color=\"white\">The alpha channel was set at 255</font><br>\n",
    "15.) Ask your instructor to show you a printed version of what the image should look like to compare to your drawing.<br><br></b></font> \n",
    "So here's the crazy news! We're not really going to do much with our newly created rounded_mask object. In fact the RGB colors were completely and totally irrelevant. The Alpha channel was the only thing we were interested in. Basically we made an object the same size as the image we will be importing that will be tranparent in the rounded corners. We'll come back to this in a second.<br><br>\n",
    "<font color=\"red\"><b>\n",
    "16.) In line 52 it looks like we are starting all over again. What is the name of the new PIL.Image object that is created?<br>\n",
    "<font size=\"+1\" color=\"white\">result</font><br>\n",
    "17.) What is the size of this new image?<br>\n",
    "<font size=\"+1\" color=\"white\">Again, the same size as the original_image</font><br>\n",
    "18.) Are the pixels in this new image opaque or transparent?<br>\n",
    "<font size=\"+1\" color=\"white\">Alpha channel is 0 so transparent</font><br>\n",
    "19.) In line 53 the magic happens. What are we pasting on top of our new transparent object?<br>\n",
    "<font size=\"+1\" color=\"white\">The original_image</font><br>\n",
    "20.) At what coordinates on the \"result\" image are we pasting the top-left corner of the original_image?<br>\n",
    "<font size=\"+1\" color=\"white\">(0,0) So we are laying the original_image over our transparent result image of the same size.</font><br>\n",
    "</b></font> \n",
    "&nbsp;&nbsp;&nbsp;&nbsp;&nbsp;The last and most important parameter of the paste() method is mask. The mask parameter tells the computer which pixels to make opaque and which ones to make transparent in the image that we are pasting on to the first image. If you remember the rounded_mask image that we made but never really used was transparent in the corners (alpha=0) and opaque everywhere else (alpha=255). The colors of the rounded_mask image as we said earlier were completely irrelevant. The only reason we created that \"mask\" or \"template\" or \"cookie-cutter\" shape was to enter it as the mask argument in the paste() method. The only thing we cared about when creating the rounded_mask object was making pixels opaque (alpha=255) or transparent (alpha=0). So...when we tell the computer <b>\"mask = rounded_mask\"</b> we are saying, apply the same masking technique to the original_image as we created in the rounded_mask object. And by the way...we didn't have to name the object \"rounded_mask\". We could have called it by any variable name such as \"my_shape_template\" and still used it as the mask parameter in the paste( ) method. <font color=\"blue\"><b>[Now re-read this paragraph 5 more times or at least until you grasp this concept!]</b></font> <br><br>\n",
    "&nbsp;&nbsp;&nbsp;&nbsp;&nbsp;The final line of code \"return result\" then returns the original_image with transparent rounded corners.\n"
   ]
  },
  {
   "cell_type": "markdown",
   "metadata": {},
   "source": [
    "## get_images( ) Function"
   ]
  },
  {
   "cell_type": "markdown",
   "metadata": {},
   "source": [
    "&nbsp;&nbsp;&nbsp;&nbsp;&nbsp;The code below is the second function called get_images(). Again try to go through the code line by line and decode what this second function is doing."
   ]
  },
  {
   "cell_type": "markdown",
   "metadata": {},
   "source": [
    "<center><img src=\"https://dl.dropboxusercontent.com/u/90219577/Hermon/CSE_Website/notebooks/17/function2.png\"></center>"
   ]
  },
  {
   "cell_type": "markdown",
   "metadata": {},
   "source": [
    "<font color=\"red\"><b>21.) The function get_images() is defined to take how many arguments?<br>\n",
    "<font size=\"+1\" color=\"white\">Just one: directory=None</font><br>\n",
    "22.) How many objects and of what type are returned by this function?<br>\n",
    "<font size=\"+1\" color=\"white\">Two objects both of which are list types: image_list and file_list</font><br>\n",
    "23.) This function calls three methods from the the \"os\" module. What are they and what do they do?<br>\n",
    "<font size=\"+1\" color=\"white\">os.getcwd( ) gets the current working directory<br>os.listdir( ) gets the list of files within a directory<br>os.path.join( ) joins the directory to the filename of entry</font><br>\n",
    "24.) Why does this program use a try-except structure when opening all images in a directory as PIL.Images?<br>\n",
    "<font size=\"+1\" color=\"white\">Not all files in a folder might be image files and we don't want the program to quit if there are non-image files</font><br>\n",
    "25.) What are lines 76 and 77 doing in this function?<br>\n",
    "<font size=\"+1\" color=\"white\">Line 76 adds each filename to file_list. Line 77 adds PIL.images of each file to image_list.</font><br>\n",
    "</b></font>\n"
   ]
  },
  {
   "cell_type": "markdown",
   "metadata": {},
   "source": [
    "## round( ) Function"
   ]
  },
  {
   "cell_type": "markdown",
   "metadata": {},
   "source": [
    "&nbsp;&nbsp;&nbsp;&nbsp;&nbsp;The code below is the third function called round( ), which I probably shouldn't have used since there is already a round function built into Python for rounding numbers. Oh well...too late! Again try to go through the code line by line and decode what this third function is doing. This function brings everything together by calling the other two functions."
   ]
  },
  {
   "cell_type": "markdown",
   "metadata": {},
   "source": [
    "<center><img src=\"https://dl.dropboxusercontent.com/u/90219577/Hermon/CSE_Website/notebooks/17/function3.png\"></center>"
   ]
  },
  {
   "cell_type": "markdown",
   "metadata": {},
   "source": [
    "<font color=\"red\"><b>\n",
    "26.) On line 95, another method of the \"os\" module was used. What is it and what does it do?<br>\n",
    "<font size=\"+1\" color=\"white\">os.mkdir( ) will make a new directory (folder) in this case called \"modified\"</font><br>\n",
    "27.) Why was this method used inside a Try-Except structure?<br>\n",
    "<font size=\"+1\" color=\"white\">If the program has already been run there will already be a \"modified\" folder and we don't want the program to quit.</font><br>\n",
    "28.) What previous function that we have discussed in this chapter is called on line 100 and what does it do?<br>\n",
    "<font size=\"+1\" color=\"white\">The get_images( ) function is called and returns a list of PIL.images and file names.</font><br>\n",
    "29.) On line 103 what is meant by len(image_list)?<br>\n",
    "<font size=\"+1\" color=\"white\">This would be how many images there are in the folder.</font><br>\n",
    "30.) What is the variable role of (n) on lines 103, 105 and 108?<br>\n",
    "<font size=\"+1\" color=\"white\">It is used as an indexing number to iterate through the file name list and the PIL.image list.</font><br>\n",
    "31.) On line 105 is the very interesting \"split\" method. What does this do?<br>\n",
    "<font size=\"+1\" color=\"white\">It takes a file name such as <b>Yoda.jpg</b> and splits it at a certain character. In this case the '.' period. It puts everything before the period in the variable filename and everything after the period in the variable filetype. Therefore in our example: filename = Yoda and filetype = jpg</font><br>\n",
    "32.) After the \"split\" method is applied to the first image file in the StarWars folder what would the variables \"filename\" and \"filetype\" each be equal to?<br>\n",
    "<font size=\"+1\" color=\"white\">filename = \"Bobafett\" and filetype = \"jpg\"</font><br>\n",
    "33.) What previous function that we have discussed in this chapter is called on line 108 and what does it do?<br>\n",
    "<font size=\"+1\" color=\"white\">round_corners( ) and it is fed each image in the folder and a percentage. It returns a new rounded image and stores in the variable new_image. </font><br>\n",
    "34.) What was the current percentage of the shortest side of the image being applied to the round corners? Feel free to change this percentage and run the program again.<br>\n",
    "<font size=\"+1\" color=\"white\">30% or 0.30</font><br>\n",
    "35.) What happens in line 110 and why is this important?<br>\n",
    "<font size=\"+1\" color=\"white\">The altered image is saved in the 'modified' folder and the image has the extension .png attached so that is will have the alpha channel and can retain transparency. All .jpgs are RGB and will have to be replaced with .pngs which are RGBA so that this will work.</font></b>\n",
    "</font>\n"
   ]
  },
  {
   "cell_type": "markdown",
   "metadata": {},
   "source": [
    "<table width=\"100%\" border=\"1\" cellpadding=\"2\" cellspacing=\"0\">\n",
    "<tr>\n",
    "<td width=\"90\" bgcolor=\"#00FF00\" style=\"vertical-align:top\"><img src=\"https://dl.dropboxusercontent.com/u/90219577/Hermon/CSE_Website/notebooks/sith.png\" style=\"border:2px solid #021a40;\"><center><b>\n",
    "Jedi<br>Training<br>Task</b></center></td>\n",
    "<td valign=\"top\"><center><font size=\"+2\"><b>Framing Star Wars</b></font></center><br>\n",
    "<font size=\"+1\">\n",
    "\n",
    "<b><u>Part 1</u>:</b><br><br>We will now try to modify the code to frame each picture with a colored border of a certain thickness. Duplicate the program we have been analyzing and rename it <b>frame_it.py</b>. Rename the <b>round_corners( )</b> function to <b>frame_it( )</b> and the <b>round( )</b> function to <b>frame( )</b>. Also don't forget to look in the <b>frame( )</b> function and change where it calls the <b>frame_it( )</b> function.<br><br>\n",
    "\n",
    "&nbsp;&nbsp;&nbsp;&nbsp;&nbsp;The frame( ) function will take two arguments, color and wide, which will specify the color and width of the border that will be put around each picture in the directory. It will look like <b>frame(wide, color, directory=None)</b> The frame is specified by a color tuple (r,g,b) and has a certain pixel thickness wide. To call the function you might enter into the iSession window the following:<br><br>\n",
    "<center><H4><b>frame ( 5 , ( 0 , 255 , 0 ) )</b></H4></center>\n",
    "<br><br>\n",
    "&nbsp;&nbsp;&nbsp;&nbsp;&nbsp;This would put a 5 pixel wide, green frame around each Star Wars image. Since your <b>color</b> variable is actually a list you should make 3 variables like:<br><br>\n",
    "<b>red = color[0]<br>\n",
    "green = color[1]<br>\n",
    "blue = color[2]</b><br><br>\n",
    "To have the color show up you will have to change the alpha channel of the result image from 0 (transparent) to 255 (opaque). Once you have rewritten the program to accomplish this task go on to Part 2.<br><br>\n",
    "\n",
    "<b><u>Part 2</u>:</b><br><br>This time you get to use your own creativity. Duplicate the program again and design your own kind of framing program. When you are happy with your final program and you don't think it is an embarrassment to coders everywhere, demonstrate it for your instructor.<br><br>\n",
    "For those of you that think you are amazing coders you can try to duplicate the program I created. Below is the result of that program where I decided to print each Star Wars character's name (the file name) 3/4 of the way down the picture and horizontally centered inside a \"TIE fighter\" style frame.<br><br>\n",
    "<center><img src=\"https://dl.dropboxusercontent.com/u/90219577/Hermon/CSE_Website/notebooks/17/yoda.png\"></center>\n",
    "</font>\n",
    "</td></tr></table>"
   ]
  },
  {
   "cell_type": "markdown",
   "metadata": {},
   "source": [
    "<div align=\"right\">\n",
    "<a href=\"http://nbviewer.ipython.org/github/CSE-UHS/CSE_Python/blob/master/Chapter00.ipynb\" align=\"right\"><h2>Table of Contents</h2></a>\n",
    "</div>"
   ]
  }
 ],
 "metadata": {
  "kernelspec": {
   "display_name": "Python 2",
   "language": "python",
   "name": "python2"
  },
  "language_info": {
   "codemirror_mode": {
    "name": "ipython",
    "version": 2
   },
   "file_extension": ".py",
   "mimetype": "text/x-python",
   "name": "python",
   "nbconvert_exporter": "python",
   "pygments_lexer": "ipython2",
   "version": "2.7.10"
  }
 },
 "nbformat": 4,
 "nbformat_minor": 0
}
