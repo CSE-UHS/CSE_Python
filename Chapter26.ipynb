{
 "cells": [
  {
   "cell_type": "markdown",
   "metadata": {
    "deletable": true,
    "editable": true
   },
   "source": [
    "<div align=\"right\">\n",
    "<a href=\"http://nbviewer.ipython.org/github/CSP-UHS/Hermons_Book_of_Python/blob/master/Chapter00.ipynb\" align=\"right\"><h2>Table of Contents</h2></a>\n",
    "</div>"
   ]
  },
  {
   "cell_type": "markdown",
   "metadata": {
    "deletable": true,
    "editable": true
   },
   "source": [
    "# Chapter 26: Gyro Sensor"
   ]
  },
  {
   "cell_type": "markdown",
   "metadata": {
    "deletable": true,
    "editable": true
   },
   "source": [
    "### <a href=\"https://le-www-live-s.legocdn.com/sc/media/lessons/mindstorms-ev3/building-instructions/ev3-gyro-sensor-driving-base-a521f8ebe355c281c006418395309e15.pdf\" target=\"_blank\">Gyro Sensor Instructions</a>\n",
    "\n",
    "&nbsp;&nbsp;&nbsp;&nbsp;&nbsp;In this chapter we are going to learn how to use the Gyro Sensor. Click on the link above and scroll down to the <b>Robot Educator</b> section. There you will choose the instructions for the <b>Gyro Sensor</b> robot. This is just a small addition to the <b>Driving Base</b> directions."
   ]
  },
  {
   "cell_type": "markdown",
   "metadata": {
    "deletable": true,
    "editable": true
   },
   "source": [
    "## Throughout this chapter refer to the <a href=\"http://python-ev3dev.readthedocs.io/en/latest/sensors.html\" target=\"_blank\">Sensor Documentation</a>"
   ]
  },
  {
   "cell_type": "markdown",
   "metadata": {
    "deletable": true,
    "editable": true
   },
   "source": [
    "## About the Gyro Sensor"
   ]
  },
  {
   "cell_type": "markdown",
   "metadata": {
    "deletable": true,
    "editable": true
   },
   "source": [
    "&nbsp;&nbsp;&nbsp;&nbsp;&nbsp;The Gyro Sensor detects rotational motion on a single axis. If you rotate the Gyro Sensor in the direction of the arrow on the case of the sensor, the sensor can detect the rate of rotation in degrees/second. (The sensor can measure a maximum rate of spin of 440 &ordm;/sec.) You can then use the rotation rate to detect, for example, when a part of your robot is turning, or when your robot is falling over. This uses the mode <b>'GYRO-RATE'</b>.\n",
    "\n",
    "<img src=\"http://www.hermonswebsites.com/PyNotebooks/Python/26/gyro.jpg\">\n",
    "\n",
    "&nbsp;&nbsp;&nbsp;&nbsp;&nbsp;In addition, the Gyro Sensor keeps track of the total rotation angle in degrees. You can use this rotation angle to detect, for example, how far your robot has turned. This feature means you are able to program turns (on the axis the Gyro Sensor is measuring) with an accuracy of +/- 3 degrees for a 90-degree turn. Keep in mind the rotation continues to go up beyond +360 or below -360 if you are rotating left. This uses the mode <b>'GYRO-ANG'</b>."
   ]
  },
  {
   "cell_type": "markdown",
   "metadata": {
    "deletable": true,
    "editable": true
   },
   "source": [
    "## Calibration"
   ]
  },
  {
   "cell_type": "markdown",
   "metadata": {
    "deletable": true,
    "editable": true
   },
   "source": [
    "&nbsp;&nbsp;&nbsp;&nbsp;&nbsp;Calibration is crucial and can be tricky. Generally, you want to establish your zero point in the direction your robot is pointing. The sensor must be completely motionless while being plugged into the EV3 Brick. If the Gyro Sensor is attached to a robot, the robot should be held motionless in its starting position as the Gyro Sensor is plugged into the EV3 Brick. <b><u>Auto-calibration WILL occur whenever a robot is turned on or when the Gyro Sensor cable is plugged in.</u></b> However, sometime we might want to recalibrate our zero point somewhere in our program. As far as I can tell, at least at the time of this writing, there is no recalibrate command in Python. However, there is a pretty simple way to do it. Change the mode to <b>'GYRO-RATE'</b> and then back to <b>'GYRO-ANG'</b>. <b><u>CRUCIAL: The robot must be perfectly still during this re-calibration.</u></b> It would probably be a really good idea to do this re-calibration right at the beginning of your program before your robot begins moving."
   ]
  },
  {
   "cell_type": "markdown",
   "metadata": {
    "deletable": true,
    "editable": true
   },
   "source": [
    "## Gyro Sensor Experiment"
   ]
  },
  {
   "cell_type": "markdown",
   "metadata": {
    "deletable": true,
    "editable": true
   },
   "source": [
    "&nbsp;&nbsp;&nbsp;&nbsp;&nbsp;Create a new file called <b>gyro.py</b> and start with the following code. Like the other chapters this is a simple program to let the robot tell us the output of <b>.value( )</b> as you turn the robot. We start this program the same way as everything we've written. We then create a gyro sensor object which I called <b>gyro</b> but you can name whatever you want. We then set the mode at <b>'GYRO-RATE'</b> and then <b>'GYRO-ANG'</b>. This should calibrate the robot as long as you are not moving the robot while the program starts.\n",
    "\n",
    "<img src=\"http://www.hermonswebsites.com/PyNotebooks/Python/26/code1.jpg\">\n",
    "\n",
    "&nbsp;&nbsp;&nbsp;&nbsp;&nbsp;The rest of our code is the <b>while True</b> loop and is a little more complicated than what we have done in the past but your knowledge of Python should help you understand what we are doing. The reason I wrote the code this way is because I discovered that if the robot turns left this is a negative value and apparently the robot does not know how to say it. DUMB ROBOT! \n",
    "\n",
    "&nbsp;&nbsp;&nbsp;&nbsp;&nbsp;On line 6 we simply get the gyro sensor value and put it in a variable called <b>angle</b>. Next we use <b>if-elif-else</b> to check if <b>angle</b> is postive, negative or zero. If it is positive the robot is turning right, so we concatenate the word right with the <b>angle</b> and set it to a variable called <b>rotation</b>. Notice we had to use <b>str(angle)</b> because you cannot concatenate a numeric variable with a string variable. If it is negative the robot is turning left. We first multiply the angle by -1 which basically gives the absolute value since the robot cannot pronounce negative numbers. Then we concatenate the word left with the absolute value <b>angle</b> and again set it to the variable called <b>rotation</b>. If it's not positive or negative it must be zero, so in our <b>else</b> statement we set the <b>rotation</b> variable to \"Bingo!\".\n",
    "\n",
    "&nbsp;&nbsp;&nbsp;&nbsp;&nbsp;We then let the robot speak the <b>rotation</b> variable.\n",
    "\n",
    "\n",
    "<img src=\"http://www.hermonswebsites.com/PyNotebooks/Python/26/code2.jpg\">"
   ]
  },
  {
   "cell_type": "markdown",
   "metadata": {
    "deletable": true,
    "editable": true
   },
   "source": [
    "<table style=\"background-color: #FFFFFF; border: 1px solid #000000; width: 100%; padding: 2px;\">\n",
    "<tr style=\"background-color: #00FF00;\">\n",
    "<td width=\"90\" style=\"vertical-align: top; border: 1px solid #000000;\"><img src=\"http://www.hermonswebsites.com/PyNotebooks/Python/sith.png\" style=\"border: 2px solid #021a40;\">\n",
    "</td><td style=\"border: 1px solid #000000;\"><h2><center><b>Droid Training Task</b></center></h2></td></tr>\n",
    "<tr>\n",
    "<td valign=\"top\" colspan=\"2\" style=\"text-align: left;\">\n",
    "<center><font size=\"+1\"><b>AT-AT Walker</b></font></center><br>\n",
    "<font size=\"+1\">\n",
    "&nbsp;&nbsp;&nbsp;&nbsp;&nbsp;AT-AT Walkers rely heavily upon Gyro Sensors to not fall over or get knocked off their course. You will do two programs to complete this Droid Training Task.<br><br>\n",
    "\n",
    "1.) Program a robot that will continue in a straight line even if I try to bump it off it's path. Even if I pick it up and point it the other way it will still self-correct and turn around. Just watch out for Luke Skywalker's harpoons and tow cables.<br><br>\n",
    "\n",
    "2.) Redo the <b>R2D2</b> program but this time use an <b>Ultrasonic Sensor</b> and a <b>Gyro Sensor</b>.\n",
    "</font>\n",
    "<br>\n",
    "<img src=\"http://www.hermonswebsites.com/PyNotebooks/Python/26/atatsensor.jpg\">\n",
    "\n",
    "</td></tr></table>\n"
   ]
  },
  {
   "cell_type": "markdown",
   "metadata": {
    "deletable": true,
    "editable": true
   },
   "source": [
    "<table  style=\"background-color: #FFFFFF; width: 100%; padding: 2px;\">\n",
    "<tr style=\"background-color: #FFFFFF;\">\n",
    "<td style=\"border: 1px solid white;\" width=\"100px\">\n",
    "<div>\n",
    "<a href=\"http://nbviewer.ipython.org/github/CSP-UHS/Hermons_Book_of_Python/blob/master/Chapter25.ipynb\"><img src=\"http://www.hermonswebsites.com/PyNotebooks/Python/leftarrow.png\" height=\"50px\" width=\"50px\" align=\"left\"></a>\n",
    "</div>\n",
    "</td>\n",
    "<td style=\"border: 1px solid white;\">\n",
    "<div align=\"center\">\n",
    "<a href=\"http://nbviewer.ipython.org/github/CSP-UHS/Hermons_Book_of_Python/blob/master/Chapter00.ipynb\"><h2>Table of Contents</h2></a>\n",
    "</div>\n",
    "</td>\n",
    "<td style=\"border: 1px solid white;\" width=\"100px\">\n",
    "<div>\n",
    "<a href=\"http://nbviewer.ipython.org/github/CSP-UHS/Hermons_Book_of_Python/blob/master/Chapter27.ipynb\"><img src=\"http://www.hermonswebsites.com/PyNotebooks/Python/rightarrow.png\"  height=\"50px\" width=\"50px\"  align=\"right\"></a>\n",
    "</div>\n",
    "</td>\n",
    "</tr></table>"
   ]
  }
 ],
 "metadata": {
  "kernelspec": {
   "display_name": "Python 2",
   "language": "python",
   "name": "python2"
  },
  "language_info": {
   "codemirror_mode": {
    "name": "ipython",
    "version": 2
   },
   "file_extension": ".py",
   "mimetype": "text/x-python",
   "name": "python",
   "nbconvert_exporter": "python",
   "pygments_lexer": "ipython2",
   "version": "2.7.10"
  }
 },
 "nbformat": 4,
 "nbformat_minor": 0
}
