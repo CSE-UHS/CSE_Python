{
 "metadata": {
  "name": "",
  "signature": "sha256:55b9eb7923f938722dc6566992c83970d01dfc1c7677d934ee1d67aec55d24f6"
 },
 "nbformat": 3,
 "nbformat_minor": 0,
 "worksheets": [
  {
   "cells": [
    {
     "cell_type": "heading",
     "level": 2,
     "metadata": {},
     "source": [
      "This is a simple text box.\n",
      "This is a return."
     ]
    },
    {
     "cell_type": "code",
     "collapsed": false,
     "input": [
      "message = 'Hello World'\n",
      "print message"
     ],
     "language": "python",
     "metadata": {},
     "outputs": [
      {
       "output_type": "stream",
       "stream": "stdout",
       "text": [
        "Hello World\n"
       ]
      }
     ],
     "prompt_number": 1
    },
    {
     "cell_type": "heading",
     "level": 6,
     "metadata": {
      "canopy_exercise": {
       "cell_type": "question"
      },
      "slideshow": {
       "slide_type": "slide"
      }
     },
     "source": [
      "Heading 6"
     ]
    },
    {
     "cell_type": "heading",
     "level": 5,
     "metadata": {
      "slideshow": {
       "slide_type": "slide"
      }
     },
     "source": [
      "Heading 5"
     ]
    },
    {
     "cell_type": "heading",
     "level": 4,
     "metadata": {
      "slideshow": {
       "slide_type": "slide"
      }
     },
     "source": [
      "Heading 4"
     ]
    },
    {
     "cell_type": "heading",
     "level": 3,
     "metadata": {
      "slideshow": {
       "slide_type": "slide"
      }
     },
     "source": [
      "Heading 3"
     ]
    },
    {
     "cell_type": "heading",
     "level": 2,
     "metadata": {},
     "source": [
      "Heading 2"
     ]
    },
    {
     "cell_type": "heading",
     "level": 1,
     "metadata": {},
     "source": [
      "Heading 1"
     ]
    },
    {
     "cell_type": "raw",
     "metadata": {},
     "source": [
      "What happens here?"
     ]
    },
    {
     "cell_type": "markdown",
     "metadata": {},
     "source": [
      "<font color=\"blue\">hello</font>"
     ]
    },
    {
     "cell_type": "heading",
     "level": 1,
     "metadata": {},
     "source": [
      "<font color=\"red\">Heading 1</font>"
     ]
    },
    {
     "cell_type": "code",
     "collapsed": false,
     "input": [],
     "language": "python",
     "metadata": {},
     "outputs": []
    }
   ],
   "metadata": {}
  }
 ]
}