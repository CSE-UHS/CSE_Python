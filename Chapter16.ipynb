{
 "cells": [
  {
   "cell_type": "markdown",
   "metadata": {},
   "source": [
    "<div align=\"right\">\n",
    "<a href=\"http://nbviewer.ipython.org/github/CSE-UHS/CSE_Python/blob/master/Chapter00.ipynb\" align=\"right\"><h2>Table of Contents</h2></a>\n",
    "</div>"
   ]
  },
  {
   "cell_type": "markdown",
   "metadata": {},
   "source": [
    "# Chapter 16: Python Imaging Library (PIL)"
   ]
  },
  {
   "cell_type": "markdown",
   "metadata": {},
   "source": [
    "## Part 1: Introduction"
   ]
  },
  {
   "cell_type": "markdown",
   "metadata": {},
   "source": [
    "&nbsp;&nbsp;&nbsp;&nbsp;&nbsp;You’ve learned the basics of writing computer programs. But most programming builds on code that has already been written. Knowing how to find and use code from other people will help make you an efficient and successful software developer.\n",
    "\n",
    "&nbsp;&nbsp;&nbsp;&nbsp;&nbsp;You could create your own algorithms, for example, to rotate an image or to identify the objects in an image. But others have already solved those problems! There are many advantages to using existing code. You save time, of course. But you also connect to a community of people, making it easier for them to help you, and making it more likely they will be able to use what you create."
   ]
  },
  {
   "cell_type": "markdown",
   "metadata": {},
   "source": [
    "## Part 2: Documentation of the PIL API"
   ]
  },
  {
   "cell_type": "markdown",
   "metadata": {},
   "source": [
    "&nbsp;&nbsp;&nbsp;&nbsp;&nbsp;In an earlier activity, you learned how to use nested for loops to conditionally change color values of individual pixels. You did this using code from the matplotlib and numpy libraries. You used statements like img[r][c] = [0, 255, 255] to change the pixels in part of an image. To cause the graduation cap to be cyan, for example, the statement img[r][c] = [0, 255, 255] was inside an <b>if</b> block. The <b>if</b> structure was inside a <b>for</b> loop, which was inside another <b>for</b> loop.\n",
    "\n",
    "&nbsp;&nbsp;&nbsp;&nbsp;&nbsp;A software developer’s job usually includes learning how to use other people’s code. It is often much quicker to find and learn how to use code that someone else has created than it is to create the code on your own. We will use code from the PIL, the Python Imaging Library, to perform image manipulations.\n",
    "\n",
    "&nbsp;&nbsp;&nbsp;&nbsp;&nbsp;Recall that an API, or application programming interface, tells you how to use someone else’s code. PIL, like matplotlib, is an object-oriented library of code. Object-oriented code creates and manipulates objects, which are data structures defined in the code. PIL’s objects include images. The matplotlib library’s objects include figures and axes. \n",
    "\n",
    "&nbsp;&nbsp;&nbsp;&nbsp;&nbsp;For object-oriented code, the API lists the attributes and methods for each class. Almost always, at least one of the methods instantiates the class. Instantiation means creating an object, also known as an instance, of the class. The instantiation methods that do this are sometimes called constructors.\n",
    "\n",
    "&nbsp;&nbsp;&nbsp;&nbsp;&nbsp;Although you are learning to manipulate images in this activity, a primary objective is to understand how to find, select, and use API documentation. These skills will enable you to learn how to use other people’s code.\n",
    "\n",
    "&nbsp;&nbsp;&nbsp;&nbsp;&nbsp;There are generally four kinds of documentation:<br><br>\n",
    "\n",
    "Official documentation <a href=\"http://effbot.org/imagingbook\" target=\"_blank\">http://effbot.org/imagingbook</a><br>\n",
    "Third-party documentation (example: <a href=\"http://infohost.nmt.edu/tcc/help/pubs/pil/\" target=\"_blank\">http://infohost.nmt.edu/tcc/help/pubs/pil/</a>)<br>\n",
    "Tutorials (example: <a href=\"http://effbot.org/imagingbook/introduction.htm\" target=\"_blank\">http://effbot.org/imagingbook/introduction.htm</a>)<br>\n",
    "Problem/solution-specific documentation, often in social formats such as Stack Overflow<br><br>\n",
    "\n",
    "&nbsp;&nbsp;&nbsp;&nbsp;&nbsp;Below is a quick reference to several common methods from the PIL library and how to use them:"
   ]
  },
  {
   "cell_type": "markdown",
   "metadata": {},
   "source": [
    "<center><img src=\"https://dl.dropboxusercontent.com/u/90219577/Hermon/CSE_Website/notebooks/16/PIL.png\"></center>"
   ]
  },
  {
   "cell_type": "markdown",
   "metadata": {},
   "source": [
    "## Part 3: Image Manipulation using PIL"
   ]
  },
  {
   "cell_type": "markdown",
   "metadata": {},
   "source": [
    "&nbsp;&nbsp;&nbsp;&nbsp;&nbsp;From this point to the end of the chapter you will be working on an assignment called <b>\"<u>The Eyes of the Sith</u>!\"</b>. Some code I will show you and some you need to remember from the last chapter or look up in the PIL Documentation above.<br><br>\n",
    "<b>1.) Download this <a href=\"https://dl.dropboxusercontent.com/u/90219577/Hermon/CSE_Website/notebooks/16/Sith.zip\" target=\"_blank\">Sith Folder</a> and make it be your working directory.<br><br>\n",
    "2.) Start a new python file in your working directory called eyes_of_the_Sith.py<br><br>\n",
    "3.) Begin your program by importing the matplotlib and the os.path libraries. You will also import the PIL library as follows:"
   ]
  },
  {
   "cell_type": "code",
   "execution_count": null,
   "metadata": {
    "collapsed": false
   },
   "outputs": [],
   "source": [
    "import PIL"
   ]
  },
  {
   "cell_type": "markdown",
   "metadata": {},
   "source": [
    "<b>4.) Using the os.path add lines of code that will join the pathway of the working directory to the sith_lord.jpg image. Store the pathway in a variable called path_to_the_sith.<br><br>\n",
    "5.) Add a line of code that uses the open() method in the PIL.image class and names the object sith_img. (HINT: Look in table 2 for an example.)<br><br>\n",
    "6.) Add code to make a figure with three subplots as seen below. I have removed tick marks but you should not. Use set_xlim and set_ylim to produce the left and right eyes.<br><br>\n",
    "<center><img src=\"https://dl.dropboxusercontent.com/u/90219577/Hermon/CSE_Website/notebooks/16/Sith_Eyes.png\"></center>"
   ]
  },
  {
   "cell_type": "markdown",
   "metadata": {},
   "source": [
    "<b>7. In your notebook, create a bounding box for the iris of each eye. A bounding box is a rectangle containing a particular part of an image. In your notebook, record the coordinates of the upper left and lower right for the bounding box of the iris for each eye by mousing over the eyes. Also record the width and height of the bounding boxes.<br><br>\n",
    "<center><img src=\"https://dl.dropboxusercontent.com/u/90219577/Hermon/CSE_Website/notebooks/16/bounding_box.png\"></center>"
   ]
  },
  {
   "cell_type": "markdown",
   "metadata": {},
   "source": [
    "<b>8.) Using the os.path add a line of code that will join the pathway of the working directory to the evil_eye.png image. Store the pathway in a variable called path_to_the_evil_eye.<br><br>\n",
    "9.) Add a line of code that uses the open() method in the PIL.image class and names the object evil_eye.<br><br>\n",
    "10.) Call the resize() method on the evil_eye using the width and height of the left eye and rename left_evil_eye.<br><br>\n",
    "10.) Call the resize() method on the evil_eye using the width and height of the right eye and rename right_evil_eye.<br><br>\n",
    "11.) Add code to make a figure with three subplots as seen below. I have removed tick marks but you should not.<br><br>\n",
    "<center><img src=\"https://dl.dropboxusercontent.com/u/90219577/Hermon/CSE_Website/notebooks/16/eyes.png\"></center>"
   ]
  },
  {
   "cell_type": "markdown",
   "metadata": {},
   "source": [
    "<b>12.) Add two lines of code each using the paste() method to paste the left_evil_eye and right_evil_eye over the eyes in sith_img. The coordinates are for the upper left corner of the eye images. Set the mask parameter equal to the name of the eye image. (left_evil_eye or right_evil_eye)<br><br>\n",
    "13.) Add code to make a figure with one subplot as seen below. I have removed tick marks but you should not.<br><br>\n",
    "<center><img src=\"https://dl.dropboxusercontent.com/u/90219577/Hermon/CSE_Website/notebooks/16/final_eyes.png\"></center>"
   ]
  },
  {
   "cell_type": "markdown",
   "metadata": {},
   "source": [
    "## Part 4: Calculating File Size and Compression"
   ]
  },
  {
   "cell_type": "markdown",
   "metadata": {},
   "source": [
    " &nbsp;&nbsp;&nbsp;&nbsp;&nbsp;At this time we are going to learn about image size, file size and compression ratios. The two main main objects of PIL.Image that we have been working on were called sith_img and evil_eye. In the iPython Session window you can call the size of these image objects with the following code. This will output the width and height of the image (a.k.a the number of pixels across and the number of pixels down). Record in your notebook."
   ]
  },
  {
   "cell_type": "code",
   "execution_count": null,
   "metadata": {
    "collapsed": true
   },
   "outputs": [],
   "source": [
    "sith_img.size\n",
    "evil_eye.size"
   ]
  },
  {
   "cell_type": "markdown",
   "metadata": {},
   "source": [
    "&nbsp;&nbsp;&nbsp;&nbsp;&nbsp;If you remember each pixel is divided up into red, green and blue channels. Below is how we write the color for white in decimal, binary and hexadecimal. As you can see from the binary version, each channel takes 8 bits or 1 byte. Therefore an RGB pixel contains 3 bytes of data.<br><br>\n",
    "<center><b>\n",
    "(255, 255, 255)    decimal<br>\n",
    "(11111111, 11111111, 11111111)   binary<br>\n",
    "(#FFFFFF)    hexadecimal<br>\n",
    "</b></center><br>\n",
    "&nbsp;&nbsp;&nbsp;&nbsp;&nbsp;The RGBA file type includes a fourth byte called the alpha channel. The alpha channel controls how transparent or opaque an image is. Only some file types can store an alpha channel. <b>PNG files can store the alpha channel. JPG files cannot.</b> The save() method of PIL.Image recognizes filetype extensions in the filename you provide, so transparency is retained if you name the file with PNG. Our two PIL.Image objects have different “mode” attributes.<br><br>\n",
    "\n",
    "<center><b>sith_img</b> is RGB and <b>evil_eye</b> is RGBA</center><br>\n",
    "As a consequence, <b>sith_img</b> uses three bytes per pixel, while the <b>evil_eye</b> image uses four bytes per pixel. We can calculate the number of bytes used for the representation of an image simply by multiplying the width and height to get the number of pixels and then multiplying by either 3 or 4 if the image is RGB or RGBA respectively.<br><br>\n",
    "<center><h2><b>height x width x (bytes per pixel)</b></h2></center><br><br>\n",
    "\n",
    "&nbsp;&nbsp;&nbsp;&nbsp;&nbsp;Calculate the \"byte size\" of each image and record in your notebook. Convert each image to kilobytes. (1 kb = 1024 bytes). You can also then convert to megabytes if you would like. (1 Mb = 1024 kb)\n",
    "\n",
    "&nbsp;&nbsp;&nbsp;&nbsp;&nbsp;Now on your computer, click on one of the image files and on your Mac press Command-I to bring up an information window. You should see the same height and width that you found earlier using the (size) attribute. The information should also tell you if it is RGB and whether or not it has the alpha channel. Finally, it will tell you the file size. There is a good chance that this is considerbably lower than the image size you calculated and recorded. WHY????\n",
    "\n",
    "&nbsp;&nbsp;&nbsp;&nbsp;&nbsp;The answer is because you calculated the IMAGE size and the information window is giving you the FILE size. When an image is saved as a file it is compressed to save space. We can calculate a <b>compression ratio</b> by dividing the uncompressed image size by the compressed file size. This will always be greater than 1.<br><br>\n",
    "<center><h2><b><u>Compression Ratio</u> = uncompressed image / compressed file</b></h2></center><br><br>\n",
    "\n",
    "&nbsp;&nbsp;&nbsp;&nbsp;&nbsp;Also if you subtract the two values and divide by the uncompressed size you can calculate what we call a percent compression as seen below.<br><br>\n",
    "<center><h2><b><u>Percent Compression</u> = [(uncompressed - compressed)/uncompressed] x 100</b></h2></center><br><br>\n",
    "<HR>\n",
    "<b><u>Practice Problem</u>:</b> A 1.3 Mb image is compressed to a 167.5 kb file. Calculate the compression ratio and the percent compression.<br>\n",
    "\n",
    "<center><b>Convert the uncompressed image from Mb to kb so we are in the same units:  1.3 Mb x 1024 = 1331.2 kb<br>\n",
    "Compression Ratio = 1331.2 kb / 167.5 kb = 7.95<br>\n",
    "Percent Compression = [(1331.2 - 167.5)/1331.2] x 100 = 87.4%</b></center>\n",
    "<HR>\n",
    "&nbsp;&nbsp;&nbsp;&nbsp;&nbsp;Using the file size from the information window and your calculated image size, determine the <b>Compression Ratio</b> and the <b>Percent Compression</b> for both the <b>sith_img</b> image and the <b>evil_eye</b> image and record in your notebook."
   ]
  },
  {
   "cell_type": "markdown",
   "metadata": {},
   "source": [
    "<table width=\"100%\" border=\"1\" cellpadding=\"2\" cellspacing=\"0\">\n",
    "<tr>\n",
    "<td width=\"90\" bgcolor=\"#00FF00\" style=\"vertical-align:top\"><img src=\"https://dl.dropboxusercontent.com/u/90219577/Hermon/CSE_Website/notebooks/sith.png\" style=\"border:2px solid #021a40;\"><center><b>\n",
    "Jedi<br>Training<br>Task</b></center></td>\n",
    "<td valign=\"top\"><center><font size=\"+2\"><b>Eyes of the Sith</b></font></center><br>\n",
    "<font size=\"+1\">\n",
    "\n",
    "<b><u>Part 1</u>:</b> Take your final \"Eyes of the Sith\" picture and experiment more with the PIL library. Try to create the image below and then expand on it. To draw things or write text in a different font you will have to import the following at the top of your program:<br><br>\n",
    "\n",
    "<b>import PIL.ImageDraw<br>\n",
    "import PIL.ImageFont</b><br><br>\n",
    "\n",
    "The font I used was called <b><i>FaceYourFears.ttf</i></b> which I downloaded from <a href=\"http://www.urbanfonts.com/free-fonts.htm\" target=\"_blank\">urbanfonts.com</a> and put in my working directory with my program. Save your final image and then show it to your instructor. \n",
    "<center><img src=\"https://dl.dropboxusercontent.com/u/90219577/Hermon/CSE_Website/notebooks/16/FinalSith.png\"></center><br><br>\n",
    "<center><font size=\"+2\"><b>May the Compression FORCE be with You!</b></font></center><br>\n",
    "<b><u>Part 2</u>:</b> In Scholar, you will complete the \"Compression FORCE\" activity where you will calculate Compression Ratios and Percent Compressions.<br><br>\n",
    "\n",
    "</td></tr></table>"
   ]
  },
  {
   "cell_type": "markdown",
   "metadata": {},
   "source": [
    "<div align=\"right\">\n",
    "<a href=\"http://nbviewer.ipython.org/github/CSE-UHS/CSE_Python/blob/master/Chapter00.ipynb\" align=\"right\"><h2>Table of Contents</h2></a>\n",
    "</div>"
   ]
  }
 ],
 "metadata": {
  "kernelspec": {
   "display_name": "Python 2",
   "language": "python",
   "name": "python2"
  },
  "language_info": {
   "codemirror_mode": {
    "name": "ipython",
    "version": 2
   },
   "file_extension": ".py",
   "mimetype": "text/x-python",
   "name": "python",
   "nbconvert_exporter": "python",
   "pygments_lexer": "ipython2",
   "version": "2.7.10"
  }
 },
 "nbformat": 4,
 "nbformat_minor": 0
}
