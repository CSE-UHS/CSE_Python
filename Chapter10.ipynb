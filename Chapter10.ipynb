{
 "metadata": {
  "name": "",
  "signature": "sha256:822e934584b4783d2d5b117bb65ff324cfae5df1b65bc50045cbad03fd089954"
 },
 "nbformat": 3,
 "nbformat_minor": 0,
 "worksheets": [
  {
   "cells": [
    {
     "cell_type": "markdown",
     "metadata": {},
     "source": [
      "<table width=\"100%\" border=\"0\" cellpadding=\"2\" cellspacing=\"0\">\n",
      "<tr>\n",
      "<td width=\"40%\"><center><a href=\"http://nbviewer.ipython.org/github/CSE-UHS/CSE_Python/blob/master/Chapter09.ipynb\"> <---Ch. 09 Classes, Objects and Methods</a></td>\n",
      "<td width=\"20%\"><center><a href=\"http://nbviewer.ipython.org/github/CSE-UHS/CSE_Python/blob/master/Chapter00.ipynb\">Table of Contents</a></td>\n",
      "<td width=\"40%\"><center><a href=\"http://nbviewer.ipython.org/github/CSE-UHS/CSE_Python/blob/master/Chapter11.ipynb\">Ch. 11 Images  ---></a></td>\n",
      "</tr></table>"
     ]
    },
    {
     "cell_type": "heading",
     "level": 1,
     "metadata": {},
     "source": [
      "Chapter 10: Libraries - Matplotlib"
     ]
    },
    {
     "cell_type": "heading",
     "level": 2,
     "metadata": {},
     "source": [
      "Part 1: Introduction"
     ]
    },
    {
     "cell_type": "markdown",
     "metadata": {},
     "source": [
      "&nbsp;&nbsp;&nbsp;&nbsp;&nbsp;A library is a collection of code for functions and classes. Often, these libraries are written by someone else and brought into the project so that the programmer does not have to \u201creinvent the wheel.\u201d In Python the term used to describe a library of code is module.\n",
      "\n",
      "&nbsp;&nbsp;&nbsp;&nbsp;&nbsp;By using import math or import random, the programs created so far have already used modules. A library can be made up of multiple modules that can be imported. Often a library only has one module, so these words can sometimes be used interchangeably.\n",
      "\n",
      "&nbsp;&nbsp;&nbsp;&nbsp;&nbsp;Modules are often organized into groups of similar functionality. Modules can be organized so that individual modules contain other modules. For example, the pygame module contains submodules for pygame.draw, pygame.image, and pygame.mouse.\n",
      "\n",
      "&nbsp;&nbsp;&nbsp;&nbsp;&nbsp;Modules are not loaded unless the program asks them to. This saves time and computer memory. This chapter shows how to create a module, and how to import and use that module."
     ]
    },
    {
     "cell_type": "heading",
     "level": 2,
     "metadata": {},
     "source": [
      "Part 2: Why Create a Library?"
     ]
    },
    {
     "cell_type": "markdown",
     "metadata": {},
     "source": [
      "There are three major reasons for a programmer to create his or her own libraries:\n",
      "\n",
      "1.) It breaks the code into smaller, easier to use parts.<br>\n",
      "2.) It allows multiple people to work on a program at the same time.<br>\n",
      "3.) The code written can be easily shared with other programmers.<br>\n",
      "\n",
      "&nbsp;&nbsp;&nbsp;&nbsp;&nbsp;Many programs can get rather long. By separating a large program into several smaller programs, it is easier to manage the code. \n",
      "\n",
      "&nbsp;&nbsp;&nbsp;&nbsp;&nbsp;If multiple programmers work on the same project, it is nearly impossible to do so if all the code is in one file. However, by breaking the program into multiple pieces, it becomes easier. One programmer could work on developing an \u201cOrc\u201d sprite class. Another programmer could work on the \u201cGoblin\u201d sprite class. Since the sprites are in separate files, the programmers do not run into conflict.\n",
      "\n",
      "&nbsp;&nbsp;&nbsp;&nbsp;&nbsp;Modern programmers rarely build programs from scratch. Often programs are built from parts of other programs that share the same functionality. If one programmer creates code that can handle a mortgage application form, that code will ideally go into a library. Then any other program that needs to manage a mortgage application form at that bank can call on that library."
     ]
    },
    {
     "cell_type": "heading",
     "level": 2,
     "metadata": {},
     "source": [
      "Part 3: Creating Your Own Library/Module File"
     ]
    },
    {
     "cell_type": "markdown",
     "metadata": {},
     "source": [
      "&nbsp;&nbsp;&nbsp;&nbsp;&nbsp;In this example we will break apart a short program into multiple files. Here we have a function in a file named test.py, and a call to that function:"
     ]
    },
    {
     "cell_type": "markdown",
     "metadata": {},
     "source": [
      "<table width=\"100%\" border=\"0\" cellpadding=\"2\" cellspacing=\"0\">\n",
      "<tr>\n",
      "<td width=\"40%\"><center><a href=\"http://nbviewer.ipython.org/github/CSE-UHS/CSE_Python/blob/master/Chapter09.ipynb\"> <---Ch. 09 Classes, Objects and Methods</a></td>\n",
      "<td width=\"20%\"><center><a href=\"http://nbviewer.ipython.org/github/CSE-UHS/CSE_Python/blob/master/Chapter00.ipynb\">Table of Contents</a></td>\n",
      "<td width=\"40%\"><center><a href=\"http://nbviewer.ipython.org/github/CSE-UHS/CSE_Python/blob/master/Chapter11.ipynb\">Ch. 11 Images  ---></a></td>\n",
      "</tr></table>"
     ]
    }
   ],
   "metadata": {}
  }
 ]
}