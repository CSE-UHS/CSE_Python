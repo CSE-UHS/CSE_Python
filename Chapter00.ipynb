{
 "metadata": {
  "name": "",
  "signature": "sha256:236643d33009d6ee6207160c98547476562c7e76b8a8311aabe7ee1bf4c7b3ff"
 },
 "nbformat": 3,
 "nbformat_minor": 0,
 "worksheets": [
  {
   "cells": [
    {
     "cell_type": "markdown",
     "metadata": {},
     "source": [
      "<center><font size=\"+4\" color=\"#009900\"><b><u>Hermon's Book of Python</u></b></font></center>"
     ]
    },
    {
     "cell_type": "markdown",
     "metadata": {},
     "source": [
      "<center><img src=\"https://dl.dropboxusercontent.com/u/90219577/Hermon/CSE_Website/notebooks/python.gif\"></center>"
     ]
    },
    {
     "cell_type": "markdown",
     "metadata": {},
     "source": [
      "<font size=\"+3\">\n",
      "<a href=\"http://nbviewer.ipython.org/github/CSE-UHS/CSE_Python/blob/master/Chapter01.ipynb\">Chapter 01: Variable Types and Operators</a>\n",
      "<br><br>\n",
      "<a href=\"http://nbviewer.ipython.org/github/CSE-UHS/CSE_Python/blob/master/Chapter02.ipynb\">Chapter 02: Printing and User Input</a>\n",
      "<br><br>\n",
      "<a href=\"http://nbviewer.ipython.org/github/CSE-UHS/CSE_Python/blob/master/Chapter03.ipynb\">Chapter 03: If-Else Structures</a>\n",
      "<br><br>\n",
      "<a href=\"http://nbviewer.ipython.org/github/CSE-UHS/CSE_Python/blob/master/Chapter04.ipynb\">Chapter 04: Looping and Random Numbers</a>\n",
      "<br><br>\n",
      "<a href=\"http://nbviewer.ipython.org/github/CSE-UHS/CSE_Python/blob/master/Chapter05.ipynb\">Chapter 05: Lists, Tuples and Strings</a>\n",
      "<br><br>\n",
      "<a href=\"http://nbviewer.ipython.org/github/CSE-UHS/CSE_Python/blob/master/Chapter06.ipynb\">Chapter 06: Functions</a>\n",
      "<br><br>\n",
      "<a href=\"http://nbviewer.ipython.org/github/CSE-UHS/CSE_Python/blob/master/Chapter07.ipynb\">Chapter 07:</a>\n",
      "<br><br>\n",
      "<a href=\"http://nbviewer.ipython.org/github/CSE-UHS/CSE_Python/blob/master/Chapter08.ipynb\">Chapter 08:</a>\n",
      "<br><br>\n",
      "<a href=\"http://nbviewer.ipython.org/github/CSE-UHS/CSE_Python/blob/master/Chapter09.ipynb\">Chapter 09:</a>\n",
      "<br><br>\n",
      "<a href=\"http://nbviewer.ipython.org/github/CSE-UHS/CSE_Python/blob/master/Chapter10.ipynb\">Chapter 10:</a>\n",
      "<br><br>\n",
      "</font>"
     ]
    }
   ],
   "metadata": {}
  }
 ]
}