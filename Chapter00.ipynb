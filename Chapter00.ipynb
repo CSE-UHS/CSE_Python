{
 "cells": [
  {
   "cell_type": "markdown",
   "metadata": {},
   "source": [
    "<center><font size=\"+4\" color=\"#009900\"><b><u>Hermon's Book of Python</u></b></font></center>"
   ]
  },
  {
   "cell_type": "markdown",
   "metadata": {},
   "source": [
    "<center><img src=\"https://dl.dropboxusercontent.com/u/90219577/Hermon/CSE_Website/notebooks/python.gif\" height=\"100\" width=\"100\"></center>"
   ]
  },
  {
   "cell_type": "markdown",
   "metadata": {},
   "source": [
    "<font size=\"+2\">\n",
    "<a href=\"http://nbviewer.ipython.org/github/CSE-UHS/CSE_Python/blob/master/Chapter01.ipynb\">Chapter 01: Variable Types and Operators</a>\n",
    "<br><br>\n",
    "<a href=\"http://nbviewer.ipython.org/github/CSE-UHS/CSE_Python/blob/master/Chapter02.ipynb\">Chapter 02: Printing and User Input</a>\n",
    "<br><br>\n",
    "<a href=\"http://nbviewer.ipython.org/github/CSE-UHS/CSE_Python/blob/master/Chapter03.ipynb\">Chapter 03: If-Else Structures</a>\n",
    "<br><br>\n",
    "<a href=\"http://nbviewer.ipython.org/github/CSE-UHS/CSE_Python/blob/master/Chapter04.ipynb\">Chapter 04: Looping and Random Numbers</a>\n",
    "<br><br>\n",
    "<a href=\"http://nbviewer.ipython.org/github/CSE-UHS/CSE_Python/blob/master/Chapter05.ipynb\">Chapter 05: Lists, Tuples and Strings</a>\n",
    "<br><br>\n",
    "<a href=\"http://nbviewer.ipython.org/github/CSE-UHS/CSE_Python/blob/master/Chapter06.ipynb\">Chapter 06: Functions</a>\n",
    "<br><br>\n",
    "<a href=\"http://nbviewer.ipython.org/github/CSE-UHS/CSE_Python/blob/master/Chapter07.ipynb\">Chapter 07: Text Formatting</a>\n",
    "<br><br>\n",
    "<a href=\"http://nbviewer.ipython.org/github/CSE-UHS/CSE_Python/blob/master/Chapter08.ipynb\">Chapter 08: Version Control - GitHub</a>\n",
    "<br><br>\n",
    "<a href=\"http://nbviewer.ipython.org/github/CSE-UHS/CSE_Python/blob/master/Chapter09.ipynb\">Chapter 09: Iterative Prisoner's Dilemma</a>\n",
    "<br><br>\n",
    "<a href=\"http://nbviewer.ipython.org/github/CSE-UHS/CSE_Python/blob/master/Chapter10.ipynb\">Chapter 10: Classes, Objects and Methods</a>\n",
    "<br><br>\n",
    "<a href=\"http://nbviewer.ipython.org/github/CSE-UHS/CSE_Python/blob/master/Chapter11.ipynb\">Chapter 11: Libraries or Modules</a>\n",
    "<br><br>\n",
    "<a href=\"http://nbviewer.ipython.org/github/CSE-UHS/CSE_Python/blob/master/Chapter12.ipynb\">Chapter 12: The Matplotlib Module</a>\n",
    "<br><br>\n",
    "<a href=\"http://nbviewer.ipython.org/github/CSE-UHS/CSE_Python/blob/master/Chapter13.ipynb\">Chapter 13: Exception Handling</a>\n",
    "<br><br>\n",
    "<a href=\"http://nbviewer.ipython.org/github/CSE-UHS/CSE_Python/blob/master/Chapter14.ipynb\">Chapter 14: Manipulating Images</a>\n",
    "<br><br>\n",
    "<a href=\"http://nbviewer.ipython.org/github/CSE-UHS/CSE_Python/blob/master/Chapter15.ipynb\">Chapter 15: Playing with Pixels</a>\n",
    "<br><br>\n",
    "<a href=\"http://nbviewer.ipython.org/github/CSE-UHS/CSE_Python/blob/master/Chapter16.ipynb\">Chapter 16: Python Imaging Library (PIL)</a>\n",
    "<br><br>\n",
    "<a href=\"http://nbviewer.ipython.org/github/CSE-UHS/CSE_Python/blob/master/Chapter17.ipynb\">Chapter 17: Image Algorithms</a>\n",
    "<br><br>\n",
    "</font>"
   ]
  }
 ],
 "metadata": {
  "kernelspec": {
   "display_name": "Python 2",
   "language": "python",
   "name": "python2"
  },
  "language_info": {
   "codemirror_mode": {
    "name": "ipython",
    "version": 2
   },
   "file_extension": ".py",
   "mimetype": "text/x-python",
   "name": "python",
   "nbconvert_exporter": "python",
   "pygments_lexer": "ipython2",
   "version": "2.7.10"
  }
 },
 "nbformat": 4,
 "nbformat_minor": 0
}
