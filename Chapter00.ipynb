{
 "cells": [
  {
   "cell_type": "markdown",
   "metadata": {},
   "source": [
    "<table border: solid black 0px; cellpadding=\"2\" width=\"100%\"><tr><td><center><font size=\"+4\" color=\"#009900\"><b><u>Jedi Academy of Python</u></b></font></center></td><td><center><img src=\"https://dl.dropboxusercontent.com/u/90219577/Hermon/CSE_Website/notebooks/sith.png\" height=\"300\" width=\"300\"><font face=\"courier\" color=\"green\"><b>print</b>(<font color=\"red\">\"Beware of the Sssssith!\"</font>)</font></center></td></tr></table>"
   ]
  },
  {
   "cell_type": "markdown",
   "metadata": {},
   "source": [
    "<table border=\"0\" cellpadding=\"2\" width=\"100%\">\n",
    "<tr><td style=\"vertical-align:top\">\n",
    "<b><u><font size=\"+2\">Python for Younglings</font></b></u><br><br>\n",
    "<font size=\"+1\">\n",
    "<a href=\"http://nbviewer.ipython.org/github/CSE-UHS/CSE_Python/blob/master/Chapter01.ipynb\">Chapter 01: Variable Types and Operators</a>\n",
    "<br><br>\n",
    "<a href=\"http://nbviewer.ipython.org/github/CSE-UHS/CSE_Python/blob/master/Chapter02.ipynb\">Chapter 02: Printing and User Input</a>\n",
    "<br><br>\n",
    "<a href=\"http://nbviewer.ipython.org/github/CSE-UHS/CSE_Python/blob/master/Chapter03.ipynb\">Chapter 03: If-Else Structures</a>\n",
    "<br><br>\n",
    "<a href=\"http://nbviewer.ipython.org/github/CSE-UHS/CSE_Python/blob/master/Chapter04.ipynb\">Chapter 04: Looping and Random Numbers</a><br>\n",
    "&nbsp;&nbsp;&nbsp;&nbsp;&nbsp;&nbsp;&nbsp;&nbsp;Coin Toss<br>\n",
    "&nbsp;&nbsp;&nbsp;&nbsp;&nbsp;&nbsp;&nbsp;&nbsp;Roshambo<br>\n",
    "&nbsp;&nbsp;&nbsp;&nbsp;&nbsp;&nbsp;&nbsp;&nbsp;Camel Project\n",
    "<br><br>\n",
    "<a href=\"http://nbviewer.ipython.org/github/CSE-UHS/CSE_Python/blob/master/Chapter05.ipynb\">Chapter 05: Lists, Tuples and Strings</a>\n",
    "<br><br>\n",
    "<a href=\"http://nbviewer.ipython.org/github/CSE-UHS/CSE_Python/blob/master/Chapter06.ipynb\">Chapter 06: Functions</a>\n",
    "<br><br>\n",
    "<a href=\"http://nbviewer.ipython.org/github/CSE-UHS/CSE_Python/blob/master/Chapter07.ipynb\">Chapter 07: Text Formatting</a>\n",
    "<br><br>\n",
    "<a href=\"http://nbviewer.ipython.org/github/CSE-UHS/CSE_Python/blob/master/Chapter08.ipynb\">Chapter 08: Version Control - GitHub</a>\n",
    "<br><br>\n",
    "<a href=\"http://nbviewer.ipython.org/github/CSE-UHS/CSE_Python/blob/master/Chapter09.ipynb\">Chapter 09: Iterative Prisoner's Dilemma</a>\n",
    "</td><td style=\"vertical-align:top\">\n",
    "<b><u><font size=\"+2\">Python for Padawans</font></b></u><br><br>\n",
    "<font size=\"+1\">\n",
    "<a href=\"http://nbviewer.ipython.org/github/CSE-UHS/CSE_Python/blob/master/Chapter10.ipynb\">Chapter 10: Classes, Objects and Methods</a>\n",
    "<br><br>\n",
    "<a href=\"http://nbviewer.ipython.org/github/CSE-UHS/CSE_Python/blob/master/Chapter11.ipynb\">Chapter 11: Libraries or Modules</a>\n",
    "<br><br>\n",
    "<a href=\"http://nbviewer.ipython.org/github/CSE-UHS/CSE_Python/blob/master/Chapter12.ipynb\">Chapter 12: The Matplotlib Module</a>\n",
    "<br><br>\n",
    "<a href=\"http://nbviewer.ipython.org/github/CSE-UHS/CSE_Python/blob/master/Chapter13.ipynb\">Chapter 13: Exception Handling</a>\n",
    "<br><br>\n",
    "<a href=\"http://nbviewer.ipython.org/github/CSE-UHS/CSE_Python/blob/master/Chapter14.ipynb\">Chapter 14: Manipulating Images</a>\n",
    "<br><br>\n",
    "<a href=\"http://nbviewer.ipython.org/github/CSE-UHS/CSE_Python/blob/master/Chapter15.ipynb\">Chapter 15: Playing with Pixels</a>\n",
    "<br><br>\n",
    "<a href=\"http://nbviewer.ipython.org/github/CSE-UHS/CSE_Python/blob/master/Chapter16.ipynb\">Chapter 16: Python Imaging Library (PIL)</a>\n",
    "<br><br>\n",
    "<a href=\"http://nbviewer.ipython.org/github/CSE-UHS/CSE_Python/blob/master/Chapter17.ipynb\">Chapter 17: Image Algorithms</a>\n",
    "<br><br>\n",
    "</font><b><u><font size=\"+2\">Python for Jedi Knights</font></b></u><br><br>\n",
    "<font size=\"+1\">\n",
    "<a href=\"http://nbviewer.ipython.org/github/CSE-UHS/CSE_Python/blob/master/Chapter18.ipynb\">Chapter 18: Graphics</a>\n",
    "<br><br>\n",
    "<a href=\"http://nbviewer.ipython.org/github/CSE-UHS/CSE_Python/blob/master/Chapter19.ipynb\">Chapter 19: MVC Pattern</a>\n",
    "<br><br>\n",
    "<a href=\"http://nbviewer.ipython.org/github/CSE-UHS/CSE_Python/blob/master/Chapter20.ipynb\">Chapter 20: More GUI</a>\n",
    "<br><br>\n",
    "</font>\n",
    "</td></tr></table>"
   ]
  },
  {
   "cell_type": "code",
   "execution_count": null,
   "metadata": {
    "collapsed": true
   },
   "outputs": [],
   "source": []
  }
 ],
 "metadata": {
  "kernelspec": {
   "display_name": "Python 2",
   "language": "python",
   "name": "python2"
  },
  "language_info": {
   "codemirror_mode": {
    "name": "ipython",
    "version": 2
   },
   "file_extension": ".py",
   "mimetype": "text/x-python",
   "name": "python",
   "nbconvert_exporter": "python",
   "pygments_lexer": "ipython2",
   "version": "2.7.10"
  }
 },
 "nbformat": 4,
 "nbformat_minor": 0
}
