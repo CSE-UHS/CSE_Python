{
 "metadata": {
  "name": "",
  "signature": "sha256:0332139bc25870ff539ad60879d24b9abc375398b50f87d6f606556043490365"
 },
 "nbformat": 3,
 "nbformat_minor": 0,
 "worksheets": [
  {
   "cells": [
    {
     "cell_type": "markdown",
     "metadata": {},
     "source": [
      "<center><font size=\"+4\" color=\"#009900\"><b><u>Hermon's Book of Python</u></b></font></center>"
     ]
    },
    {
     "cell_type": "markdown",
     "metadata": {},
     "source": [
      "<center><img src=\"https://dl.dropboxusercontent.com/u/90219577/Hermon/CSE_Website/notebooks/python.gif\"></center>"
     ]
    },
    {
     "cell_type": "markdown",
     "metadata": {},
     "source": [
      "<font size=\"+3\">\n",
      "<a href=\"http://nbviewer.ipython.org/github/CSE-UHS/CSE_Python/blob/master/Chapter01.ipynb\">Chapter 01: Variable Types and Operators</a>\n",
      "<br><br>\n",
      "<a href=\"http://nbviewer.ipython.org/github/CSE-UHS/CSE_Python/blob/master/Chapter02.ipynb\">Chapter 02: Printing and User Input</a>\n",
      "<br><br>\n",
      "<a href=\"http://nbviewer.ipython.org/github/CSE-UHS/CSE_Python/blob/master/Chapter03.ipynb\">Chapter 03: If/Else Statements</a>\n",
      "<br><br>\n",
      "</font>"
     ]
    }
   ],
   "metadata": {}
  }
 ]
}