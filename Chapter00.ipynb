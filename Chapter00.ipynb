{
 "metadata": {
  "name": "",
  "signature": "sha256:bba0dcee9808bd7f17e15266997c6e892d253cb7c631e3c59985730782efa424"
 },
 "nbformat": 3,
 "nbformat_minor": 0,
 "worksheets": [
  {
   "cells": [
    {
     "cell_type": "markdown",
     "metadata": {},
     "source": [
      "<center><font size=\"+4\" color=\"#009900\"><b><u>Hermon's Book of Python</u></b></font></center>"
     ]
    },
    {
     "cell_type": "markdown",
     "metadata": {},
     "source": [
      "<center><img src=\"https://dl.dropboxusercontent.com/u/90219577/Hermon/CSE_Website/notebooks/python.gif\"></center>"
     ]
    },
    {
     "cell_type": "markdown",
     "metadata": {},
     "source": [
      "<font size=\"+3\">\n",
      "<a href=\"http://nbviewer.ipython.org/github/CSE-UHS/CSE_Python/blob/master/Chapter01.ipynb\">Chapter 01: Variable Types and Operators</a>\n",
      "<br><br>\n",
      "<a href=\"http://nbviewer.ipython.org/github/CSE-UHS/CSE_Python/blob/master/Chapter02.ipynb\">Chapter 02: Printing and User Input</a>\n",
      "<br><br>\n",
      "<a href=\"http://nbviewer.ipython.org/github/CSE-UHS/CSE_Python/blob/master/Chapter03.ipynb\">Chapter 03: If-Else Structures</a>\n",
      "<br><br>\n",
      "<a href=\"http://nbviewer.ipython.org/github/CSE-UHS/CSE_Python/blob/master/Chapter04.ipynb\">Chapter 04: Looping</a>\n",
      "<br><br>\n",
      "<a href=\"http://nbviewer.ipython.org/github/CSE-UHS/CSE_Python/blob/master/Chapter05.ipynb\">Chapter 05:</a>\n",
      "<br><br>\n",
      "<a href=\"http://nbviewer.ipython.org/github/CSE-UHS/CSE_Python/blob/master/Chapter06.ipynb\">Chapter 06:</a>\n",
      "<br><br>\n",
      "<a href=\"http://nbviewer.ipython.org/github/CSE-UHS/CSE_Python/blob/master/Chapter07.ipynb\">Chapter 07:</a>\n",
      "<br><br>\n",
      "<a href=\"http://nbviewer.ipython.org/github/CSE-UHS/CSE_Python/blob/master/Chapter08.ipynb\">Chapter 08:</a>\n",
      "<br><br>\n",
      "<a href=\"http://nbviewer.ipython.org/github/CSE-UHS/CSE_Python/blob/master/Chapter09.ipynb\">Chapter 09:</a>\n",
      "<br><br>\n",
      "<a href=\"http://nbviewer.ipython.org/github/CSE-UHS/CSE_Python/blob/master/Chapter10.ipynb\">Chapter 10:</a>\n",
      "<br><br>\n",
      "</font>"
     ]
    }
   ],
   "metadata": {}
  }
 ]
}