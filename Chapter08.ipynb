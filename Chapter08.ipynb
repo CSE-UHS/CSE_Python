{
 "metadata": {
  "name": "",
  "signature": "sha256:359b64ebedfef249c117d888677113ae9b14b780492335a40685d090aaf08e9e"
 },
 "nbformat": 3,
 "nbformat_minor": 0,
 "worksheets": [
  {
   "cells": [
    {
     "cell_type": "markdown",
     "metadata": {},
     "source": [
      "<table width=\"100%\" border=\"0\" cellpadding=\"2\" cellspacing=\"0\">\n",
      "<tr>\n",
      "<td width=\"40%\"><center><a href=\"http://nbviewer.ipython.org/github/CSE-UHS/CSE_Python/blob/master/Chapter07.ipynb\"> <---Ch. 07 Version Control - GitHub</a></td>\n",
      "<td width=\"20%\"><center><a href=\"http://nbviewer.ipython.org/github/CSE-UHS/CSE_Python/blob/master/Chapter00.ipynb\">Table of Contents</a></td>\n",
      "<td width=\"40%\"><center><a href=\"http://nbviewer.ipython.org/github/CSE-UHS/CSE_Python/blob/master/Chapter09.ipynb\">Ch. 09 Python Images  ---></a></td>\n",
      "</tr></table>"
     ]
    },
    {
     "cell_type": "heading",
     "level": 1,
     "metadata": {},
     "source": [
      "Chapter 8: The Iterative Prisoner's Dilemma"
     ]
    },
    {
     "cell_type": "markdown",
     "metadata": {},
     "source": [
      "<center><img src=\"https://dl.dropboxusercontent.com/u/90219577/Hermon/CSE_Website/notebooks/08/PD.jpg\" height=\"50%\" width=\"50%\"></center>\n"
     ]
    },
    {
     "cell_type": "markdown",
     "metadata": {},
     "source": [
      "   <p>&nbsp;&nbsp;&nbsp;&nbsp;&nbsp;How do individuals make strategic decisions? What has a greater impact on making a decision, the prospect of reward or the threat of punishment? How do decisions made in one situation apply to another?</p>\n",
      " \n",
      " <h2>Part I: Introduction</h2>\n",
      " \n",
      "<p>&nbsp;&nbsp;&nbsp;&nbsp;&nbsp;As we learn about version control and collaboration solutions, we will explore and modify existing code that simulates a round-robin tournament among 15 players. The game is called the Iterative Prisoner\u2019s Dilemma (IPD), a fundamental problem in game theory. Game theory is an approach to studying the social sciences, using computation to understand and predict people\u2019s behavior. Game theory is used, for example, to understand and predict economic phenomena like stock market fluctuations and political phenomena like revolutions. Nations use game theorists to advise national leaders and negotiators in order to help them understand the group\u2019s dynamics and predict results for various actions they are considering taking.</p>\n",
      "\n",
      "<p>&nbsp;&nbsp;&nbsp;&nbsp;&nbsp;Game theorists use algorithms to describe people\u2019s decisions. Consider your decision to buy lunch each day. If the cafeteria director decides to raise the lunch price above a certain point, you will opt not to buy school lunch, right? At what price? Are there other factors? A game theorist could write an algorithm for the decision to buy school lunch in terms of price and other factors.</p>\n",
      "\n",
      "<p>&nbsp;&nbsp;&nbsp;&nbsp;&nbsp;The Iterative Prisoner\u2019s Dilemma is a series of rounds of the Prisoner\u2019s Dilemma. The Prisoner\u2019s Dilemma was one of the early algorithmic problems in game theory, first posed in 1950. In the Prisoner\u2019s Dilemma, you and a partner have committed a crime together, and you are caught without evidence. The police question you and your partner separately.</p>\n",
      "\n",
      "<b>\u2022\tIf both of you collude together and refuse to talk the police, you both will go free.<br> \n",
      "\u2022\tIf you both confess your crime and betray each other, the liability of the crime will be split between you. You both will receive the standard punishment.<br>\n",
      "\u2022\tIf you stonewall the police, hoping to collude with your partner but your partner betrays you, you will receive an unusually severe punishment while they go free and get to keep the stolen goods.<br>\n",
      "\u2022\tIf you betray your partner while they attempt to collude with you, you will receive the cash and freedom.</b><br>\n",
      "\n",
      "<center><h2><u><b>Your Result</b></u></h2><img src=\"https://dl.dropboxusercontent.com/u/90219577/Hermon/CSE_Website/notebooks/08/chart.png\"></center>\n",
      "\n",
      "<p>&nbsp;&nbsp;&nbsp;&nbsp;&nbsp;In the Iterative Prisoner\u2019s Dilemma, many rounds are played, one after another, with the same partner in crime. Betraying in one round will sometimes cause the partner to lose trust and be less likely to collude with you in future rounds. Once partners start betraying each other, round after round they end up turning each other in and doing poorly. Considered together, you and your partner\u2019s outcomes are better if you collude round after round. The Prisoner\u2019s Dilemma lets social scientists study the conditions under which people will act either selfishly or in the best collective interests of the group.</p>\n",
      "\n",
      "<p>&nbsp;&nbsp;&nbsp;&nbsp;&nbsp;Our recent capacity to generate, collect, store, and analyze huge amounts of data quickly has caused dramatic changes in all career fields. Simulation was an unimportant tool in social sciences in 1960. The rise in computational power has changed the career fields in social sciences such that simulation is now a fundamental and common tool for many social scientists.</p>\n",
      "\n",
      "<p>&nbsp;&nbsp;&nbsp;&nbsp;&nbsp;Your teacher has assigned you to a team. You will pair program together on only one of your github files.</p>\n",
      "\n",
      "<h2>Part II. Explore the Simulation</h2>\n",
      "\n",
      "<p>&nbsp;&nbsp;&nbsp;&nbsp;&nbsp;Double-check that you are in the \u201ctesting\u201d branch of the IPD repository of which you created a fork.</p>\n",
      "\n",
      "<p>&nbsp;&nbsp;&nbsp;&nbsp;&nbsp;Open the Prisoner\u2019s Dilemma Python file in the Python code editor.At the IPython prompt, execute the following command.<br><br>\n",
      "<b>In []: play_tournament(4)</b><br><br>Data from the simulation are printed to the screen and stored in a data file. On screen you should see the following information.</p>\n",
      "\n",
      "<center><img src=\"https://dl.dropboxusercontent.com/u/90219577/Hermon/CSE_Website/notebooks/08/runprogam.png\"></center>\n",
      "\n",
      "<p>&nbsp;&nbsp;&nbsp;&nbsp;&nbsp;Each column shows the score earned per round against each other player. Looking at the second table, which player finished with the highest average score? Note that all the scores are negative.</p>\n",
      "\n",
      "<p>&nbsp;&nbsp;&nbsp;&nbsp;&nbsp;The simulation program represents each decision by one of the two characters <b>'c'</b> or <b>'b'</b> to collude or betray. Before making the decision each round, each player (or algorithm) can consider what has happened in previous rounds. The algorithms have the previous rounds\u2019 information in the form of a string. For example <b>'ccb'</b> indicates that the player colluded in the first two rounds and betrayed in the most recent round. Each player can consider two strings: one for their own history and one for their crime partner\u2019s history. In the below example, 5 rounds have been played. Considering the following two histories can you determine each of their scores?<br>\n",
      "<br>\n",
      "<b>Your history \t\t\t\t'ccccc'<br>\n",
      "Your crime partner\u2019s history \t'ccccb'</b></p>\n",
      "\n",
      "<p>&nbsp;&nbsp;&nbsp;&nbsp;&nbsp;The four players in the first simulation you ran used three different algorithms, as labeled in the second table: loyal, backstabber, loyal vengeful. The code for playing a tournament calls <b>get_action()</b> with <b>getting_team_name=True</b> in line 602. But you don't need to worry about that code; just focus on the strategies. Three parts of Python code implementing the three algorithmic strategies are shown below, in the else-blocks starting on lines 115, 131, and 149. Only the third algorithm considers what has occurred in previous rounds. It uses history and opponent_history.</p>\n",
      "\n",
      "<center><img src=\"https://dl.dropboxusercontent.com/u/90219577/Hermon/CSE_Website/notebooks/08/code.png\"></center>\n",
      "\n",
      "\n",
      "<p>&nbsp;&nbsp;&nbsp;&nbsp;&nbsp;A ten-round match between player 0 and player 1 results as follows:<br><br>\n",
      "\n",
      "<b>Player 0:\t'cccccccccc'     Score  = -5000<br>\n",
      "Player 1:\t'bbbbbbbbbb'      Score  = +1000</b><br><br>\n",
      "\n",
      "Analyze the code for these algorithms and record the results you expect from a ten-round match of the IPD between player 1 and player 2, following the previous example matching player 0 to player 1.</p>\n",
      "\n",
      "<p>&nbsp;&nbsp;&nbsp;&nbsp;&nbsp;Now open the file <b>tournament.txt</b>. The simulation program will have stored that file in the same directory as the simulation program itself. At the top of the file is the record for team 1 vs. team 0, showing their final scores per round, the names for their strategies, and a record of their decisions in b and c strings. When the simulation runs, it runs 200 to 300 rounds of the dilemma between each pair of strategies. Scroll down until you find the data stored for team 2 vs. team 1. Is it different than your prediction? If so, how?</p>\n",
      "\n",
      "<p>&nbsp;&nbsp;&nbsp;&nbsp;&nbsp;At the IPython prompt, execute the command that will run the tournament using all 15 strategies. Which strategy earned the highest average score? Notice that a strategy\u2019s success is dependent upon the strategies it is collaborating with and competing against.</p>\n",
      "\n",
      "<h2>Part III: Develop Your Own Algorithm</h2>\n",
      "\n",
      "<p>&nbsp;&nbsp;&nbsp;&nbsp;&nbsp;With your partner brainstorm algorithms for making the collude-vs.-betray decision.  Implement your algorithm in Python in the section of the code reserved for one of the players 5, 6, and 7. You will be replacing the code in the else-block using your algorithm. In that section of code, also give a name to your algorithm\u2019s strategy. Test your algorithm by calling the play_tournament(n) function. If it appears to be working, examine the tournament.txt file to see how your algorithm performed against each other strategy. Decide on one of your algorithms to contribute to the whole-class tournament.</p>\n",
      "\n",
      "<h2>Part IV. Contribute Your Strategy to the Class Collaboration</h2>\n",
      "\n",
      "\n",
      "<p>&nbsp;&nbsp;&nbsp;&nbsp;&nbsp;Highlight the code for the strategy that you are going to use in the tournament and copy it to the clipboard (Edit \u2192 Copy or Ctrl+C).</p>\n",
      "\n",
      "<p>&nbsp;&nbsp;&nbsp;&nbsp;&nbsp;Switch to the \u201cmaster\u201d branch of your fork of the IPD Repository. In the GitHub for Mac Client, Click on the arrow next to \u201ctesting\u201d and choose \u201cmaster.\u201d Canopy will automatically update the code file you have open, showing the original version of the code.Find the location for your assigned team number, and paste in the copied code.  Be careful not to make any changes anywhere else in the code.</p>\n",
      "\n",
      "<h2>Part V. Contribute Your Strategy to the Class Collaboration</h2>\n",
      "\n",
      "<p>&nbsp;&nbsp;&nbsp;&nbsp;&nbsp;You should have your IPD strategy in the Python file within the master branch. Once you save the Python file you will need to make a commit in the GitHub for Mac Client. Sync your repository so the remote and client are current.</p>\n",
      "\n",
      "<p>&nbsp;&nbsp;&nbsp;&nbsp;&nbsp;Open the repository on GitHub by either right-clicking on it in the list or directing a Web browser to github.com.</p>\n",
      "\n",
      "<p>&nbsp;&nbsp;&nbsp;&nbsp;&nbsp;To merge your changes into the original code, create a Pull Request by clicking on the green symbol to enter the compare and pull request screen. The top line shows what two things you are comparing. In this case it should show the master branch of the original repository in your school\u2019s organization account (the base fork) and your master branch in your forked copy of the repository (the head fork). If it does not, click on the \u201cEdit\u201d button to change it.</p>\n",
      "\n",
      "<p>&nbsp;&nbsp;&nbsp;&nbsp;&nbsp;Click on \u201cCreate pull request\u201d and add in a title a comment (much like a commit message). In the pull request type the names of your group members. Finish by once again clicking \u201cCreate pull request.\u201d</p>\n",
      "\n",
      "<p>&nbsp;&nbsp;&nbsp;&nbsp;&nbsp;Your teacher will now get a message that someone has code they would like to add into the original repository. If everything was done correctly, your class's code will be easily merged into the original class repo's master branch. The current commit in that master branch will have the original code modified with the code of every other team. If two different developers both make changes on the same line of code, there will be a merge conflict which will have to be resolved by your instructor. After all teams have entered their code into the competition your instructor will run the tournament.</p>\n",
      "\n"
     ]
    },
    {
     "cell_type": "markdown",
     "metadata": {},
     "source": [
      "<table width=\"100%\" border=\"0\" cellpadding=\"2\" cellspacing=\"0\">\n",
      "<tr>\n",
      "<td width=\"40%\"><center><a href=\"http://nbviewer.ipython.org/github/CSE-UHS/CSE_Python/blob/master/Chapter07.ipynb\"> <---Ch. 07 Version Control - GitHub</a></td>\n",
      "<td width=\"20%\"><center><a href=\"http://nbviewer.ipython.org/github/CSE-UHS/CSE_Python/blob/master/Chapter00.ipynb\">Table of Contents</a></td>\n",
      "<td width=\"40%\"><center><a href=\"http://nbviewer.ipython.org/github/CSE-UHS/CSE_Python/blob/master/Chapter09.ipynb\">Ch. 09 Python Images  ---></a></td>\n",
      "</tr></table>"
     ]
    }
   ],
   "metadata": {}
  }
 ]
}