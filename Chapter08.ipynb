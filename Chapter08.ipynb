{
 "cells": [
  {
   "cell_type": "markdown",
   "metadata": {
    "deletable": true,
    "editable": true
   },
   "source": [
    "<div align=\"right\">\n",
    "<a href=\"http://nbviewer.ipython.org/github/CSP-UHS/Hermons_Book_of_Python/blob/master/Chapter00.ipynb\" align=\"right\"><h2>Table of Contents</h2></a>\n",
    "</div>"
   ]
  },
  {
   "cell_type": "markdown",
   "metadata": {
    "deletable": true,
    "editable": true
   },
   "source": [
    "# Chapter 8: Version Control - GitHub"
   ]
  },
  {
   "cell_type": "markdown",
   "metadata": {
    "deletable": true,
    "editable": true
   },
   "source": [
    "<center><img src=\"http://www.hermonswebsites.com/PyNotebooks/Python/07/github.png\"></center>\n"
   ]
  },
  {
   "cell_type": "markdown",
   "metadata": {
    "deletable": true,
    "editable": true
   },
   "source": [
    "   <p>&nbsp;&nbsp;&nbsp;&nbsp;&nbsp;Version control is a powerful tool for developing any project or product. If you are collaborating with one or more other people, it is even more important. Have you ever found it difficult to keep papers well organized? What happens when 20 people all work on the same document?</p>\n",
    " \n",
    " <h2>Part I: Introduction</h2>\n",
    " \n",
    "<p>&nbsp;&nbsp;&nbsp;&nbsp;&nbsp;Frequent changes and testing are important during development of a digital product. A <b>version control</b> system allows a person to create software or any other product and keep track of those changes. A distributed version control system allows a group of people to work on the same project and keep track of everyone’s individual changes.</p>\n",
    "\n",
    "<p>&nbsp;&nbsp;&nbsp;&nbsp;&nbsp;There are many different distributed version control systems, including BitKeeper, Mercurial and Git. Git was developed by Linus Torvalds for use during development of the Linux operating system kernel, and has since become the most widely used distributed version control software.</p>\n",
    "\n",
    "<p>&nbsp;&nbsp;&nbsp;&nbsp;&nbsp;Git works by tracking a <b>repository</b>, which is a folder containing subfolders with files for a project. The files can be code, images, sound, or anything else. A developer can change the files and save them just like usual with the computer's operating system. When the developer wants to record a group of changes, they record it with a <b>commit</b>. A commit is a checkpoint in the development of a project.</p>\n",
    "\n",
    "<p>&nbsp;&nbsp;&nbsp;&nbsp;&nbsp;<b>GitHub</b> is an online git repository hosting service that makes it easy to collaborate on a project with multiple developers. GitHub consists of a web portal to your online repos and a local client program that can access both your online repos and your local repos. The local client lets you use git with either a graphical user interface or a command line interface. We will be just using the GUI.</p>\n",
    "\n",
    "<h2>Part II: Workflow</h2>\n",
    "\n",
    "<p>&nbsp;&nbsp;&nbsp;&nbsp;&nbsp;GitHub hosts many different repositories for projects, many of them open source. Open source projects are public and make their source code available to anyone, usually free of charge, and many people often contribute modifications and enhancements to the project. Most repositories on GitHub are shared as read-only, meaning others can view and copy the project, but cannot modify it without the approval of the owner or manager.</p>\n",
    "\n",
    "<p>&nbsp;&nbsp;&nbsp;&nbsp;&nbsp;When a developer makes a copy of a shared read-only repository, they create a fork. (Think of a tree in the park: the main trunk is the original repository, and it can split off into another direction at a fork.) A developer can then make changes to their copy, and if they change something that they think should be incorporated in the main project, they can make a pull request, asking the project owner to “pull” their changes and merge them into the original code.</p>\n",
    "\n",
    "<p>&nbsp;&nbsp;&nbsp;&nbsp;&nbsp;A repository is always kept both on the developer’s computer (local) and online on the GitHub servers (remote). Once a repository is forked, it is then cloned to the local computer so the code can be worked on. As changes and commits are made, the local repository is synced with the remote repository to keep the two copies “in sync” with each other.</p>\n",
    "\n",
    "<p>&nbsp;&nbsp;&nbsp;&nbsp;&nbsp;A repository can also have multiple strands of development going on simultaneously. These are called branches. (Think of a tree in the park again: a trunk or fork of a trunk can split off into multiple branches.) A repository can be forked from another repository, and each repository has a master branch, and can have any number of other branches. Often times there are branches for things like bug fixes, testing, and enhancements. At any time these branches can be merged back into the master branch, just like a fork can be merged back into the master.</p>\n",
    "\n",
    "<h2>Part III. Setup</h2>\n",
    "\n",
    "<p>&nbsp;&nbsp;&nbsp;&nbsp;&nbsp;Your instructor has created a repository for your class and shared it with you through the teacher's organizational account (CSP-UHS) on GitHub. You need to fork it, clone it, and make a branch for testing.</p>\n",
    "\n",
    "<b><u>Create a fork of the repository.</u></b>\n",
    "\n",
    "a. Go to github.com and login to your account.\n",
    "\n",
    "b. Switch to your instructor's organizational account (CSP-UHS).\n",
    "\n",
    "c. Click on the \"Prisoners Dilemma\" Repository and click “Fork” to make a copy of it in your account.\n",
    "\n",
    "<b><u>Clone the repository to your computer as follows.</u></b>\n",
    "\n",
    "a. Open the GitHub for Mac Client on your computer.\n",
    "\n",
    "b. Go to Preferences → Accounts and log in to your GitHub account.\n",
    "\n",
    "c. Click on the “+” symbol, choose “Clone”, click on the \"Prisoners Dilemma\" repository and click the checkmark at the bottom. Save the repository on your Desktop. Do NOT use Google Drive for this. It does not work well with GitHub.\n",
    "\n",
    "d. Once the repository is cloned, you will see it in the list on the left of the window under the “+”. Left-clicking on it opens it in the client. Right-clicking on it gives you several options, including viewing it on GitHub. The history probably only has one commit, because that is when your teacher published the original repository.\n",
    "\n",
    "<b><u>Make a “Testing” branch and a commit as follows.</u></b>\n",
    "\n",
    "a. Back in the GitHub For Mac Client window, note the word “master” with an arrow next to it. That indicates you are working on the master branch. The master branch is what we will eventually make our changes to in order to submit a pull request to merge our code with the rest of the class. For now, we want a “testingXX” branch where \"XX\" are your initials. This branch will allow us to explore and make changes to the code without affecting the master branch. Click on the branch icon, type “testingXX” in the Name box, and click the Create Branch.\n",
    "\n",
    "b. Note that it now says “testingXX” where before it said “master.” That means you are on the testingXX branch, not the master branch. The Prisoners_Dilemma.py file is in the folder for your local repository. Open the Python file with Canopy. Change the Version # in the Notes section at the top of the file. Save the Python file.\n",
    "\n",
    "c. Go back to GitHub For Mac. It should now show that there are uncommitted changes to the repository. Click on the arrow next to uncommitted changes, and it will show you a preview of the file with the Version change you made.\n",
    "\n",
    "d. In order for git to make a checkpoint of this change, you need to make a commit. Enter a summary (“Version Change”) and description (“Changed the version number in the Python file.”) and click “Commit to testingXX.”\n",
    "\n",
    "e. You now have a record of that change in the testingXX branch. However, the master branch is still unchanged. Click on the arrow next to testingxx and switch back to the master branch. You will see that there are no changes to that branch. Also, when you go back to Python, you will see that the change you made has disappeared! Git actually changed the file on the computer to reflect what is current in the master branch. The change still exists – try changing back to the testingXX branch. You can see how you can make changes to code without affecting the master version of the code and easily switch between the two.\n",
    "\n",
    "f. One last step – you need to sync your local changes to the remote repository on GitHub. Since you have not synced since you created your new branch, it says “Publish” in the upper right hand corner. Click on this to send your new branch and commit up to the remote repository."
   ]
  },
  {
   "cell_type": "markdown",
   "metadata": {
    "deletable": true,
    "editable": true
   },
   "source": [
    "<table  style=\"background-color: #FFFFFF; width: 100%; padding: 2px;\">\n",
    "<tr style=\"background-color: #FFFFFF;\">\n",
    "<td style=\"border: 1px solid white;\" width=\"100px\">\n",
    "<div>\n",
    "<a href=\"http://nbviewer.ipython.org/github/CSP-UHS/Hermons_Book_of_Python/blob/master/Chapter07.ipynb\"><img src=\"http://www.hermonswebsites.com/PyNotebooks/Python/leftarrow.png\" height=\"50px\" width=\"50px\" align=\"left\"></a>\n",
    "</div>\n",
    "</td>\n",
    "<td style=\"border: 1px solid white;\">\n",
    "<div align=\"center\">\n",
    "<a href=\"http://nbviewer.ipython.org/github/CSP-UHS/Hermons_Book_of_Python/blob/master/Chapter00.ipynb\"><h2>Table of Contents</h2></a>\n",
    "</div>\n",
    "</td>\n",
    "<td style=\"border: 1px solid white;\" width=\"100px\">\n",
    "<div>\n",
    "<a href=\"http://nbviewer.ipython.org/github/CSP-UHS/Hermons_Book_of_Python/blob/master/Chapter09.ipynb\"><img src=\"http://www.hermonswebsites.com/PyNotebooks/Python/rightarrow.png\"  height=\"50px\" width=\"50px\"  align=\"right\"></a>\n",
    "</div>\n",
    "</td>\n",
    "</tr></table>"
   ]
  }
 ],
 "metadata": {
  "kernelspec": {
   "display_name": "Python 2",
   "language": "python",
   "name": "python2"
  },
  "language_info": {
   "codemirror_mode": {
    "name": "ipython",
    "version": 2
   },
   "file_extension": ".py",
   "mimetype": "text/x-python",
   "name": "python",
   "nbconvert_exporter": "python",
   "pygments_lexer": "ipython2",
   "version": "2.7.10"
  }
 },
 "nbformat": 4,
 "nbformat_minor": 0
}
