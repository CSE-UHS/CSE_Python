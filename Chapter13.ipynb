{
 "cells": [
  {
   "cell_type": "markdown",
   "metadata": {},
   "source": [
    "<div align=\"right\">\n",
    "<a href=\"http://nbviewer.ipython.org/github/CSP-UHS/Hermons_Book_of_Python/blob/master/Chapter00.ipynb\" align=\"right\"><h2>Table of Contents</h2></a>\n",
    "</div>"
   ]
  },
  {
   "cell_type": "markdown",
   "metadata": {},
   "source": [
    "## Chapter 13: Exception Handling"
   ]
  },
  {
   "cell_type": "markdown",
   "metadata": {},
   "source": [
    "&nbsp;&nbsp;&nbsp;&nbsp;&nbsp;As you've probably learned by now when something goes wrong with your program, ugly error messages are thrown up in the Session window. We would rather our user not see this happen. To solve this problem we need exceptions.\n",
    "\n",
    "&nbsp;&nbsp;&nbsp;&nbsp;&nbsp;Exceptions are used to handle abnormal conditions that can occur during the execution of code. Exceptions are often used with file and network operations. This allows code to gracefully handle running out of disk space, network errors, or permission errors."
   ]
  },
  {
   "cell_type": "markdown",
   "metadata": {},
   "source": [
    "## Vocabulary"
   ]
  },
  {
   "cell_type": "markdown",
   "metadata": {},
   "source": [
    "&nbsp;&nbsp;&nbsp;&nbsp;&nbsp;There are several terms and phrases used while working with exceptions. Here are the most common:\n",
    "\n",
    "<ul>\n",
    "<li><i><b>Exception</b></i>: This term could mean one of two things. First, the condition that results in abnormal program flow. Or it could be used to refer to an object that represents the data condition. Each exception has an object that holds information about it.\n",
    "<li><i><b>Exception handling</b></i>: The process of handling an exception to normal program flow.\n",
    "<li><i><b>Catch block or exception block</b></i>: Code that handles an abnormal condition is said to “catch” the exception.\n",
    "<li><i><b>Throw or raise</b></i>: When an abnormal condition to the program flow has been detected, an instance of an exception object is created. It is then “thrown” or “raised” to code that will catch it.\n",
    "<li><i><b>Unhandled exception or Uncaught exception</b></i>: An exception that is thrown, but never caught. This usually results in an error and the program ending or crashing.\n",
    "<li><i><b>Try block</b></i>: A set of code that might have an exception thrown in it.</li>\n",
    "</ul>\n",
    "\n",
    "&nbsp;&nbsp;&nbsp;&nbsp;&nbsp;Most programming languages use the terms “throw” and “catch.” Unfortunately Python doesn't. Python uses “raise” and “exception.” We introduce the throw/catch vocabulary here because they are the most prevalent terms in the industry."
   ]
  },
  {
   "cell_type": "markdown",
   "metadata": {},
   "source": [
    "## Exception Handling"
   ]
  },
  {
   "cell_type": "code",
   "execution_count": 3,
   "metadata": {
    "collapsed": false
   },
   "outputs": [
    {
     "ename": "ZeroDivisionError",
     "evalue": "integer division or modulo by zero",
     "output_type": "error",
     "traceback": [
      "\u001b[0;31m---------------------------------------------------------------------------\u001b[0m\n\u001b[0;31mZeroDivisionError\u001b[0m                         Traceback (most recent call last)",
      "\u001b[0;32m<ipython-input-3-0e6ea46ec608>\u001b[0m in \u001b[0;36m<module>\u001b[0;34m()\u001b[0m\n\u001b[1;32m      2\u001b[0m \u001b[0ma\u001b[0m \u001b[0;34m=\u001b[0m \u001b[0;36m8\u001b[0m\u001b[0;34m\u001b[0m\u001b[0m\n\u001b[1;32m      3\u001b[0m \u001b[0mb\u001b[0m \u001b[0;34m=\u001b[0m \u001b[0;36m0\u001b[0m\u001b[0;34m\u001b[0m\u001b[0m\n\u001b[0;32m----> 4\u001b[0;31m \u001b[0mc\u001b[0m \u001b[0;34m=\u001b[0m \u001b[0ma\u001b[0m\u001b[0;34m/\u001b[0m\u001b[0mb\u001b[0m\u001b[0;34m\u001b[0m\u001b[0m\n\u001b[0m",
      "\u001b[0;31mZeroDivisionError\u001b[0m: integer division or modulo by zero"
     ]
    }
   ],
   "source": [
    "# Divide by zero\n",
    "a = 8\n",
    "b = 0\n",
    "c = a/b"
   ]
  },
  {
   "cell_type": "markdown",
   "metadata": {},
   "source": [
    "&nbsp;&nbsp;&nbsp;&nbsp;&nbsp;Above you will notice an ugly error that would stop our program. When programming we need to get really good at finding places that might cause our program problems. The code for handling exceptions is really easy...it's called the <b>\"Try-Except\"</b> Method. It is somewhat similar to If-Else.\n",
    "\n",
    "&nbsp;&nbsp;&nbsp;&nbsp;&nbsp;Here it is in action below."
   ]
  },
  {
   "cell_type": "code",
   "execution_count": 4,
   "metadata": {
    "collapsed": false
   },
   "outputs": [
    {
     "name": "stdout",
     "output_type": "stream",
     "text": [
      "You can't divide by zero!\n"
     ]
    }
   ],
   "source": [
    "# Divide by zero\n",
    "try:\n",
    "    a = 8\n",
    "    b = 0\n",
    "    c = a/b\n",
    "except:\n",
    "    print(\"You can't divide by zero!\")"
   ]
  },
  {
   "cell_type": "markdown",
   "metadata": {},
   "source": [
    "&nbsp;&nbsp;&nbsp;&nbsp;&nbsp;On the second line above is the try statement. Every indented line below it is part of the “try block.” There may be no unindented code below the try block that doesn't start with an except statement. The try statement defines a section of code that the code will attempt to execute.\n",
    "\n",
    "&nbsp;&nbsp;&nbsp;&nbsp;&nbsp;If there is any exception that occurs during the processing of the code the execution will immediately jump to the “catch block.” That block of code is indented under the except statement. This code is responsible for handling the error.\n",
    "\n",
    "&nbsp;&nbsp;&nbsp;&nbsp;&nbsp;Below is an example you might want to use so that your program doesn't quit when encountering an error. It error-checks a user's input to make sure an integer is entered. If the user doesn't enter an integer, the program will keep asking for one. The code uses exception handling to capture a possible conversion error if the user enters something other than an integer. The code that sets number_entered to True will not be run if there is an exception."
   ]
  },
  {
   "cell_type": "code",
   "execution_count": 3,
   "metadata": {
    "collapsed": false
   },
   "outputs": [
    {
     "name": "stdout",
     "output_type": "stream",
     "text": [
      "Enter an integer: s\n",
      "That is not an integer. Please try again.\n",
      "Enter an integer: 4.5\n",
      "That is not an integer. Please try again.\n",
      "Enter an integer: 7\n",
      "7  was your integer. Thankyou!\n"
     ]
    }
   ],
   "source": [
    "from __future__ import print_function\n",
    "number_entered = False\n",
    "while not number_entered:\n",
    "    try:\n",
    "        number_string = int(raw_input(\"Enter an integer: \"))\n",
    "        number_entered = True\n",
    "    except:\n",
    "        print(\"That is not an integer. Please try again.\")\n",
    "print(number_string, \" was your integer. Thankyou!\")"
   ]
  },
  {
   "cell_type": "markdown",
   "metadata": {},
   "source": [
    "&nbsp;&nbsp;&nbsp;&nbsp;&nbsp;More information about an error can be pulled from the exception object. This object can be retrieved while catching an error using the as keyword as seen below. The e variable points to more information about the exception that can be printed out. Basically means that if you don't want to print your own error warning you can just print (e) which will be a cleaner looking version of a thrown error.  Check the Python documentation on-line for more information about the exception object."
   ]
  },
  {
   "cell_type": "code",
   "execution_count": 4,
   "metadata": {
    "collapsed": false
   },
   "outputs": [
    {
     "name": "stdout",
     "output_type": "stream",
     "text": [
      "integer division or modulo by zero\n"
     ]
    }
   ],
   "source": [
    "from __future__ import print_function\n",
    "try:\n",
    "    x = 5 / 0\n",
    "except Exception as e:\n",
    "    print(e)"
   ]
  },
  {
   "cell_type": "markdown",
   "metadata": {},
   "source": [
    "<table width=\"100%\" border=\"1\" cellpadding=\"2\" cellspacing=\"0\">\n",
    "<tr bgcolor=\"#00FF00\">\n",
    "<td width=\"90\" style=\"vertical-align:top\"><img src=\"http://www.hermonswebsites.com/PyNotebooks/Python/sith.png\" style=\"border:2px solid #021a40;\">\n",
    "</td><td><h2><center><b>Jedi Training Task</b></center></h2></td></tr>\n",
    "<tr>\n",
    "<td valign=\"top\" colspan=\"2\"><center><h1><b>My Excel</b></h1></center><br>\n",
    "<font size=\"+1\">\n",
    "\n",
    "&nbsp;&nbsp;&nbsp;&nbsp;&nbsp;This project is very exciting in that you will be making a valuable program that you can use in the future, whether in high school, college or in your future career. You will also be able to modify your program in the future to create even more graphical outputs to meet your changing needs. The parameters below are the basic requirements. Again, <a href=\"https://www.youtube.com/playlist?list=PLhy-Ne6FAXKag0HUZwuICEwC-bRXn0ad6\" target=\"_blank\">here</a> is a great list of videos to show you how to do things in Matplotlib. Here is a video of a program meeting the basic requirements, although it allows you to plot two data series on the same graph: <a href=\"https://youtu.be/JdRsXvWDARk\" target=\"_blank\">My Excel Program</a> <br><br>\n",
    "\n",
    "<h3>Step-by-Step Directions</h3>\n",
    "\n",
    "<ul>\n",
    "<li>Before starting your program, download the following text file to load into your program. (Right click and download) <a href=\"http://www.hermonswebsites.com/PyNotebooks/Python/13/data.txt\" target=\"_blank\">Data Series</a></li>\n",
    "<li>Start a new program called, <b>MyExcel.py</b> and make sure this program and the data file you downloaded above are both in the same location (not Google Drive) or your program will not work.</li>\n",
    "<li>At the top of your new program, first import print_function, matplotlib and numpy.</li>\n",
    "<li>Start with a <b>done=False</b> and then a <b>while not done</b> loop.</li>\n",
    "<li>At the bottom of the while loop ask the user to enter Q for quit or any other key to make a new graph.</li>\n",
    "<li>If they enter Q set done = True to get out of the loop.</li>\n",
    "<li>Once out of the loop print something like \"Goodbye, thanks for using my excel!\". Run this to make sure it works.</li>\n",
    "<li>Now back at the top of the <b>while not done</b> loop set a variable called <b>found_file = False</b>.</li>\n",
    "<li>Now start a <b>while not found_file</b> loop.</li>\n",
    "<li>In this loop put a <b>Try: Except: Block</b></li>\n",
    "<li>In the Try Block set a variable called <b>datafile</b> to the answer of a raw_input question, <b>\"What is the name of the data file you would like to import?\"</b></li>\n",
    "<li>Next (still in the Try block) load the txt file. Go <a href=\"https://youtu.be/MNLmQJtCCZY\" target=\"_blank\">here</a> to learn how to use numpy load data from a text file. Obviously don't hard code the text file name...use the <b>datafile</b> variable instead.\n",
    "<li>Next (still in the Try block) set <b>found_file equal to True</b>.</li>\n",
    "<li>Write the Except block like (<b>except Exception as e:</b>) and then <b>print(e)</b>. This will just let Python write the error for us which of course would be something like \"file could not be found.\" Make sure you test that later by entering an incorrect datafile name.</li>\n",
    "<li>Ask raw_input statments for title, x label, y label, background color and what to name the output PNG file.</li>\n",
    "<li>Calculate the slope and y-intercept and plot both the graph and the best fit line. <b><u>Make sure you include the slope and y-intercept in the label of your best fit line plot. This way it will show up in the legend which we will make next and not throw up an error.</u></b></li>\n",
    "<li>Plot the xlabel, ylabel, title and legend.</li>\n",
    "<li>Set the location of the legend as <b>\"best\"</b>. (<u><b>Remember, you will get a legend error if no label was in your plot</b></u>.) </li>\n",
    "<li>Set the background color of the legend as white.</li>\n",
    "<li>Plot a black axvline and axhline at 0.</li>\n",
    "<li>Set up another <b>Try: Except: Block</b></li>\n",
    "<li>In the Try: block set the background color of the graph to whatever the user entered.</li>\n",
    "<li>In the Except: block set the background color of the graph to white. This is in case the user did not enter a correct hexidecimal value.</li>\n",
    "<li> Instead of using <b>show</b> we will be saving the file. Save the output file like <b>plt.savefig(output_file)</b> where <b>output_file</b> is whatever variable the user is exporting their image as.</li>\n",
    "<li>Clear the figure like <b>plt.clf()</b> so that future plots don't keep getting plotted.</li>\n",
    "<li>Print \"Your graph has been exported!\"</li>\n",
    "\n",
    "\n",
    "\n",
    "</ul>\n",
    "\n",
    "\n",
    "<br>Here is an example output:\n",
    "<img src=\"http://www.hermonswebsites.com/PyNotebooks/Python/13/excel.png\">\n",
    "\n",
    "\n",
    "</td></tr></table>"
   ]
  },
  {
   "cell_type": "markdown",
   "metadata": {},
   "source": [
    "<table width=\"100%\" cellpadding=\"2\" cellspacing=\"2\">\n",
    "<tr>\n",
    "<td style=\"border: 1px solid white;\" width=\"100px\">\n",
    "<div>\n",
    "<a href=\"http://nbviewer.ipython.org/github/CSP-UHS/Hermons_Book_of_Python/blob/master/Chapter12.ipynb\"><img src=\"http://www.hermonswebsites.com/PyNotebooks/Python/leftarrow.png\" height=\"50px\" width=\"50px\" align=\"left\"></a>\n",
    "</div>\n",
    "</td>\n",
    "<td style=\"border: 1px solid white;\">\n",
    "<div align=\"center\">\n",
    "<a href=\"http://nbviewer.ipython.org/github/CSP-UHS/Hermons_Book_of_Python/blob/master/Chapter00.ipynb\"><h2>Table of Contents</h2></a>\n",
    "</div>\n",
    "</td>\n",
    "<td style=\"border: 1px solid white;\" width=\"100px\">\n",
    "<div>\n",
    "<a href=\"http://nbviewer.ipython.org/github/CSP-UHS/Hermons_Book_of_Python/blob/master/Chapter14.ipynb\"><img src=\"http://www.hermonswebsites.com/PyNotebooks/Python/rightarrow.png\"  height=\"50px\" width=\"50px\"  align=\"right\"></a>\n",
    "</div>\n",
    "</td>\n",
    "</tr></table>"
   ]
  }
 ],
 "metadata": {
  "kernelspec": {
   "display_name": "Python 2",
   "language": "python",
   "name": "python2"
  },
  "language_info": {
   "codemirror_mode": {
    "name": "ipython",
    "version": 2
   },
   "file_extension": ".py",
   "mimetype": "text/x-python",
   "name": "python",
   "nbconvert_exporter": "python",
   "pygments_lexer": "ipython2",
   "version": "2.7.10"
  }
 },
 "nbformat": 4,
 "nbformat_minor": 0
}
