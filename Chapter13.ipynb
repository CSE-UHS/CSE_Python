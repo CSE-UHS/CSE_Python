{
 "metadata": {
  "name": "",
  "signature": "sha256:a7983ee127152ca6adfacec31fc698e9c59b57dab2e9417a47695b270f304d13"
 },
 "nbformat": 3,
 "nbformat_minor": 0,
 "worksheets": [
  {
   "cells": [
    {
     "cell_type": "markdown",
     "metadata": {},
     "source": [
      "<div align=\"right\">\n",
      "<a href=\"http://nbviewer.ipython.org/github/CSE-UHS/CSE_Python/blob/master/Chapter00.ipynb\" align=\"right\"><h2>Hermon's Book of Python</h2></a>\n",
      "</div>"
     ]
    },
    {
     "cell_type": "heading",
     "level": 2,
     "metadata": {},
     "source": [
      "Chapter 13: Exception Handling"
     ]
    },
    {
     "cell_type": "markdown",
     "metadata": {},
     "source": [
      "&nbsp;&nbsp;&nbsp;&nbsp;&nbsp;As you've probably learned by now when something goes wrong with your program, ugly error messages are thrown up in the Session window. We would rather our user not see this happen. To solve this problem we need exceptions.\n",
      "\n",
      "&nbsp;&nbsp;&nbsp;&nbsp;&nbsp;Exceptions are used to handle abnormal conditions that can occur during the execution of code. Exceptions are often used with file and network operations. This allows code to gracefully handle running out of disk space, network errors, or permission errors."
     ]
    },
    {
     "cell_type": "heading",
     "level": 2,
     "metadata": {},
     "source": [
      "Vocabulary"
     ]
    },
    {
     "cell_type": "markdown",
     "metadata": {},
     "source": [
      "&nbsp;&nbsp;&nbsp;&nbsp;&nbsp;There are several terms and phrases used while working with exceptions. Here are the most common:\n",
      "\n",
      "<ul>\n",
      "<li><i><b>Exception</b></i>: This term could mean one of two things. First, the condition that results in abnormal program flow. Or it could be used to refer to an object that represents the data condition. Each exception has an object that holds information about it.\n",
      "<li><i><b>Exception handling</b></i>: The process of handling an exception to normal program flow.\n",
      "<li><i><b>Catch block or exception block</b></i>: Code that handles an abnormal condition is said to \u201ccatch\u201d the exception.\n",
      "<li><i><b>Throw or raise</b></i>: When an abnormal condition to the program flow has been detected, an instance of an exception object is created. It is then \u201cthrown\u201d or \u201craised\u201d to code that will catch it.\n",
      "<li><i><b>Unhandled exception or Uncaught exception</b></i>: An exception that is thrown, but never caught. This usually results in an error and the program ending or crashing.\n",
      "<li><i><b>Try block</b></i>: A set of code that might have an exception thrown in it.</li>\n",
      "</ul>\n",
      "\n",
      "&nbsp;&nbsp;&nbsp;&nbsp;&nbsp;Most programming languages use the terms \u201cthrow\u201d and \u201ccatch.\u201d Unfortunately Python doesn't. Python uses \u201craise\u201d and \u201cexception.\u201d We introduce the throw/catch vocabulary here because they are the most prevalent terms in the industry."
     ]
    },
    {
     "cell_type": "heading",
     "level": 2,
     "metadata": {},
     "source": [
      "Exception Handling"
     ]
    },
    {
     "cell_type": "code",
     "collapsed": false,
     "input": [
      "# Divide by zero\n",
      "a = 8\n",
      "b = 0\n",
      "c = a/b"
     ],
     "language": "python",
     "metadata": {},
     "outputs": [
      {
       "ename": "ZeroDivisionError",
       "evalue": "integer division or modulo by zero",
       "output_type": "pyerr",
       "traceback": [
        "\u001b[0;31m---------------------------------------------------------------------------\u001b[0m\n\u001b[0;31mZeroDivisionError\u001b[0m                         Traceback (most recent call last)",
        "\u001b[0;32m<ipython-input-3-0e6ea46ec608>\u001b[0m in \u001b[0;36m<module>\u001b[0;34m()\u001b[0m\n\u001b[1;32m      2\u001b[0m \u001b[0ma\u001b[0m \u001b[0;34m=\u001b[0m \u001b[0;36m8\u001b[0m\u001b[0;34m\u001b[0m\u001b[0m\n\u001b[1;32m      3\u001b[0m \u001b[0mb\u001b[0m \u001b[0;34m=\u001b[0m \u001b[0;36m0\u001b[0m\u001b[0;34m\u001b[0m\u001b[0m\n\u001b[0;32m----> 4\u001b[0;31m \u001b[0mc\u001b[0m \u001b[0;34m=\u001b[0m \u001b[0ma\u001b[0m\u001b[0;34m/\u001b[0m\u001b[0mb\u001b[0m\u001b[0;34m\u001b[0m\u001b[0m\n\u001b[0m",
        "\u001b[0;31mZeroDivisionError\u001b[0m: integer division or modulo by zero"
       ]
      }
     ],
     "prompt_number": 3
    },
    {
     "cell_type": "markdown",
     "metadata": {},
     "source": [
      "&nbsp;&nbsp;&nbsp;&nbsp;&nbsp;Above you will notice an ugly error that would stop our program. When programming we need to get really good at finding places that might cause our program problems. The code for handling exceptions is really easy...it's called the <b>\"Try-Except\"</b> Method. It is somewhat similar to If-Else.\n",
      "\n",
      "&nbsp;&nbsp;&nbsp;&nbsp;&nbsp;Here it is in action below."
     ]
    },
    {
     "cell_type": "code",
     "collapsed": false,
     "input": [
      "# Divide by zero\n",
      "try:\n",
      "    a = 8\n",
      "    b = 0\n",
      "    c = a/b\n",
      "except:\n",
      "    print(\"You can't divide by zero!\")"
     ],
     "language": "python",
     "metadata": {},
     "outputs": [
      {
       "output_type": "stream",
       "stream": "stdout",
       "text": [
        "You can't divide by zero!\n"
       ]
      }
     ],
     "prompt_number": 4
    },
    {
     "cell_type": "markdown",
     "metadata": {},
     "source": [
      "&nbsp;&nbsp;&nbsp;&nbsp;&nbsp;On the second line above is the try statement. Every indented line below it is part of the \u201ctry block.\u201d There may be no unindented code below the try block that doesn't start with an except statement. The try statement defines a section of code that the code will attempt to execute.\n",
      "\n",
      "&nbsp;&nbsp;&nbsp;&nbsp;&nbsp;If there is any exception that occurs during the processing of the code the execution will immediately jump to the \u201ccatch block.\u201d That block of code is indented under the except statement. This code is responsible for handling the error.\n",
      "\n",
      "&nbsp;&nbsp;&nbsp;&nbsp;&nbsp;Below is an example you might want to use so that your program doesn't quit when encountering an error. It error-checks a user's input to make sure an integer is entered. If the user doesn't enter an integer, the program will keep asking for one. The code uses exception handling to capture a possible conversion error if the user enters something other than an integer. The code that sets number_entered to True will not be run if there is an exception."
     ]
    },
    {
     "cell_type": "code",
     "collapsed": false,
     "input": [
      "from __future__ import print_function\n",
      "number_entered = False\n",
      "while not number_entered:\n",
      "    try:\n",
      "        number_string = int(raw_input(\"Enter an integer: \"))\n",
      "        number_entered = True\n",
      "    except:\n",
      "        print(\"That is not an integer. Please try again.\")\n",
      "print(number_string, \" was your integer. Thankyou!\")"
     ],
     "language": "python",
     "metadata": {},
     "outputs": [
      {
       "name": "stdout",
       "output_type": "stream",
       "stream": "stdout",
       "text": [
        "Enter an integer: s\n"
       ]
      },
      {
       "output_type": "stream",
       "stream": "stdout",
       "text": [
        "That is not an integer. Please try again.\n"
       ]
      },
      {
       "name": "stdout",
       "output_type": "stream",
       "stream": "stdout",
       "text": [
        "Enter an integer: 4.5\n"
       ]
      },
      {
       "output_type": "stream",
       "stream": "stdout",
       "text": [
        "That is not an integer. Please try again.\n"
       ]
      },
      {
       "name": "stdout",
       "output_type": "stream",
       "stream": "stdout",
       "text": [
        "Enter an integer: 7\n"
       ]
      },
      {
       "output_type": "stream",
       "stream": "stdout",
       "text": [
        "7  was your integer. Thankyou!\n"
       ]
      }
     ],
     "prompt_number": 3
    },
    {
     "cell_type": "markdown",
     "metadata": {},
     "source": [
      "&nbsp;&nbsp;&nbsp;&nbsp;&nbsp;More information about an error can be pulled from the exception object. This object can be retrieved while catching an error using the as keyword as seen below. The e variable points to more information about the exception that can be printed out. Basically means that if you don't want to print your own error warning you can just print (e) which will be a cleaner looking version of a thrown error.  Check the Python documentation on-line for more information about the exception object."
     ]
    },
    {
     "cell_type": "code",
     "collapsed": false,
     "input": [
      "from __future__ import print_function\n",
      "try:\n",
      "    x = 5 / 0\n",
      "except Exception as e:\n",
      "    print(e)"
     ],
     "language": "python",
     "metadata": {},
     "outputs": [
      {
       "output_type": "stream",
       "stream": "stdout",
       "text": [
        "integer division or modulo by zero\n"
       ]
      }
     ],
     "prompt_number": 4
    },
    {
     "cell_type": "markdown",
     "metadata": {},
     "source": [
      "<table width=\"100%\" border=\"1\" cellpadding=\"2\" cellspacing=\"0\">\n",
      "<tr>\n",
      "<td width=\"90\" bgcolor=\"#00FFFF\" style=\"vertical-align:top\"><img src=\"https://dl.dropboxusercontent.com/u/90219577/Hermon/CSE_Website/notebooks/Scholar.png\"></td>\n",
      "<td valign=\"top\"><center><h1><b>My Excel</b></h1></center><br>\n",
      "<font size=\"+1\">\n",
      "\n",
      "&nbsp;&nbsp;&nbsp;&nbsp;&nbsp;This project is very exciting in that you will be making a valuable program that you can use in the future, whether in high school, college or in your future career. You will also be able to modify your program in the future to create even more graphical outputs to meet your changing needs. The parameters below are the basic requirements. I will be interested to see how much some of you will expand on this project. Again, <a href=\"https://www.youtube.com/playlist?list=PLhy-Ne6FAXKag0HUZwuICEwC-bRXn0ad6\" target=\"_blank\">here</a> is a great list of videos to show you how to do things in Matplotlib.<br><br>\n",
      "\n",
      "<h2>Criteria and Constraints</h2>\n",
      "\n",
      "<ul>\n",
      "<li>The program will continually run until the user decides to quit</li>\n",
      "<li>The user will enter a 1 or a 2 depending on how many data series they want to graph</li>\n",
      "<li>The user will enter a name of a csv or txt file that holds the data your program will import.</li>\n",
      "<li>The user will enter the graph title, x-axis label, y-axis label and background color.</li>\n",
      "<li>The user will enter the name of a PNG file that the graph will be exported as.</li>\n",
      "<li>The program can plt.show() the graph or not, but you will need to find out how to close the graph.</li>\n",
      "<li>You also will need to learn how to save a graph automatically, NOT by clicking the save icon on the graph.</li>\n",
      "<li>Go <a href=\"https://youtu.be/MNLmQJtCCZY\" target=\"_blank\">here</a> to learn how to use numpy load data from a text file. </li>\n",
      "<li>Your text file will have either two or three columns of data. The first column of data are your x values.</li>\n",
      "<li>The program will put a legend in the \"Best\" location.</li>\n",
      "<li>A dotted regression (best fit) line will be plotted for each graph. </li>\n",
      "<li>The legend will list the slope and y-intercept of each line.</li>\n",
      "<li>A black vertical line and horizontal line will be place through x=0 and y=0.</li>\n",
      "<li>I should not be able to crash the program with an error. Use TRY_EXCEPT to predict what I might enter.</li>\n",
      "<li>Here is a video of a program meeting the basic requirements: <a href=\"https://youtu.be/JdRsXvWDARk\" target=\"_blank\">My Excel Program</a> </li>\n",
      "\n",
      "</ul>\n",
      "\n",
      "<h2>Extras</h2>\n",
      "\n",
      "Above are all of the parameters for the basic program. Some of you like a challenge. So if you have time, here are some extras that would be cool.\n",
      "\n",
      "<ul>\n",
      "<li>User can choose color, line style or marker style of each chart. </li>\n",
      "<li>User can graph more than just two series on a graph.</li>\n",
      "<li>User is provided with a menu of what type of graph they want to make: line, bar, pie or histogram.</li>\n",
      "<li>User can enter a function that will be graphed.</li>\n",
      "<li>The program uses the annotation command to point out something.</li>\n",
      "<li>Whatever other amazing things you can find to do in the Matplotlib or Numpy libraries.</li>\n",
      "</ul>\n",
      "\n",
      "</td></tr></table>"
     ]
    },
    {
     "cell_type": "markdown",
     "metadata": {},
     "source": [
      "<div align=\"right\">\n",
      "<a href=\"http://nbviewer.ipython.org/github/CSE-UHS/CSE_Python/blob/master/Chapter00.ipynb\" align=\"right\"><h2>Hermon's Book of Python</h2></a>\n",
      "</div>"
     ]
    }
   ],
   "metadata": {}
  }
 ]
}