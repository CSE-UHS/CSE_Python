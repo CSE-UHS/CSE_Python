{
 "cells": [
  {
   "cell_type": "markdown",
   "metadata": {
    "deletable": true,
    "editable": true
   },
   "source": [
    "<div align=\"right\">\n",
    "<a href=\"http://nbviewer.ipython.org/github/CSP-UHS/Hermons_Book_of_Python/blob/master/Chapter00.ipynb\" align=\"right\"><h2>Table of Contents</h2></a>\n",
    "</div>"
   ]
  },
  {
   "cell_type": "markdown",
   "metadata": {
    "deletable": true,
    "editable": true
   },
   "source": [
    "# Chapter 22: Robot Movement"
   ]
  },
  {
   "cell_type": "markdown",
   "metadata": {
    "deletable": true,
    "editable": true
   },
   "source": [
    "## Robot Construction"
   ]
  },
  {
   "cell_type": "markdown",
   "metadata": {
    "deletable": true,
    "editable": true
   },
   "source": [
    "### <a href=\"https://education.lego.com/en-us/support/mindstorms-ev3/building-instructions\" target=\"_blank\">Driving Base Instructions</a>\n",
    "\n",
    "&nbsp;&nbsp;&nbsp;&nbsp;&nbsp;In this chapter we are going to learn how to program robot movement. If you have not been provided a basic <b>Driving Base</b> robot to program you will have to construct one yourself. Click on the link above and scroll down to the <b>Robot Educator</b> section. There you will choose the instructions for the <b>Driving Base</b> robot. We will use the other instructions later as we test out various sensors."
   ]
  },
  {
   "cell_type": "markdown",
   "metadata": {
    "deletable": true,
    "editable": true
   },
   "source": [
    "## EV3 Motors"
   ]
  },
  {
   "cell_type": "markdown",
   "metadata": {
    "deletable": true,
    "editable": true
   },
   "source": [
    "&nbsp;&nbsp;&nbsp;&nbsp;&nbsp;There are two types of motors to use with our EV3 Robots: the Large Motor and the Medium Motor.\n",
    "\n",
    "<img src=\"http://www.hermonswebsites.com/PyNotebooks/Python/22/largeM.jpg\">\n",
    "\n",
    "&nbsp;&nbsp;&nbsp;&nbsp;&nbsp;The Large Motor is a powerful \"smart\" motor. It has a built-in Rotation Sensor with 1&ordm; resolution so that you can have precision control. The Large Motors are generally used to drive your robots. It runs at 160-170 rpm, with a running torque of 20 Ncm and a stall torque of 40 Ncm. So the Large Motor is slower but stronger than the Medium Motor.\n",
    "\n",
    "<img src=\"http://www.hermonswebsites.com/PyNotebooks/Python/22/mediumM.jpg\">\n",
    "\n",
    "&nbsp;&nbsp;&nbsp;&nbsp;&nbsp;The Medium Motor also includes a built in Rotation Sensor with a 1&ordm; resolution but it is smaller and lighter than the Large Motor. That means it can respond more quickly than the Large Motor. The Medium Motor can be programmed to turn on or off, control its power level, or to run for a specified amount of time or rotations. It runs at 240-250 rpm, with a running torque of 8 Ncm and a stall torque of 12 Ncm. So the Medium Motor is faster but weaker than the Large Motor."
   ]
  },
  {
   "cell_type": "markdown",
   "metadata": {
    "deletable": true,
    "editable": true
   },
   "source": [
    "## Using time.sleep( )"
   ]
  },
  {
   "cell_type": "markdown",
   "metadata": {
    "deletable": true,
    "editable": true
   },
   "source": [
    "&nbsp;&nbsp;&nbsp;&nbsp;&nbsp;Before programming with robots we haven't had a real important reason to learn about the <b>time module</b> in python because it wasn't important to pause our program for a while. In robot programming, however, time is very important. For example at the IT Olympics competition during the robot battles, your program needs a 3 second delay before moving. The <b>sleep( )</b> function will pause your program for a specified amount of time in seconds. To be able to use the <b>sleep( )</b> function, we will import it from the time module at the top of our program. You then can call the <b>sleep( )</b> function at any time during your program. You will use this a lot in programming robots so you probably will always want to include the <b>import sleep</b> statement as your third line in your program. The statement below will pause your program for 100 milliseconds.\n",
    "\n",
    "<img src=\"http://www.hermonswebsites.com/PyNotebooks/Python/22/code1.jpg\">\n",
    "\n",
    "<img src=\"http://www.hermonswebsites.com/PyNotebooks/Python/22/code2.jpg\">"
   ]
  },
  {
   "cell_type": "markdown",
   "metadata": {
    "deletable": true,
    "editable": true
   },
   "source": [
    "## Naming Your Motors"
   ]
  },
  {
   "cell_type": "markdown",
   "metadata": {
    "deletable": true,
    "editable": true
   },
   "source": [
    "&nbsp;&nbsp;&nbsp;&nbsp;&nbsp;Before you can begin telling your motors what to do you need to name them and specify the port they are plugged into. These naming and connection lines of code should all be established after your import statements but before the rest of your program. We are using <b>Motor( )</b> but technically you probably should use <b>LargeMotor( )</b> or <b>MediumMotor( )</b>.\n",
    "\n",
    "<img src=\"http://www.hermonswebsites.com/PyNotebooks/Python/22/code3.jpg\">"
   ]
  },
  {
   "cell_type": "markdown",
   "metadata": {
    "deletable": true,
    "editable": true
   },
   "source": [
    "## Motor Movement"
   ]
  },
  {
   "cell_type": "markdown",
   "metadata": {
    "deletable": true,
    "editable": true
   },
   "source": [
    "&nbsp;&nbsp;&nbsp;&nbsp;&nbsp;We will look at the following three ways to move the motors.\n",
    "\n",
    "<ol>\n",
    "<li>through a given angle or number of rotations</li>\n",
    "<li>for a given time</li>\n",
    "<li>'forever' (until the motor is stopped by a stop( ) command later during program execution)</li>\n",
    "</ol>\n",
    "\n",
    "Here is further <a href=\"http://python-ev3dev.readthedocs.io/en/latest/motors.html\" target=\"_blank\">Motor Documentation</a>"
   ]
  },
  {
   "cell_type": "markdown",
   "metadata": {
    "deletable": true,
    "editable": true
   },
   "source": [
    "## Turn motor through a given angle"
   ]
  },
  {
   "cell_type": "markdown",
   "metadata": {
    "deletable": true,
    "editable": true
   },
   "source": [
    "&nbsp;&nbsp;&nbsp;&nbsp;&nbsp;Use <b>run_to_rel_pos(position_sp=&lt;angle in degrees&gt;, speed_sp=&lt;value&gt;)</b>. If you want the motor to run backwards then use a negative value for <b>position_sp</b> rather than for <b>speed_sp</b>. Using a negative value for <b>speed_sp</b> will not work because the sign of <b>speed_sp</b> is ignored by this particular command. You will be able to use a negative <b>speed_sp</b> on the other commands to run backwards. For this command use <b>speed_sp</b> values between 0 and 1000.\n",
    "\n",
    "&nbsp;&nbsp;&nbsp;&nbsp;&nbsp;The following code would make a motor on port B turn forward 360&ordm; at speed of 900&ordm;/s and then apply a <b>stop_action</b> of <b>'hold'</b>. When <b>stop_action</b> is set to <b>'hold'</b> it makes an active, forceful effort to stop the motor turning. You can alternatively use  <b>stop_action=\"brake\"</b>  which passively and less forcefully tries to stop the motor turning, or you can use  <b>stop_action=\"coast\"</b> which lets the motor continue to turn until stopped by friction.\n",
    "\n",
    "<img src=\"http://www.hermonswebsites.com/PyNotebooks/Python/22/code4.jpg\">"
   ]
  },
  {
   "cell_type": "markdown",
   "metadata": {
    "deletable": true,
    "editable": true
   },
   "source": [
    "## Turn motor for a given time"
   ]
  },
  {
   "cell_type": "markdown",
   "metadata": {
    "deletable": true,
    "editable": true
   },
   "source": [
    "&nbsp;&nbsp;&nbsp;&nbsp;&nbsp;Use <b>run_timed(time_sp=&lt;time in milliseconds&gt;, speed_sp=&lt;value&gt;)</b>\n",
    "In this command, any negative sign for <b>time_sp</b> is ignored. A negative sign for <b>speed_sp</b> will make it go backwards. This example runs a motor attached to port B backwards for 3 seconds with a 'speed setpoint' set to -750. Without the last line, the program would end as soon as the motor starts to turn, so you probably wouldn't see it move at all. Waiting for 5 seconds ensures that the motor can turn for 3 seconds before the program ends.\n",
    "\n",
    "<img src=\"http://www.hermonswebsites.com/PyNotebooks/Python/22/code5.jpg\">"
   ]
  },
  {
   "cell_type": "markdown",
   "metadata": {
    "deletable": true,
    "editable": true
   },
   "source": [
    "&nbsp;&nbsp;&nbsp;&nbsp;&nbsp;Since motors are subject to the laws of physics, the actual speed may not correspond to the programmed speed. For example, from the code above you might expect the wheel to turn backwards 3.0s * 750&ordm;/s = 2250&ordm;. Since one rotation equals 360&ordm;, dividing 2250&ordm;/360&ordm; gives us 6.25 rotations of the wheel. If we knew the diameter of the wheel we could then calculate how far the robot would travel linearly. In reality it will not travel that far because it takes a while to reach its programmed speed and therefore for a short period at the beginning of the motion the motor turns less fast than programmed. Also, be aware that most EV3 large motors are not quite capable of reaching a speed of 1000 degrees per second so for values of <b>speed_sp</b> above 900 you might get an actual speed that is a few percent less than what you programmed. <b><u>Because of this if you are entering a competition it would probably be a good idea to collect data ahead of time about how far your robot actually travels for different times at a given speed.</u></b>"
   ]
  },
  {
   "cell_type": "markdown",
   "metadata": {
    "deletable": true,
    "editable": true
   },
   "source": [
    "## Turn motor 'forever'"
   ]
  },
  {
   "cell_type": "markdown",
   "metadata": {
    "deletable": true,
    "editable": true
   },
   "source": [
    "&nbsp;&nbsp;&nbsp;&nbsp;&nbsp;Use <b>run_forever(speed_sp=&lt;value&gt;)</b> and stop the motor with <b>stop( )</b> or <b>stop(stop_action=&lt;value&gt;)</b> where <b>&lt;value&gt;</b> can be \"coast\", \"brake\" or \"hold\".\n",
    "\n",
    "<img src=\"http://www.hermonswebsites.com/PyNotebooks/Python/22/code6.jpg\">"
   ]
  },
  {
   "cell_type": "markdown",
   "metadata": {
    "deletable": true,
    "editable": true
   },
   "source": [
    "&nbsp;&nbsp;&nbsp;&nbsp;&nbsp;In the program above, since the motor is running for a given time, you should actually use <b>run_timed</b>. You would really only use <b>run_forever</b> when you want to start a robot moving and then interrupt the motion when a sensor provides your program with input like a color change or nearness to a wall."
   ]
  },
  {
   "cell_type": "markdown",
   "metadata": {
    "deletable": true,
    "editable": true
   },
   "source": [
    "## Using wait instead of sleep"
   ]
  },
  {
   "cell_type": "markdown",
   "metadata": {
    "deletable": true,
    "editable": true
   },
   "source": [
    "&nbsp;&nbsp;&nbsp;&nbsp;&nbsp;As you have seen in some of the programs above, when a command causes a motor to begin a movement, program execution does not pause for the movement to finish before continuing. To take care of this we have been using a <b>sleep( )</b> command, but this is not ideal. The program below shows a better way to make the program pause until the movement is finished.\n",
    "\n",
    "<img src=\"http://www.hermonswebsites.com/PyNotebooks/Python/22/code7.jpg\">"
   ]
  },
  {
   "cell_type": "markdown",
   "metadata": {
    "deletable": true,
    "editable": true
   },
   "source": [
    "&nbsp;&nbsp;&nbsp;&nbsp;&nbsp;The above program works with all three possible stop_action values, 'coast', 'brake' and 'hold'. The <b>beep( )</b> command is included so that you can hear that program execution was indeed paused until the motor's movement was finished before playing the beep."
   ]
  },
  {
   "cell_type": "markdown",
   "metadata": {
    "deletable": true,
    "editable": true
   },
   "source": [
    "<table style=\"background-color: #FFFFFF; border: 1px solid #000000; width: 100%; padding: 2px;\">\n",
    "<tr style=\"background-color: #00FF00;\">\n",
    "<td width=\"90\" style=\"vertical-align: top; border: 1px solid #000000;\"><img src=\"http://www.hermonswebsites.com/PyNotebooks/Python/sith.png\" style=\"border: 2px solid #021a40;\">\n",
    "</td><td style=\"border: 1px solid #000000;\"><h2><center><b>Droid Training Task</b></center></h2></td></tr>\n",
    "<tr>\n",
    "<td valign=\"top\" colspan=\"2\" style=\"text-align: left;\">\n",
    "<center><font size=\"+1\"><b>R2D2</b></font></center><br>\n",
    "<font size=\"+1\">\n",
    "&nbsp;&nbsp;&nbsp;&nbsp;&nbsp;R2D2 has been given a secret mission to analyze weaknesses in the Death Star. He must move in a 1 square meter path around the Death Star and come to rest over the exact same point. If he goes outside this orbit or crashes into the Death Star the Sith Lords will take over the galaxy and all will be lost. At the end of his surveilance orbit he will beep three times and say, \"Mission Completed!\". Once completed, delete your program from the droid.<br>\n",
    "<img src=\"http://www.hermonswebsites.com/PyNotebooks/Python/22/r2d2.jpg\" style=\"width: 250px; height: 200px;\">\n",
    "</font>\n",
    "</td></tr></table>\n"
   ]
  },
  {
   "cell_type": "markdown",
   "metadata": {
    "deletable": true,
    "editable": true
   },
   "source": [
    "<table  style=\"background-color: #FFFFFF; width: 100%; padding: 2px;\">\n",
    "<tr style=\"background-color: #FFFFFF;\">\n",
    "<td style=\"border: 1px solid white;\" width=\"100px\">\n",
    "<div>\n",
    "<a href=\"http://nbviewer.ipython.org/github/CSP-UHS/Hermons_Book_of_Python/blob/master/Chapter21.ipynb\"><img src=\"http://www.hermonswebsites.com/PyNotebooks/Python/leftarrow.png\" height=\"50px\" width=\"50px\" align=\"left\"></a>\n",
    "</div>\n",
    "</td>\n",
    "<td style=\"border: 1px solid white;\">\n",
    "<div align=\"center\">\n",
    "<a href=\"http://nbviewer.ipython.org/github/CSP-UHS/Hermons_Book_of_Python/blob/master/Chapter00.ipynb\"><h2>Table of Contents</h2></a>\n",
    "</div>\n",
    "</td>\n",
    "<td style=\"border: 1px solid white;\" width=\"100px\">\n",
    "<div>\n",
    "<a href=\"http://nbviewer.ipython.org/github/CSP-UHS/Hermons_Book_of_Python/blob/master/Chapter23.ipynb\"><img src=\"http://www.hermonswebsites.com/PyNotebooks/Python/rightarrow.png\"  height=\"50px\" width=\"50px\"  align=\"right\"></a>\n",
    "</div>\n",
    "</td>\n",
    "</tr></table>"
   ]
  }
 ],
 "metadata": {
  "kernelspec": {
   "display_name": "Python 2",
   "language": "python",
   "name": "python2"
  },
  "language_info": {
   "codemirror_mode": {
    "name": "ipython",
    "version": 2
   },
   "file_extension": ".py",
   "mimetype": "text/x-python",
   "name": "python",
   "nbconvert_exporter": "python",
   "pygments_lexer": "ipython2",
   "version": "2.7.10"
  }
 },
 "nbformat": 4,
 "nbformat_minor": 0
}
