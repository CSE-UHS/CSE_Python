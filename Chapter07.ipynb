{
 "cells": [
  {
   "cell_type": "markdown",
   "metadata": {},
   "source": [
    "<div align=\"right\">\n",
    "<a href=\"http://nbviewer.ipython.org/github/CSP-UHS/Hermons_Book_of_Python/blob/master/Chapter00.ipynb\" align=\"right\"><h2>Table of Contents</h2></a>\n",
    "</div>"
   ]
  },
  {
   "cell_type": "markdown",
   "metadata": {},
   "source": [
    "# Chapter 7: Text Formatting"
   ]
  },
  {
   "cell_type": "markdown",
   "metadata": {},
   "source": [
    "&nbsp;&nbsp;&nbsp;&nbsp;&nbsp;Here is a quick table for reference when doing text formatting. For a detailed explanation of how text formatting works so you can go back and clean up the formatting in all of your programs, keep reading this incredibly exciting chapter!\n",
    "\n",
    "<center><img src=\"http://www.hermonswebsites.com/PyNotebooks/Python/07/formatting.png\"></center>"
   ]
  },
  {
   "cell_type": "markdown",
   "metadata": {},
   "source": [
    "## Decimal Numbers"
   ]
  },
  {
   "cell_type": "markdown",
   "metadata": {},
   "source": [
    "Try running the following program, which prints out several random numbers. The output is left justified and numbers look terrible."
   ]
  },
  {
   "cell_type": "code",
   "execution_count": 4,
   "metadata": {
    "collapsed": false
   },
   "outputs": [
    {
     "name": "stdout",
     "output_type": "stream",
     "text": [
      "3\n",
      "9\n",
      "18\n",
      "0\n",
      "4\n",
      "4\n",
      "4\n",
      "17\n",
      "14\n",
      "6\n"
     ]
    }
   ],
   "source": [
    "import random\n",
    " \n",
    "for i in range(10):\n",
    "    x = random.randrange(20)\n",
    "    print(x)"
   ]
  },
  {
   "cell_type": "markdown",
   "metadata": {},
   "source": [
    "&nbsp;&nbsp;&nbsp;&nbsp;&nbsp;We can use string formatting to make the list of numbers look better by right-justifying them. The first step is to use the format command on the string as seen below. See how the string ends with .format(x). In future chapters we will talk about classes, instances(objects) and methods. All strings are actually instances of a class named String. That class has methods that can be called. One of them is format.\n",
    "\n",
    "&nbsp;&nbsp;&nbsp;&nbsp;&nbsp;The format function will not print out the curly braces { } but instead replaces them with the value in x. The output (below) looks just like what we had before so obviously we are supposed to put something into the curly braces."
   ]
  },
  {
   "cell_type": "code",
   "execution_count": 6,
   "metadata": {
    "collapsed": false
   },
   "outputs": [
    {
     "name": "stdout",
     "output_type": "stream",
     "text": [
      "0\n",
      "4\n",
      "9\n",
      "2\n",
      "2\n",
      "0\n",
      "13\n",
      "12\n",
      "9\n",
      "7\n"
     ]
    }
   ],
   "source": [
    "import random\n",
    " \n",
    "for i in range(10):\n",
    "    x = random.randrange(20)\n",
    "    print(\"{}\".format(x) )"
   ]
  },
  {
   "cell_type": "markdown",
   "metadata": {},
   "source": [
    "&nbsp;&nbsp;&nbsp;&nbsp;&nbsp;To right justify, we add more information about how to format the number between the curly braces { }:"
   ]
  },
  {
   "cell_type": "code",
   "execution_count": 7,
   "metadata": {
    "collapsed": false
   },
   "outputs": [
    {
     "name": "stdout",
     "output_type": "stream",
     "text": [
      "12\n",
      "18\n",
      " 6\n",
      " 2\n",
      " 4\n",
      "16\n",
      " 0\n",
      "11\n",
      " 9\n",
      " 3\n"
     ]
    }
   ],
   "source": [
    "import random\n",
    " \n",
    "for i in range(10):\n",
    "    x = random.randrange(20)\n",
    "    print(\"{:2}\".format(x) )"
   ]
  },
  {
   "cell_type": "markdown",
   "metadata": {},
   "source": [
    "&nbsp;&nbsp;&nbsp;&nbsp;&nbsp;This is better; we have right justified numbers! But how does it work? The :2 that we added isn't exactly obvious.\n",
    "\n",
    "&nbsp;&nbsp;&nbsp;&nbsp;&nbsp;Here's the breakdown: The { } tells the computer we are going to format a number. After the : inside the curly braces will be formatting information. In this case we give it a 2 to specify a field width of two characters. The field width value tells the computer to try to fit the number into a field two characters wide. By default, it will try to right-justify numbers and left-justify text.\n",
    "\n",
    "&nbsp;&nbsp;&nbsp;&nbsp;&nbsp;Even better, the program no longer needs to call str( ) to convert the number to a string. Leave the string conversions out. What if you had large numbers? Let's make bigger random numbers below.\n",
    "\n",
    "&nbsp;&nbsp;&nbsp;&nbsp;&nbsp;We added a comma after the field width specifier, and now our numbers have commas. That comma must go after the field width specifier, not before. Commas are included in calculating the field width. For example, 1,024 has a field width of 5, not 4."
   ]
  },
  {
   "cell_type": "code",
   "execution_count": 9,
   "metadata": {
    "collapsed": false
   },
   "outputs": [
    {
     "name": "stdout",
     "output_type": "stream",
     "text": [
      "79,446\n",
      "65,460\n",
      "20,376\n",
      "36,919\n",
      "21,323\n",
      "48,935\n",
      "79,647\n",
      "52,971\n",
      "33,605\n",
      "78,656\n"
     ]
    }
   ],
   "source": [
    "import random\n",
    "\n",
    "for i in range(10):\n",
    "    x = random.randrange(100000)\n",
    "    print(\"{:6,}\".format(x) )"
   ]
  },
  {
   "cell_type": "markdown",
   "metadata": {},
   "source": [
    "&nbsp;&nbsp;&nbsp;&nbsp;&nbsp;We can print multiple values, and combine the values with text. Run the code below."
   ]
  },
  {
   "cell_type": "code",
   "execution_count": 10,
   "metadata": {
    "collapsed": false
   },
   "outputs": [
    {
     "name": "stdout",
     "output_type": "stream",
     "text": [
      "A - '5' B - '66' C - '777'\n"
     ]
    }
   ],
   "source": [
    "x = 5\n",
    "y = 66\n",
    "z = 777\n",
    "print(\"A - '{}' B - '{}' C - '{}'\".format(x, y, z))"
   ]
  },
  {
   "cell_type": "markdown",
   "metadata": {},
   "source": [
    "&nbsp;&nbsp;&nbsp;&nbsp;&nbsp;The program will substitute numbers in for the curly braces, and still print out all of the other text in the string:\n",
    "\n",
    "&nbsp;&nbsp;&nbsp;&nbsp;&nbsp;If there are three sets of curly braces, the computer will expect three values to be listed in the format command. The first value given will replace the first curly brace.\n",
    "\n",
    "&nbsp;&nbsp;&nbsp;&nbsp;&nbsp;Sometimes we may want to print the same value twice. Or show them in a different order than how they were fed into the format function. See below that by placing a number in the curly braces, we can specify which parameter passed into the format function we want printed out. REMEMBER! Parameters are numbered starting at 0, so x is considered parameter 0."
   ]
  },
  {
   "cell_type": "code",
   "execution_count": 11,
   "metadata": {
    "collapsed": false
   },
   "outputs": [
    {
     "name": "stdout",
     "output_type": "stream",
     "text": [
      "C - '777' A - '5' B - '66' C again - '777'\n"
     ]
    }
   ],
   "source": [
    "x = 5\n",
    "y = 66\n",
    "z = 777\n",
    "print(\"C - '{2}' A - '{0}' B - '{1}' C again - '{2}'\".format(x, y, z))"
   ]
  },
  {
   "cell_type": "markdown",
   "metadata": {},
   "source": [
    "&nbsp;&nbsp;&nbsp;&nbsp;&nbsp;We can still specify formatting information after a colon. We can see below that the code will show the values right justified with a field width of four:"
   ]
  },
  {
   "cell_type": "code",
   "execution_count": 12,
   "metadata": {
    "collapsed": false
   },
   "outputs": [
    {
     "name": "stdout",
     "output_type": "stream",
     "text": [
      "C - ' 777' A - '   5' B - '  66' C again - ' 777'\n"
     ]
    }
   ],
   "source": [
    "x = 5\n",
    "y = 66\n",
    "z = 777\n",
    "print(\"C - '{2:4}' A - '{0:4}' B - '{1:4}' C again - '{2:4}'\".format(x, y, z))"
   ]
  },
  {
   "cell_type": "markdown",
   "metadata": {},
   "source": [
    "## Strings"
   ]
  },
  {
   "cell_type": "markdown",
   "metadata": {},
   "source": [
    "&nbsp;&nbsp;&nbsp;&nbsp;&nbsp;Let's look at how to format strings. The following list looks terrible."
   ]
  },
  {
   "cell_type": "code",
   "execution_count": 16,
   "metadata": {
    "collapsed": false
   },
   "outputs": [
    {
     "name": "stdout",
     "output_type": "stream",
     "text": [
      "Apples are 4 calories.\n",
      "Oranges are 300 calories.\n",
      "Grapes are 70 calories.\n",
      "Pears are 30 calories.\n"
     ]
    }
   ],
   "source": [
    "from __future__ import print_function \n",
    "my_fruit = [\"Apples\",\"Oranges\",\"Grapes\",\"Pears\"]\n",
    "my_calories = [4, 300, 70, 30]\n",
    " \n",
    "for i in range(4):\n",
    "    print(my_fruit[i], \"are\", my_calories[i], \"calories.\")"
   ]
  },
  {
   "cell_type": "markdown",
   "metadata": {},
   "source": [
    "&nbsp;&nbsp;&nbsp;&nbsp;&nbsp;Now try it using the format command. Note how we can put additional text and more than one value into the same line. Remember text will be left justified and numbers are right justified."
   ]
  },
  {
   "cell_type": "code",
   "execution_count": 17,
   "metadata": {
    "collapsed": false
   },
   "outputs": [
    {
     "name": "stdout",
     "output_type": "stream",
     "text": [
      "Apples  are   4 calories.\n",
      "Oranges are 300 calories.\n",
      "Grapes  are  70 calories.\n",
      "Pears   are  30 calories.\n"
     ]
    }
   ],
   "source": [
    "from __future__ import print_function \n",
    "my_fruit = [\"Apples\", \"Oranges\", \"Grapes\", \"Pears\"]\n",
    "my_calories = [4, 300, 70, 30]\n",
    " \n",
    "for i in range(4):\n",
    "    print(\"{:7} are {:3} calories.\".format(my_fruit[i],my_calories[i]) )"
   ]
  },
  {
   "cell_type": "markdown",
   "metadata": {},
   "source": [
    "&nbsp;&nbsp;&nbsp;&nbsp;&nbsp;That's outstanding, and it looks the way we want it. But what if we didn't want the numbers right justified, and the text left justified? We can use < and > characters like the following example...although that looks dumb."
   ]
  },
  {
   "cell_type": "code",
   "execution_count": 18,
   "metadata": {
    "collapsed": false
   },
   "outputs": [
    {
     "name": "stdout",
     "output_type": "stream",
     "text": [
      " Apples are 4   calories.\n",
      "Oranges are 300 calories.\n",
      " Grapes are 70  calories.\n",
      "  Pears are 30  calories.\n"
     ]
    }
   ],
   "source": [
    "from __future__ import print_function \n",
    "my_fruit = [\"Apples\", \"Oranges\", \"Grapes\", \"Pears\"]\n",
    "my_calories = [4, 300, 70, 30]\n",
    " \n",
    "for i in range(4):\n",
    "    print(\"{:>7} are {:<3} calories.\".format(my_fruit[i],my_calories[i]) )"
   ]
  },
  {
   "cell_type": "markdown",
   "metadata": {},
   "source": [
    "## Leading Zeros"
   ]
  },
  {
   "cell_type": "code",
   "execution_count": 21,
   "metadata": {
    "collapsed": false
   },
   "outputs": [
    {
     "name": "stdout",
     "output_type": "stream",
     "text": [
      "Time 8:6\n",
      "Time 8:7\n",
      "Time 8:8\n",
      "Time 8:9\n",
      "Time 8:10\n",
      "Time 8:11\n"
     ]
    }
   ],
   "source": [
    "for hours in range(8,9):\n",
    "    for minutes in range(6,12):\n",
    "        print(\"Time {}:{}\".format(hours, minutes))"
   ]
  },
  {
   "cell_type": "markdown",
   "metadata": {},
   "source": [
    "&nbsp;&nbsp;&nbsp;&nbsp;&nbsp;We need to use leading zeros for displaying numbers in clocks. Rather than specify a 2 for the field width, instead use 02. This will pad the field with zeros rather than spaces."
   ]
  },
  {
   "cell_type": "code",
   "execution_count": 22,
   "metadata": {
    "collapsed": false
   },
   "outputs": [
    {
     "name": "stdout",
     "output_type": "stream",
     "text": [
      "Time 08:06\n",
      "Time 08:07\n",
      "Time 08:08\n",
      "Time 08:09\n",
      "Time 08:10\n",
      "Time 08:11\n"
     ]
    }
   ],
   "source": [
    "for hours in range(8,9):\n",
    "    for minutes in range(6,12):\n",
    "        print(\"Time {:02}:{:02}\".format(hours, minutes))"
   ]
  },
  {
   "cell_type": "markdown",
   "metadata": {},
   "source": [
    "## Floating Point Numbers"
   ]
  },
  {
   "cell_type": "code",
   "execution_count": 24,
   "metadata": {
    "collapsed": false
   },
   "outputs": [
    {
     "name": "stdout",
     "output_type": "stream",
     "text": [
      "0.1  1e+02\n",
      "0.1  1.2e+02\n",
      "0.1  1.23e+02\n",
      "0.1  123.5\n",
      "0.1  123.46\n",
      "0.1  123.457\n",
      "\n",
      "0.1  123.5\n",
      "0.10  123.46\n",
      "0.100  123.457\n",
      "0.1000  123.4568\n",
      "0.10000  123.45679\n",
      "0.100000  123.456789\n"
     ]
    }
   ],
   "source": [
    "from __future__ import print_function \n",
    "x = 0.1\n",
    "y = 123.456789\n",
    "print(\"{:.1}  {:.1}\".format(x,y) )\n",
    "print(\"{:.2}  {:.2}\".format(x,y) )\n",
    "print(\"{:.3}  {:.3}\".format(x,y) )\n",
    "print(\"{:.4}  {:.4}\".format(x,y) )\n",
    "print(\"{:.5}  {:.5}\".format(x,y) )\n",
    "print(\"{:.6}  {:.6}\".format(x,y) )\n",
    "print()\n",
    "print(\"{:.1f}  {:.1f}\".format(x,y) )\n",
    "print(\"{:.2f}  {:.2f}\".format(x,y) )\n",
    "print(\"{:.3f}  {:.3f}\".format(x,y) )\n",
    "print(\"{:.4f}  {:.4f}\".format(x,y) )\n",
    "print(\"{:.5f}  {:.5f}\".format(x,y) )\n",
    "print(\"{:.6f}  {:.6f}\".format(x,y) )"
   ]
  },
  {
   "cell_type": "markdown",
   "metadata": {},
   "source": [
    "&nbsp;&nbsp;&nbsp;&nbsp;&nbsp;A format of .2 means to display the number with two digits of precision. Unfortunately this means if we display the number 123 which has three significant numbers rather than rounding it we get the number in scientific notation: 1.2e+02.\n",
    "\n",
    "&nbsp;&nbsp;&nbsp;&nbsp;&nbsp;A format of .2f (note the f) means to display the number with two digits after the decimal point. So the number 1 would display as 1.00 and the number 1.5555 would display as 1.56.\n",
    "\n",
    "&nbsp;&nbsp;&nbsp;&nbsp;&nbsp;A program can also specify a field width character. The format 10.2f does not mean 10 digits before the decimal and two after. It means a total field width of 10. So there will be 7 digits before the decimal, the decimal which counts as one more, and 2 digits after."
   ]
  },
  {
   "cell_type": "code",
   "execution_count": 26,
   "metadata": {
    "collapsed": false
   },
   "outputs": [
    {
     "name": "stdout",
     "output_type": "stream",
     "text": [
      "'       0.1'  '     1e+02'\n",
      "'       0.1'  '   1.2e+02'\n",
      "'       0.1'  '  1.23e+02'\n",
      "'       0.1'  '     123.5'\n",
      "'       0.1'  '    123.46'\n",
      "'       0.1'  '   123.457'\n",
      "\n",
      "'       0.1'  '     123.5'\n",
      "'      0.10'  '    123.46'\n",
      "'     0.100'  '   123.457'\n",
      "'    0.1000'  '  123.4568'\n",
      "'   0.10000'  ' 123.45679'\n",
      "'  0.100000'  '123.456789'\n"
     ]
    }
   ],
   "source": [
    "from __future__ import print_function \n",
    "x = 0.1\n",
    "y = 123.456789\n",
    "print(\"'{:10.1}'  '{:10.1}'\".format(x,y) )\n",
    "print(\"'{:10.2}'  '{:10.2}'\".format(x,y) )\n",
    "print(\"'{:10.3}'  '{:10.3}'\".format(x,y) )\n",
    "print(\"'{:10.4}'  '{:10.4}'\".format(x,y) )\n",
    "print(\"'{:10.5}'  '{:10.5}'\".format(x,y) )\n",
    "print(\"'{:10.6}'  '{:10.6}'\".format(x,y) )\n",
    "print()\n",
    "print(\"'{:10.1f}'  '{:10.1f}'\".format(x,y) )\n",
    "print(\"'{:10.2f}'  '{:10.2f}'\".format(x,y) )\n",
    "print(\"'{:10.3f}'  '{:10.3f}'\".format(x,y) )\n",
    "print(\"'{:10.4f}'  '{:10.4f}'\".format(x,y) )\n",
    "print(\"'{:10.5f}'  '{:10.5f}'\".format(x,y) )\n",
    "print(\"'{:10.6f}'  '{:10.6f}'\".format(x,y) )"
   ]
  },
  {
   "cell_type": "markdown",
   "metadata": {},
   "source": [
    "## Printing Dollars and Cents"
   ]
  },
  {
   "cell_type": "code",
   "execution_count": 27,
   "metadata": {
    "collapsed": false
   },
   "outputs": [
    {
     "name": "stdout",
     "output_type": "stream",
     "text": [
      "Cost:  $ 3.07\n",
      "Tax:     0.18\n",
      "------------\n",
      "Total: $ 3.25\n"
     ]
    }
   ],
   "source": [
    "from __future__ import print_function \n",
    "cost1  = 3.07\n",
    "tax1   = cost1 * 0.06\n",
    "total1 = cost1 + tax1\n",
    " \n",
    "print(\"Cost:  ${0:5.2f}\".format(cost1) )\n",
    "print(\"Tax:    {0:5.2f}\".format(tax1) )\n",
    "print(\"------------\")\n",
    "print(\"Total: ${0:5.2f}\".format(total1) )"
   ]
  },
  {
   "cell_type": "markdown",
   "metadata": {},
   "source": [
    "&nbsp;&nbsp;&nbsp;&nbsp;&nbsp;Remember! It would be easy to think that :5.2f would mean five digits, a decimal, followed by two digits. But it does not. It means a total field width of five, including the decimal and the two digits after."
   ]
  },
  {
   "cell_type": "markdown",
   "metadata": {},
   "source": [
    "<table width=\"100%\" border=\"1\" cellpadding=\"2\" cellspacing=\"0\">\n",
    "<tr>\n",
    "<td width=\"90\" bgcolor=\"#00FF00\" style=\"vertical-align:top\"><img src=\"http://www.hermonswebsites.com/PyNotebooks/Python/sith.png\" style=\"border:2px solid #021a40;\"><center><b>\n",
    "Jedi<br>Training<br>Task</b></center></td>\n",
    "<td valign=\"top\"><center><font size=\"+2\"><b>Formatting Fibonacci</b></font></center><br>\n",
    "<font size=\"+1\">Write a function called fibonacci() that will print up to a maximum of the first 100 numbers in the Fibonacci sequence. If you don't know what the Fibonacci sequence is you should Google it. Pass the number into the function. The resulting fibonacci sequence must be right justified and contain commas.\n",
    "</td></tr></table>"
   ]
  },
  {
   "cell_type": "markdown",
   "metadata": {},
   "source": [
    "<table width=\"100%\" cellpadding=\"2\" cellspacing=\"2\">\n",
    "<tr>\n",
    "<td style=\"border: 1px solid white;\" width=\"100px\">\n",
    "<div>\n",
    "<a href=\"http://nbviewer.ipython.org/github/CSP-UHS/Hermons_Book_of_Python/blob/master/Chapter06.ipynb\"><img src=\"https://dl.dropboxusercontent.com/u/90219577/Hermon/CSE_Website/notebooks/leftarrow.png\" height=\"50px\" width=\"50px\" align=\"left\"></a>\n",
    "</div>\n",
    "</td>\n",
    "<td style=\"border: 1px solid white;\">\n",
    "<div align=\"center\">\n",
    "<a href=\"http://nbviewer.ipython.org/github/CSP-UHS/Hermons_Book_of_Python/blob/master/Chapter00.ipynb\"><h2>Table of Contents</h2></a>\n",
    "</div>\n",
    "</td>\n",
    "<td style=\"border: 1px solid white;\" width=\"100px\">\n",
    "<div>\n",
    "<a href=\"http://nbviewer.ipython.org/github/CSP-UHS/Hermons_Book_of_Python/blob/master/Chapter08.ipynb\"><img src=\"https://dl.dropboxusercontent.com/u/90219577/Hermon/CSE_Website/notebooks/rightarrow.png\"  height=\"50px\" width=\"50px\"  align=\"right\"></a>\n",
    "</div>\n",
    "</td>\n",
    "</tr></table>"
   ]
  }
 ],
 "metadata": {
  "kernelspec": {
   "display_name": "Python 2",
   "language": "python",
   "name": "python2"
  },
  "language_info": {
   "codemirror_mode": {
    "name": "ipython",
    "version": 2
   },
   "file_extension": ".py",
   "mimetype": "text/x-python",
   "name": "python",
   "nbconvert_exporter": "python",
   "pygments_lexer": "ipython2",
   "version": "2.7.10"
  }
 },
 "nbformat": 4,
 "nbformat_minor": 0
}
