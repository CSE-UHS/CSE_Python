{
 "cells": [
  {
   "cell_type": "markdown",
   "metadata": {
    "deletable": true,
    "editable": true
   },
   "source": [
    "<div align=\"right\">\n",
    "<a href=\"http://nbviewer.ipython.org/github/CSP-UHS/Hermons_Book_of_Python/blob/master/Chapter00.ipynb\" align=\"right\"><h2>Table of Contents</h2></a>\n",
    "</div>"
   ]
  },
  {
   "cell_type": "markdown",
   "metadata": {
    "deletable": true,
    "editable": true
   },
   "source": [
    "# Chapter 30: Infrared Sensor and Remote Control"
   ]
  },
  {
   "cell_type": "markdown",
   "metadata": {
    "deletable": true,
    "editable": true
   },
   "source": [
    "&nbsp;&nbsp;&nbsp;&nbsp;&nbsp;In this chapter we are going to use the Infrared Sensor and a Remote Control. We didn't mention these earlier because they are not part of the standard Educational Kit and therefore cannot be used in various competitions. Usually robots need to have self-automation programs for various competitions. However, since it is fun to remotely control robots we will learn how to do that here."
   ]
  },
  {
   "cell_type": "markdown",
   "metadata": {
    "deletable": true,
    "editable": true
   },
   "source": [
    "## Throughout this chapter refer to the <a href=\"http://python-ev3dev.readthedocs.io/en/latest/sensors.html\" target=\"_blank\">Sensor Documentation</a>"
   ]
  },
  {
   "cell_type": "markdown",
   "metadata": {
    "deletable": true,
    "editable": true
   },
   "source": [
    "## About the Infrared Sensor"
   ]
  },
  {
   "cell_type": "markdown",
   "metadata": {
    "deletable": true,
    "editable": true
   },
   "source": [
    "&nbsp;&nbsp;&nbsp;&nbsp;&nbsp;The Infrared Sensor can measure the distance to an object in front of it. It does this by sending out infrared non-visible light waves to bounce off objects. It can also sense infrared signals being sent by the remote control device called the Beacon.\n",
    "\n",
    "<img src=\"http://www.hermonswebsites.com/PyNotebooks/Python/30/remote.jpg\">\n",
    "\n",
    "&nbsp;&nbsp;&nbsp;&nbsp;&nbsp;Distance to an object is measured from a 0-100 pct. This allows you to program your robot to stop a certain distance from a wall or to find another robot to attack!"
   ]
  },
  {
   "cell_type": "markdown",
   "metadata": {
    "deletable": true,
    "editable": true
   },
   "source": [
    "&nbsp;&nbsp;&nbsp;&nbsp;&nbsp;Let's start by just using the IR Sensor by itself. Create a new file called <b>infrared.py</b> and use the following code. This is a simple program to let the robot tell us the output of <b>.value( )</b> as you bring your hand closer to the sensor.\n",
    "\n",
    "<img src=\"http://www.hermonswebsites.com/PyNotebooks/Python/30/ircode.png\">\n"
   ]
  },
  {
   "cell_type": "markdown",
   "metadata": {
    "deletable": true,
    "editable": true
   },
   "source": [
    "&nbsp;&nbsp;&nbsp;&nbsp;&nbsp;On line 7 you will see the mode <b>'IR-PROX'</b>. This will put the returned <b>.value( )</b> in a percent from 0-100. <b>To get a little practice using the Infrared Sensor let's again update your R2D2 program.</b> (Demonstrate this to your instructor)"
   ]
  },
  {
   "cell_type": "markdown",
   "metadata": {
    "deletable": true,
    "editable": true
   },
   "source": [
    "## Remote Control"
   ]
  },
  {
   "cell_type": "markdown",
   "metadata": {
    "deletable": true,
    "editable": true
   },
   "source": [
    "&nbsp;&nbsp;&nbsp;&nbsp;&nbsp;Now let's learn to control our robot with the Remote Control (a.k.a. The Beacon). Official documentation for the Beacon is <a href=\"http://ev3dev-lang-python-1.readthedocs.io/en/latest/index.html?highlight=ev3dev.ev3.remotecontrol#ev3dev.ev3.RemoteControl\" target=\"_blank\">here.</a>\n",
    "\n",
    "<img src=\"http://www.hermonswebsites.com/PyNotebooks/Python/30/buttons.png\">\n",
    "\n",
    "&nbsp;&nbsp;&nbsp;&nbsp;&nbsp;In addition to measuring the proximity of objects, the IR Sensor can detect infrared signals from the Remote IR Beacon, allowing you to send commands to your robot just as you send commands to a television with a remote control. The IR Sensor can also estimate its distance and orientation with respect to the Remote IR Beacon; this cool feature will allow you do fun things with your robots like play tag, chase prey, or locate and reach a mission base.\n",
    "\n",
    "&nbsp;&nbsp;&nbsp;&nbsp;&nbsp;The Remote IR Beacon is powered by two AAA batteries. It has holes on each side, which make it easy to incorporate into a LEGO Technic model. As you can see in the diagram, it has four small buttons (labeled 1, 2, 3, and 4), a large button (9), and a red Channel Selector switch (12). The Channel Selector lets you\n",
    "choose among four channels, so you can use up to four Remote IR Beacons at once. A number engraved in red plastic in the small circular window shows the current channel. (As long as each remote is set to a different channel, its signal won't interfere with other remotes' signals.) The large button (9) turns on Beacon Mode. When in Beacon Mode, the device transmits a continuous signal until any button is pressed or until one hour has elapsed. The IR Sensor can estimate the proximity and the heading to a beacon set in Beacon Mode. This feature allows a robot to follow a moving\n",
    "beacon or find its distance and heading relative to a fixed beacon. The four small buttons (1, 2, 3, and 4) send commands to the IR Sensor using two infrared light-emitting diodes (LEDs) at the front of the remote. (The plastic that houses these LEDs is a dark blue filter that lets only infrared light pass through it.)\n",
    "\n",
    "&nbsp;&nbsp;&nbsp;&nbsp;&nbsp;The buttons on the Remote Control have names just like the buttons on the EV3 brick did. Button 1 is called <b>red_up</b>. Button 2 is called <b>red_down</b>. Button 3 is called <b>blue_up</b>. Button 4 is called <b>blue_down</b>. Button 9 is called <b>beacon</b>.    "
   ]
  },
  {
   "cell_type": "markdown",
   "metadata": {
    "deletable": true,
    "editable": true
   },
   "source": [
    "## Control Program"
   ]
  },
  {
   "cell_type": "markdown",
   "metadata": {
    "deletable": true,
    "editable": true
   },
   "source": [
    "&nbsp;&nbsp;&nbsp;&nbsp;&nbsp;We will run a <b>.process( )</b> on the remote control buttons similar to what we did with EV3 buttons chapter. Let's examine the following code as you re-write it. You will have to add to this code to complete the entire program in the first Droid Training Task.\n",
    "\n",
    "<img src=\"http://www.hermonswebsites.com/PyNotebooks/Python/30/control.png\">\n",
    "\n",
    "<b>On line 12</b> we set up a Remote Control object called <b>rc</b> and passed in the Channel we want to use as a parameter. Remember that when you eventually test this program to put your Remote Control Beacon on whatever channel you entered here.\n",
    "\n",
    "<b>On line 14</b> we create a function called <b>roll( )</b> that takes two parameters: motor and direction. You will pass in the name of the motor you want to control as well as a (1 or a -1) for the direction to spin the given motor forward or backwards.\n",
    "\n",
    "<b>On line 16</b> within the <b>roll( )</b> function we will have another special function called <b>on_press( )</b> and we pass it the <b>state</b> of the particular button. If the button is being pressed, state = True. If the button is released, state = False. \n",
    "\n",
    "<b>On lines 17-22</b>, we use an if-else statement to run the motor in the given direction or to stop the motor if state equals True or False respectively. On line 23 we <b>return on_press</b>  \n",
    "\n",
    "<b>On line 26</b>, we added what's called an event handler. The \"event\" that we are \"handling\" is if the red_up button is pressed. If it is, it calls the <b>roll( )</b> function which will make MotorB move forward (1). \n",
    "\n",
    "<b>On line 28-30</b>, we have our main loop program which simply runs the <b>process( )</b> looking for various button presses."
   ]
  },
  {
   "cell_type": "markdown",
   "metadata": {
    "deletable": true,
    "editable": true
   },
   "source": [
    "<table style=\"background-color: #FFFFFF; border: 1px solid #000000; width: 100%; padding: 2px;\">\n",
    "<tr style=\"background-color: #00FF00;\">\n",
    "<td width=\"90\" style=\"vertical-align: top; border: 1px solid #000000;\"><img src=\"http://www.hermonswebsites.com/PyNotebooks/Python/sith.png\" style=\"border: 2px solid #021a40;\">\n",
    "</td><td style=\"border: 1px solid #000000;\"><h2><center><b>Droid Training Task</b></center></h2></td></tr>\n",
    "<tr>\n",
    "<td valign=\"top\" colspan=\"2\" style=\"text-align: left;\">\n",
    "<center><font size=\"+1\"><b>Viper Probe Droid</b></font></center><br>\n",
    "<img src=\"http://www.hermonswebsites.com/PyNotebooks/Python/30/probedroid.png\">\n",
    "<font size=\"+1\">\n",
    "&nbsp;&nbsp;&nbsp;&nbsp;&nbsp;You need to remotely control a Viper Probe Droid to search the planet Hoth for the rebel base. We already have the <b>red_up</b> button programmed to turn MotorB forward. Program the <b>red_down, blue_up and blue_down</b> buttons to be able to move the droid around the robot platform. Finally, program the <b>beacon</b> button to do something of your choice.\n",
    "</font>\n",
    "</td></tr></table>\n"
   ]
  },
  {
   "cell_type": "markdown",
   "metadata": {
    "deletable": true,
    "editable": true
   },
   "source": [
    "<table style=\"background-color: #FFFFFF; border: 1px solid #000000; width: 100%; padding: 2px;\">\n",
    "<tr style=\"background-color: #00FF00;\">\n",
    "<td width=\"90\" style=\"vertical-align: top; border: 1px solid #000000;\"><img src=\"http://www.hermonswebsites.com/PyNotebooks/Python/sith.png\" style=\"border: 2px solid #021a40;\">\n",
    "</td><td style=\"border: 1px solid #000000;\"><h2><center><b>Droid Training Task</b></center></h2></td></tr>\n",
    "<tr>\n",
    "<td valign=\"top\" colspan=\"2\" style=\"text-align: left;\">\n",
    "<center><font size=\"+1\"><b>Homing Beacon</b></font></center><br>\n",
    "<img src=\"http://www.hermonswebsites.com/PyNotebooks/Python/30/Homing_Beacon.jpg\">\n",
    "<font size=\"+1\">\n",
    "&nbsp;&nbsp;&nbsp;&nbsp;&nbsp;We can use the Remote Control to send out a Beacon signal by pressing the big Beacon button. If we create an IR Sensor object such as the following we can use the mode <b>(\"IR-SEEK\")</b>. There is not an actual need to create a Remote Control object this time.\n",
    "</font>\n",
    "<img src=\"http://www.hermonswebsites.com/PyNotebooks/Python/30/seek.png\"><br>\n",
    "<font size=\"+1\">\n",
    "&nbsp;&nbsp;&nbsp;&nbsp;&nbsp;When we call the <b>see.value( )</b> we will pass in the parameter 4 like this: <b>see.value(4)</b>. The Remote Control must be on Channel 3 also. The <b>see.value(4)</b> will give us a heading from -25 to +25. A -25 means the Beacon is to the left and a +25 means the Beacon is to the right. Click <a href=\"http://docs.ev3dev.org/projects/lego-linux-drivers/en/ev3dev-jessie/sensor_data.html#lego-ev3-ir-modes\" target=\"_blank\">here</a> to see the documentation on <b>(\"IR-SEEK\")</b>.\n",
    "</font>\n",
    "<br><br>\n",
    "<font size=\"+1\">\n",
    "&nbsp;&nbsp;&nbsp;&nbsp;&nbsp;Write a program that will get your robot to follow you around if you press down the Beacon button on the Remote Control. This program will be a lot like the line-follower concept.\n",
    "</font>\n",
    "</td></tr></table>\n"
   ]
  },
  {
   "cell_type": "markdown",
   "metadata": {
    "deletable": true,
    "editable": true
   },
   "source": [
    "<table  style=\"background-color: #FFFFFF; width: 100%; padding: 2px;\">\n",
    "<tr style=\"background-color: #FFFFFF;\">\n",
    "<td style=\"border: 1px solid white;\" width=\"100px\">\n",
    "<div>\n",
    "<a href=\"http://nbviewer.ipython.org/github/CSP-UHS/Hermons_Book_of_Python/blob/master/Chapter29.ipynb\"><img src=\"http://www.hermonswebsites.com/PyNotebooks/Python/leftarrow.png\" height=\"50px\" width=\"50px\" align=\"left\"></a>\n",
    "</div>\n",
    "</td>\n",
    "<td style=\"border: 1px solid white;\">\n",
    "<div align=\"center\">\n",
    "<a href=\"http://nbviewer.ipython.org/github/CSP-UHS/Hermons_Book_of_Python/blob/master/Chapter00.ipynb\"><h2>Table of Contents</h2></a>\n",
    "</div>\n",
    "</td>\n",
    "<td style=\"border: 1px solid white;\" width=\"100px\">\n",
    "<div>\n",
    "<a href=\"http://nbviewer.ipython.org/github/CSP-UHS/Hermons_Book_of_Python/blob/master/Chapter31.ipynb\"><img src=\"http://www.hermonswebsites.com/PyNotebooks/Python/rightarrow.png\"  height=\"50px\" width=\"50px\"  align=\"right\"></a>\n",
    "</div>\n",
    "</td>\n",
    "</tr></table>"
   ]
  }
 ],
 "metadata": {
  "kernelspec": {
   "display_name": "Python 3",
   "language": "python",
   "name": "python3"
  },
  "language_info": {
   "codemirror_mode": {
    "name": "ipython",
    "version": 3
   },
   "file_extension": ".py",
   "mimetype": "text/x-python",
   "name": "python",
   "nbconvert_exporter": "python",
   "pygments_lexer": "ipython3",
   "version": "3.5.2"
  }
 },
 "nbformat": 4,
 "nbformat_minor": 0
}
