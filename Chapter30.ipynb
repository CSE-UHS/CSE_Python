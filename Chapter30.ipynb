{
 "cells": [
  {
   "cell_type": "markdown",
   "metadata": {
    "deletable": true,
    "editable": true
   },
   "source": [
    "<div align=\"right\">\n",
    "<a href=\"http://nbviewer.ipython.org/github/CSP-UHS/Hermons_Book_of_Python/blob/master/Chapter00.ipynb\" align=\"right\"><h2>Table of Contents</h2></a>\n",
    "</div>"
   ]
  },
  {
   "cell_type": "markdown",
   "metadata": {
    "deletable": true,
    "editable": true
   },
   "source": [
    "# Chapter 30: Infrared Sensor and Remote Control"
   ]
  },
  {
   "cell_type": "markdown",
   "metadata": {
    "deletable": true,
    "editable": true
   },
   "source": [
    "&nbsp;&nbsp;&nbsp;&nbsp;&nbsp;In this chapter we are going to use the Infrared Sensor and a Remote Control. We didn't mention these earlier because they are not part of the standard Educational Kit and therefore cannot be used in various competitions. Usually robots need to have self-automation programs for various competitions. However, since it is fun to remotely control robots we will learn how to do that here."
   ]
  },
  {
   "cell_type": "markdown",
   "metadata": {
    "deletable": true,
    "editable": true
   },
   "source": [
    "## Throughout this chapter refer to the <a href=\"http://python-ev3dev.readthedocs.io/en/latest/sensors.html\" target=\"_blank\">Sensor Documentation</a>"
   ]
  },
  {
   "cell_type": "markdown",
   "metadata": {
    "deletable": true,
    "editable": true
   },
   "source": [
    "## About the Infrared Sensor"
   ]
  },
  {
   "cell_type": "markdown",
   "metadata": {
    "deletable": true,
    "editable": true
   },
   "source": [
    "&nbsp;&nbsp;&nbsp;&nbsp;&nbsp;The Infrared Sensor can measure the distance to an object in front of it. It does this by sending out infrared non-visible light waves to bounce off objects. It can also sense infrared signals being sent by the remote control device called the Beacon.\n",
    "\n",
    "<img src=\"http://www.hermonswebsites.com/PyNotebooks/Python/30/remote.jpg\">\n",
    "\n",
    "&nbsp;&nbsp;&nbsp;&nbsp;&nbsp;Distance to an object is measured from a 0-100 pct. This allows you to program your robot to stop a certain distance from a wall or to find another robot to attack!"
   ]
  },
  {
   "cell_type": "markdown",
   "metadata": {
    "deletable": true,
    "editable": true
   },
   "source": [
    "&nbsp;&nbsp;&nbsp;&nbsp;&nbsp;Let's start by just using the IR Sensor by itself. Create a new file called <b>infrared.py</b> and use the following code. This is a simple program to let the robot tell us the output of <b>.value( )</b> as you bring your hand closer to the sensor.\n",
    "\n",
    "<img src=\"http://www.hermonswebsites.com/PyNotebooks/Python/30/ircode.png\">\n"
   ]
  },
  {
   "cell_type": "markdown",
   "metadata": {
    "deletable": true,
    "editable": true
   },
   "source": [
    "&nbsp;&nbsp;&nbsp;&nbsp;&nbsp;On line 7 you will see the mode <b>'IR-PROX'</b>. This will put the returned <b>.value( )</b> in a percent from 0-100. "
   ]
  },
  {
   "cell_type": "markdown",
   "metadata": {
    "deletable": true,
    "editable": true
   },
   "source": [
    "## Navigation"
   ]
  },
  {
   "cell_type": "markdown",
   "metadata": {
    "deletable": true,
    "editable": true
   },
   "source": [
    "&nbsp;&nbsp;&nbsp;&nbsp;&nbsp;To get a little practice using the Ultrasonic Sensor let's update your code from the <b>BB8</b> program from last chapter. This time you won't have to back up. Just stop and turn about 10 cm from the board. If you want to, instead of this activity you could update your <b>R2D2</b> program since we didn't use any sensors to complete that task."
   ]
  },
  {
   "cell_type": "markdown",
   "metadata": {
    "deletable": true,
    "editable": true
   },
   "source": [
    "<table style=\"background-color: #FFFFFF; border: 1px solid #000000; width: 100%; padding: 2px;\">\n",
    "<tr style=\"background-color: #00FF00;\">\n",
    "<td width=\"90\" style=\"vertical-align: top; border: 1px solid #000000;\"><img src=\"http://www.hermonswebsites.com/PyNotebooks/Python/sith.png\" style=\"border: 2px solid #021a40;\">\n",
    "</td><td style=\"border: 1px solid #000000;\"><h2><center><b>Droid Training Task</b></center></h2></td></tr>\n",
    "<tr>\n",
    "<td valign=\"top\" colspan=\"2\" style=\"text-align: left;\">\n",
    "<center><font size=\"+1\"><b>General Grievous Battle Droid</b></font></center><br>\n",
    "<img src=\"http://www.hermonswebsites.com/PyNotebooks/Python/25/grievous.jpg\">\n",
    "<font size=\"+1\">\n",
    "&nbsp;&nbsp;&nbsp;&nbsp;&nbsp;General Grievous, leader of the droid army for the Galactic Empire has commissioned you (albeit through threat of light-saber decapitation) to program a cage-match type battle bot. The battle mat can be seen in the Engineering Room and looks like the following:\n",
    "\n",
    "<img src=\"http://www.hermonswebsites.com/PyNotebooks/Python/25/battlemat.jpg\" style=\"width: 200px; height: 200px;\">\n",
    "\n",
    "Two robots are placed parallel to each other and the staring lines. They are facing in opposite directions. When both robots are started they must first move forward. Each robot is trying to push the other one off the mat so it's good if you can use the Ultrasonic Sensor to locate the other robot and charge at them. You also want to use a Color Sensor so you can turn around if you ever get to the white edge of the mat. You obviously do not want to drive off the mat by yourself. If you get the programming worked out, you can start building a good battle bot structure to compete at the IT Olympics in Ames in April.\n",
    "</font>\n",
    "</td></tr></table>\n"
   ]
  },
  {
   "cell_type": "markdown",
   "metadata": {
    "deletable": true,
    "editable": true
   },
   "source": [
    "<table  style=\"background-color: #FFFFFF; width: 100%; padding: 2px;\">\n",
    "<tr style=\"background-color: #FFFFFF;\">\n",
    "<td style=\"border: 1px solid white;\" width=\"100px\">\n",
    "<div>\n",
    "<a href=\"http://nbviewer.ipython.org/github/CSP-UHS/Hermons_Book_of_Python/blob/master/Chapter29.ipynb\"><img src=\"http://www.hermonswebsites.com/PyNotebooks/Python/leftarrow.png\" height=\"50px\" width=\"50px\" align=\"left\"></a>\n",
    "</div>\n",
    "</td>\n",
    "<td style=\"border: 1px solid white;\">\n",
    "<div align=\"center\">\n",
    "<a href=\"http://nbviewer.ipython.org/github/CSP-UHS/Hermons_Book_of_Python/blob/master/Chapter00.ipynb\"><h2>Table of Contents</h2></a>\n",
    "</div>\n",
    "</td>\n",
    "<td style=\"border: 1px solid white;\" width=\"100px\">\n",
    "<div>\n",
    "<a href=\"http://nbviewer.ipython.org/github/CSP-UHS/Hermons_Book_of_Python/blob/master/Chapter31.ipynb\"><img src=\"http://www.hermonswebsites.com/PyNotebooks/Python/rightarrow.png\"  height=\"50px\" width=\"50px\"  align=\"right\"></a>\n",
    "</div>\n",
    "</td>\n",
    "</tr></table>"
   ]
  }
 ],
 "metadata": {
  "kernelspec": {
   "display_name": "Python 3",
   "language": "python",
   "name": "python3"
  },
  "language_info": {
   "codemirror_mode": {
    "name": "ipython",
    "version": 3
   },
   "file_extension": ".py",
   "mimetype": "text/x-python",
   "name": "python",
   "nbconvert_exporter": "python",
   "pygments_lexer": "ipython3",
   "version": "3.5.2"
  }
 },
 "nbformat": 4,
 "nbformat_minor": 0
}
