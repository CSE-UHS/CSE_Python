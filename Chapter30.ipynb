{
 "cells": [
  {
   "cell_type": "markdown",
   "metadata": {
    "deletable": true,
    "editable": true
   },
   "source": [
    "<div align=\"right\">\n",
    "<a href=\"http://nbviewer.ipython.org/github/CSP-UHS/Hermons_Book_of_Python/blob/master/Chapter00.ipynb\" align=\"right\"><h2>Table of Contents</h2></a>\n",
    "</div>"
   ]
  },
  {
   "cell_type": "markdown",
   "metadata": {
    "deletable": true,
    "editable": true
   },
   "source": [
    "# Chapter 20: More GUI"
   ]
  },
  {
   "cell_type": "markdown",
   "metadata": {
    "deletable": true,
    "editable": true
   },
   "source": [
    "## Introduction"
   ]
  },
  {
   "cell_type": "markdown",
   "metadata": {
    "deletable": true,
    "editable": true
   },
   "source": [
    "&nbsp;&nbsp;&nbsp;&nbsp;&nbsp;In this final chapter you will be given code to three GUIs and will be asked to examine the code and research documentation on items that you do not understand. You will then be asked to modify the code to make revised GUIs. You will demonstrate your modified GUIs for your instructor. Right-Click to download the following folder that contains three GUI code programs. <a href=\"http://www.hermonswebsites.com/PyNotebooks/Python/20/GUI.zip\">GUI Folder</a>."
   ]
  },
  {
   "cell_type": "markdown",
   "metadata": {
    "deletable": true,
    "editable": true
   },
   "source": [
    "## GUI 1: Color Explorer"
   ]
  },
  {
   "cell_type": "markdown",
   "metadata": {
    "deletable": true,
    "editable": true
   },
   "source": [
    "<table style=\"background-color: #FFFFFF; border: 1px solid #000000; width: 100%; padding: 2px;\">\n",
    "<tr style=\"background-color: #00FF00;\">\n",
    "<td width=\"90\" style=\"vertical-align: top; border: 1px solid #000000;\"><img src=\"http://www.hermonswebsites.com/PyNotebooks/Python/sith.png\" style=\"border: 2px solid #021a40;\">\n",
    "</td><td style=\"border: 1px solid #000000;\"><h2><center><b>Jedi Training Task</b></center></h2></td></tr>\n",
    "<tr>\n",
    "<td valign=\"top\" colspan=\"2\" style=\"text-align: left;\"><font size=\"+1\">\n",
    "&nbsp;&nbsp;&nbsp;&nbsp;&nbsp;Open the \"color string changer\" GUI. This GUI needs to be modified so that an artist can see how different RGB colors actually LOOK so he/she can use them in a digital image. Modify the GUI so that it performs as can be seen in this <a href=\"https://youtu.be/_K8OwEqgMg0\" target=\"_blank\">video</a>. Notice a circle now changes color and the blue slider has been added. You might want to review hexadecimal color codes as well as examine the documentation of the <a href=\"http://effbot.org/tkinterbook/text.htm\" target=\"_blank\">Tkinter Text Widget</a>. You will use <b>itemconfig</b> on the circle_item to change the <b>fill</b> to the hexadecimal code that you are also printing to the screen. When you have accomplished this task demonstrate it to your teacher.\n",
    "</font>\n",
    "</td></tr></table>"
   ]
  },
  {
   "cell_type": "markdown",
   "metadata": {
    "deletable": true,
    "editable": true
   },
   "source": [
    "## GUI 2: Canvas Art"
   ]
  },
  {
   "cell_type": "markdown",
   "metadata": {
    "deletable": true,
    "editable": true
   },
   "source": [
    "<table style=\"background-color: #FFFFFF; border: 1px solid #000000; width: 100%; padding: 2px;\">\n",
    "<tr style=\"background-color: #00FF00;\">\n",
    "<td width=\"90\" style=\"vertical-align: top; border: 1px solid #000000;\"><img src=\"http://www.hermonswebsites.com/PyNotebooks/Python/sith.png\" style=\"border: 2px solid #021a40;\">\n",
    "</td><td style=\"border: 1px solid #000000;\"><h2><center><b>Jedi Training Task</b></center></h2></td></tr>\n",
    "<tr>\n",
    "<td valign=\"top\" colspan=\"2\" style=\"text-align: left;\"><font size=\"+1\">\n",
    "&nbsp;&nbsp;&nbsp;&nbsp;&nbsp;All GUIs are based on events and event handlers. Tkinter provides four ways to connect an event to an event handler. Three of them are:<br><br>\n",
    "<b>•\tthe variable argument of a widget<br>\n",
    "•\tthe command argument of a widget<br>\n",
    "•\tthe bind( ) method of a widget</b><br><br>\n",
    "\n",
    "&nbsp;&nbsp;&nbsp;&nbsp;&nbsp;The <b>variable argument</b> doesn't let you write your own event handler; it just changes the value of the variable when the user uses the widget. The <b>command argument</b> lets you write your own event handler but only for the widget's built-in kind of event. The <b>bind( )</b> method, however, lets you write your own event handler and attach it to any event that exists like if the user hits the up-arrow key for example. The events include mouse, keyboard, and timer events. \n",
    "Two good sources of documentation on Tkinter events are listed here.<br><br>\n",
    "\n",
    "•\thttp://effbot.org/tkinterbook/tkinter-events-and-bindings.htm<br>\n",
    "•\thttp://infohost.nmt.edu/tcc/help/pubs/tkinter   Sections 52.2 - 52.6.<br><br>\n",
    "\n",
    "&nbsp;&nbsp;&nbsp;&nbsp;&nbsp;Open the \"canvas circle art\" GUI. An artist is working on a series of acrylic paintings on large canvases. To plan each painting, she wants to paint circles on screens of different colors and experiment with their size, color, position, and overlap. In the code you will see the keyword <b>global</b>. Variables either have a <b>global</b> or a <b>local scope</b>. The scope of a variable identifies which part of a program can use the variable name to refer to the variable's value. For example, the scope of the variable <b>new_shape</b> is local to the <b>up</b> function and would be garbage collected shortly after <b>up( )</b> returned. The canvas object might (in fact does) continue to know about the new_shape, but the new_shape variable that is bound to the object will get garbage collected. That is why new_shape has to be put into the list shapes. The variables <b>startx</b> and <b>starty</b> are defined as <b>global</b> because they needed to be used everywhere including outside of that particular function.<br> <br>\n",
    "\n",
    "\n",
    "&nbsp;&nbsp;&nbsp;&nbsp;&nbsp;<b>Take some time to examine this program and try to understand what each line of code does. Modify the GUI so that it performs as can be seen in one of the following videos. The videos are listed from easiest to difficult. You only need to complete one of the following modifications but if you think you are advanced, feel free to challenge yourself to get all three to work.</b><br><br>\n",
    "1.) <a href=\"https://youtu.be/rhegHjDSzjM\" target=\"_blank\">Rectangle Art</a><br>\n",
    "Simply change the code so that rectangles are drawn rather than circles. Change the window title and the directions accordingly.<br><br>\n",
    "2.) <a href=\"https://youtu.be/fmLS4djAVAE\" target=\"_blank\">Shape Art</a><br>\n",
    "Add two radio buttons to let the user choose if they want to draw circles or rectangles. Set up an IntVar variable called <b>which_shape</b> and then use <b>.set( )</b> to set it to 1. In your radio buttons let 1 be for a circle and 2 be for a rectangle. In your <b>up( )</b> function you will need to use a <b>.get( )</b> and an <b>if</b> statement to check the value of <b>which_shape</b> to see whether to draw a circle or a rectangle. Change the window title and the directions accordingly.<br><br>\n",
    "3.) <a href=\"https://youtu.be/AZYrGta4BnE\" target=\"_blank\">Re-Color Circle Art</a><br>\n",
    "Make a third (event) function called, <b>recolor</b>. In that function first set the <b>tk_color_string</b>. Next make a <b>for shape in shapes:</b> loop. In that loop first get the coordinates of shape. Do some math to determine the x and y coordinates of the center of the shape as well as the radius (r) of the shape. Now using Pythagorean's Theorem determine the distance (d) between where the Double Click event occurred and where the center of the circle is located. Finally, make an <b>if</b> statement to see if (d) is less than (r). If it is that means you are within that shape and you should use <b>.itemconfig</b> to change the <b>fill</b> and <b>outline</b> of the shape. Finally, further down in the program you will have to <b>bind</b> the Double-click to the canvas.  Change the window title and the direction accordingly.\n",
    "\n",
    "\n",
    "</font>\n",
    "</td></tr></table>"
   ]
  },
  {
   "cell_type": "markdown",
   "metadata": {
    "deletable": true,
    "editable": true
   },
   "source": [
    "## GUI 3: Animated Ball"
   ]
  },
  {
   "cell_type": "markdown",
   "metadata": {
    "deletable": true,
    "editable": true
   },
   "source": [
    "<table style=\"background-color: #FFFFFF; border: 1px solid #000000; width: 100%; padding: 2px;\">\n",
    "<tr style=\"background-color: #00FF00;\">\n",
    "<td width=\"90\" style=\"vertical-align: top; border: 1px solid #000000;\"><img src=\"http://www.hermonswebsites.com/PyNotebooks/Python/sith.png\" style=\"border: 2px solid #021a40;\">\n",
    "</td><td style=\"border: 1px solid #000000;\"><h2><center><b>Jedi Training Task</b></center></h2></td></tr>\n",
    "<tr>\n",
    "<td valign=\"top\" colspan=\"2\" style=\"text-align: left;\"><font size=\"+1\">\n",
    "&nbsp;&nbsp;&nbsp;&nbsp;&nbsp;Open the \"bouncing ball\" GUI.<br><br>\n",
    "\n",
    "&nbsp;&nbsp;&nbsp;&nbsp;&nbsp;Tkinter usually accomplishes animation using recursion. <b>Recursion</b> is when a function calls itself. Recursion is one of the four building blocks of algorithms:<br><br>\n",
    "<b>\n",
    "•\tSequencing instructions<br>\n",
    "•\tSelecting instructions based on a conditional<br>\n",
    "•\tIteration of instructions<br>\n",
    "•\tRecursion</b><br><br>\n",
    "\n",
    "&nbsp;&nbsp;&nbsp;&nbsp;&nbsp;As you discovered in Scratch, animation is created by moving a graphic element a small distance after each small time interval. In Tkinter, this is accomplished with the <b>after(msec, handler) method</b> of a Tkinter widget. The argument <b>msec</b> is an integer number of milliseconds, and the argument handler is the function name of the event handler. <br><br>\n",
    "\n",
    "&nbsp;&nbsp;&nbsp;&nbsp;&nbsp;The <b>after( ) method</b> creates a single timer. When the timer completes its time, it calls the handler only once. To call the handler over and over, we call the <b>after( ) method</b> again at the end of the handler, so the handler indirectly calls itself. When something references itself, surprising beauty and elegance can result.<br><br>\n",
    "\n",
    "&nbsp;&nbsp;&nbsp;&nbsp;&nbsp;Try to modify the bouncing ball GUI to do the wrap around method instead as seen in this <a href=\"https://youtu.be/ZG-OvURUf9g\" target=\"_blank\">video</a>. When you have accomplished this task demonstrate it to your instructor.\n",
    "</font>\n",
    "</td></tr></table>"
   ]
  },
  {
   "cell_type": "markdown",
   "metadata": {
    "deletable": true,
    "editable": true
   },
   "source": [
    "<table  style=\"background-color: #FFFFFF; width: 100%; padding: 2px;\">\n",
    "<tr style=\"background-color: #FFFFFF;\">\n",
    "<td style=\"border: 1px solid white;\" width=\"250px\">\n",
    "<div>\n",
    "<a href=\"http://nbviewer.ipython.org/github/CSP-UHS/Hermons_Book_of_Python/blob/master/Chapter19.ipynb\"><img src=\"http://www.hermonswebsites.com/PyNotebooks/Python/leftarrow.png\" height=\"50px\" width=\"50px\" align=\"left\"></a>\n",
    "</div>\n",
    "</td>\n",
    "<td style=\"border: 1px solid white;\">\n",
    "<div align=\"center\">\n",
    "<a href=\"http://nbviewer.ipython.org/github/CSP-UHS/Hermons_Book_of_Python/blob/master/Chapter00.ipynb\"><h2>Table of Contents</h2></a>\n",
    "</div>\n",
    "</td>\n",
    "<td style=\"border: 1px solid white;\" width=\"250px\" nowrap>\n",
    "<div>\n",
    "<a href=\"http://nbviewer.jupyter.org/github/CSP-UHS/Web-Development/blob/master/Chapter00.ipynb\">Next Book: School of Web Wizardry</a>\n",
    "</div>\n",
    "</td>\n",
    "</tr></table>"
   ]
  }
 ],
 "metadata": {
  "kernelspec": {
   "display_name": "Python 2",
   "language": "python",
   "name": "python2"
  },
  "language_info": {
   "codemirror_mode": {
    "name": "ipython",
    "version": 2
   },
   "file_extension": ".py",
   "mimetype": "text/x-python",
   "name": "python",
   "nbconvert_exporter": "python",
   "pygments_lexer": "ipython2",
   "version": "2.7.10"
  }
 },
 "nbformat": 4,
 "nbformat_minor": 0
}
