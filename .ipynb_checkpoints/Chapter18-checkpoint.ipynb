{
 "cells": [
  {
   "cell_type": "markdown",
   "metadata": {},
   "source": [
    "<div align=\"right\">\n",
    "<a href=\"http://nbviewer.ipython.org/github/CSE-UHS/CSE_Python/blob/master/Chapter00.ipynb\" align=\"right\"><h2>Hermon's Book of Python</h2></a>\n",
    "</div>"
   ]
  },
  {
   "cell_type": "markdown",
   "metadata": {},
   "source": [
    "# Chapter 18: Graphics"
   ]
  },
  {
   "cell_type": "markdown",
   "metadata": {},
   "source": [
    "## Computer Coordinate Systems"
   ]
  },
  {
   "cell_type": "markdown",
   "metadata": {},
   "source": [
    "&nbsp;&nbsp;&nbsp;&nbsp;&nbsp;The Cartesian coordinate system, shown below, is the system most people are used to when plotting graphics. This is the system taught in school. The computer uses a similar, but somewhat different, coordinate system. Understanding why it is different requires a quick bit of computer history.\n",
    "\n",
    "<center><img src=\"https://dl.dropboxusercontent.com/u/90219577/Hermon/CSE_Website/notebooks/18/cartesian.png\" width=\"500\" height=\"500\"></center>\n",
    "\n",
    "&nbsp;&nbsp;&nbsp;&nbsp;&nbsp;During the early '80s, most computer systems were text-based and did not support graphics. The image below shows an early spreadsheet program run on an Apple ][ computer that was popular in the '80s. When positioning text on the screen, programmers started at the top calling it line 1. The screen continued down for 24 lines and across for 40 characters.\n",
    "\n",
    "<center><img src=\"https://dl.dropboxusercontent.com/u/90219577/Hermon/CSE_Website/notebooks/18/apple3screen.png\" width=\"400\" height=\"400\"></center>\n",
    "\n",
    "&nbsp;&nbsp;&nbsp;&nbsp;&nbsp;Even with plain text, it was possible to make rudimentary graphics by just using characters on the keyboard. See this cat shown below and look carefully at how it is drawn. When making this art, characters were still positioned starting with line 1 at the top. Many of you have used ASCII art in your Camel and Toin Coss Programs. Search the web for “ASCII art” and many more examples can be found. \n",
    "\n",
    "<center><img src=\"https://dl.dropboxusercontent.com/u/90219577/Hermon/CSE_Website/notebooks/18/simpleASCII.png\"></center>\n",
    "\n",
    "<center><img src=\"https://dl.dropboxusercontent.com/u/90219577/Hermon/CSE_Website/notebooks/18/ASC.png\"></center>\n",
    "\n",
    "&nbsp;&nbsp;&nbsp;&nbsp;&nbsp;Later the character set was expanded to include boxes and other primitive drawing shapes. Characters could be drawn in different colors. As seen below the graphics got more advanced.\n",
    "\n",
    "\n",
    "<center><img src=\"https://dl.dropboxusercontent.com/u/90219577/Hermon/CSE_Website/notebooks/18/spacewar.png\" width=\"400\" height=\"400\"></center>\n",
    "\n",
    "&nbsp;&nbsp;&nbsp;&nbsp;&nbsp;Even after computers moved to being able to control individual pixels for graphics, the text-based coordinate system stuck.\n",
    "\n",
    "<center><img src=\"https://dl.dropboxusercontent.com/u/90219577/Hermon/CSE_Website/notebooks/18/Computer_coordinates_2D.png\" width=\"400\" height=\"400\"></center>\n",
    "\n",
    "&nbsp;&nbsp;&nbsp;&nbsp;&nbsp;The (x) coordinates work the same as the Cartesian coordinates system. But the  (y) coordinates are reversed. Rather than the zero (y) coordinate at the bottom of the graph like in Cartesian graphics, the zero (y) coordinate is at the top of the screen with the computer. As the (y) values go up, the computer coordinate position moved down the screen, just like lines of text rather than standard Cartesian graphics.\n",
    "\n",
    "&nbsp;&nbsp;&nbsp;&nbsp;&nbsp;Also, note the screen covers the lower right quadrant, whereas the Cartesian coordinate system usually focuses on the upper right quadrant. It is possible to draw items at negative coordinates, but they will be drawn off-screen. This can be useful when part of a shape is off screen. The computer figures out what is off-screen and the programmer does not need to worry too much about it."
   ]
  },
  {
   "cell_type": "markdown",
   "metadata": {},
   "source": [
    "## Using the Tkinter Library"
   ]
  },
  {
   "cell_type": "markdown",
   "metadata": {},
   "source": [
    "&nbsp;&nbsp;&nbsp;&nbsp;&nbsp;There are several toolkits for building a GUI and working with graphics that can be used across multiple languages. For example, across Python, C++, and Java, there are the toolkits Tk, wx, and Qt. We will use Tk, which is implemented with the Python library <b>Tkinter</b>, so named because it is the Python <b><u>inter</u></b>face to the <b><u>Tk</u></b> toolkit.\n",
    "\n",
    "&nbsp;&nbsp;&nbsp;&nbsp;&nbsp;<b><u>IMPORTANT</u>: When running Python programs with Tkinter, Canopy needs to be taken out of its interactive mode to avoid having two GUI event loops competing with each other. In the Canopy Welcome window, select Edit > Preferences... from the menu at the top. In the Preferences dialog box that appears, select the Python tab. In the Python tab's window, from the dropdown selection for Pylab backend, select Inline (SVG). If an alert appears advising you to restart the kernel, select Restart kernel.</b>\n",
    "\n"
   ]
  },
  {
   "cell_type": "markdown",
   "metadata": {},
   "source": [
    "<font color=\"red\"><b>Also there are two points to note concerning the use of Tkinter. At this time you might not understand these but if you get stuck remember to come back to this paragraph to troubleshoot the following:</font></b><br><br>\n",
    "\n",
    "\n",
    "<b>1.) If there is an error in a program that creates a Tk( ) window, that failed window will appear the next time you successfully reach mainloop( ) with a program. So you'll get a bunch of Tk windows opening, only one of which is the current program.<br><br>\n",
    "\n",
    "\n",
    "2.) A bug in Tkinter affects code using create_image( ) method. If the sequence</b><br><br>\n",
    "img = PIL.Image.open(filename)<br>\n",
    "tkimg = PIL.ImageTk.PhotoImage(img)<br>\n",
    "sprite = canvas.create_image(50, 50, image=tkimg)<br><br>\n",
    "<b>fails because the filename doesn't exist or the directory path is incorrect, subsequent execution with a valid filename will raise the error TclError: image \"pyimage2\" doesn't exist. Commenting out the call to create_image( ) and executing once will resolve it. Once a program successfully reaches Tkinter.Tk().mainloop( ), all the Tk instances from previous failed trials will appear. Then the code above (with a valid filename) will work correctly. \n",
    "</b></font>"
   ]
  },
  {
   "cell_type": "markdown",
   "metadata": {},
   "source": [
    "## Tkinter Documentation"
   ]
  },
  {
   "cell_type": "markdown",
   "metadata": {},
   "source": [
    "&nbsp;&nbsp;&nbsp;&nbsp;&nbsp;As you have been learning recently, creating a program is many times 10% coding and 90% reading the documentation. This will be very true when using Tkinter. There are many things we can do but sometimes it takes quite a bit of time to do the research. Below are two outstanding sources of documentation on the Tkinter Library:\n",
    "<center><h2><a href=\"http://effbot.org/tkinterbook/tkinter-index.htm\" target=\"_blank\">Official Tkinter Documentation</a></h2>\n",
    "<h2><a href=\"http://infohost.nmt.edu/tcc/help/pubs/tkinter/web/index.html\" target=\"_blank\">Some 3rd Party Documentation</a></h2></center>"
   ]
  },
  {
   "cell_type": "markdown",
   "metadata": {},
   "source": [
    "## Canvas Widget"
   ]
  },
  {
   "cell_type": "markdown",
   "metadata": {},
   "source": [
    "&nbsp;&nbsp;&nbsp;&nbsp;&nbsp;One of the most used widgets that we can create from the Tkinter Library is called the Canvas Widget. We can call many drawing methods on the Canvas Widget to create lines, circles, polygons and text. We can even paste images onto the Canvas. Before we get into the actual coding using the Tkinter Library let's examine the following design created on the graph paper below. On the right, the designer worked out the design (except the arc) using a coordinate system. We will use these numbers to implement the design using the methods of the Canvas widget.<br><br>\n",
    "<center><img src=\"https://dl.dropboxusercontent.com/u/90219577/Hermon/CSE_Website/notebooks/18/graph.png\"></center>"
   ]
  },
  {
   "cell_type": "markdown",
   "metadata": {},
   "source": [
    "&nbsp;&nbsp;&nbsp;&nbsp;&nbsp;Below is the arc<br><br>\n",
    "<center><img src=\"https://dl.dropboxusercontent.com/u/90219577/Hermon/CSE_Website/notebooks/18/arc.png\"></center>"
   ]
  },
  {
   "cell_type": "markdown",
   "metadata": {},
   "source": [
    "## round_corners( ) Function"
   ]
  },
  {
   "cell_type": "markdown",
   "metadata": {},
   "source": [
    "<center><img src=\"https://dl.dropboxusercontent.com/u/90219577/Hermon/CSE_Website/notebooks/17/function1.png\"></center>"
   ]
  },
  {
   "cell_type": "markdown",
   "metadata": {},
   "source": [
    "<font color=\"red\"><b>3.) The function round_corners( ) is defined to take how many arguments?<br><br>\n",
    "4.) What is the variable type of each argument?<br><br>\n",
    "5.) What is the variable type of the return value of the function?<br><br>\n",
    "6.) On line 14, the .size attribute is taken from the original_image and assigned to what two variable names?<br><br>\n",
    "7.) What type of variable is \"radius\" in line 15?<br><br>\n",
    "8.) How is the radius calculated?<br><br>\n",
    "9.) On line 22 a new RGBA PIL image is created called rounded_mask. The alpha channel is set at 0 which means transparent so no color would be seen. However, what color was given?<br><br>\n",
    "10.) What is the size of the rounded_mask image?<br><br>\n",
    "11.) On line 23, what is the name of the new ImageDraw object associated with the rounded_mask object?<br><br>\n",
    "12.) In your notebook draw a vertical rectangle to represent the drawing_layer object. Draw on the rectangle what lines 29-34 would do. Color it correctly or at least label it with a color.<br><br>\n",
    "13.) Add to your picture what lines 37-44 would do. Again color it correctly or at least label it with a color.<br><br>\n",
    "14.) How do we know that all the pixels you just added to the drawing were opaque (besides reading the comment)?<br><br>\n",
    "15.) Ask your instructor to show you a printed version of what the image should look like to compare to your drawing.<br><br></b></font> \n",
    "So here's the crazy news! We're not really going to do much with our newly created rounded_mask object. In fact the RGB colors were completely and totally irrelevant. The Alpha channel was the only thing we were interested in. Basically we made an object the same size as the image we will be importing that will be tranparent in the rounded corners. We'll come back to this in a second.<br><br>\n",
    "<font color=\"red\"><b>\n",
    "16.) In line 52 it looks like we are starting all over again. What is the name of the new PIL.Image object that is created?<br><br>\n",
    "17.) What is the size of this new image?<br><br>\n",
    "18.) Are the pixels in this new image opaque or transparent?<br><br>\n",
    "19.) In line 53 the magic happens. What are we pasting on top of our new object?<br><br>\n",
    "20.) At what coordinates on the \"result\" image are we pasting the top-left corner of the original_image?<br><br>\n",
    "</b></font> \n",
    "&nbsp;&nbsp;&nbsp;&nbsp;&nbsp;<b>The last and most important parameter of the paste() method is mask. The mask parameter tells the computer which pixels to make opaque and which ones to make transparent in the image that we are pasting on to the first image. If you remember the rounded_mask image that we made but never really used was transparent in the corners (alpha=0) and opaque everywhere else (alpha=255). The colors of the rounded_mask image as we said earlier were completely irrelevant. We created that \"mask\" or \"template\" or \"cookie-cutter\" shape to enter as the mask argument in the paste() method. The only thing we cared about when creating the rounded_mask object was making pixels opaque (alpha=255) or transparent (alpha=0). So...when we tell the computer \"mask = rounded_mask\" we are saying, apply the same masking technique to the original_image as we created in the rounded_mask object. And by the way...we didn't have to call the object \"rounded_mask\". We could have called it by any variable name such as \"my_shape_template\" and still used it as the mask parameter in the paste( ) method. <font color=\"blue\">[Now re-read this paragraph 5 more times or at least until you grasp this concept!]</font></b> <br><br>\n",
    "&nbsp;&nbsp;&nbsp;&nbsp;&nbsp;The final line of code \"return result\" then returns the original_image with transparent rounded corners.\n"
   ]
  },
  {
   "cell_type": "markdown",
   "metadata": {},
   "source": [
    "## get_images( ) Function"
   ]
  },
  {
   "cell_type": "markdown",
   "metadata": {},
   "source": [
    "&nbsp;&nbsp;&nbsp;&nbsp;&nbsp;The code below is the second function called get_images(). Again try to go through the code line by line and decode what this second function is doing."
   ]
  },
  {
   "cell_type": "markdown",
   "metadata": {},
   "source": [
    "<center><img src=\"https://dl.dropboxusercontent.com/u/90219577/Hermon/CSE_Website/notebooks/17/function2.png\"></center>"
   ]
  },
  {
   "cell_type": "markdown",
   "metadata": {},
   "source": [
    "<font color=\"red\"><b>21.) The function get_images() is defined to take how many arguments?<br><br>\n",
    "22.) How many objects and of what type are returned by this function?<br><br>\n",
    "23.) This function calls three methods from the the \"os\" module. What are they and what do they do?<br><br>\n",
    "24.) Why does this program use a try-except structure when opening all images in a directory as PIL.Images?<br><br>\n",
    "25.) What are lines 76 and 77 doing in this function?<br><br>\n",
    "</font>\n"
   ]
  },
  {
   "cell_type": "markdown",
   "metadata": {},
   "source": [
    "## round( ) Function"
   ]
  },
  {
   "cell_type": "markdown",
   "metadata": {},
   "source": [
    "&nbsp;&nbsp;&nbsp;&nbsp;&nbsp;The code below is the third function called round( ), which I probably shouldn't have used since there is already a round function built into Python for rounding numbers. Oh well...too late! Again try to go through the code line by line and decode what this third function is doing. This function brings everything together by calling the other two functions."
   ]
  },
  {
   "cell_type": "markdown",
   "metadata": {},
   "source": [
    "<center><img src=\"https://dl.dropboxusercontent.com/u/90219577/Hermon/CSE_Website/notebooks/17/function3.png\"></center>"
   ]
  },
  {
   "cell_type": "markdown",
   "metadata": {},
   "source": [
    "<font color=\"red\"><b>\n",
    "26.) On line 95, another method of the \"os\" module was used. What is it and what does it do?<br><br>\n",
    "27.) Why was this method used inside a Try-Except structure?<br><br>\n",
    "28.) What previous function that we have discussed in this chapter is called on line 100 and what does it do?<br><br>\n",
    "29.) On line 103 what is meant by len(image_list)?<br><br>\n",
    "30.) What is the variable role of (n) on lines 103, 105 and 108?<br><br>\n",
    "31.) On line 105 is the very interesting \"split\" method. What does this do?<br><br>\n",
    "32.) After the \"split\" method is applied to the first image file in the StarWars folder what would the variables \"filename\" and \"filetype\" each be equal to?<br><br>\n",
    "33.) What previous function that we have discussed in this chapter is called on line 108 and what does it do?<br><br>\n",
    "34.) What was the current percentage of the shortest side of the image being applied to the round corners? Feel free to change this percentage and run the program again.<br><br>\n",
    "35.) What happens in line 110 and why is this important?<br><br>\n",
    "</font>\n"
   ]
  },
  {
   "cell_type": "markdown",
   "metadata": {},
   "source": [
    "<table width=\"100%\" border=\"1\" cellpadding=\"2\" cellspacing=\"0\">\n",
    "<tr>\n",
    "<td width=\"90\" bgcolor=\"#00FFFF\" style=\"vertical-align:top\"><img src=\"https://dl.dropboxusercontent.com/u/90219577/Hermon/CSE_Website/notebooks/Scholar.png\"></td>\n",
    "<td valign=\"top\"><center><font size=\"+2\"><b>Framing Star Wars</b></font></center><br>\n",
    "<font size=\"+1\">\n",
    "\n",
    "&nbsp;&nbsp;&nbsp;&nbsp;&nbsp;Duplicate the code we have been analyzing and rename it <b>frame_it.py</b>. Rename the round_corners( ) function to <b>frame_it( )</b> and the round( ) function to <b>frame( )</b>.<br><br>\n",
    "\n",
    "&nbsp;&nbsp;&nbsp;&nbsp;&nbsp;The frame( ) function will take two arguments, color and wide, which will specify the color and width of the border that will be put around each picture in the directory. It will look like <b>frame(wide, color, directory=None)</b> The frame is specified by a color tuple (r,g,b) and has a certain pixel thickness wide. To call the function you might enter into the iSession window the following:<br><br>\n",
    "<center><H4><b>frame ( 5 , ( 0 , 255 , 0 ) )</b></H4></center>\n",
    "<br><br>\n",
    "&nbsp;&nbsp;&nbsp;&nbsp;&nbsp;This would put a 5 pixel wide, green frame around each Star Wars image. Once you have figured this out, move on to make your own algorithm to alter all of the images. For those of you that like a challenge, below is my alteration where I decided to print each Star Wars character's name 3/4 of the way down the picture and horizontally centered inside a \"TIE fighter\" style frame. When you are happy with your final algorithm demonstrate it for your instructor and submit it online.<br><br>\n",
    "<center><img src=\"https://dl.dropboxusercontent.com/u/90219577/Hermon/CSE_Website/notebooks/17/yoda.png\"></center>\n",
    "</td></tr></table>"
   ]
  },
  {
   "cell_type": "markdown",
   "metadata": {},
   "source": [
    "<div align=\"right\">\n",
    "<a href=\"http://nbviewer.ipython.org/github/CSE-UHS/CSE_Python/blob/master/Chapter00.ipynb\" align=\"right\"><h2>Hermon's Book of Python</h2></a>\n",
    "</div>"
   ]
  }
 ],
 "metadata": {
  "kernelspec": {
   "display_name": "Python 2",
   "language": "python",
   "name": "python2"
  },
  "language_info": {
   "codemirror_mode": {
    "name": "ipython",
    "version": 2
   },
   "file_extension": ".py",
   "mimetype": "text/x-python",
   "name": "python",
   "nbconvert_exporter": "python",
   "pygments_lexer": "ipython2",
   "version": "2.7.10"
  }
 },
 "nbformat": 4,
 "nbformat_minor": 0
}
