{
 "cells": [
  {
   "cell_type": "markdown",
   "metadata": {},
   "source": [
    "<div align=\"right\">\n",
    "<a href=\"http://nbviewer.ipython.org/github/CSE-UHS/CSE_Python/blob/master/Chapter00.ipynb\" align=\"right\"><h2>Hermon's Book of Python</h2></a>\n",
    "</div>"
   ]
  },
  {
   "cell_type": "markdown",
   "metadata": {},
   "source": [
    "# Chapter 17: Image Algorithms"
   ]
  },
  {
   "cell_type": "markdown",
   "metadata": {},
   "source": [
    "## Introduction"
   ]
  },
  {
   "cell_type": "markdown",
   "metadata": {},
   "source": [
    "&nbsp;&nbsp;&nbsp;&nbsp;&nbsp;In this chapter you are going to download a program that will round the corners of every image file in a directory. Throughout this chapter we will examine in depth each and every line of code...so yes...this is definitely a note taking chapter. In the Table of Contents in your notebook enter, \"Image Algorithm for Rounding Corners\". Throughout this chapter you will be asked many questions (<font color=\"red\"><b>which you will find in bold red</b></font>) and you will record your answers in your notebook to be checked at the end of the quarter. At the end of this chapter, you will modify the program to alter the images by your own method. To begin you need to first download the following program and folder of images.\n",
    "\n",
    "<center><a href=\"https://dl.dropboxusercontent.com/u/90219577/Hermon/CSE_Website/notebooks/17/round_corners.py\" target=\"_blank\"><H1>Round Corners Program</H1></a><br>\n",
    "<a href=\"https://dl.dropboxusercontent.com/u/90219577/Hermon/CSE_Website/notebooks/17/StarWars.zip\" target=\"_blank\"><H1>Folder of Star Wars Images</H1></a>\n"
   ]
  },
  {
   "cell_type": "markdown",
   "metadata": {},
   "source": [
    "## Deciphering the Code"
   ]
  },
  {
   "cell_type": "markdown",
   "metadata": {},
   "source": [
    "&nbsp;&nbsp;&nbsp;&nbsp;&nbsp;Open the round_corners.py program and execute the code in the code editor. This code defines three new functions but does not actually call any of them, so nothing will visibly occur. Examine the code in the Canopy code editor.<br><br><font color=\"red\"><b>1.) What are the names of the three functions?</b></font>\n",
    "\n",
    "&nbsp;&nbsp;&nbsp;&nbsp;&nbsp;In the iPython session, change your working directory to the unzipped folder StarWars. Examine the contents of that folder. When you are done, in the iPython session, execute the following command. The program might take a moment to execute."
   ]
  },
  {
   "cell_type": "code",
   "execution_count": null,
   "metadata": {
    "collapsed": false
   },
   "outputs": [],
   "source": [
    "round()"
   ]
  },
  {
   "cell_type": "markdown",
   "metadata": {},
   "source": [
    "&nbsp;&nbsp;&nbsp;&nbsp;&nbsp;This program will create a new folder called \"modified\" in your StarWars folder. Examine the new folder’s contents.<br><br><font color=\"red\"><b>2.) What did the program do?</b></font><br><br>\n",
    "&nbsp;&nbsp;&nbsp;&nbsp;&nbsp;A portion of round_corners.py is shown below. This is the code for the first function called round_corners(). Try to go through the code line by line and decode what this first function is doing. <b><u>Take some time doing this</u>!</b> It can be frustrating but is great practice if you want to become a stone cold coder. If another student is at the same place as you in this book then discuss the code together. Two heads are better than one! When you are done, this book will try to take you through an in-depth analysis of this function by asking you more questions to answer in your notebooks."
   ]
  },
  {
   "cell_type": "markdown",
   "metadata": {},
   "source": [
    "## round_corners( ) Function"
   ]
  },
  {
   "cell_type": "markdown",
   "metadata": {},
   "source": [
    "<center><img src=\"https://dl.dropboxusercontent.com/u/90219577/Hermon/CSE_Website/notebooks/17/function1.png\"></center>"
   ]
  },
  {
   "cell_type": "markdown",
   "metadata": {},
   "source": [
    "<font color=\"red\"><b>3.) The function round_corners() is defined to take how many arguments?<br><br>\n",
    "4.) What is the variable type of each argument?<br><br>\n",
    "5.) What is the variable type of the return value of the function?<br><br>\n",
    "6.) On line 14, the .size attribute is taken from the original_image and assigned to what two variable names?<br><br>\n",
    "7.) What type of variable is \"radius\" in line 15?<br><br>\n",
    "8.) How is the radius calculated?<br><br>\n",
    "9.) On line 22 a new RGBA PIL image is created called rounded_mask. The alpha channel is set at 0 which means transparent so no color would be seen. However, what color was given?<br><br>\n",
    "10.) What is the size of the rounded_mask image?<br><br>\n",
    "11.) On line 23, what is the name of the new ImageDraw object associated with the rounded_mask object?<br><br>\n",
    "12.) In your notebook draw a vertical rectangle to represent the drawing_layer object. Draw on the rectangle what lines 29-34 would do. Color it correctly or at least label it with a color.<br><br>\n",
    "13.) Add to your picture what lines 37-44 would do. Again color it correctly or at least label it with a color.<br><br>\n",
    "14.) How do we know that all the pixels you just added to the drawing were opaque (besides reading the comment)?<br><br>\n",
    "15.) Ask your instructor to show you a printed version of what the image should look like to compare to your drawing.<br><br></b></font> \n",
    "So here's the crazy news! We're not really going to do much with our newly created rounded_mask object. In fact the RGB colors were completely and totally irrelevant. The Alpha channel was the only thing we were interested in. Basically we made an object the same size as the image we will be importing that will be tranparent in the rounded corners. We'll come back to this in a second.<br><br>\n",
    "<font color=\"red\"><b>\n",
    "16.) In line 52 it looks like we are starting all over again. What is the name of the new PIL.Image object that is created?<br><br>\n",
    "17.) What is the size of this new image?<br><br>\n",
    "18.) Are the pixels in this new image opaque or transparent?<br><br>\n",
    "19.) In line 53 the magic happens. What are we pasting on top of our new object?<br><br>\n",
    "20.) At what coordinates on the \"result\" image are we pasting the top-left corner of the original_image?<br><br>\n",
    "</b></font> \n",
    "&nbsp;&nbsp;&nbsp;&nbsp;&nbsp;<b>The last and most important parameter of the paste() method is mask. The mask parameter tells the computer which pixels to make opaque and which ones to make transparent in the image that we are pasting on to the first image. If you remember the rounded_mask image that we made but never really used was transparent in the corners (alpha=0) and opaque everywhere else (alpha=255). The colors of the rounded_mask image as we said earlier were completely irrelevant. We created that \"mask\" or \"template\" or \"cookie-cutter\" shape to enter as the mask argument in the paste() method. The only thing we cared about when creating the rounded_mask object was making pixels opaque (alpha=255) or transparent (alpha=0). So...when we tell the computer \"mask = rounded_mask\" we are saying, apply the same masking technique to the original_image as we created in the rounded_mask object.</b> <br><br>\n",
    "&nbsp;&nbsp;&nbsp;&nbsp;&nbsp;The final line of code \"return result\" then returns the original_image with transparent rounded corners.\n"
   ]
  },
  {
   "cell_type": "markdown",
   "metadata": {},
   "source": [
    "## get_images( ) Function"
   ]
  },
  {
   "cell_type": "markdown",
   "metadata": {},
   "source": [
    "&nbsp;&nbsp;&nbsp;&nbsp;&nbsp;The code below is the second function called get_images(). Again try to go through the code line by line and decode what this second function is doing."
   ]
  },
  {
   "cell_type": "markdown",
   "metadata": {},
   "source": [
    "<center><img src=\"https://dl.dropboxusercontent.com/u/90219577/Hermon/CSE_Website/notebooks/17/function2.png\"></center>"
   ]
  },
  {
   "cell_type": "markdown",
   "metadata": {},
   "source": [
    "<font color=\"red\"><b>21.) The function get_images() is defined to take how many arguments?<br><br>\n",
    "22.) How many objects and of what type are returned by this function?<br><br>\n",
    "23.) This function calls three methods from the the \"os\" module. What are they and what do they do?<br><br>\n",
    "24.) Why does this program use a try-except structure when opening all images in a directory as PIL.Images?<br><br>\n",
    "25.) What are lines 76 and 77 doing in this function?<br><br>\n",
    "</font>\n"
   ]
  },
  {
   "cell_type": "markdown",
   "metadata": {},
   "source": [
    "## round( ) Function"
   ]
  },
  {
   "cell_type": "markdown",
   "metadata": {},
   "source": [
    "&nbsp;&nbsp;&nbsp;&nbsp;&nbsp;The code below is the third function called round(), which I probably shouldn't have used since there is already a round function built into Python for rounding numbers. Oh well...too late! Again try to go through the code line by line and decode what this third function is doing. This function brings everything together by calling the other two functions."
   ]
  },
  {
   "cell_type": "markdown",
   "metadata": {},
   "source": [
    "<center><img src=\"https://dl.dropboxusercontent.com/u/90219577/Hermon/CSE_Website/notebooks/17/function3.png\"></center>"
   ]
  },
  {
   "cell_type": "markdown",
   "metadata": {},
   "source": [
    "&nbsp;&nbsp;&nbsp;&nbsp;&nbsp;From this point to the end of the chapter you will be working on an assignment called <b>\"<u>The Eyes of the Sith</u>!\"</b>. Some code I will show you and some you need to remember from the last chapter or look up in the PIL Documentation above.<br><br>\n",
    "<b>1.) Download this <a href=\"https://dl.dropboxusercontent.com/u/90219577/Hermon/CSE_Website/notebooks/16/Sith.zip\" target=\"_blank\">Sith Folder</a> and make it be your working directory.<br><br>\n",
    "2.) Start a new python file in your working directory called eyes_of_the_Sith.py<br><br>\n",
    "3.) Begin your program by importing the matplotlib and the os.path libraries. You will also import the PIL library as follows:"
   ]
  },
  {
   "cell_type": "code",
   "execution_count": null,
   "metadata": {
    "collapsed": false
   },
   "outputs": [],
   "source": [
    "import PIL"
   ]
  },
  {
   "cell_type": "markdown",
   "metadata": {},
   "source": [
    "<b>4.) Using the os.path add lines of code that will join the pathway of the working directory to the sith_lord.jpg image. Store the pathway in a variable called path_to_the_sith.<br><br>\n",
    "5.) Add a line of code that uses the open() method in the PIL.image class and names the object sith_img. (HINT: Look in table 2 for an example.)<br><br>\n",
    "6.) Add code to make a figure with three subplots as seen below. I have removed tick marks but you should not. Use set_xlim and set_ylim to produce the left and right eyes.<br><br>\n",
    "<center><img src=\"https://dl.dropboxusercontent.com/u/90219577/Hermon/CSE_Website/notebooks/16/Sith_Eyes.png\"></center>"
   ]
  },
  {
   "cell_type": "markdown",
   "metadata": {},
   "source": [
    "<b>7. In your notebook, create a bounding box for the iris of each eye. A bounding box is a rectangle containing a particular part of an image. In your notebook, record the coordinates of the upper left and lower right for the bounding box of the iris for each eye by mousing over the eyes. Also record the width and height of the bounding boxes.<br><br>\n",
    "<center><img src=\"https://dl.dropboxusercontent.com/u/90219577/Hermon/CSE_Website/notebooks/16/bounding_box.png\"></center>"
   ]
  },
  {
   "cell_type": "markdown",
   "metadata": {},
   "source": [
    "<b>8.) Using the os.path add a line of code that will join the pathway of the working directory to the evil_eye.png image. Store the pathway in a variable called path_to_the_evil_eye.<br><br>\n",
    "9.) Add a line of code that uses the open() method in the PIL.image class and names the object evil_eye.<br><br>\n",
    "10.) Call the resize() method on the evil_eye using the width and height of the left eye and rename left_evil_eye.<br><br>\n",
    "10.) Call the resize() method on the evil_eye using the width and height of the right eye and rename right_evil_eye.<br><br>\n",
    "11.) Add code to make a figure with three subplots as seen below. I have removed tick marks but you should not.<br><br>\n",
    "<center><img src=\"https://dl.dropboxusercontent.com/u/90219577/Hermon/CSE_Website/notebooks/16/eyes.png\"></center>"
   ]
  },
  {
   "cell_type": "markdown",
   "metadata": {},
   "source": [
    "<b>12.) Add two lines of code each using the paste() method to paste the left_evil_eye and right_evil_eye over the eyes in sith_img. The coordinates are for the upper left corner of the eye images. Set the mask parameter equal to the name of the eye image. (left_evil_eye or right_evil_eye)<br><br>\n",
    "13.) Add code to make a figure with one subplot as seen below. I have removed tick marks but you should not.<br><br>\n",
    "<center><img src=\"https://dl.dropboxusercontent.com/u/90219577/Hermon/CSE_Website/notebooks/16/final_eyes.png\"></center>"
   ]
  },
  {
   "cell_type": "markdown",
   "metadata": {},
   "source": [
    "## Part 4: Calculating File Size and Compression"
   ]
  },
  {
   "cell_type": "markdown",
   "metadata": {},
   "source": [
    " &nbsp;&nbsp;&nbsp;&nbsp;&nbsp;At this time we are going to learn about image size, file size and compression ratios. The two main main objects of PIL.Image that we have been working on were called sith_img and evil_eye. In the iPython Session window you can call the size of these image objects with the following code. This will output the width and height of the image (a.k.a the number of pixels across and the number of pixels down). Record in your notebook."
   ]
  },
  {
   "cell_type": "code",
   "execution_count": null,
   "metadata": {
    "collapsed": true
   },
   "outputs": [],
   "source": [
    "sith_img.size\n",
    "evil_eye.size"
   ]
  },
  {
   "cell_type": "markdown",
   "metadata": {},
   "source": [
    "&nbsp;&nbsp;&nbsp;&nbsp;&nbsp;If you remember each pixel is divided up into red, green and blue channels. Below is how we write the color for white in decimal, binary and hexadecimal. As you can see from the binary version, each channel takes 8 bits or 1 byte. Therefore an RGB pixel contains 3 bytes of data.<br><br>\n",
    "<center><b>\n",
    "(255, 255, 255)    decimal<br>\n",
    "(11111111, 11111111, 11111111)   binary<br>\n",
    "(#FFFFFF)    hexadecimal<br>\n",
    "</b></center><br>\n",
    "&nbsp;&nbsp;&nbsp;&nbsp;&nbsp;The RGBA file type includes a fourth byte called the alpha channel. The alpha channel controls how transparent or opaque an image is. Only some file types can store an alpha channel. <b>PNG files can store the alpha channel. JPG files cannot.</b> The save() method of PIL.Image recognizes filetype extensions in the filename you provide, so transparency is retained if you name the file with PNG. Our two PIL.Image objects have different “mode” attributes.<br><br>\n",
    "\n",
    "<center><b>sith_img</b> is RGB and <b>evil_eye</b> is RGBA</center><br>\n",
    "As a consequence, <b>sith_img</b> uses three bytes per pixel, while the <b>evil_eye</b> image uses four bytes per pixel. We can calculate the number of bytes used for the representation of an image simply by multiplying the width and height to get the number of pixels and then multiplying by either 3 or 4 if the image is RGB or RGBA respectively.<br><br>\n",
    "<center><h2><b>height x width x (bytes per pixel)</center></h2><br><br>\n",
    "\n",
    "&nbsp;&nbsp;&nbsp;&nbsp;&nbsp;Calculate the \"byte size\" of each image and record in your notebook. Convert each image to kilobytes. (1 kb = 1024 bytes). You can also then convert to megabytes if you would like. (1 Mb = 1024 kb)\n",
    "\n",
    "&nbsp;&nbsp;&nbsp;&nbsp;&nbsp;Now on your computer, click on one of the image files and on your Mac press Command-I to bring up an information window. You should see the same height and width that you found earlier using the (size) attribute. The information should also tell you if it is RGB and whether or not it has the alpha channel. Finally, it will tell you the file size. There is a good chance that this is considerbably lower than the image size you calculated and recorded. WHY????\n",
    "\n",
    "&nbsp;&nbsp;&nbsp;&nbsp;&nbsp;The answer is because you calculated the IMAGE size and the information window is giving you the FILE size. When an image is saved as a file it is compressed to save space. We can calculate a <b>compression ratio</b> by dividing the uncompressed image size by the compressed file size. This will always be greater than 1.<br><br>\n",
    "<center><h2><u>Compression Ratio</u> = uncompressed image / compressed file</center></h2<br><br>\n",
    "\n",
    "&nbsp;&nbsp;&nbsp;&nbsp;&nbsp;Also if you subtract the two values and divide by the uncompressed size you can calculate what we call a percent compression as seen below.<br><br>\n",
    "<center><h2><u>Percent Compression</u> = [(uncompressed - compressed)/uncompressed] x 100</center></h2<br><br>\n",
    "<HR>\n",
    "<b><u>Practice Problem</u>:</b> A 1.3 Mb image is compressed to a 167.5 kb file. Calculate the compression ratio and the percent compression.<br>\n",
    "\n",
    "<center><b>Convert the uncompressed image from Mb to kb so we are in the same units:  1.3 Mb x 1024 = 1331.2 kb<br>\n",
    "Compression Ratio = 1331.2 kb / 167.5 kb = 7.95<br>\n",
    "Percent Compression = [(1331.2 - 167.5)/1331.2] x 100 = 87.4%</b></center>\n",
    "<HR>\n",
    "&nbsp;&nbsp;&nbsp;&nbsp;&nbsp;Using the file size from the information window and your calculated image size, determine the <b>Compression Ratio</b> and the <b>Percent Compression</b> for both the <b>sith_img</b> image and the <b>evil_eye</b> image and record in your notebook."
   ]
  },
  {
   "cell_type": "markdown",
   "metadata": {},
   "source": [
    "<table width=\"100%\" border=\"1\" cellpadding=\"2\" cellspacing=\"0\">\n",
    "<tr>\n",
    "<td width=\"90\" bgcolor=\"#00FFFF\" style=\"vertical-align:top\"><img src=\"https://dl.dropboxusercontent.com/u/90219577/Hermon/CSE_Website/notebooks/Scholar.png\"></td>\n",
    "<td valign=\"top\"><center><font size=\"+2\"><b>Eyes of the Sith</b></font></center><br>\n",
    "<font size=\"+1\">\n",
    "\n",
    "<b><u>Part 1</u>:</b> Take your final \"Eyes of the Sith\" picture and experiment more with the PIL library. Try to create the image below and then expand on it. To draw things or write text in a different font you will have to import the following at the top of your program:<br><br>\n",
    "\n",
    "<b>import PIL.ImageDraw<br>\n",
    "import PIL.ImageFont</b><br><br>\n",
    "\n",
    "The font I used was called <b><i>FaceYourFears.ttf</i></b> which I downloaded from <a href=\"http://www.urbanfonts.com/free-fonts.htm\" target=\"_blank\">urbanfonts.com</a> and put in my working directory with my program. Save your final image and upload to your instructor. \n",
    "<center><img src=\"https://dl.dropboxusercontent.com/u/90219577/Hermon/CSE_Website/notebooks/16/FinalSith.png\"></center><br><br>\n",
    "<center><font size=\"+2\"><b>May the Compression FORCE be with You!</b></font></center><br>\n",
    "<b><u>Part 2</u>:</b> In Scholar, you will complete the \"Compression FORCE\" activity where you will calculate Compression Ratios and Percent Compressions.<br><br>\n",
    "\n",
    "</td></tr></table>"
   ]
  },
  {
   "cell_type": "markdown",
   "metadata": {},
   "source": [
    "<div align=\"right\">\n",
    "<a href=\"http://nbviewer.ipython.org/github/CSE-UHS/CSE_Python/blob/master/Chapter00.ipynb\" align=\"right\"><h2>Hermon's Book of Python</h2></a>\n",
    "</div>"
   ]
  }
 ],
 "metadata": {
  "kernelspec": {
   "display_name": "Python 2",
   "language": "python",
   "name": "python2"
  },
  "language_info": {
   "codemirror_mode": {
    "name": "ipython",
    "version": 2
   },
   "file_extension": ".py",
   "mimetype": "text/x-python",
   "name": "python",
   "nbconvert_exporter": "python",
   "pygments_lexer": "ipython2",
   "version": "2.7.10"
  }
 },
 "nbformat": 4,
 "nbformat_minor": 0
}
