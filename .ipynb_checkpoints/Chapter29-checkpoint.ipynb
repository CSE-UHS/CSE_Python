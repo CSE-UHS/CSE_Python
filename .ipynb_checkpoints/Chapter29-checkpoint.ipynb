{
 "cells": [
  {
   "cell_type": "markdown",
   "metadata": {
    "deletable": true,
    "editable": true
   },
   "source": [
    "<div align=\"right\">\n",
    "<a href=\"http://nbviewer.ipython.org/github/CSP-UHS/Hermons_Book_of_Python/blob/master/Chapter00.ipynb\" align=\"right\"><h2>Table of Contents</h2></a>\n",
    "</div>"
   ]
  },
  {
   "cell_type": "markdown",
   "metadata": {
    "deletable": true,
    "editable": true
   },
   "source": [
    "# Chapter 29: LCD Screen"
   ]
  },
  {
   "cell_type": "markdown",
   "metadata": {
    "deletable": true,
    "editable": true
   },
   "source": [
    "&nbsp;&nbsp;&nbsp;&nbsp;&nbsp;Working with the LCD screen is rather complicated and in any case the EV3's screen is small and hard to see (no backlight) so we've saved it for the end.\n",
    "\n",
    "&nbsp;&nbsp;&nbsp;&nbsp;&nbsp;The EV3 has a 178 x 128 pixels monochrome (black and white) LCD. The coordinates of the top-left pixel are (0, 0) and the coordinates of the bottom-right pixel are (177, 127).\n",
    "\n",
    "To interact with the LCD you will mainly be using a powerful graphics library called Pillow which is part of standard Python rather than something unique to EV3 Python. Note that Pillow evolved out of the Python Image Library (PIL). There is some documentation on the EV3 Python bindings page but you will find much more detailed documentation in the official Pillow documentation HERE, especially the documentation on the ImageDraw module. The ImageDraw module provides the following methods:"
   ]
  },
  {
   "cell_type": "markdown",
   "metadata": {
    "deletable": true,
    "editable": true
   },
   "source": [
    "## Set the Color of an LED"
   ]
  },
  {
   "cell_type": "markdown",
   "metadata": {
    "deletable": true,
    "editable": true
   },
   "source": [
    "&nbsp;&nbsp;&nbsp;&nbsp;&nbsp;Use <b>Leds.set_color(group, color)</b> where group can be <b>Leds.LEFT</b> or <b>Leds.RIGHT</b>. Color can be <b>Leds.RED, Leds.GREEN, Leds.YELLOW, Leds.ORANGE or Leds.AMBER</b>. There is not much difference between <b>Leds.ORANGE and Leds.AMBER</b>. You can also turn off both LEDs by using <b>Leds.all_off()</b>\n",
    "\n",
    "&nbsp;&nbsp;&nbsp;&nbsp;&nbsp;Create a file called <b>leds.py</b> with the following code. This example cycles both leds through all five colors and then off. When you run this or any other program, be aware that the program will take a few seconds to start. All five colors were put into a list called <b>colors</b> and then we just iterate through that list.\n",
    "\n",
    "<img src=\"http://www.hermonswebsites.com/PyNotebooks/Python/28/code1.jpg\">"
   ]
  },
  {
   "cell_type": "markdown",
   "metadata": {
    "deletable": true,
    "editable": true
   },
   "source": [
    "## Buttons"
   ]
  },
  {
   "cell_type": "markdown",
   "metadata": {
    "deletable": true,
    "editable": true
   },
   "source": [
    "&nbsp;&nbsp;&nbsp;&nbsp;&nbsp;The official documentation for the <b>Button( )</b> class is <a href=\"http://python-ev3dev.readthedocs.io/en/latest/other.html#button\" target=\"_blank\">HERE</a>. Create a file called <b>buttons.py</b> with the following code. On line 5 we created a Button( ) object called <b>btn</b>. You could name it whatever you want. There are 6 buttons and their names are: <b>left, right, up, down, enter and backspace</b> On line 8, however, the loop checks whether ANY button is pressed and if so plays one of our WAV files from last chapter. The last two lines make the script check the button state every 0.01 second but they are not really necessary.\n",
    "\n",
    "<img src=\"http://www.hermonswebsites.com/PyNotebooks/Python/28/code2.jpg\">"
   ]
  },
  {
   "cell_type": "markdown",
   "metadata": {
    "deletable": true,
    "editable": true
   },
   "source": [
    "## Starting and Stopping Programs with Buttons"
   ]
  },
  {
   "cell_type": "markdown",
   "metadata": {
    "deletable": true,
    "editable": true
   },
   "source": [
    "&nbsp;&nbsp;&nbsp;&nbsp;&nbsp;We can use the functions <b>(up, down, left, right, backspace and enter)</b> to start and stop programs. The code below lights the LEDS up green when it's ready to start. You can start the beeping by pressing the enter key and stop the beeping by pressing the right key.\n",
    "\n",
    "<img src=\"http://www.hermonswebsites.com/PyNotebooks/Python/28/code3.jpg\">"
   ]
  },
  {
   "cell_type": "markdown",
   "metadata": {
    "deletable": true,
    "editable": true
   },
   "source": [
    "## React to Button Presses and Releases"
   ]
  },
  {
   "cell_type": "markdown",
   "metadata": {
    "deletable": true,
    "editable": true
   },
   "source": [
    "&nbsp;&nbsp;&nbsp;&nbsp;&nbsp;In this program's loop, the very important command <b>btn.process()</b> checks for any change in the state of the buttons. If it detects a change then it triggers the corresponding 'events'. For example, if it detects that the left button has just been pressed then it triggers a <b>'left button state change'</b> event and a <b>'button change'</b> event. It also assigns a value of True to the parameter state if the button is pressed and a value of False if the button is released. Event handlers respond to the events. For example, if the left button is pressed then the <b>'left button state change'</b> event will trigger the <b>on_left</b> event handler which will call the function <b>'left'</b> (the function does not have to have this name).\n",
    "\n",
    "These are the functions with the state parameter of that particular button being sent. For the left and the right buttons we did different actions if the <b>state</b> is True or False. (pressed or released). For the last four buttons we just played a sound each time the <b>state</b> is changed.\n",
    "<img src=\"http://www.hermonswebsites.com/PyNotebooks/Python/28/process1.jpg\">\n",
    "\n",
    "These are the <b>event handlers</b> which will call the appropriate function if that particular button has a state change.\n",
    "<img src=\"http://www.hermonswebsites.com/PyNotebooks/Python/28/process2.jpg\">\n",
    "\n",
    "This is the very simple main program which basically runs the <b>btn.process( )</b> which checks for any change in the state of the buttons.\n",
    "<img src=\"http://www.hermonswebsites.com/PyNotebooks/Python/28/process3.jpg\">"
   ]
  },
  {
   "cell_type": "markdown",
   "metadata": {
    "deletable": true,
    "editable": true
   },
   "source": [
    "<table style=\"background-color: #FFFFFF; border: 1px solid #000000; width: 100%; padding: 2px;\">\n",
    "<tr style=\"background-color: #00FF00;\">\n",
    "<td width=\"90\" style=\"vertical-align: top; border: 1px solid #000000;\"><img src=\"http://www.hermonswebsites.com/PyNotebooks/Python/sith.png\" style=\"border: 2px solid #021a40;\">\n",
    "</td><td style=\"border: 1px solid #000000;\"><h2><center><b>Droid Training Task</b></center></h2></td></tr>\n",
    "<tr>\n",
    "<td valign=\"top\" colspan=\"2\" style=\"text-align: left;\">\n",
    "<center><font size=\"+1\"><b>General Grievous 2.0</b></font></center><br>\n",
    "<font size=\"+1\">\n",
    "&nbsp;&nbsp;&nbsp;&nbsp;&nbsp;For the battle bot competition at the IT Olympics both robots have to push the enter button at the same time and after three seconds the robots can begin moving. You might have noticed that its about 8-10 seconds before a program begins from when we select it in the menu. We need to modify our program to solve this problem. Make sure you know when the program has loaded by turning the LEDs green. Don't let the program run until the enter button is pressed. Immediately after the enter button is pressed have the robot count down 3 seconds out loud before the battle bot moves.<br><br>\n",
    "\n",
    "</font>\n",
    "\n",
    "\n",
    "</td></tr></table>\n"
   ]
  },
  {
   "cell_type": "markdown",
   "metadata": {
    "deletable": true,
    "editable": true
   },
   "source": [
    "<table  style=\"background-color: #FFFFFF; width: 100%; padding: 2px;\">\n",
    "<tr style=\"background-color: #FFFFFF;\">\n",
    "<td style=\"border: 1px solid white;\" width=\"100px\">\n",
    "<div>\n",
    "<a href=\"http://nbviewer.ipython.org/github/CSP-UHS/Hermons_Book_of_Python/blob/master/Chapter27.ipynb\"><img src=\"http://www.hermonswebsites.com/PyNotebooks/Python/leftarrow.png\" height=\"50px\" width=\"50px\" align=\"left\"></a>\n",
    "</div>\n",
    "</td>\n",
    "<td style=\"border: 1px solid white;\">\n",
    "<div align=\"center\">\n",
    "<a href=\"http://nbviewer.ipython.org/github/CSP-UHS/Hermons_Book_of_Python/blob/master/Chapter00.ipynb\"><h2>Table of Contents</h2></a>\n",
    "</div>\n",
    "</td>\n",
    "<td style=\"border: 1px solid white;\" width=\"100px\">\n",
    "<div>\n",
    "<a href=\"http://nbviewer.ipython.org/github/CSP-UHS/Hermons_Book_of_Python/blob/master/Chapter29.ipynb\"><img src=\"http://www.hermonswebsites.com/PyNotebooks/Python/rightarrow.png\"  height=\"50px\" width=\"50px\"  align=\"right\"></a>\n",
    "</div>\n",
    "</td>\n",
    "</tr></table>"
   ]
  }
 ],
 "metadata": {
  "kernelspec": {
   "display_name": "Python 2",
   "language": "python",
   "name": "python2"
  },
  "language_info": {
   "codemirror_mode": {
    "name": "ipython",
    "version": 2
   },
   "file_extension": ".py",
   "mimetype": "text/x-python",
   "name": "python",
   "nbconvert_exporter": "python",
   "pygments_lexer": "ipython2",
   "version": "2.7.10"
  }
 },
 "nbformat": 4,
 "nbformat_minor": 0
}
