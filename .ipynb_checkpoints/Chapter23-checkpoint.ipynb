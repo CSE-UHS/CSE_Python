{
 "cells": [
  {
   "cell_type": "markdown",
   "metadata": {
    "deletable": true,
    "editable": true
   },
   "source": [
    "<div align=\"right\">\n",
    "<a href=\"http://nbviewer.ipython.org/github/CSP-UHS/Hermons_Book_of_Python/blob/master/Chapter00.ipynb\" align=\"right\"><h2>Table of Contents</h2></a>\n",
    "</div>"
   ]
  },
  {
   "cell_type": "markdown",
   "metadata": {
    "deletable": true,
    "editable": true
   },
   "source": [
    "# Chapter 23: Color Sensor"
   ]
  },
  {
   "cell_type": "markdown",
   "metadata": {
    "deletable": true,
    "editable": true
   },
   "source": [
    "### <a href=\"https://education.lego.com/en-us/support/mindstorms-ev3/building-instructions\" target=\"_blank\">Color Sensor Down Instructions</a>\n",
    "\n",
    "&nbsp;&nbsp;&nbsp;&nbsp;&nbsp;In this chapter we are going to learn how to use the Color Sensor. Click on the link above and scroll down to the <b>Robot Educator</b> section. There you will choose the instructions for the <b>Color Sensor Down</b> robot. This is just a small addition to the <b>Driving Base</b> directions."
   ]
  },
  {
   "cell_type": "markdown",
   "metadata": {
    "deletable": true,
    "editable": true
   },
   "source": [
    "## Throughout this chapter refer to the <a href=\"http://python-ev3dev.readthedocs.io/en/latest/sensors.html\" target=\"_blank\">Sensor Documentation</a>"
   ]
  },
  {
   "cell_type": "markdown",
   "metadata": {
    "deletable": true,
    "editable": true
   },
   "source": [
    "## About the Color Sensor"
   ]
  },
  {
   "cell_type": "markdown",
   "metadata": {
    "deletable": true,
    "editable": true
   },
   "source": [
    "&nbsp;&nbsp;&nbsp;&nbsp;&nbsp;The Color Sensor can detect the color or intensity of light that enters the small window on the face of the sensor. This sensor can be used in the following three different modes:\n",
    "<ol>\n",
    "<li>Color Mode</li>\n",
    "<li>Reflected Light Intensity Mode</li>\n",
    "<li>Ambient Light Intensity Mode</li>\n",
    "</ol>\n",
    "<img src=\"http://www.hermonswebsites.com/PyNotebooks/Python/23/colorsensor.jpg\">\n",
    "\n",
    "&nbsp;&nbsp;&nbsp;&nbsp;&nbsp;In <b>Color Mode</b>, the Color Sensor recognizes seven colors with corresponding integers: <b>unknown(0), black(1), blue(2), green(3), yellow(4), red(5), white(6) and brown(7)</b>. This ability to differentiate between colors means your robot might be programmed to sort colored items, speak the names of colors or stop action when it sees a particular color. For the best accuracy, when in <b>Color Mode</b> or <b>Reflected Light Intensity Mode</b>, the sensor must be held at a right angle, close to, but not touching the surface it is examining.\n",
    "\n",
    "<img src=\"http://www.hermonswebsites.com/PyNotebooks/Python/23/colormode.jpg\">\n",
    "\n",
    "&nbsp;&nbsp;&nbsp;&nbsp;&nbsp;In <b>Reflected Light Intensity Mode</b>, the Color Sensor measures the intensity of light reflected back from a red light-emitting lamp. The sensor uses a scale of 0 (very dark) to 100 (very light). This then can be used to keep your battle bot on the black battle mat and to turn around when it comes to the white edge.\n",
    "\n",
    "<img src=\"http://www.hermonswebsites.com/PyNotebooks/Python/23/reflectmode.jpg\">\n",
    "\n",
    "&nbsp;&nbsp;&nbsp;&nbsp;&nbsp;&nbsp;&nbsp;&nbsp;&nbsp;&nbsp;In <b>Ambient Light Intensity</b>, the Color Sensor measures the strength of the ambient light around the robot. Again, the sensor uses a scale of 0 (very dark) to 100 (very light). This then can turn your robot into an alarm when the lights come on in a room.\n",
    "\n",
    "<img src=\"http://www.hermonswebsites.com/PyNotebooks/Python/23/ambientmode.jpg\">"
   ]
  },
  {
   "cell_type": "markdown",
   "metadata": {
    "deletable": true,
    "editable": true
   },
   "source": [
    "## Color Mode: 'COL-COLOR'"
   ]
  },
  {
   "cell_type": "markdown",
   "metadata": {
    "deletable": true,
    "editable": true
   },
   "source": [
    "&nbsp;&nbsp;&nbsp;&nbsp;&nbsp;Create a new file called <b>color_detector.py</b> and use the following code.\n",
    "\n",
    "<img src=\"http://www.hermonswebsites.com/PyNotebooks/Python/23/color_detector.jpg\">\n"
   ]
  },
  {
   "cell_type": "markdown",
   "metadata": {
    "deletable": true,
    "editable": true
   },
   "source": [
    "&nbsp;&nbsp;&nbsp;&nbsp;&nbsp;When the EV3 color sensor is in <b>COL-COLOR</b> mode it tries to recognize the color of standard Lego bricks placed about 5-6 mm in front of the sensor and returns a corresponding integer value between 0 (unknown) and 7 (brown). The program above will read the integer once per second, and speak the color out loud.\n",
    "\n",
    "&nbsp;&nbsp;&nbsp;&nbsp;&nbsp;<b>Lines 1,3 and 4</b> are what we include at the top of every program. \n",
    "\n",
    "&nbsp;&nbsp;&nbsp;&nbsp;&nbsp;On <b>line 6</b>, we name and define our sensor. I called mine <b>the_eye</b> but you can name it anything you want. Most people do something easier like <b>cs</b>. If you are using only one Color Sensor then there would be no reason to specify the input port. The robot will find it. You could just write something like <b>cs = ColorSensor( )</b>. I included the input port because I think it is good practice.\n",
    "\n",
    "&nbsp;&nbsp;&nbsp;&nbsp;&nbsp;On <b>line 7</b>, we put the Color Sensor, which we named <b>the_eye</b> in <b>COL-COLOR</b> mode.\n",
    "\n",
    "&nbsp;&nbsp;&nbsp;&nbsp;&nbsp;On <b>line 8</b>, we simply made a list of color strings in the correct order of their corresponding integers. Actually, since we used parentheses rather than square brackets we actually made a tuple. If you remember about lists and tuples, to call out a particular item such as yellow you would write <b>colors[4]</b> because the first item is actually item 0.\n",
    "\n",
    "&nbsp;&nbsp;&nbsp;&nbsp;&nbsp;To get the data from any sensor you use <b>sensorname.value( )</b> so we would use <b>the_eye.value( )</b>. We will use this value to call the item out of the list.\n",
    "\n",
    "&nbsp;&nbsp;&nbsp;&nbsp;&nbsp;In <b>lines 10-12</b>, we made a <b>while True</b> loop which runs each second. We used the <b>speak method</b> of the <b>Sound class</b> to say the detected color pulled out of the <b>colors</b> tuple. We also used a <b>.wait( )</b> to make sure the word was completely said."
   ]
  },
  {
   "cell_type": "markdown",
   "metadata": {
    "deletable": true,
    "editable": true
   },
   "source": [
    "## Reflected Light Intensity Mode: 'COL-REFLECT'"
   ]
  },
  {
   "cell_type": "markdown",
   "metadata": {
    "deletable": true,
    "editable": true
   },
   "source": [
    "&nbsp;&nbsp;&nbsp;&nbsp;&nbsp;Create a new file called <b>color_reflector.py</b> and use the following code.\n",
    "\n",
    "<img src=\"http://www.hermonswebsites.com/PyNotebooks/Python/23/color_reflector.jpg\">"
   ]
  },
  {
   "cell_type": "markdown",
   "metadata": {
    "deletable": true,
    "editable": true
   },
   "source": [
    "&nbsp;&nbsp;&nbsp;&nbsp;&nbsp;Remember that when the Color Sensor is in the <b>'COL-REFLECT'</b> mode, the returned <b>.value( )</b> will be an integer on a scale of 0 (very dark) to 100 (very light). The only difference between this and the last program is that the mode has been changed and we will simply have the robot speak the reflection value. Take the robot to the line follower map in the Engineering Lab and point the Color Sensor about 5 mm from the white and then the black. Record the values that you obtain."
   ]
  },
  {
   "cell_type": "markdown",
   "metadata": {
    "deletable": true,
    "editable": true
   },
   "source": [
    "## Ambient Light Intensity Mode: 'COL-AMBIENT'"
   ]
  },
  {
   "cell_type": "markdown",
   "metadata": {
    "deletable": true,
    "editable": true
   },
   "source": [
    "&nbsp;&nbsp;&nbsp;&nbsp;&nbsp;Switch the <b>Color-Sensor</b> so that it is facing forward so it will just pick up ambient light in the room. Copy your last program and name it <b>color-ambient.py</b> and simply change line 7 to <b>the_eye.mode='COL-AMBIENT'</b>. Run your program in the Engineering Lab and record 4-5 values with the robot facing different directions and calculate an average. We will call this the <b>light average</b>. Now turn the lights out and record 4-5 more values with the robot facing different directions and again calculate an average. We will call this the <b>dark average</b>. Now calculate an average between the light and dark averages. You will use this value to perform one of the Jedi tasks at the end of this chapter."
   ]
  },
  {
   "cell_type": "markdown",
   "metadata": {
    "deletable": true,
    "editable": true
   },
   "source": [
    "<table style=\"background-color: #FFFFFF; border: 1px solid #000000; width: 100%; padding: 2px;\">\n",
    "<tr style=\"background-color: #00FF00;\">\n",
    "<td width=\"90\" style=\"vertical-align: top; border: 1px solid #000000;\"><img src=\"http://www.hermonswebsites.com/PyNotebooks/Python/sith.png\" style=\"border: 2px solid #021a40;\">\n",
    "</td><td style=\"border: 1px solid #000000;\"><h2><center><b>Droid Training Task</b></center></h2></td></tr>\n",
    "<tr>\n",
    "<td valign=\"top\" colspan=\"2\" style=\"text-align: left;\">\n",
    "<center><font size=\"+1\"><b>Light Activated</b></font></center><br>\n",
    "<font size=\"+1\">\n",
    "&nbsp;&nbsp;&nbsp;&nbsp;&nbsp;Program a droid to spin right or left simply by turning the lights in the room on or off.  Once proven to your instructor delete the program from the robot.\n",
    "</font>\n",
    "</td></tr></table>\n"
   ]
  },
  {
   "cell_type": "markdown",
   "metadata": {
    "deletable": true,
    "editable": true
   },
   "source": [
    "<table style=\"background-color: #FFFFFF; border: 1px solid #000000; width: 100%; padding: 2px;\">\n",
    "<tr style=\"background-color: #00FF00;\">\n",
    "<td width=\"90\" style=\"vertical-align: top; border: 1px solid #000000;\"><img src=\"http://www.hermonswebsites.com/PyNotebooks/Python/sith.png\" style=\"border: 2px solid #021a40;\">\n",
    "</td><td style=\"border: 1px solid #000000;\"><h2><center><b>Droid Training Task</b></center></h2></td></tr>\n",
    "<tr>\n",
    "<td valign=\"top\" colspan=\"2\" style=\"text-align: left;\">\n",
    "<center><font size=\"+1\"><b>Line Follower</b></font></center><br>\n",
    "<font size=\"+1\">\n",
    "&nbsp;&nbsp;&nbsp;&nbsp;&nbsp;Program a droid to follow, as fast as it can, the black line on the map in the Engineering Room. Don't think about following the line. Instead think about following the left side of the line. So, if the sensor detects white it needs to turn right until the sensor detects black and then it needs to turn left. This kind of makes the robot \"wiggle\" along the path. Once proven to your instructor delete the program from the robot.\n",
    "</font>\n",
    "</td></tr></table>\n"
   ]
  },
  {
   "cell_type": "markdown",
   "metadata": {
    "deletable": true,
    "editable": true
   },
   "source": [
    "<table  style=\"background-color: #FFFFFF; width: 100%; padding: 2px;\">\n",
    "<tr style=\"background-color: #FFFFFF;\">\n",
    "<td style=\"border: 1px solid white;\" width=\"100px\">\n",
    "<div>\n",
    "<a href=\"http://nbviewer.ipython.org/github/CSP-UHS/Hermons_Book_of_Python/blob/master/Chapter22.ipynb\"><img src=\"http://www.hermonswebsites.com/PyNotebooks/Python/leftarrow.png\" height=\"50px\" width=\"50px\" align=\"left\"></a>\n",
    "</div>\n",
    "</td>\n",
    "<td style=\"border: 1px solid white;\">\n",
    "<div align=\"center\">\n",
    "<a href=\"http://nbviewer.ipython.org/github/CSP-UHS/Hermons_Book_of_Python/blob/master/Chapter00.ipynb\"><h2>Table of Contents</h2></a>\n",
    "</div>\n",
    "</td>\n",
    "<td style=\"border: 1px solid white;\" width=\"100px\">\n",
    "<div>\n",
    "<a href=\"http://nbviewer.ipython.org/github/CSP-UHS/Hermons_Book_of_Python/blob/master/Chapter24.ipynb\"><img src=\"http://www.hermonswebsites.com/PyNotebooks/Python/rightarrow.png\"  height=\"50px\" width=\"50px\"  align=\"right\"></a>\n",
    "</div>\n",
    "</td>\n",
    "</tr></table>"
   ]
  }
 ],
 "metadata": {
  "kernelspec": {
   "display_name": "Python 2",
   "language": "python",
   "name": "python2"
  },
  "language_info": {
   "codemirror_mode": {
    "name": "ipython",
    "version": 2
   },
   "file_extension": ".py",
   "mimetype": "text/x-python",
   "name": "python",
   "nbconvert_exporter": "python",
   "pygments_lexer": "ipython2",
   "version": "2.7.10"
  }
 },
 "nbformat": 4,
 "nbformat_minor": 0
}
