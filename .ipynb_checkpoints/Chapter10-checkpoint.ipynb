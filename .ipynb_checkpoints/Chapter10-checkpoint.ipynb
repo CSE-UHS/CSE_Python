{
 "cells": [
  {
   "cell_type": "markdown",
   "metadata": {
    "deletable": true,
    "editable": true
   },
   "source": [
    "<div align=\"right\">\n",
    "<a href=\"http://nbviewer.ipython.org/github/CSP-UHS/Hermons_Book_of_Python/blob/master/Chapter00.ipynb\" align=\"right\"><h2>Table of Contents</h2></a>\n",
    "</div>"
   ]
  },
  {
   "cell_type": "markdown",
   "metadata": {
    "deletable": true,
    "editable": true
   },
   "source": [
    "# Chapter 10: Classes, Objects and Methods"
   ]
  },
  {
   "cell_type": "markdown",
   "metadata": {
    "deletable": true,
    "editable": true
   },
   "source": [
    "   <p>&nbsp;&nbsp;&nbsp;&nbsp;&nbsp;Classes, Objects and Methods are very powerful programming tools. They make programming easier. In fact, you are already familiar with the concept of classes and objects. A class is a “classification” of an object. Think of a class as the \"blueprint\" of how to build a house. The blueprint is the class. The house is the object. Just as you can make several houses from one blueprint, you can create several objects from one class.  An object is called an \"instance\" of a class. When we create an object from a class it is called \"instantiation\". Objects have attributes, such as a person's name, height, and age. Objects also have methods (functions). Methods define what an object can do, like run, jump, or sit.</p>\n",
    " \n",
    " <h2>Part I: Why Learn About Classes?</h2>\n",
    " \n",
    "<p>&nbsp;&nbsp;&nbsp;&nbsp;&nbsp;Each character in an adventure game needs data: a name, location, strength, are they raising their arm, what direction they are headed, etc. Plus those characters do things. They run, jump, hit, and talk.\n",
    "\n",
    "Without classes, our Python code to store this data might look like:</p>"
   ]
  },
  {
   "cell_type": "code",
   "execution_count": 5,
   "metadata": {
    "collapsed": false,
    "deletable": true,
    "editable": true
   },
   "outputs": [],
   "source": [
    "name = \"Obi Wan Kenobi\"\n",
    "status = \"good\"\n",
    "strength = 100\n",
    "max_FORCE_points = 50\n",
    "current_FORCE_points = 50"
   ]
  },
  {
   "cell_type": "markdown",
   "metadata": {
    "deletable": true,
    "editable": true
   },
   "source": [
    "&nbsp;&nbsp;&nbsp;&nbsp;In order to do anything with this character, we'll need to pass that data to a function:"
   ]
  },
  {
   "cell_type": "code",
   "execution_count": 6,
   "metadata": {
    "collapsed": false,
    "deletable": true,
    "editable": true
   },
   "outputs": [
    {
     "name": "stdout",
     "output_type": "stream",
     "text": [
      "Obi Wan Kenobi good 100 50 50\n"
     ]
    }
   ],
   "source": [
    "def display_character(name, status, strength, max_FORCE_points, current_FORCE_points):\n",
    "    print(name, status, strength, max_FORCE_points, current_FORCE_points)\n",
    "    \n",
    "display_character(name, status, strength, max_FORCE_points, current_FORCE_points)"
   ]
  },
  {
   "cell_type": "markdown",
   "metadata": {
    "deletable": true,
    "editable": true
   },
   "source": [
    "&nbsp;&nbsp;&nbsp;&nbsp;&nbsp;Now imagine creating a program that has a set of variables like that for each Jedi Knight and Sith Lord in our game. Then we need to create functions that work with those items. The data gets out of hand very quickly and it will get even worse! As our game expands, we may need to add new fields to describe our character such as midichlorian_count:"
   ]
  },
  {
   "cell_type": "code",
   "execution_count": 7,
   "metadata": {
    "collapsed": false,
    "deletable": true,
    "editable": true
   },
   "outputs": [
    {
     "name": "stdout",
     "output_type": "stream",
     "text": [
      "Obi Wan Kenobi good 100 50 50 20\n"
     ]
    }
   ],
   "source": [
    "name = \"Obi Wan Kenobi\"\n",
    "status = \"good\"\n",
    "strength = 100\n",
    "max_FORCE_points = 50\n",
    "current_FORCE_points = 50\n",
    "midichlorian_count = 20\n",
    "\n",
    "def display_character(name, status, strength, max_FORCE_points, current_FORCE_points, midichlorian_count):\n",
    "    print(name, status, strength, max_FORCE_points, current_FORCE_points, midichlorian_count)\n",
    "    \n",
    "display_character(name, status, strength, max_FORCE_points, current_FORCE_points, midichlorian_count)\n"
   ]
  },
  {
   "cell_type": "markdown",
   "metadata": {
    "deletable": true,
    "editable": true
   },
   "source": [
    "&nbsp;&nbsp;&nbsp;&nbsp;&nbsp;In example above, there is only one function. But in a large project, we might have hundreds of functions that deal with the main character. Adding a new field to help describe what that character has and can do would require us to go through each one of those functions and add it to the parameter list. That would be a lot of work. And perhaps we need to add parameters to different types of characters like droids. Classes help alleviate this problem."
   ]
  },
  {
   "cell_type": "markdown",
   "metadata": {
    "deletable": true,
    "editable": true
   },
   "source": [
    "## Part 2: Defining and Creating Simple Classes"
   ]
  },
  {
   "cell_type": "markdown",
   "metadata": {
    "deletable": true,
    "editable": true
   },
   "source": [
    "&nbsp;&nbsp;&nbsp;&nbsp;&nbsp;A better way to manage multiple data attributes is to define a structure that has all of the information. Then we can give that “grouping” of information a name, like Character. This can be easily done in Python and any other modern language by using a class. For example, we can define a class representing a character in a game:"
   ]
  },
  {
   "cell_type": "code",
   "execution_count": 10,
   "metadata": {
    "collapsed": false,
    "deletable": true,
    "editable": true
   },
   "outputs": [],
   "source": [
    "class Character( ):\n",
    "    \"\"\" This is a class that represents the main character in a game. \"\"\"\n",
    "    def __init__(self):\n",
    "        \"\"\" This is a method or function called a constructor \n",
    "        that sets up the variables in the object immediately. \"\"\"\n",
    "        self.name = \"\"\n",
    "        self.status = \"\"\n",
    "        self.strength = 0\n",
    "        self.max_FORCE_points = 0\n",
    "        self.current_FORCE_points = 0\n",
    "        self.midichlorian_count = 0"
   ]
  },
  {
   "cell_type": "markdown",
   "metadata": {
    "deletable": true,
    "editable": true
   },
   "source": [
    "&nbsp;&nbsp;&nbsp;&nbsp;&nbsp;In the code above, Character is the class name. The variables in the class, such as name and status, are called attributes or fields. (Note the similarities and differences between declaring a class and declaring a function.)\n",
    "\n",
    "&nbsp;&nbsp;&nbsp;&nbsp;&nbsp;Unlike functions and variables, class names should begin with an upper case letter. While it is possible to begin a class with a lower case letter, it is not considered good practice.\n",
    "\n",
    "&nbsp;&nbsp;&nbsp;&nbsp;&nbsp;The <b>init function</b> in a special function called a constructor that is run automatically when the class is created. We'll discuss the constructor further down the page.\n",
    "\n",
    "&nbsp;&nbsp;&nbsp;&nbsp;&nbsp;The self. is kind of like the pronoun my. When inside the class Character we are talking about my name, my status, etc. We don't want to use self. outside of the class definition for Character, to refer to a Character field. Why? Because just like the pronoun “my,” it means someone totally different when said by a different person! self. is only used while an object of the class is being created, not after the object is created.\n",
    "\n",
    "&nbsp;&nbsp;&nbsp;&nbsp;&nbsp;The class code defines a class but it does not actually create an instance of one. The code told the computer what fields a character has and what the initial default values will be. We don't actually have a character yet though. We can define a class without creating one just like we can define a function without calling it. We have a \"blueprint\" of a character but we have not yet created one! To create an object of our Character class and set the fields, look at the example below:"
   ]
  },
  {
   "cell_type": "code",
   "execution_count": 11,
   "metadata": {
    "collapsed": false,
    "deletable": true,
    "editable": true
   },
   "outputs": [],
   "source": [
    "# Create a Character\n",
    "jedi_1 = Character( )\n",
    " \n",
    "# Set the fields in the Character\n",
    "jedi_1.name = \"Obi Wan Kenobi\"\n",
    "jedi_1.status = \"good\"\n",
    "jedi_1.strength = 100\n",
    "jedi_1.max_FORCE_points = 50\n",
    "jedi_1.current_FORCE_points = 50\n",
    "jedi_1.midichlorian_count = 20"
   ]
  },
  {
   "cell_type": "markdown",
   "metadata": {
    "deletable": true,
    "editable": true
   },
   "source": [
    "&nbsp;&nbsp;&nbsp;&nbsp;&nbsp;An instance of the Character class is created in line 2. Note how the class Character name is used, followed by parentheses. The variable name can be anything that follows normal naming rules. jedi_1 is the first \"object\" we've made from the Character class. This process is called <b>instantiation</b>.\n",
    "\n",
    "&nbsp;&nbsp;&nbsp;&nbsp;&nbsp;To set the fields in the class, a program must use the dot operator. This operator is the period that is between the jedi_1 and the field name. See how lines 5-10 use the dot operator to set each field value.\n",
    "\n",
    "&nbsp;&nbsp;&nbsp;&nbsp;&nbsp;A very common mistake when working with classes is to forget to specify which instance of the class you want to work with. If only one Character is created, it is natural to assume the computer will know to use that address you are talking about. This is not the case however. Since I named the first object or instance of the class as jedi_1 I need to use it with the dot operator to set the field for that particular instance.\n",
    "\n",
    "Let's create another object or instance of the Character class:"
   ]
  },
  {
   "cell_type": "code",
   "execution_count": 12,
   "metadata": {
    "collapsed": false,
    "deletable": true,
    "editable": true
   },
   "outputs": [
    {
     "name": "stdout",
     "output_type": "stream",
     "text": [
      "The first object created of the Character class was Obi Wan Kenobi\n",
      "The second object created of the Character class was Yoda\n"
     ]
    }
   ],
   "source": [
    "# Create a Character\n",
    "jedi_2 = Character( )\n",
    " \n",
    "# Set the fields in the Character\n",
    "jedi_2.name = \"Yoda\"\n",
    "jedi_2.status = \"great\"\n",
    "jedi_2.strength = 200\n",
    "jedi_2.max_FORCE_points = 60\n",
    "jedi_2.current_FORCE_points = 60\n",
    "jedi_2.midichlorian_count = 50\n",
    "\n",
    "print(\"The first object created of the Character class was \" + jedi_1.name)\n",
    "print(\"The second object created of the Character class was \" + jedi_2.name)"
   ]
  },
  {
   "cell_type": "markdown",
   "metadata": {
    "deletable": true,
    "editable": true
   },
   "source": [
    "## Part 3: Adding Methods to Classes"
   ]
  },
  {
   "cell_type": "markdown",
   "metadata": {
    "deletable": true,
    "editable": true
   },
   "source": [
    "&nbsp;&nbsp;&nbsp;&nbsp;&nbsp;In addition to attributes, classes may have methods. A method is a function that exists inside of a class. Expanding the earlier example of a Character class, the code below adds a method for the Character fighting."
   ]
  },
  {
   "cell_type": "code",
   "execution_count": 13,
   "metadata": {
    "collapsed": false,
    "deletable": true,
    "editable": true
   },
   "outputs": [],
   "source": [
    "class Character( ):\n",
    "    \"\"\" This is a class that represents the main character in a game. \"\"\"\n",
    "    def __init__(self):\n",
    "        \"\"\" This is a method or function called a constructor \n",
    "        that sets up the variables in the object immediately. \"\"\"\n",
    "        self.name = \"\"\n",
    "        self.status = \"\"\n",
    "        self.strength = 0\n",
    "        self.max_FORCE_points = 0\n",
    "        self.current_FORCE_points = 0\n",
    "        self.midichlorian_count = 0\n",
    "    def fight(self):\n",
    "        print(\"Lightsaber on!, says \" + self.name)"
   ]
  },
  {
   "cell_type": "markdown",
   "metadata": {
    "deletable": true,
    "editable": true
   },
   "source": [
    "&nbsp;&nbsp;&nbsp;&nbsp;&nbsp;Method definitions in a class look almost exactly like function definitions. The big difference is the addition of a parameter self. <b><u>The first parameter of any method in a class must be self</u></b>. This parameter is required even if the function does not use it.\n",
    "\n",
    "<b>Here are the important items to keep in mind when creating methods for classes:</b>\n",
    "\n",
    "&nbsp;&nbsp;&nbsp;&nbsp;&nbsp;Attributes should be listed first, methods after.<br>\n",
    "&nbsp;&nbsp;&nbsp;&nbsp;&nbsp;The first parameter of any method must be self.<br>\n",
    "&nbsp;&nbsp;&nbsp;&nbsp;&nbsp;Method definitions are indented exactly one tab stop.<br>\n",
    "\n",
    "Methods may be called in a manner similar to referencing attributes from an object. See the example code below."
   ]
  },
  {
   "cell_type": "code",
   "execution_count": 14,
   "metadata": {
    "collapsed": false,
    "deletable": true,
    "editable": true
   },
   "outputs": [
    {
     "name": "stdout",
     "output_type": "stream",
     "text": [
      "Lightsaber on!, says Darth Vader\n"
     ]
    }
   ],
   "source": [
    "# Create a Character\n",
    "sithlord_1 = Character( )\n",
    " \n",
    "# Set the fields in the Character\n",
    "sithlord_1.name = \"Darth Vader\"\n",
    "\n",
    "# call the fight method\n",
    "sithlord_1.fight( )"
   ]
  },
  {
   "cell_type": "markdown",
   "metadata": {
    "deletable": true,
    "editable": true
   },
   "source": [
    "## Part 4: Constructors"
   ]
  },
  {
   "cell_type": "markdown",
   "metadata": {
    "deletable": true,
    "editable": true
   },
   "source": [
    "&nbsp;&nbsp;&nbsp;&nbsp;&nbsp;When we create an object of Character, by default the Character has no name. We have been naming it after we have created it. It would be nice if we could name the Character the exact moment that we instantiate the object. Python classes have a special <b>initialization</b> function that is called any time an instance of that class is created. By adding this function called a constructor, a programmer can add code that is automatically run each time an instance of the class is created. Let's look at our Character class code again."
   ]
  },
  {
   "cell_type": "code",
   "execution_count": 17,
   "metadata": {
    "collapsed": false,
    "deletable": true,
    "editable": true
   },
   "outputs": [],
   "source": [
    "class Character( ):\n",
    "    \"\"\" This is a class that represents the main character in a game. \"\"\"\n",
    "    def __init__(self):\n",
    "        \"\"\" This is a method or function called a constructor \n",
    "        that sets up the variables in the object immediately. \"\"\"\n",
    "        self.name = \"\"\n",
    "        self.status = \"\"\n",
    "        self.strength = 0\n",
    "        self.max_FORCE_points = 0\n",
    "        self.current_FORCE_points = 0\n",
    "        self.midichlorian_count = 0\n",
    "        print(\"A new character has been created!\")\n",
    "    def fight(self):\n",
    "        print(\"Lightsaber on!, says \" + self.name)"
   ]
  },
  {
   "cell_type": "markdown",
   "metadata": {
    "deletable": true,
    "editable": true
   },
   "source": [
    "&nbsp;&nbsp;&nbsp;&nbsp;&nbsp;The constructor starts on line 2. It must be named init with two underscores before the init, and two underscores after. A common mistake is to only use one.\n",
    "\n",
    "&nbsp;&nbsp;&nbsp;&nbsp;&nbsp;The constructor must take in self as the first parameter just like other methods in a class. When a Character object is created, the init function is automatically called and the message is printed to the screen."
   ]
  },
  {
   "cell_type": "code",
   "execution_count": 18,
   "metadata": {
    "collapsed": false,
    "deletable": true,
    "editable": true
   },
   "outputs": [
    {
     "name": "stdout",
     "output_type": "stream",
     "text": [
      "A new character has been created!\n"
     ]
    }
   ],
   "source": [
    "# Create a Character\n",
    "my_new_character = Character( )"
   ]
  },
  {
   "cell_type": "markdown",
   "metadata": {
    "deletable": true,
    "editable": true
   },
   "source": [
    "&nbsp;&nbsp;&nbsp;&nbsp;&nbsp;A constructor can be used for initializing and setting data for the object. You can't use the constructor more than once in a Class definition. \n",
    "\n",
    "&nbsp;&nbsp;&nbsp;&nbsp;&nbsp;You might have noticed that the Character class above still allows the name attribute to be left blank after the creation of the Character object. How do we keep this from happening? Many objects need to have values right when they are created. The constructor function can be used to make this happen. See how we've modified the Character class below:"
   ]
  },
  {
   "cell_type": "code",
   "execution_count": 15,
   "metadata": {
    "collapsed": false,
    "deletable": true,
    "editable": true
   },
   "outputs": [],
   "source": [
    "class Character( ):\n",
    "    \"\"\" This is a class that represents the main character in a game. \"\"\"\n",
    "    def __init__(self,new_name):\n",
    "        \"\"\" This is a method or function called a constructor \n",
    "        that sets up the variables in the object immediately. \"\"\"\n",
    "        self.name = new_name\n",
    "        self.status = \"\"\n",
    "        self.strength = 0\n",
    "        self.max_FORCE_points = 0\n",
    "        self.current_FORCE_points = 0\n",
    "        self.midichlorian_count = 0\n",
    "        print(\"A new character has been created and its name is \" + self.name)\n",
    "    def fight(self):\n",
    "        print(\"Lightsaber on!, says \" + self.name)"
   ]
  },
  {
   "cell_type": "markdown",
   "metadata": {
    "deletable": true,
    "editable": true
   },
   "source": [
    "&nbsp;&nbsp;&nbsp;&nbsp;&nbsp;The constructor function now has an additional parameter named new_name. The value of this parameter is used to set the name attribute in the Character class where it says self.name = new_name. It is no longer possible to create a Character class without a name. A common mistake is to name the parameter of the init function the same as the attribute and assume that the values will automatically synchronize. This does not happen. Let's instantiate a new Character object and pass in it's name. Remember the name is a string so it needs to be in quotations."
   ]
  },
  {
   "cell_type": "code",
   "execution_count": 16,
   "metadata": {
    "collapsed": false,
    "deletable": true,
    "editable": true
   },
   "outputs": [
    {
     "name": "stdout",
     "output_type": "stream",
     "text": [
      "A new character has been created and its name is Luke Skywalker\n"
     ]
    }
   ],
   "source": [
    "named_character = Character(\"Luke Skywalker\") #creates an object with the name parameter"
   ]
  },
  {
   "cell_type": "markdown",
   "metadata": {
    "deletable": true,
    "editable": true
   },
   "source": [
    "&nbsp;&nbsp;&nbsp;&nbsp;&nbsp;What happens now when you try to create an object of the Character class without providing a name?"
   ]
  },
  {
   "cell_type": "code",
   "execution_count": 47,
   "metadata": {
    "collapsed": false,
    "deletable": true,
    "editable": true
   },
   "outputs": [
    {
     "ename": "TypeError",
     "evalue": "__init__() takes exactly 2 arguments (1 given)",
     "output_type": "error",
     "traceback": [
      "\u001b[0;31m---------------------------------------------------------------------------\u001b[0m\n\u001b[0;31mTypeError\u001b[0m                                 Traceback (most recent call last)",
      "\u001b[0;32m<ipython-input-47-644397d65a49>\u001b[0m in \u001b[0;36m<module>\u001b[0;34m()\u001b[0m\n\u001b[0;32m----> 1\u001b[0;31m \u001b[0mnon_named_character\u001b[0m \u001b[0;34m=\u001b[0m \u001b[0mCharacter\u001b[0m\u001b[0;34m(\u001b[0m\u001b[0;34m)\u001b[0m \u001b[0;31m#attempt to create an object without passing the name\u001b[0m\u001b[0;34m\u001b[0m\u001b[0m\n\u001b[0m",
      "\u001b[0;31mTypeError\u001b[0m: __init__() takes exactly 2 arguments (1 given)"
     ]
    }
   ],
   "source": [
    "non_named_character = Character( ) #attempt to create an object without passing the name"
   ]
  },
  {
   "cell_type": "markdown",
   "metadata": {
    "deletable": true,
    "editable": true
   },
   "source": [
    "&nbsp;&nbsp;&nbsp;&nbsp;&nbsp;We can no longer instantiate an object of the Character class without providing a name parameter. The error tells us that the constructor takes 2 arguments but we gave only one. In fact, it looks like we didn't give any!!!! Remember the first argument is always self which automatically gets passed to the constructor."
   ]
  },
  {
   "cell_type": "markdown",
   "metadata": {
    "deletable": true,
    "editable": true
   },
   "source": [
    "## Part 5: Inheritance"
   ]
  },
  {
   "cell_type": "markdown",
   "metadata": {
    "deletable": true,
    "editable": true
   },
   "source": [
    "&nbsp;&nbsp;&nbsp;&nbsp;&nbsp;Another powerful feature of using classes and objects is the ability to make use of inheritance. It is possible to create a class and inherit all of the attributes and methods of a parent class. For example perhaps we decide that some of the characters in our game will be called droids and they will have all of the attributes of the Character class except they need to beep. We can create a new Droid class and inherit all the attributes and methods from the Character class. THAT'S AWESOME!"
   ]
  },
  {
   "cell_type": "code",
   "execution_count": 20,
   "metadata": {
    "collapsed": false,
    "deletable": true,
    "editable": true
   },
   "outputs": [
    {
     "name": "stdout",
     "output_type": "stream",
     "text": [
      "A new character has been created and its name is R2D2\n",
      "Beep, says R2D2\n"
     ]
    }
   ],
   "source": [
    "class Droid(Character): #Defines Droid class inherited from Character class\n",
    "    def beep(self):   #Adds a beep method\n",
    "        print(\"Beep, says \"+ self.name)\n",
    "\n",
    "my_new_droid = Droid(\"R2D2\")#Creates a new droid with a name\n",
    "my_new_droid.beep( ) #Calls the object to beep"
   ]
  },
  {
   "cell_type": "markdown",
   "metadata": {
    "deletable": true,
    "editable": true
   },
   "source": [
    "<table style=\"background-color: #FFFFFF; border: 1px solid #000000; width: 100%; padding: 2px;\">\n",
    "<tr style=\"background-color: #00FF00;\">\n",
    "<td width=\"90\" style=\"vertical-align: top; border: 1px solid #000000;\"><img src=\"http://www.hermonswebsites.com/PyNotebooks/Python/sith.png\" style=\"border: 2px solid #021a40;\">\n",
    "</td><td style=\"border: 1px solid #000000;\"><h2><center><b>Jedi Training Task</b></center></h2></td></tr>\n",
    "<tr>\n",
    "<td valign=\"top\" colspan=\"2\" style=\"text-align: left;\"><center><font size=\"+1\"><b>Classy Boats</b></font></center><br>\n",
    "<font size=\"+1\">\n",
    "\n",
    "1.) Create a class called <b>Boat( )</b><br><br>\n",
    "2.) Use a constructor that sets two attibutes: <b>name</b> and <b>isDocked</b><br><br>\n",
    "3.) The <b>name</b> should be entered as an argument when the object is created<br><br>\n",
    "4.) The <b>isDocked</b> attribute is a Boolean variable<br><br>\n",
    "5.) Add a method called <b>dock( )</b><br><br>\n",
    "6.) In this method, if the boat is already docked print \"(boat name) is already docked.\"<br><br>\n",
    "7.) If it is not docked print \"(boat name) is docking\" and set the <b>isDocked</b> attribute to True<br><br>\n",
    "8.) Add another method called <b>undock( )</b><br><br>\n",
    "9.) In this method, if the boat is already undocked print \"(boat name) is already undocked.\"<br><br>\n",
    "10.) If it is docked print \"(boat name) is undocking\" and set the <b>isDocked</b> attribute to False<br><br>\n",
    "11.) Add another class called <b>Submarine( )</b> that will inherit the <b>Boat( )</b> class.<br><br>\n",
    "12.) In the <b>Submarine( )</b> class create a method called <b>submerge( )</b> that will print \"(boat name) is submerging\" if the boat is undocked and \"(boat name) can't sumberge\" if the boat is docked. <br><br>\n",
    "\n",
    "<b><u>Let's Float the Boat</u></b><br><br>\n",
    "\n",
    "1.) Instantiate an object of the <b>Submarine( )</b> class. Don't forget to pass in a name.<br><br>\n",
    "2.) Call the <b>dock( )</b> method once, the <b>undock( )</b> method twice, the <b>dock( )</b> method two more times, the <b>submerge( )</b> method once, the <b>undock( )</b> method once and finally the <b>submerge( )</b> method a final time.\n",
    "</font>\n",
    "</td></tr></table>"
   ]
  },
  {
   "cell_type": "markdown",
   "metadata": {
    "deletable": true,
    "editable": true
   },
   "source": [
    "<table  style=\"background-color: #FFFFFF; width: 100%; padding: 2px;\">\n",
    "<tr style=\"background-color: #FFFFFF;\">\n",
    "<td style=\"border: 1px solid white;\" width=\"100px\">\n",
    "<div>\n",
    "<a href=\"http://nbviewer.ipython.org/github/CSP-UHS/Hermons_Book_of_Python/blob/master/Chapter09.ipynb\"><img src=\"http://www.hermonswebsites.com/PyNotebooks/Python/leftarrow.png\" height=\"50px\" width=\"50px\" align=\"left\"></a>\n",
    "</div>\n",
    "</td>\n",
    "<td style=\"border: 1px solid white;\">\n",
    "<div align=\"center\">\n",
    "<a href=\"http://nbviewer.ipython.org/github/CSP-UHS/Hermons_Book_of_Python/blob/master/Chapter00.ipynb\"><h2>Table of Contents</h2></a>\n",
    "</div>\n",
    "</td>\n",
    "<td style=\"border: 1px solid white;\" width=\"100px\">\n",
    "<div>\n",
    "<a href=\"http://nbviewer.ipython.org/github/CSP-UHS/Hermons_Book_of_Python/blob/master/Chapter11.ipynb\"><img src=\"http://www.hermonswebsites.com/PyNotebooks/Python/rightarrow.png\"  height=\"50px\" width=\"50px\"  align=\"right\"></a>\n",
    "</div>\n",
    "</td>\n",
    "</tr></table>"
   ]
  }
 ],
 "metadata": {
  "kernelspec": {
   "display_name": "Python 3",
   "language": "python",
   "name": "python3"
  },
  "language_info": {
   "codemirror_mode": {
    "name": "ipython",
    "version": 3
   },
   "file_extension": ".py",
   "mimetype": "text/x-python",
   "name": "python",
   "nbconvert_exporter": "python",
   "pygments_lexer": "ipython3",
   "version": "3.5.2"
  }
 },
 "nbformat": 4,
 "nbformat_minor": 0
}
