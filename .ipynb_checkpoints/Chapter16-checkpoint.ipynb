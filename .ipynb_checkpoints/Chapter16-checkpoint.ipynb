{
 "cells": [
  {
   "cell_type": "markdown",
   "metadata": {},
   "source": [
    "<div align=\"right\">\n",
    "<a href=\"http://nbviewer.ipython.org/github/CSE-UHS/CSE_Python/blob/master/Chapter00.ipynb\" align=\"right\"><h2>Hermon's Book of Python</h2></a>\n",
    "</div>"
   ]
  },
  {
   "cell_type": "markdown",
   "metadata": {},
   "source": [
    "# Chapter 16: Python Imaging Library (PIL)"
   ]
  },
  {
   "cell_type": "markdown",
   "metadata": {},
   "source": [
    "## Part 1: Introduction"
   ]
  },
  {
   "cell_type": "markdown",
   "metadata": {},
   "source": [
    "&nbsp;&nbsp;&nbsp;&nbsp;&nbsp;You’ve learned the basics of writing computer programs. But most programming builds on code that has already been written. Knowing how to find and use code from other people will help make you an efficient and successful software developer.\n",
    "\n",
    "&nbsp;&nbsp;&nbsp;&nbsp;&nbsp;You could create your own algorithms, for example, to rotate an image or to identify the objects in an image. But others have already solved those problems! There are many advantages to using existing code. You save time, of course. But you also connect to a community of people, making it easier for them to help you, and making it more likely they will be able to use what you create."
   ]
  },
  {
   "cell_type": "markdown",
   "metadata": {},
   "source": [
    "## Part 2: Documentation of the PIL API"
   ]
  },
  {
   "cell_type": "markdown",
   "metadata": {},
   "source": [
    "&nbsp;&nbsp;&nbsp;&nbsp;&nbsp;In an earlier activity, you learned how to use nested for loops to conditionally change color values of individual pixels. You did this using code from the matplotlib and numpy libraries. You used statements like img[r][c] = [0, 255, 255] to change the pixels in part of an image. To cause the graduation cap to be cyan, for example, the statement img[r][c] = [0, 255, 255] was inside an if block. The if structure was inside a for loop, which was inside another for loop.\n",
    "\n",
    "&nbsp;&nbsp;&nbsp;&nbsp;&nbsp;A software developer’s job usually includes learning how to use other people’s code. It is often much quicker to find and learn how to use code that someone else has created than it is to create the code on your own. We will use code from the PIL, the Python Imaging Library, to perform image manipulations.\n",
    "\n",
    "&nbsp;&nbsp;&nbsp;&nbsp;&nbsp;Recall that an API, or application programming interface, tells you how to use someone else’s code. PIL, like matplotlib, is an object-oriented library of code. Object-oriented code creates and manipulates objects, which are data structures defined in the code. PIL’s objects include images. The matplotlib library’s objects include figures and axes. \n",
    "\n",
    "&nbsp;&nbsp;&nbsp;&nbsp;&nbsp;For object-oriented code, the API lists the attributes and methods for each class. Almost always, at least one of the methods instantiates the class. Instantiation means creating an object, also known as an instance, of the class. The instantiation methods that do this are sometimes called constructors.\n",
    "\n",
    "&nbsp;&nbsp;&nbsp;&nbsp;&nbsp;Although you are learning to manipulate images in this activity, a primary objective is to understand how to find, select, and use API documentation. These skills will enable you to learn how to use other people’s code.\n",
    "\n",
    "&nbsp;&nbsp;&nbsp;&nbsp;&nbsp;There are generally four kinds of documentation:<br><br>\n",
    "\n",
    "Official documentation <a href=\"http://effbot.org/imagingbook\" target=\"_blank\">http://effbot.org/imagingbook</a><br>\n",
    "Third-party documentation (example: <a href=\"http://infohost.nmt.edu/tcc/help/pubs/pil/\" target=\"_blank\">http://infohost.nmt.edu/tcc/help/pubs/pil/</a>)<br>\n",
    "Tutorials (example: <a href=\"http://effbot.org/imagingbook/introduction.htm\" target=\"_blank\">http://effbot.org/imagingbook/introduction.htm</a>)<br>\n",
    "Problem/solution-specific documentation, often in social formats such as Stack Overflow<br><br>\n",
    "\n",
    "&nbsp;&nbsp;&nbsp;&nbsp;&nbsp;Below is a quick reference to several common methods from the PIL library and how to use them:"
   ]
  },
  {
   "cell_type": "markdown",
   "metadata": {},
   "source": [
    "<center><img src=\"https://dl.dropboxusercontent.com/u/90219577/Hermon/CSE_Website/notebooks/16/PIL.png\"></center>"
   ]
  },
  {
   "cell_type": "markdown",
   "metadata": {},
   "source": [
    "## Part 3: Image Manipulation using PIL"
   ]
  },
  {
   "cell_type": "markdown",
   "metadata": {},
   "source": [
    "&nbsp;&nbsp;&nbsp;&nbsp;&nbsp;<b>Download the <a href=\"https://dl.dropboxusercontent.com/u/90219577/Hermon/CSE_Website/notebooks/16/Sith.zip\" target=\"_blank\">Sith Folder</a> and make it be your working directory. Start a new python file in this folder called eye_of_the_Sith.py</b><br><br>\n",
    "&nbsp;&nbsp;&nbsp;&nbsp;&nbsp;Begin your program by importing the following three libraries."
   ]
  },
  {
   "cell_type": "code",
   "execution_count": null,
   "metadata": {
    "collapsed": false
   },
   "outputs": [],
   "source": [
    "import PIL\n",
    "import matplotlib.pyplot as plt\n",
    "import os.path "
   ]
  },
  {
   "cell_type": "markdown",
   "metadata": {},
   "source": [
    "&nbsp;&nbsp;&nbsp;&nbsp;&nbsp;Next enter the following code which will use the os.path to join together the working directory and the name of the image we will be working with to create an absolute path and store it in the variable called path_to_the_sith."
   ]
  },
  {
   "cell_type": "code",
   "execution_count": null,
   "metadata": {
    "collapsed": false
   },
   "outputs": [],
   "source": [
    "# Open the files in the same directory as the Python script\n",
    "directory = os.path.dirname(os.path.abspath(__file__))  \n",
    "path_to_the_sith = os.path.join(directory, 'sith_lord.jpg')"
   ]
  },
  {
   "cell_type": "markdown",
   "metadata": {},
   "source": [
    "&nbsp;&nbsp;&nbsp;&nbsp;&nbsp;Next enter the following code to open up the image of the sith_lord."
   ]
  },
  {
   "cell_type": "code",
   "execution_count": null,
   "metadata": {
    "collapsed": false
   },
   "outputs": [],
   "source": [
    "# Open and show the sith_lord image in a new Figure window\n",
    "sith_img = PIL.Image.open(path_to_the_sith)\n",
    "fig, ax = plt.subplots(1, 2)\n",
    "ax[0].imshow(sith_img, interpolation='none')\n",
    "\n",
    "# Display student in second axes and set window to the right eye\n",
    "ax[1].imshow(sith_img, interpolation='none')\n",
    "ax[1].set_xticks(range(1050, 1410, 100))\n",
    "ax[1].set_xlim(1050, 1400) # Measure in plt, experiment in iPython\n",
    "ax[1].set_ylim(1100, 850)\n",
    "fig.show()"
   ]
  },
  {
   "cell_type": "markdown",
   "metadata": {},
   "source": [
    "&nbsp;&nbsp;&nbsp;&nbsp;&nbsp;So now we know the height of the image or how many rows of pixels there are. Now how can we determine the width of the image. Well, it would be how many pixels are in a given row. You could choose any row but we will choose the first one which if you remember is indexed at [0]. So to find the width of the image you should try the following in the <b>iPython Session Window</b> and record."
   ]
  },
  {
   "cell_type": "code",
   "execution_count": null,
   "metadata": {
    "collapsed": false
   },
   "outputs": [],
   "source": [
    "len(img[0])"
   ]
  },
  {
   "cell_type": "markdown",
   "metadata": {},
   "source": [
    "&nbsp;&nbsp;&nbsp;&nbsp;&nbsp;Since img[5] is the 6th row of pixels, img[5][9] would be the 10th pixel in the 6th row. (Even the best coders sometimes forget that the first item in a list or an array is indexed with zero!). Remember the third array of an image is a list of the three RGB intensities of a certain pixel. The following code will print the RGB array of the 10th pixel in the 6th row. Try it out in the <b>iPython Session Window</b> and record."
   ]
  },
  {
   "cell_type": "code",
   "execution_count": null,
   "metadata": {
    "collapsed": false
   },
   "outputs": [],
   "source": [
    "img[5][9]"
   ]
  },
  {
   "cell_type": "markdown",
   "metadata": {},
   "source": [
    "&nbsp;&nbsp;&nbsp;&nbsp;&nbsp;Run your mouse cursor over the image and record the position of a pixel in the yellow beak, the blue body and the red feathers. In the <b>iPython Session Window</b> determine and record the RGB arrays for each of those pixels.\n",
    "\n",
    "&nbsp;&nbsp;&nbsp;&nbsp;&nbsp;Since there are three elements in the 3rd RGB array, [0] would give the red value only, [1] would be the green value only and [2] would be the blue value only. Run your mouse cursor to x = 200 and y = 300 and predict the green value. Use the following code to check your guess. (Remember your number of rows comes first which would be your y-value and the number of pixels over would be your x-value). \n",
    "\n",
    "&nbsp;&nbsp;&nbsp;&nbsp;&nbsp; After you test the following code down in your <b>iPython Session Window</b>, determine the red and blue values individually also. Try some other points."
   ]
  },
  {
   "cell_type": "code",
   "execution_count": null,
   "metadata": {
    "collapsed": false
   },
   "outputs": [],
   "source": [
    "img[300][200][1] "
   ]
  },
  {
   "cell_type": "markdown",
   "metadata": {},
   "source": [
    "## Part 3: Manipulating Pixels"
   ]
  },
  {
   "cell_type": "markdown",
   "metadata": {},
   "source": [
    "&nbsp;&nbsp;&nbsp;&nbsp;&nbsp;You can assign new values to a pixel. Add the following lines of code in your program in the <b>code editor</b> before the fig.show() in your code. Execute the code and examine the figure it creates."
   ]
  },
  {
   "cell_type": "code",
   "execution_count": null,
   "metadata": {
    "collapsed": false
   },
   "outputs": [],
   "source": [
    "for row in range(105, 125):\n",
    "    for column in range(215, 235):\n",
    "        img[row][column] = [0, 0, 255] # makes a blue square"
   ]
  },
  {
   "cell_type": "markdown",
   "metadata": {},
   "source": [
    "&nbsp;&nbsp;&nbsp;&nbsp;&nbsp;The nested for loops iterate through a rectangle of pixels. The outer loop runs through each row, from row 105 through row 125. For each iteration of that outer loop, the inner loop works across the image from column 215 to column 235. A new list of RGB values is assigned to every one of these pixels. This results in a 20 x 20 blue square on the J-Hawk. \n",
    "\n",
    "&nbsp;&nbsp;&nbsp;&nbsp;&nbsp;The assignment of color in this new code can be placed within an if structure so that not all pixels get the new assignment of color. Try replacing the code for a blue square with the following lines of code. The conditional in the new code uses the built-in function sum() to add together the values of the three RGB pixels. If red + green + blue is more than 600, the pixel was bright and in this image was probably white. So basically, if the pixel was white we will color it yellow instead."
   ]
  },
  {
   "cell_type": "code",
   "execution_count": null,
   "metadata": {
    "collapsed": false
   },
   "outputs": [],
   "source": [
    "height = len(img)\n",
    "width = len(img[0])\n",
    "for r in range(height):\n",
    "    for c in range(width):\n",
    "        if sum(img[r][c])>600: # brightness R+G+B goes up to 3*255=765\n",
    "            img[r][c]=[255,255,0] # R + G  =  yellow"
   ]
  },
  {
   "cell_type": "markdown",
   "metadata": {},
   "source": [
    "&nbsp;&nbsp;&nbsp;&nbsp;&nbsp;In this code the nested for loops iterate through the entire image. The outer loop runs through row [0] to the bottom of the image. For each iteration of that outer loop, the inner loop works across the image from column [0] to the last column. Using the sum() function the program adds up the RGB values of each pixel it comes to and determines if the sum is greater than 600. If a pixel is pure white the sum would be 765 so 600 will make sure we find each pixel that is fairly bright. If the (if) condition is true the program will change that white pixel to yellow. "
   ]
  },
  {
   "cell_type": "markdown",
   "metadata": {},
   "source": [
    "## Part 4: The Illuminati"
   ]
  },
  {
   "cell_type": "markdown",
   "metadata": {},
   "source": [
    "&nbsp;&nbsp;&nbsp;&nbsp;&nbsp;There are ways to send secret information in photographs using the lowest-place-value bits in each color byte. Concealing information in an image is called <b><u>steganography</u></b>, which is what this section should be entitled. (I just called it \"The Illuminati\" to try to get you to read it!) The 1s place and 2s place of each RGB pixel intensity could be changed to encode the numbers 0 to 63, more than enough for the alphabet. Let's see if you can understand how this works.\n",
    "\n",
    "&nbsp;&nbsp;&nbsp;&nbsp;&nbsp;Let's say a single pixel in your image is colored white. The RGB array for this is [255, 255, 255]. The number 255 is a decimal number. We can convert it to a binary number which would use 8 bits or 1 byte of data. The array would now look like [11111111, 11111111, 11111111]. The ones and the twos place are what we call the <b>least significant bits</b>. We can change these least sigbits and not even come close to changing the color to the human eye.<br><br>\n",
    "<center> \n",
    "11111100 =  252<br>\n",
    "11111101 =  253<br>\n",
    "11111110 =  254<br>\n",
    "11111111 =  255<br><br>\n",
    "</center>\n",
    "\n",
    "&nbsp;&nbsp;&nbsp;&nbsp;&nbsp;Since we have 2 <b>least significant bits</b> in each byte and 3 bytes/pixel we could use 6 bits/pixel to store information and no human would be able to notice a difference in the image. A string of 6 bits would allow us to encode 0 to 63. Since there are only 26 letters of the alphabet technically we would only need 5 bits to encode secret messages in pictures.\n",
    "\n",
    "&nbsp;&nbsp;&nbsp;&nbsp;&nbsp;Let's look at an example: Suppose we have a magneta pixel:<br><br>\n",
    "\n",
    "<center>RGB = (255, 0, 255) = (11111111, 00000000, 11111111) binary</center><br>\n",
    "\n",
    "If we simply changed the last two bits of each byte to the following:<br><br>\n",
    "\n",
    "<center>(111111<b>01</b>, 000000<b>10</b>, 111111<b>01</b>)</center><br><br>\n",
    "\n",
    "we could stay very near the same color value of magenta but encode for the letter <b>(y)</b>. HOW, you ask? Well, first we set A-Z to equal 1-26. Next, we always take the last two bits of the binary pixel colors and string them together. So for our modified magenta pixel above that would be:<br><br>\n",
    "<center>011001</center>\n",
    "<br>\n",
    "&nbsp;&nbsp;&nbsp;&nbsp;&nbsp;This binary number 011001 converts to decimal 25 which would correlate to the 25th letter of the alphabet <b>(y)</b>! Even with a small 100 x 100 pixel image, you could send a 10,000 character hidden message. Crazy awesome, right? Below I have created a steganography program that will let you encode messages into an image file or decode messages from images that have already been encoded. Also below is an image which I have already encoded with a secret message. Use the program to determine the message. Once you have decoded it, feel free to encode with a new message and e-mail to a friend. They of course will not be able to determine the message unless they have this same decoding program. You can download the program and the image by right clicking and selecting \"Save link as\"<br><br>\n",
    "\n",
    "<a href=\"https://dl.dropboxusercontent.com/u/90219577/Hermon/CSE_Website/notebooks/14/steganography.py\" target=\"_blank\">Download Steganography Program</a><br><br>\n",
    "<center><a href=\"https://dl.dropboxusercontent.com/u/90219577/Hermon/CSE_Website/notebooks/14/illuminati.jpg\" target=\"_blank\"><img src=\"https://dl.dropboxusercontent.com/u/90219577/Hermon/CSE_Website/notebooks/14/illuminati.jpg\" width=\"300\" height=\"300\"></a></center>"
   ]
  },
  {
   "cell_type": "markdown",
   "metadata": {},
   "source": [
    "<table width=\"100%\" border=\"1\" cellpadding=\"2\" cellspacing=\"0\">\n",
    "<tr>\n",
    "<td width=\"90\" bgcolor=\"#00FFFF\" style=\"vertical-align:top\"><img src=\"https://dl.dropboxusercontent.com/u/90219577/Hermon/CSE_Website/notebooks/Scholar.png\"></td>\n",
    "<td valign=\"top\"><center><font size=\"+2\"><b>Pixel Dust</b></font></center><br>\n",
    "<font size=\"+1\">\n",
    "\n",
    "&nbsp;&nbsp;&nbsp;&nbsp;&nbsp;Using the J-Hawk Scholar image, write an image manipulation program that underlines the U with a yellow rectangle and colors the graduation cap cyan. Save the image, show Mr. Hermon your result and then upload it to Scholar. Also in the text box on Scholar enter the secret message encoded in the Illuminati symbol above.\n",
    "</td></tr></table>"
   ]
  },
  {
   "cell_type": "markdown",
   "metadata": {},
   "source": [
    "<div align=\"right\">\n",
    "<a href=\"http://nbviewer.ipython.org/github/CSE-UHS/CSE_Python/blob/master/Chapter00.ipynb\" align=\"right\"><h2>Hermon's Book of Python</h2></a>\n",
    "</div>"
   ]
  }
 ],
 "metadata": {
  "kernelspec": {
   "display_name": "Python 2",
   "language": "python",
   "name": "python2"
  },
  "language_info": {
   "codemirror_mode": {
    "name": "ipython",
    "version": 2
   },
   "file_extension": ".py",
   "mimetype": "text/x-python",
   "name": "python",
   "nbconvert_exporter": "python",
   "pygments_lexer": "ipython2",
   "version": "2.7.10"
  }
 },
 "nbformat": 4,
 "nbformat_minor": 0
}
