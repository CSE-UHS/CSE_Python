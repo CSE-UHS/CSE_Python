{
 "cells": [
  {
   "cell_type": "markdown",
   "metadata": {
    "deletable": true,
    "editable": true
   },
   "source": [
    "<div align=\"right\">\n",
    "<a href=\"http://nbviewer.ipython.org/github/CSP-UHS/Hermons_Book_of_Python/blob/master/Chapter00.ipynb\" align=\"right\"><h2>Table of Contents</h2></a>\n",
    "</div>"
   ]
  },
  {
   "cell_type": "markdown",
   "metadata": {
    "deletable": true,
    "editable": true
   },
   "source": [
    "# Chapter 21: EV3 Robot"
   ]
  },
  {
   "cell_type": "markdown",
   "metadata": {
    "deletable": true,
    "editable": true
   },
   "source": [
    "## Preparing the EV3 Robot"
   ]
  },
  {
   "cell_type": "markdown",
   "metadata": {
    "deletable": true,
    "editable": true
   },
   "source": [
    "<img src=\"http://www.hermonswebsites.com/PyNotebooks/Python/21/regrets.jpg\" style=\"width: 400px; height: 300px;\">\n",
    "\n",
    "&nbsp;&nbsp;&nbsp;&nbsp;&nbsp;You have come to the right place to learn how to program droids! We wouldn't want you to have any regrets! We will be programming EV3 Lego Mindstorm robots with Python. Since the EV3 brick doesn't come with a Python Environment already installed, we will have to first do some initial setup. If you are being provided robots with the Python Environment already installed you can skip steps 1-2 although you should still read them.\n",
    "\n",
    "&nbsp;&nbsp;&nbsp;&nbsp;&nbsp;To get the Python Environment and then eventually your python programs onto the robot you will need the following four things:\n",
    "\n",
    "<ul>\n",
    "<li>A microSD or microSDHC card (2GB - 32GB). microSDXC is not supported on the EV3. All cards larger than 32GB will not work with the EV3!</li>\n",
    "<li><a href=\"https://www.amazon.com/gp/product/B003MTTJOY/ref=oh_aui_detailpage_o00_s00?ie=UTF8&psc=1\" target=\"_blank\">Edimax EW-7811Un 802.11n Wireless Adapter</a> (officially supported by LEGO’s software)</li>\n",
    "<li><a href=\"https://etcher.io/\" target=\"_blank\">Etcher Program</a> to flash the EV3DEV image to the SD card</li>\n",
    "<li><a href=\"https://filezilla-project.org/download.php\" target=\"_blank\">FileZilla</a> to transfer your programs to your robot.</li>\n",
    "\n",
    "</ul>"
   ]
  },
  {
   "cell_type": "markdown",
   "metadata": {
    "deletable": true,
    "editable": true
   },
   "source": [
    "### Step 1: Download EV3DEV Image"
   ]
  },
  {
   "cell_type": "markdown",
   "metadata": {},
   "source": [
    "&nbsp;&nbsp;&nbsp;&nbsp;&nbsp;Download the latest ev3dev image file <a href=\"https://github.com/ev3dev/ev3dev/releases/download/ev3dev-jessie-2017-06-09/ev3dev-jessie-ev3-generic-2017-06-09.zip\" target=\"_blank\">here</a>."
   ]
  },
  {
   "cell_type": "markdown",
   "metadata": {
    "deletable": true,
    "editable": true
   },
   "source": [
    "### Step 2: Flash EV3DEV Image to SD Card"
   ]
  },
  {
   "cell_type": "markdown",
   "metadata": {
    "deletable": true,
    "editable": true
   },
   "source": [
    "&nbsp;&nbsp;&nbsp;&nbsp;&nbsp;Launch Etcher. Click the \"Select image\" button and browse to the folder where you downloaded an ev3dev release. Select the file that you downloaded. Plug the SD card into your computer (if your computer doesn’t have a micro SD slot, you can use an adapter or external reader). Etcher should detect the new device and display its information under the \"Select drive\" step. Confirm that the selected drive is correct. When you are confident that you have selected the correct drive, click \"Flash!\" and wait for the operation to complete."
   ]
  },
  {
   "cell_type": "markdown",
   "metadata": {
    "deletable": true,
    "editable": true
   },
   "source": [
    "### Step 3: Booting and Shutting Down EV3"
   ]
  },
  {
   "cell_type": "markdown",
   "metadata": {
    "deletable": true,
    "editable": true
   },
   "source": [
    "&nbsp;&nbsp;&nbsp;&nbsp;&nbsp;It is very difficult to get the microSD card out of the EV3 brick so you can fold over a strip of electrical tape on the edge of it to use as a handle. Put the SD Card in your EV3 and power it on. At first, you will see the MINDSTORMS boot splash and the red LEDs will be on. This is immediately followed by the ev3dev boot splash and the LEDs changing to orange. The LEDs indicate disk (SD card) activity. After about one minute, the screen will go blank. This happens on the first boot only. The first boot takes longer than subsequent boots. After another minute or two, you will see the brickman loading… screen. When the boot is complete, the LEDs will turn green. You’ll often want to turn off your EV3 while it isn't in use. Turn off the EV3 by pressing the back button from the main menu in brickman or pressing and holding the back button from any screen in brickman. This will open a dialog where you can select Power Off to turn off the EV3."
   ]
  },
  {
   "cell_type": "markdown",
   "metadata": {
    "deletable": true,
    "editable": true
   },
   "source": [
    "### Step 4: Connecting to Wifi"
   ]
  },
  {
   "cell_type": "markdown",
   "metadata": {
    "deletable": true,
    "editable": true
   },
   "source": [
    "&nbsp;&nbsp;&nbsp;&nbsp;&nbsp;Apparently any USB Wi-Fi dongle which supports Linux will work but the one above is very tiny and works automatically just by plugging it in. Once you have plugged in a dongle, you can use Brickman’s \"Wireless and Networks > Wi-Fi\" menu to connect to a network. Make sure you check the \"Powered\" box so that it starts searching for Wi-Fi networks, and then choose the one you want from the list that appears. Type the password in, and you’re good to go. The EV3 brick should remember this in the future."
   ]
  },
  {
   "cell_type": "markdown",
   "metadata": {
    "deletable": true,
    "editable": true
   },
   "source": [
    "### Step 5: Connecting to Your Robot"
   ]
  },
  {
   "cell_type": "markdown",
   "metadata": {
    "deletable": true,
    "editable": true
   },
   "source": [
    "&nbsp;&nbsp;&nbsp;&nbsp;&nbsp;In the next chapter we will upload our first program to our robot. Here we will learn how to use FileZilla to open a connection so we will be able to upload files. Any FTP client will work and I usually prefer a program for Mac called Fetch but FileZilla is a free download and works with any computers so we will use it here. The EV3 brick acts as a server so we will be able to connect to it. Open FileZilla and go to \"File\" > \"Site manager\". It should look something like this:\n",
    "\n",
    "<img src=\"http://www.hermonswebsites.com/PyNotebooks/Python/21/filezilla.jpg\">\n",
    "\n",
    "&nbsp;&nbsp;&nbsp;&nbsp;&nbsp;Hit the \"New Site\" button and name it EV3. The host information will be the IP address that you can always find on the screen of the brick. Change the protocol to SFTP. The username is <i>robot</i>. The password is <i>maker</i>. You’re now connected to the brick and will be able to see the files and copy programs into the robot folder simply by dropping your programs into the folder. We will try this in the next chapter.\n",
    "\n",
    "<img src=\"http://www.hermonswebsites.com/PyNotebooks/Python/21/filezilla2.jpg\">"
   ]
  },
  {
   "cell_type": "markdown",
   "metadata": {
    "deletable": true,
    "editable": true
   },
   "source": [
    "<table style=\"background-color: #FFFFFF; border: 1px solid #000000; width: 100%; padding: 2px;\">\n",
    "<tr style=\"background-color: #00FF00;\">\n",
    "<td width=\"90\" style=\"vertical-align: top; border: 1px solid #000000;\"><img src=\"http://www.hermonswebsites.com/PyNotebooks/Python/sith.png\" style=\"border: 2px solid #021a40;\">\n",
    "</td><td style=\"border: 1px solid #000000;\"><h2><center><b>Jedi Training Task</b></center></h2></td></tr>\n",
    "<tr>\n",
    "<td valign=\"top\" colspan=\"2\" style=\"text-align: left;\"><font size=\"+1\">\n",
    "&nbsp;&nbsp;&nbsp;&nbsp;&nbsp;For this chapter all you needed to do was to successfully connect to the robot with FileZilla.\n",
    "</font>\n",
    "</td></tr></table>"
   ]
  },
  {
   "cell_type": "markdown",
   "metadata": {
    "deletable": true,
    "editable": true
   },
   "source": [
    "<table  style=\"background-color: #FFFFFF; width: 100%; padding: 2px;\">\n",
    "<tr style=\"background-color: #FFFFFF;\">\n",
    "<td style=\"border: 1px solid white;\" width=\"250px\">\n",
    "<div>\n",
    "<a href=\"http://nbviewer.ipython.org/github/CSP-UHS/Hermons_Book_of_Python/blob/master/Chapter20.ipynb\"><img src=\"http://www.hermonswebsites.com/PyNotebooks/Python/leftarrow.png\" height=\"50px\" width=\"50px\" align=\"left\"></a>\n",
    "</div>\n",
    "</td>\n",
    "<td style=\"border: 1px solid white;\">\n",
    "<div align=\"center\">\n",
    "<a href=\"http://nbviewer.ipython.org/github/CSP-UHS/Hermons_Book_of_Python/blob/master/Chapter00.ipynb\"><h2>Table of Contents</h2></a>\n",
    "</div>\n",
    "</td>\n",
    "<td style=\"border: 1px solid white;\" width=\"100px\">\n",
    "<div>\n",
    "<a href=\"http://nbviewer.ipython.org/github/CSP-UHS/Hermons_Book_of_Python/blob/master/Chapter22.ipynb\"><img src=\"http://www.hermonswebsites.com/PyNotebooks/Python/rightarrow.png\"  height=\"50px\" width=\"50px\"  align=\"right\"></a>\n",
    "</div>\n",
    "</td>\n",
    "</tr></table>"
   ]
  }
 ],
 "metadata": {
  "kernelspec": {
   "display_name": "Python 2",
   "language": "python",
   "name": "python2"
  },
  "language_info": {
   "codemirror_mode": {
    "name": "ipython",
    "version": 2
   },
   "file_extension": ".py",
   "mimetype": "text/x-python",
   "name": "python",
   "nbconvert_exporter": "python",
   "pygments_lexer": "ipython2",
   "version": "2.7.10"
  }
 },
 "nbformat": 4,
 "nbformat_minor": 0
}
