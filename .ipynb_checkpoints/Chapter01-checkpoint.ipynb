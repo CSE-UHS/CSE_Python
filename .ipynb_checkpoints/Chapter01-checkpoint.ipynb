{
 "metadata": {
  "name": "",
  "signature": "sha256:976cdde3f4926a575be33b411ef9369ecdd89950949eebe51ead6fe3330f25f6"
 },
 "nbformat": 3,
 "nbformat_minor": 0,
 "worksheets": []
}