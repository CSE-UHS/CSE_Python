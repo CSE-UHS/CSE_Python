{
 "cells": [
  {
   "cell_type": "markdown",
   "metadata": {
    "deletable": true,
    "editable": true
   },
   "source": [
    "<div align=\"right\">\n",
    "<a href=\"http://nbviewer.ipython.org/github/CSP-UHS/Hermons_Book_of_Python/blob/master/Chapter00.ipynb\" align=\"right\"><h2>Table of Contents</h2></a>\n",
    "</div>"
   ]
  },
  {
   "cell_type": "markdown",
   "metadata": {
    "deletable": true,
    "editable": true
   },
   "source": [
    "# Chapter 26: Gyro Sensor"
   ]
  },
  {
   "cell_type": "markdown",
   "metadata": {
    "deletable": true,
    "editable": true
   },
   "source": [
    "### <a href=\"https://le-www-live-s.legocdn.com/sc/media/lessons/mindstorms-ev3/building-instructions/ev3-gyro-sensor-driving-base-a521f8ebe355c281c006418395309e15.pdf\" target=\"_blank\">Gyro Sensor Instructions</a>\n",
    "\n",
    "&nbsp;&nbsp;&nbsp;&nbsp;&nbsp;In this chapter we are going to learn how to use the Gyro Sensor. Click on the link above and scroll down to the <b>Robot Educator</b> section. There you will choose the instructions for the <b>Gyro Sensor</b> robot. This is just a small addition to the <b>Driving Base</b> directions."
   ]
  },
  {
   "cell_type": "markdown",
   "metadata": {
    "deletable": true,
    "editable": true
   },
   "source": [
    "## Throughout this chapter refer to the <a href=\"http://python-ev3dev.readthedocs.io/en/latest/sensors.html\" target=\"_blank\">Sensor Documentation</a>"
   ]
  },
  {
   "cell_type": "markdown",
   "metadata": {
    "deletable": true,
    "editable": true
   },
   "source": [
    "## About the Gyro Sensor"
   ]
  },
  {
   "cell_type": "markdown",
   "metadata": {
    "deletable": true,
    "editable": true
   },
   "source": [
    "&nbsp;&nbsp;&nbsp;&nbsp;&nbsp;The Ultrasonic Sensor can measure the distance to an object in front of it. It does this by sending out high-frequency sound waves and measuring how long it takes the sound to reflect back to the sensor. The sound frequency is too high for your to hear.\n",
    "\n",
    "<img src=\"http://www.hermonswebsites.com/PyNotebooks/Python/25/US.jpg\">\n",
    "\n",
    "&nbsp;&nbsp;&nbsp;&nbsp;&nbsp;Distance to an object can be measured in either inches or centimeters. This allows you to program your robot to stop a certain distance from a wall or to find another robot to attack! \n",
    "\n",
    "&nbsp;&nbsp;&nbsp;&nbsp;&nbsp;When using centimeter units, the detectable distance is between 3 and 250 centimeters (with an accuracy of a +/- 1 centimeter). When using inch units, the measurable distance is between 1 and 99 inches (with an accuracy of +/- 0.394 inches). A value of 255 cm or 100 in. means the sensor is not able to detect any object in front of it.\n",
    "\n",
    "&nbsp;&nbsp;&nbsp;&nbsp;&nbsp;A steady light around the sensor eyes tells you that the sensor is in <b>Measure Mode</b>. A blinking light tells you that it is in <b>Presence Mode</b>. In <b>Presence Mode</b>, this sensor can detect another Ultrasonic Sensor operating nearby. When listening for presence, the sensor detects sound signals but does not send them."
   ]
  },
  {
   "cell_type": "markdown",
   "metadata": {
    "deletable": true,
    "editable": true
   },
   "source": [
    "&nbsp;&nbsp;&nbsp;&nbsp;&nbsp;Create a new file called <b>ultrasonic.py</b> and use the following code. Like the last chapter this is a simple program to let the robot tell us the output of <b>.value( )</b> as you bring your hand closer to the sensor.\n",
    "\n",
    "<img src=\"http://www.hermonswebsites.com/PyNotebooks/Python/25/code1.jpg\">\n"
   ]
  },
  {
   "cell_type": "markdown",
   "metadata": {
    "deletable": true,
    "editable": true
   },
   "source": [
    "&nbsp;&nbsp;&nbsp;&nbsp;&nbsp;On line 7 you will see the mode <b>'US-DIST-CM'</b>. This will put the returned <b>.value( )</b> in centimeters. You can also put the value in inches by using the mode <b>'US-DIST-IN'</b>. If you have run the above program you are probably really confused. This is because there is an annoying problem with the EV3 robot when it comes to the Ultrasonic Sensor. <b><u>The returned values are actually decimal numbers without the decimal point</u>.</b> So if you heard 76 it's not actually 76 cm but 7.6 cm. It might be easier to think of the output as being in millimeters. Likewise if in inches and you hear 121, this is actually 12.1 inches. You can think of the returned value as being in tenths of inches. This is really deceiving and I pity the poor student who comes and asks me about it because they skipped over this paragraph."
   ]
  },
  {
   "cell_type": "markdown",
   "metadata": {
    "deletable": true,
    "editable": true
   },
   "source": [
    "## Navigation"
   ]
  },
  {
   "cell_type": "markdown",
   "metadata": {
    "deletable": true,
    "editable": true
   },
   "source": [
    "&nbsp;&nbsp;&nbsp;&nbsp;&nbsp;To get a little practice using the Ultrasonic Sensor let's update your code from the <b>Line Drills</b> program from last chapter. This time you won't have to back up. Just stop and turn about 10 cm from the board. Instead of this activity you could instead update your <b>R2D2</b> program since we didn't use any sensors to complete that task."
   ]
  },
  {
   "cell_type": "markdown",
   "metadata": {
    "deletable": true,
    "editable": true
   },
   "source": [
    "<table style=\"background-color: #FFFFFF; border: 1px solid #000000; width: 100%; padding: 2px;\">\n",
    "<tr style=\"background-color: #00FF00;\">\n",
    "<td width=\"90\" style=\"vertical-align: top; border: 1px solid #000000;\"><img src=\"http://www.hermonswebsites.com/PyNotebooks/Python/sith.png\" style=\"border: 2px solid #021a40;\">\n",
    "</td><td style=\"border: 1px solid #000000;\"><h2><center><b>Droid Training Task</b></center></h2></td></tr>\n",
    "<tr>\n",
    "<td valign=\"top\" colspan=\"2\" style=\"text-align: left;\">\n",
    "<center><font size=\"+1\"><b>General Grievous Battle Droid</b></font></center><br>\n",
    "<img src=\"http://www.hermonswebsites.com/PyNotebooks/Python/25/grievous.jpg\">\n",
    "<font size=\"+1\">\n",
    "&nbsp;&nbsp;&nbsp;&nbsp;&nbsp;General Grievous, leader of the droid army for the Galactic Empire has commissioned you (albeit through threat of light-saber decapitation) to program a cage-match type battle bot. The battle mat can be seen in the Engineering Room and looks like the following:\n",
    "\n",
    "<img src=\"http://www.hermonswebsites.com/PyNotebooks/Python/25/battlemat.jpg\" style=\"width: 200px; height: 200px;\">\n",
    "\n",
    "Two robots are placed parallel to each other and the staring lines. They are facing in opposite directions. When both robots are started they must first move forward. Each robot is trying to push the other one off the mat so it's good if you can use the Ultrasonic Sensor to locate the other robot and charge at them. You also want to use a Color Sensor so you can turn around if you ever get to the white edge of the mat. You obviously do not want to drive off the mat by yourself. If you get the programming worked out, you can start building a good battle bot structure to compete at the IT Olympics in Ames in April.\n",
    "</font>\n",
    "</td></tr></table>\n"
   ]
  },
  {
   "cell_type": "markdown",
   "metadata": {
    "deletable": true,
    "editable": true
   },
   "source": [
    "<table  style=\"background-color: #FFFFFF; width: 100%; padding: 2px;\">\n",
    "<tr style=\"background-color: #FFFFFF;\">\n",
    "<td style=\"border: 1px solid white;\" width=\"250px\">\n",
    "<div>\n",
    "<a href=\"http://nbviewer.ipython.org/github/CSP-UHS/Hermons_Book_of_Python/blob/master/Chapter25.ipynb\"><img src=\"http://www.hermonswebsites.com/PyNotebooks/Python/leftarrow.png\" height=\"50px\" width=\"50px\" align=\"left\"></a>\n",
    "</div>\n",
    "</td>\n",
    "<td style=\"border: 1px solid white;\">\n",
    "<div align=\"center\">\n",
    "<a href=\"http://nbviewer.ipython.org/github/CSP-UHS/Hermons_Book_of_Python/blob/master/Chapter00.ipynb\"><h2>Table of Contents</h2></a>\n",
    "</div>\n",
    "</td>\n",
    "<td style=\"border: 1px solid white;\" width=\"100px\">\n",
    "<div>\n",
    "<a href=\"http://nbviewer.ipython.org/github/CSP-UHS/Hermons_Book_of_Python/blob/master/Chapter27.ipynb\"><img src=\"http://www.hermonswebsites.com/PyNotebooks/Python/rightarrow.png\"  height=\"50px\" width=\"50px\"  align=\"right\"></a>\n",
    "</div>\n",
    "</td>\n",
    "</tr></table>"
   ]
  }
 ],
 "metadata": {
  "kernelspec": {
   "display_name": "Python 2",
   "language": "python",
   "name": "python2"
  },
  "language_info": {
   "codemirror_mode": {
    "name": "ipython",
    "version": 2
   },
   "file_extension": ".py",
   "mimetype": "text/x-python",
   "name": "python",
   "nbconvert_exporter": "python",
   "pygments_lexer": "ipython2",
   "version": "2.7.10"
  }
 },
 "nbformat": 4,
 "nbformat_minor": 0
}
