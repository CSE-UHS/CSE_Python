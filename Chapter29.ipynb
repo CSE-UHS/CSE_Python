{
 "cells": [
  {
   "cell_type": "markdown",
   "metadata": {
    "deletable": true,
    "editable": true
   },
   "source": [
    "<div align=\"right\">\n",
    "<a href=\"http://nbviewer.ipython.org/github/CSP-UHS/Hermons_Book_of_Python/blob/master/Chapter00.ipynb\" align=\"right\"><h2>Table of Contents</h2></a>\n",
    "</div>"
   ]
  },
  {
   "cell_type": "markdown",
   "metadata": {
    "deletable": true,
    "editable": true
   },
   "source": [
    "# Chapter 29: LCD Screen"
   ]
  },
  {
   "cell_type": "markdown",
   "metadata": {
    "deletable": true,
    "editable": true
   },
   "source": [
    "&nbsp;&nbsp;&nbsp;&nbsp;&nbsp;Working with the LCD screen is rather complicated and in any case the EV3's screen is small and hard to see (no backlight) so we've saved it for the end.\n",
    "\n",
    "&nbsp;&nbsp;&nbsp;&nbsp;&nbsp;The EV3 has a 178 x 128 pixels monochrome (black and white) LCD. The coordinates of the top-left pixel are (0, 0) and the coordinates of the bottom-right pixel are (177, 127). Ask your instructor for some graph paper that you can use to determine what pixels you need for various bounding boxes.\n",
    "\n",
    "&nbsp;&nbsp;&nbsp;&nbsp;&nbsp;To interact with the LCD you will mainly be using a powerful graphics library called <b>Pillow</b> which is part of standard Python rather than something unique to EV3 Python. Note that Pillow evolved out of the Python Image Library (PIL) which some of you should already be somewhat familiar. There is some documentation on the <a href=\"http://python-ev3dev.readthedocs.io/en/latest/other.html#screen\" target=\"_blank\">EV3 Python bindings page</a> but you will find much more detailed documentation in the official Pillow documentation <a href=\"https://pillow.readthedocs.io/en/3.3.x/\" target=\"_blank\">HERE</a>, especially the documentation on the <b>ImageDraw module</b>. The <b>ImageDraw module</b> provides the following methods:\n",
    "\n",
    "<ul>\n",
    "<li>arc(xy, start, end, fill=None)</li>\n",
    "<li>bitmap(xy, bitmap, fill=None)</li>\n",
    "<li>chord(xy, start, end, fill=None, outline=None)</li>\n",
    "<li>ellipse(xy, fill=None, outline=None)</li>\n",
    "<li>line(xy, fill=None, width=0)</li>\n",
    "<li>pieslice(xy, start, end, fill=None, outline=None)</li>\n",
    "<li>point(xy, fill=None)</li>\n",
    "<li>polygon(xy, fill=None, outline=None)</li>\n",
    "<li>rectangle(xy, fill=None, outline=None)</li>\n",
    "<li>text(xy, text, fill=None, font=None, anchor=None, spacing=0, align=\"left\")</li>\n",
    "<li>textsize(text, font=None, spacing=0)</li>\n",
    "</ul>"
   ]
  },
  {
   "cell_type": "markdown",
   "metadata": {
    "deletable": true,
    "editable": true
   },
   "source": [
    "## Smiley / Grumpy"
   ]
  },
  {
   "cell_type": "markdown",
   "metadata": {
    "deletable": true,
    "editable": true
   },
   "source": [
    "&nbsp;&nbsp;&nbsp;&nbsp;&nbsp;This script draws two circles for eyes then an arc (in this case half an ellipse) which alternates between opening upwards (a smile) and opening downwards (grumpy). Note that the <b>screen.draw.ellipse( )</b> command has parameters that are the top-left corner and bottom-right corner of a bounding box (an imaginary box that would contain the ellipse). The <b>screen.draw.arc( )</b> command needs the same pair of coordinates and also needs a starting angle and an ending angle, both in degrees. Angles are measured with 0 degrees being at 3 o’clock, and increasing clockwise.\n",
    "\n",
    "&nbsp;&nbsp;&nbsp;&nbsp;&nbsp;On line 5 we set up a Screen( ) object which we named lcd. On line 10 we start by clearing the screen with <b>lcd.clear( )</b>. Line 23 is very important. Without it nothing happens. We use <b>lcd.update( )</b> to update the lcd with all of our commands.\n",
    "\n",
    "<img src=\"http://www.hermonswebsites.com/PyNotebooks/Python/29/code1.jpg\">"
   ]
  },
  {
   "cell_type": "markdown",
   "metadata": {
    "deletable": true,
    "editable": true
   },
   "source": [
    "## Buttons"
   ]
  },
  {
   "cell_type": "markdown",
   "metadata": {
    "deletable": true,
    "editable": true
   },
   "source": [
    "&nbsp;&nbsp;&nbsp;&nbsp;&nbsp;The official documentation for the <b>Button( )</b> class is <a href=\"http://python-ev3dev.readthedocs.io/en/latest/other.html#button\" target=\"_blank\">HERE</a>. Create a file called <b>buttons.py</b> with the following code. On line 5 we created a Button( ) object called <b>btn</b>. You could name it whatever you want. There are 6 buttons and their names are: <b>left, right, up, down, enter and backspace</b> On line 8, however, the loop checks whether ANY button is pressed and if so plays one of our WAV files from last chapter. The last two lines make the script check the button state every 0.01 second but they are not really necessary.\n",
    "\n",
    "<img src=\"http://www.hermonswebsites.com/PyNotebooks/Python/28/code2.jpg\">"
   ]
  },
  {
   "cell_type": "markdown",
   "metadata": {
    "deletable": true,
    "editable": true
   },
   "source": [
    "## Starting and Stopping Programs with Buttons"
   ]
  },
  {
   "cell_type": "markdown",
   "metadata": {
    "deletable": true,
    "editable": true
   },
   "source": [
    "&nbsp;&nbsp;&nbsp;&nbsp;&nbsp;We can use the functions <b>(up, down, left, right, backspace and enter)</b> to start and stop programs. The code below lights the LEDS up green when it's ready to start. You can start the beeping by pressing the enter key and stop the beeping by pressing the right key.\n",
    "\n",
    "<img src=\"http://www.hermonswebsites.com/PyNotebooks/Python/28/code3.jpg\">"
   ]
  },
  {
   "cell_type": "markdown",
   "metadata": {
    "deletable": true,
    "editable": true
   },
   "source": [
    "## React to Button Presses and Releases"
   ]
  },
  {
   "cell_type": "markdown",
   "metadata": {
    "deletable": true,
    "editable": true
   },
   "source": [
    "&nbsp;&nbsp;&nbsp;&nbsp;&nbsp;In this program's loop, the very important command <b>btn.process()</b> checks for any change in the state of the buttons. If it detects a change then it triggers the corresponding 'events'. For example, if it detects that the left button has just been pressed then it triggers a <b>'left button state change'</b> event and a <b>'button change'</b> event. It also assigns a value of True to the parameter state if the button is pressed and a value of False if the button is released. Event handlers respond to the events. For example, if the left button is pressed then the <b>'left button state change'</b> event will trigger the <b>on_left</b> event handler which will call the function <b>'left'</b> (the function does not have to have this name).\n",
    "\n",
    "These are the functions with the state parameter of that particular button being sent. For the left and the right buttons we did different actions if the <b>state</b> is True or False. (pressed or released). For the last four buttons we just played a sound each time the <b>state</b> is changed.\n",
    "<img src=\"http://www.hermonswebsites.com/PyNotebooks/Python/28/process1.jpg\">\n",
    "\n",
    "These are the <b>event handlers</b> which will call the appropriate function if that particular button has a state change.\n",
    "<img src=\"http://www.hermonswebsites.com/PyNotebooks/Python/28/process2.jpg\">\n",
    "\n",
    "This is the very simple main program which basically runs the <b>btn.process( )</b> which checks for any change in the state of the buttons.\n",
    "<img src=\"http://www.hermonswebsites.com/PyNotebooks/Python/28/process3.jpg\">"
   ]
  },
  {
   "cell_type": "markdown",
   "metadata": {
    "deletable": true,
    "editable": true
   },
   "source": [
    "<table style=\"background-color: #FFFFFF; border: 1px solid #000000; width: 100%; padding: 2px;\">\n",
    "<tr style=\"background-color: #00FF00;\">\n",
    "<td width=\"90\" style=\"vertical-align: top; border: 1px solid #000000;\"><img src=\"http://www.hermonswebsites.com/PyNotebooks/Python/sith.png\" style=\"border: 2px solid #021a40;\">\n",
    "</td><td style=\"border: 1px solid #000000;\"><h2><center><b>Droid Training Task</b></center></h2></td></tr>\n",
    "<tr>\n",
    "<td valign=\"top\" colspan=\"2\" style=\"text-align: left;\">\n",
    "<center><font size=\"+1\"><b>General Grievous 2.0</b></font></center><br>\n",
    "<font size=\"+1\">\n",
    "&nbsp;&nbsp;&nbsp;&nbsp;&nbsp;For the battle bot competition at the IT Olympics both robots have to push the enter button at the same time and after three seconds the robots can begin moving. You might have noticed that its about 8-10 seconds before a program begins from when we select it in the menu. We need to modify our program to solve this problem. Make sure you know when the program has loaded by turning the LEDs green. Don't let the program run until the enter button is pressed. Immediately after the enter button is pressed have the robot count down 3 seconds out loud before the battle bot moves.<br><br>\n",
    "\n",
    "</font>\n",
    "\n",
    "\n",
    "</td></tr></table>\n"
   ]
  },
  {
   "cell_type": "markdown",
   "metadata": {
    "deletable": true,
    "editable": true
   },
   "source": [
    "<table  style=\"background-color: #FFFFFF; width: 100%; padding: 2px;\">\n",
    "<tr style=\"background-color: #FFFFFF;\">\n",
    "<td style=\"border: 1px solid white;\" width=\"100px\">\n",
    "<div>\n",
    "<a href=\"http://nbviewer.ipython.org/github/CSP-UHS/Hermons_Book_of_Python/blob/master/Chapter27.ipynb\"><img src=\"http://www.hermonswebsites.com/PyNotebooks/Python/leftarrow.png\" height=\"50px\" width=\"50px\" align=\"left\"></a>\n",
    "</div>\n",
    "</td>\n",
    "<td style=\"border: 1px solid white;\">\n",
    "<div align=\"center\">\n",
    "<a href=\"http://nbviewer.ipython.org/github/CSP-UHS/Hermons_Book_of_Python/blob/master/Chapter00.ipynb\"><h2>Table of Contents</h2></a>\n",
    "</div>\n",
    "</td>\n",
    "<td style=\"border: 1px solid white;\" width=\"100px\">\n",
    "<div>\n",
    "<a href=\"http://nbviewer.ipython.org/github/CSP-UHS/Hermons_Book_of_Python/blob/master/Chapter29.ipynb\"><img src=\"http://www.hermonswebsites.com/PyNotebooks/Python/rightarrow.png\"  height=\"50px\" width=\"50px\"  align=\"right\"></a>\n",
    "</div>\n",
    "</td>\n",
    "</tr></table>"
   ]
  }
 ],
 "metadata": {
  "kernelspec": {
   "display_name": "Python 2",
   "language": "python",
   "name": "python2"
  },
  "language_info": {
   "codemirror_mode": {
    "name": "ipython",
    "version": 2
   },
   "file_extension": ".py",
   "mimetype": "text/x-python",
   "name": "python",
   "nbconvert_exporter": "python",
   "pygments_lexer": "ipython2",
   "version": "2.7.10"
  }
 },
 "nbformat": 4,
 "nbformat_minor": 0
}
