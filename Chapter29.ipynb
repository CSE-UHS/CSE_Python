{
 "cells": [
  {
   "cell_type": "markdown",
   "metadata": {
    "deletable": true,
    "editable": true
   },
   "source": [
    "<div align=\"right\">\n",
    "<a href=\"http://nbviewer.ipython.org/github/CSP-UHS/Hermons_Book_of_Python/blob/master/Chapter00.ipynb\" align=\"right\"><h2>Table of Contents</h2></a>\n",
    "</div>"
   ]
  },
  {
   "cell_type": "markdown",
   "metadata": {
    "deletable": true,
    "editable": true
   },
   "source": [
    "# Chapter 29: LCD Screen"
   ]
  },
  {
   "cell_type": "markdown",
   "metadata": {
    "deletable": true,
    "editable": true
   },
   "source": [
    "&nbsp;&nbsp;&nbsp;&nbsp;&nbsp;Working with the LCD screen is rather complicated and in any case the EV3's screen is small and hard to see (no backlight) so we've saved it for the end.\n",
    "\n",
    "&nbsp;&nbsp;&nbsp;&nbsp;&nbsp;The EV3 has a 178 x 128 pixels monochrome (black and white) LCD. The coordinates of the top-left pixel are (0, 0) and the coordinates of the bottom-right pixel are (177, 127). Ask your instructor for some graph paper that you can use to determine what pixels you need for various bounding boxes.\n",
    "\n",
    "&nbsp;&nbsp;&nbsp;&nbsp;&nbsp;To interact with the LCD you will mainly be using a powerful graphics library called <b>Pillow</b> which is part of standard Python rather than something unique to EV3 Python. Note that Pillow evolved out of the Python Image Library (PIL) which some of you should already be somewhat familiar. There is some documentation on the <a href=\"http://python-ev3dev.readthedocs.io/en/latest/other.html#screen\" target=\"_blank\">EV3 Python bindings page</a> but you will find much more detailed documentation in the official Pillow documentation <a href=\"https://pillow.readthedocs.io/en/3.3.x/\" target=\"_blank\">HERE</a>, especially the documentation on the <b>ImageDraw module</b>. The <b>ImageDraw module</b> provides the following methods:\n",
    "\n",
    "<ul>\n",
    "<li>arc(xy, start, end, fill=None)</li>\n",
    "<li>bitmap(xy, bitmap, fill=None)</li>\n",
    "<li>chord(xy, start, end, fill=None, outline=None)</li>\n",
    "<li>ellipse(xy, fill=None, outline=None)</li>\n",
    "<li>line(xy, fill=None, width=0)</li>\n",
    "<li>pieslice(xy, start, end, fill=None, outline=None)</li>\n",
    "<li>point(xy, fill=None)</li>\n",
    "<li>polygon(xy, fill=None, outline=None)</li>\n",
    "<li>rectangle(xy, fill=None, outline=None)</li>\n",
    "<li>text(xy, text, fill=None, font=None, anchor=None, spacing=0, align=\"left\")</li>\n",
    "<li>textsize(text, font=None, spacing=0)</li>\n",
    "</ul>"
   ]
  },
  {
   "cell_type": "markdown",
   "metadata": {
    "deletable": true,
    "editable": true
   },
   "source": [
    "## Smiley / Grumpy"
   ]
  },
  {
   "cell_type": "markdown",
   "metadata": {
    "deletable": true,
    "editable": true
   },
   "source": [
    "&nbsp;&nbsp;&nbsp;&nbsp;&nbsp;This script draws two circles for eyes then an arc (in this case half an ellipse) which alternates between opening upwards (a smile) and opening downwards (grumpy). Note that the <b>screen.draw.ellipse( )</b> command has parameters that are the top-left corner and bottom-right corner of a bounding box (an imaginary box that would contain the ellipse). The <b>screen.draw.arc( )</b> command needs the same pair of coordinates and also needs a starting angle and an ending angle, both in degrees. Angles are measured with 0 degrees being at 3 o’clock, and increasing clockwise.\n",
    "\n",
    "&nbsp;&nbsp;&nbsp;&nbsp;&nbsp;On line 5 we set up a Screen( ) object which we named lcd. On line 10 we start by clearing the screen with <b>lcd.clear( )</b>. Line 23 is very important. Without it nothing happens. We use <b>lcd.update( )</b> to update the lcd with all of our commands.\n",
    "\n",
    "<img src=\"http://www.hermonswebsites.com/PyNotebooks/Python/29/code1.jpg\">"
   ]
  },
  {
   "cell_type": "markdown",
   "metadata": {
    "deletable": true,
    "editable": true
   },
   "source": [
    "## Display Text"
   ]
  },
  {
   "cell_type": "markdown",
   "metadata": {
    "deletable": true,
    "editable": true
   },
   "source": [
    "&nbsp;&nbsp;&nbsp;&nbsp;&nbsp;This script will display 'Hello, World' as small white text in a black rectangle with 'THIS TEXT IS BLACK' displayed in black in the lower half of the screen. The coordinates in the parameter of the <b>text( )</b> function refer to the top left corner of the text.\n",
    "\n",
    "<img src=\"http://www.hermonswebsites.com/PyNotebooks/Python/29/code2.jpg\">"
   ]
  },
  {
   "cell_type": "markdown",
   "metadata": {
    "deletable": true,
    "editable": true
   },
   "source": [
    "## Use Larger Fonts"
   ]
  },
  {
   "cell_type": "markdown",
   "metadata": {
    "deletable": true,
    "editable": true
   },
   "source": [
    "&nbsp;&nbsp;&nbsp;&nbsp;&nbsp;The <b>draw.text( )</b> command used above without any 'font' argument draws fairly small text. Beginning with EV3 Python v0.8.0 you can use larger fonts. Specifying a 'font' argument allows you to choose from a wide range of fonts and sizes that you can visualize <a href=\"http://python-ev3dev.readthedocs.io/en/latest/other.html#ev3dev.fonts.load\" target=\"_blank\">HERE</a>. As an example we will use the <b>luBS24</b> font which is bold, sans serif and size 24. <b>IMPORTANT! to use these larger fonts we need two new import statements at the top of the program.</b>\n",
    "\n",
    "<img src=\"http://www.hermonswebsites.com/PyNotebooks/Python/29/code3.jpg\">"
   ]
  },
  {
   "cell_type": "markdown",
   "metadata": {
    "deletable": true,
    "editable": true
   },
   "source": [
    "## Display an Image File"
   ]
  },
  {
   "cell_type": "markdown",
   "metadata": {
    "deletable": true,
    "editable": true
   },
   "source": [
    "&nbsp;&nbsp;&nbsp;&nbsp;&nbsp;Before you can display an image file, you have to have an image file to display! Click <a href=\"http://www.hermonswebsites.com/PyNotebooks/Python/29/EV3_BMPs.zip\" target=\"_blank\">HERE</a> to download all the standard Lego EV3 BMP image files that are included with the free Lego EV3 software that are seen below. This is a zip file containing the 107 monochrome BMP files, each one perfectly dimensioned to fit the EV3 screen (178*128 pixels). \n",
    "\n",
    "<img src=\"http://www.hermonswebsites.com/PyNotebooks/Python/29/images.png\">\n",
    "\n",
    "&nbsp;&nbsp;&nbsp;&nbsp;&nbsp;Decompress the zip file then create a directory inside your robot directory, name it 'pics' and upload the decompressed BMP files to the pics directory. Once you've done all of that you should be ready to try the following program. It just animates a pair of eyes by just changing the image and updating the screen each second.\n",
    "\n",
    "<img src=\"http://www.hermonswebsites.com/PyNotebooks/Python/29/code4.jpg\">"
   ]
  },
  {
   "cell_type": "markdown",
   "metadata": {
    "deletable": true,
    "editable": true
   },
   "source": [
    "## How to Capture a Screenshot of the EV3 screen"
   ]
  },
  {
   "cell_type": "markdown",
   "metadata": {
    "deletable": true,
    "editable": true
   },
   "source": [
    "&nbsp;&nbsp;&nbsp;&nbsp;&nbsp;WasabiFan, a top contributor to the ev3dev project, wrote the advanced script below for taking a screenshot of the EV3 screen. The script creates an image file 'screenshot.png' in the directory from which the script is run. The image is scaled to double its original size and given a pale green background that resembles the real background of the EV3 LCD screen. Once you have drawn something to the LCD Screen you can then append this code which will capture a screenshot of the image. It seems to take several minutes for the image to show up on your robot server so that you can then download it onto your computer. \n",
    "\n",
    "<img src=\"http://www.hermonswebsites.com/PyNotebooks/Python/29/screenshot.jpg\">"
   ]
  },
  {
   "cell_type": "markdown",
   "metadata": {
    "deletable": true,
    "editable": true
   },
   "source": [
    "<table style=\"background-color: #FFFFFF; border: 1px solid #000000; width: 100%; padding: 2px;\">\n",
    "<tr style=\"background-color: #00FF00;\">\n",
    "<td width=\"90\" style=\"vertical-align: top; border: 1px solid #000000;\"><img src=\"http://www.hermonswebsites.com/PyNotebooks/Python/sith.png\" style=\"border: 2px solid #021a40;\">\n",
    "</td><td style=\"border: 1px solid #000000;\"><h2><center><b>Droid Training Task</b></center></h2></td></tr>\n",
    "<tr>\n",
    "<td valign=\"top\" colspan=\"2\" style=\"text-align: left;\">\n",
    "<center><font size=\"+1\"><b>Jedi Art Studio</b></font></center><br>\n",
    "<font size=\"+1\">\n",
    "&nbsp;&nbsp;&nbsp;&nbsp;&nbsp;For this task, create some kind of art (preferably Star Wars related) on the LCD screen of the EV3 brick using the drawing options. Feel free to create an animation instead of a static drawing. <br><br>\n",
    "\n",
    "<img src=\"http://www.hermonswebsites.com/PyNotebooks/Python/29/art.jpg\">\n",
    "\n",
    "</font>\n",
    "\n",
    "\n",
    "</td></tr></table>\n"
   ]
  },
  {
   "cell_type": "markdown",
   "metadata": {
    "deletable": true,
    "editable": true
   },
   "source": [
    "<table  style=\"background-color: #FFFFFF; width: 100%; padding: 2px;\">\n",
    "<tr style=\"background-color: #FFFFFF;\">\n",
    "<td style=\"border: 1px solid white;\" width=\"100px\">\n",
    "<div>\n",
    "<a href=\"http://nbviewer.ipython.org/github/CSP-UHS/Hermons_Book_of_Python/blob/master/Chapter28.ipynb\"><img src=\"http://www.hermonswebsites.com/PyNotebooks/Python/leftarrow.png\" height=\"50px\" width=\"50px\" align=\"left\"></a>\n",
    "</div>\n",
    "</td>\n",
    "<td style=\"border: 1px solid white;\">\n",
    "<div align=\"center\">\n",
    "<a href=\"http://nbviewer.ipython.org/github/CSP-UHS/Hermons_Book_of_Python/blob/master/Chapter00.ipynb\"><h2>Table of Contents</h2></a>\n",
    "</div>\n",
    "</td>\n",
    "<td style=\"border: 1px solid white;\" width=\"100px\">\n",
    "<div>\n",
    "<a href=\"http://nbviewer.ipython.org/github/CSP-UHS/Hermons_Book_of_Python/blob/master/Chapter30.ipynb\"><img src=\"http://www.hermonswebsites.com/PyNotebooks/Python/rightarrow.png\"  height=\"50px\" width=\"50px\"  align=\"right\"></a>\n",
    "</div>\n",
    "</td>\n",
    "</tr></table>"
   ]
  }
 ],
 "metadata": {
  "kernelspec": {
   "display_name": "Python 2",
   "language": "python",
   "name": "python2"
  },
  "language_info": {
   "codemirror_mode": {
    "name": "ipython",
    "version": 2
   },
   "file_extension": ".py",
   "mimetype": "text/x-python",
   "name": "python",
   "nbconvert_exporter": "python",
   "pygments_lexer": "ipython2",
   "version": "2.7.10"
  }
 },
 "nbformat": 4,
 "nbformat_minor": 0
}
