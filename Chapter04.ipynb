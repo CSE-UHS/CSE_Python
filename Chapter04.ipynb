{
 "cells": [
  {
   "cell_type": "markdown",
   "metadata": {},
   "source": [
    "<div align=\"right\">\n",
    "<a href=\"http://nbviewer.ipython.org/github/CSP-UHS/Hermons_Book_of_Python/blob/master/Chapter00.ipynb\" align=\"right\"><h2>Table of Contents</h2></a>\n",
    "</div>"
   ]
  },
  {
   "cell_type": "markdown",
   "metadata": {},
   "source": [
    "# Chapter 4: Looping and Random Numbers"
   ]
  },
  {
   "cell_type": "markdown",
   "metadata": {},
   "source": [
    "There are two major types of loops in Python, <b>for</b> loops and <b>while</b> loops. If you want to repeat a certain number of times, use a <b>for</b> loop. If you want to repeat until something happens (like the user hits the quit button) then use a <b>while</b> loop.\n",
    "\n",
    "For example, a <b>for</b> loop can be used to print all student records since the computer knows how many students there are. A <b>while</b> loop would need to be used to check for when a user hits the mouse button since the computer has no idea how long it will have to wait."
   ]
  },
  {
   "cell_type": "markdown",
   "metadata": {},
   "source": [
    "## For Loops"
   ]
  },
  {
   "cell_type": "markdown",
   "metadata": {},
   "source": [
    "The for loop example below runs the print statement five times. Create a new file and try out the code. It could just as easily run 100 or 1,000,000 times just by changing the 5 to the desired number of times to loop. Note the similarities of how the for loop is written to the if statement. Both end in a colon, and both use indentation to specify which lines are affected by the statement."
   ]
  },
  {
   "cell_type": "code",
   "execution_count": null,
   "metadata": {
    "collapsed": false
   },
   "outputs": [],
   "source": [
    "for i in range(5):\n",
    "    print(\"I will earn an A in Mr. Hermon's CSE course.\")"
   ]
  },
  {
   "cell_type": "markdown",
   "metadata": {},
   "source": [
    "The i on line 1 is a variable that keeps track of how many times the program has looped. It is a new variable and can be named any legal variable name. Programmers often use i as for the variable name, because the i is short for <b>increment</b> or <b>item</b>. This variable helps track when the loop should end. A program does not need to name the variable i, it could be named something else. For example a programmer might use lineNumber if she was processing a text file.\n",
    "\n",
    "The range function controls how many times the code in the loop is run. In this case, five times.\n",
    "\n",
    "The next example code will print “Please,” five times and “Help me learn Python!” only once. “Help me learn Python!” is not indented so it is not part of the for loop and will not print until the for loop completes."
   ]
  },
  {
   "cell_type": "code",
   "execution_count": null,
   "metadata": {
    "collapsed": false
   },
   "outputs": [],
   "source": [
    "for i in range(5):\n",
    "    print(\"Please,\")\n",
    "print(\"Help me learn Python!\")"
   ]
  },
  {
   "cell_type": "markdown",
   "metadata": {},
   "source": [
    "This next code example takes the prior example and indents line 3. This change will cause the program to print “Please,\" and \"Help me learn Python!” five times. Since the statement has been indented “Help me learn Python!” is now part of the for loop and will repeat five times just like the word “Please,\"."
   ]
  },
  {
   "cell_type": "code",
   "execution_count": null,
   "metadata": {
    "collapsed": false
   },
   "outputs": [],
   "source": [
    "for i in range(5):\n",
    "    print(\"Please,\")\n",
    "    print(\"Help me learn Python!\")"
   ]
  },
  {
   "cell_type": "markdown",
   "metadata": {},
   "source": [
    "Predict what the following code will do and then try it out."
   ]
  },
  {
   "cell_type": "code",
   "execution_count": null,
   "metadata": {
    "collapsed": false
   },
   "outputs": [],
   "source": [
    "for i in range(10):\n",
    "    print(i)"
   ]
  },
  {
   "cell_type": "markdown",
   "metadata": {},
   "source": [
    "Did the code do what you expected? Did it print 10 numbers? YES! Did it print the 10 numbers you were expecting? Probably not! The code above printed the numbers 0 to 9. Notice that the loop starts at 0 and does not include the number 10. It is natural to assume that range(10) would include 10, but it stops just short of it. If you remember numbering systems this makes sense. Numbering systems start with 0. Although this actually makes sense it seems to be a very difficult thing for many programmers to remember. \n",
    "\n",
    "If a programmer wants to go from 1 to 10 instead of 0 to 9, there are a couple ways to do it. The first way is to send the range function two numbers instead of one. The first number is the starting value, the second is just beyond the ending value.\n",
    "\n",
    "It does take some practice to get used to the idea that the for loop will include the first number (INCLUSIVE), but not the second number listed (EXCLUSIVE). The example below specifies a range of (1,11), and the numbers 1 to 10 are printed. The starting number 1 is included, but not the ending number of 11.\n"
   ]
  },
  {
   "cell_type": "code",
   "execution_count": null,
   "metadata": {
    "collapsed": false
   },
   "outputs": [],
   "source": [
    "for i in range(1, 11):\n",
    "    print(i)"
   ]
  },
  {
   "cell_type": "markdown",
   "metadata": {},
   "source": [
    "Another way to print the numbers 1 to 10 is to still use range(10) and have the variable i go from 0 to 9. But just before printing out the variable the programmer adds one to it. This also works to print the numbers 1 to 10. Either method works just fine."
   ]
  },
  {
   "cell_type": "code",
   "execution_count": null,
   "metadata": {
    "collapsed": false
   },
   "outputs": [],
   "source": [
    "# Print the numbers 1 to 10.\n",
    "for i in range(10):\n",
    "    print(i + 1)"
   ]
  },
  {
   "cell_type": "markdown",
   "metadata": {},
   "source": [
    "If the program needs to count by 2's or use some other increment, that is easy. Just like before there are two ways to do it. The easiest is to supply a third number to the range function that tells it to count by 2's. The second way to do it is to go ahead and count by 1's, but multiply the variable by 2. The code example below shows both methods."
   ]
  },
  {
   "cell_type": "code",
   "execution_count": null,
   "metadata": {
    "collapsed": false
   },
   "outputs": [],
   "source": [
    "# Two ways to print the even numbers 2 to 10\n",
    "for i in range(2,12,2):   #Could also use 11 as the second number since it is also beyond what you need!\n",
    "    print(i)\n",
    " \n",
    "for i in range(5):\n",
    "    print((i + 1) * 2)"
   ]
  },
  {
   "cell_type": "markdown",
   "metadata": {},
   "source": [
    "It is also possible to count backwards down towards zero by giving the range function a negative step. In the example below, start at 10, go down to but not including 0, and do it by -1 increments. The hardest part of creating these loops is to accidentally switch the start and end numbers. The program starts at the larger value, so it goes first. Normal for loops that count up start with the smallest value listed first in the range function."
   ]
  },
  {
   "cell_type": "code",
   "execution_count": null,
   "metadata": {
    "collapsed": false
   },
   "outputs": [],
   "source": [
    "for i in range(10, 0, -1):\n",
    "    print(i)"
   ]
  },
  {
   "cell_type": "markdown",
   "metadata": {},
   "source": [
    "If the numbers that a program needs to iterate through don't form an easy pattern, it is possible to pull numbers out of a list. (A full discussion of lists is covered later in this book. This is just a preview of what you can do.)"
   ]
  },
  {
   "cell_type": "code",
   "execution_count": null,
   "metadata": {
    "collapsed": false
   },
   "outputs": [],
   "source": [
    "for i in [2,6,4,2,4,6,7,4]:\n",
    "    print(i)"
   ]
  },
  {
   "cell_type": "markdown",
   "metadata": {},
   "source": [
    "The following two blocks of code are very similar but have different output. Try to predict the output of each block of code and record in your Engineering notebook. Then try to run them to see if you are a true CODER yet or not!"
   ]
  },
  {
   "cell_type": "code",
   "execution_count": null,
   "metadata": {
    "collapsed": false
   },
   "outputs": [],
   "source": [
    "# BLOCK 1: What does this print? Why?\n",
    "for i in range(3):\n",
    "    print(\"a\")\n",
    "for j in range(3):\n",
    "    print(\"b\")\n",
    "    \n",
    "# BLOCK 2: What does this print? Why?\n",
    "for i in range(3):\n",
    "    print(\"a\")\n",
    "    for j in range(3):\n",
    "        print(\"b\") \n",
    "print(\"Done\")"
   ]
  },
  {
   "cell_type": "markdown",
   "metadata": {},
   "source": [
    "## Accumulator Variable"
   ]
  },
  {
   "cell_type": "markdown",
   "metadata": {},
   "source": [
    "A common operation in working with loops is to keep a running total. This “running total” code pattern is used a lot. Keep a running total of a score, total a person's account transactions, use a total to find an average, etc. You might want to actually write out this code in your Engineering Notebook to refer back to in the future. In the code below, the user enters five numbers and the code totals up their values."
   ]
  },
  {
   "cell_type": "code",
   "execution_count": null,
   "metadata": {
    "collapsed": false
   },
   "outputs": [],
   "source": [
    "total = 0\n",
    "for i in range(5):\n",
    "    new_number = int(input(\"Enter a number: \" ))\n",
    "    total += new_number\n",
    "print(\"The total is: \", total)"
   ]
  },
  {
   "cell_type": "markdown",
   "metadata": {},
   "source": [
    "Note that line 1 creates the variable total, and sets it to an initial amount of zero. It is easy to forget the need to create and initialize the variable to zero. Without it the computer will complain when it hits line 4. It doesn't know how to add new_number to total because total hasn't been given a value yet.\n",
    "\n",
    "A common mistake is to use i to total instead of new_number. Remember, we are keeping a running total of the values entered by the user, not a running total of the current loop count.\n",
    "\n",
    "Speaking of the current loop count, we can use the loop count value to solve some mathematical operations. For example, can you determine what the following code does?"
   ]
  },
  {
   "cell_type": "code",
   "execution_count": null,
   "metadata": {
    "collapsed": false
   },
   "outputs": [],
   "source": [
    "# What is the value of sum?\n",
    "sum = 0\n",
    "for i in range(1, 101):\n",
    "    sum += i\n",
    "print(sum)"
   ]
  },
  {
   "cell_type": "markdown",
   "metadata": {},
   "source": [
    "What does the following code do? Try it out!"
   ]
  },
  {
   "cell_type": "code",
   "execution_count": null,
   "metadata": {
    "collapsed": false
   },
   "outputs": [],
   "source": [
    "total = 0\n",
    "for i in range(5):\n",
    "    new_number = int(input( \"Enter a number: \"))\n",
    "    if new_number == 0:\n",
    "        total += 1\n",
    "print(\"You entered a total of\", total, \"zeros\")"
   ]
  },
  {
   "cell_type": "markdown",
   "metadata": {},
   "source": [
    "A programmer that understands the nested for loops and running totals should be able to predict the output of the code below. Don't go over this section too fast. Give it a try and predict the output of the code above. Then copy it into a Python program and run it to see if you are right. If you aren't, figure out why."
   ]
  },
  {
   "cell_type": "code",
   "execution_count": null,
   "metadata": {
    "collapsed": false
   },
   "outputs": [],
   "source": [
    "# What is the value of a?\n",
    "a = 0\n",
    "for i in range(10):\n",
    "    a += 1\n",
    "print(a)\n",
    " \n",
    "# What is the value of a?\n",
    "a = 0\n",
    "for i in range(10):\n",
    "    a += 1\n",
    "for j in range(10):\n",
    "    a += 1\n",
    "print(a)\n",
    " \n",
    "# What is the value of a?\n",
    "a = 0\n",
    "for i in range(10):\n",
    "    a += 1\n",
    "    for j in range(10):\n",
    "        a += 1\n",
    "print(a)"
   ]
  },
  {
   "cell_type": "markdown",
   "metadata": {},
   "source": [
    "## While Loops"
   ]
  },
  {
   "cell_type": "markdown",
   "metadata": {},
   "source": [
    "A <b>for</b> loop is used when a program knows it needs to repeat a block of code for a certain number of times. A <b>while</b> loop is used when a program needs to loop until a particular condition occurs.\n",
    "\n",
    "Oddly enough, a <b>while</b> loop can be used anywhere a <b>for</b> loop is used. It can be used to loop until an increment variable reaches a certain value. Why have a <b>for</b> loop if a <b>while</b> loop can do everything? The <b>for</b> loop is simpler to use and code. A <b>for</b> loop that looks like this:"
   ]
  },
  {
   "cell_type": "code",
   "execution_count": null,
   "metadata": {
    "collapsed": false
   },
   "outputs": [],
   "source": [
    "for i in range(10):\n",
    "    print(i)"
   ]
  },
  {
   "cell_type": "markdown",
   "metadata": {},
   "source": [
    "...can be done with a <b>while</b> loop that looks like this:"
   ]
  },
  {
   "cell_type": "code",
   "execution_count": null,
   "metadata": {
    "collapsed": false
   },
   "outputs": [],
   "source": [
    "i = 0\n",
    "while i < 10:\n",
    "    print(i)\n",
    "    i += 1"
   ]
  },
  {
   "cell_type": "markdown",
   "metadata": {},
   "source": [
    "Line 1 of the <b>while</b> loop sets up a “sentinel” variable that will be used to count the number of times the loop has been executed. This happens automatically in a <b>for</b> loop eliminating one line of code. Line 2 contains the actual <b>while</b> loop. The format of the <b>while</b> loop is very similar to the if statement. If the condition holds, the code in the loop will repeat. Line 4 adds to the increment value. In a <b>for</b> loop this happens automatically, eliminating another line of code. As one can see from the code, the <b>for</b> loop is more compact than a <b>while</b> loop and is easier to read. Otherwise programs would do everything with a <b>while</b> loop.\n",
    "\n",
    "A common mistake is to confuse the <b>for</b> loop and the <b>while</b> loop. The code below shows a programmer that can't quite make up his/her mind between a <b>for</b> loop or a <b>while</b> loop.\n",
    "\n",
    "<font size=\"+1\" color=\"red\"><b>Do not run this code. It will keep going forever and you will have to force quit Canopy!</b></font>"
   ]
  },
  {
   "cell_type": "code",
   "execution_count": null,
   "metadata": {
    "collapsed": false
   },
   "outputs": [],
   "source": [
    "while range(10): #DO NOT RUN THIS CODE!\n",
    "    print(i)"
   ]
  },
  {
   "cell_type": "markdown",
   "metadata": {},
   "source": [
    "<font size=\"+1\" color=\"red\"><b>The range function only works with the for loop. Do not use it with the while loop!</b></font>"
   ]
  },
  {
   "cell_type": "markdown",
   "metadata": {},
   "source": [
    "In your Engineering Notebook predict the output of the following code. Then enter the code into your editor and run it."
   ]
  },
  {
   "cell_type": "code",
   "execution_count": null,
   "metadata": {
    "collapsed": false
   },
   "outputs": [],
   "source": [
    "i = 1\n",
    "while i <= 2 ** 32:\n",
    "    print(i)\n",
    "    i *= 2"
   ]
  },
  {
   "cell_type": "markdown",
   "metadata": {},
   "source": [
    "## Looping Until User Wants To Quit"
   ]
  },
  {
   "cell_type": "markdown",
   "metadata": {},
   "source": [
    "A very common operation is to loop until the user performs a request to quit:"
   ]
  },
  {
   "cell_type": "code",
   "execution_count": null,
   "metadata": {
    "collapsed": false
   },
   "outputs": [],
   "source": [
    "quit = \"n\"\n",
    "while quit == \"n\":\n",
    "    quit = raw_input(\"Do you want to quit? \")"
   ]
  },
  {
   "cell_type": "markdown",
   "metadata": {},
   "source": [
    "There may be several ways for a loop to quit. Using a Boolean variable to trigger the event is a way of handling that. Here's an example:"
   ]
  },
  {
   "cell_type": "code",
   "execution_count": null,
   "metadata": {
    "collapsed": false
   },
   "outputs": [],
   "source": [
    "done = False\n",
    "while not done:\n",
    "    quit = raw_input(\"Do you want to quit? \")\n",
    "    if quit == \"y\":\n",
    "        done = True\n",
    "    else:\n",
    "        boolsmart = raw_input(\"Do you understand Booleans yet? \")\n",
    "        if boolsmart == \"n\":\n",
    "            print(\"Bad choice, you fail.\")\n",
    "            done = True"
   ]
  },
  {
   "cell_type": "markdown",
   "metadata": {},
   "source": [
    "Booleans (True or False) can be rather confusing to understand. For example in the above code we set done = False in the first line. The variable \"done\" could be any word but it is a nice choice because it makes the English sound good. Sometimes students think that \"while not done\" would then mean \"while not false\" but this is NOT what it means. The way to read \"while not done\" is to say \"while the variable done is NOT true\". Read this paragraph about 10-20 times until you have a good understanding of this Boolean method.\n",
    "\n",
    "Below is an example of using a while loop where the code repeats until the value gets close enough to 1:"
   ]
  },
  {
   "cell_type": "code",
   "execution_count": null,
   "metadata": {
    "collapsed": false
   },
   "outputs": [],
   "source": [
    "value = 0\n",
    "increment = 0.5\n",
    "while value < 0.999:\n",
    "    value += increment\n",
    "    increment *= 0.5\n",
    "    print(value)"
   ]
  },
  {
   "cell_type": "markdown",
   "metadata": {},
   "source": [
    "## Random Numbers"
   ]
  },
  {
   "cell_type": "markdown",
   "metadata": {},
   "source": [
    "This is a good of place as any to talk about random numbers in Python. By default, Python does not know how to make random numbers. It is necessary to have Python import a code library that can create random numbers. So to use random numbers, the first thing that should appear at the top of the program is an import statement:"
   ]
  },
  {
   "cell_type": "code",
   "execution_count": null,
   "metadata": {
    "collapsed": false
   },
   "outputs": [],
   "source": [
    "import random"
   ]
  },
  {
   "cell_type": "markdown",
   "metadata": {},
   "source": [
    "After this, random numbers can be created with the randrange function. For example, this code creates random numbers from 0 to 49. Remember, the lower bound is 0 and the upper bound is one less than the range."
   ]
  },
  {
   "cell_type": "code",
   "execution_count": null,
   "metadata": {
    "collapsed": false
   },
   "outputs": [],
   "source": [
    "my_number = random.randrange(50)"
   ]
  },
  {
   "cell_type": "markdown",
   "metadata": {},
   "source": [
    "The next code example generates random numbers from 100 to 200. Just like the range function the second parameter specifies an upper-bound that is not inclusive. Therefore if you want random numbers up to and including 200, specify 201."
   ]
  },
  {
   "cell_type": "code",
   "execution_count": null,
   "metadata": {
    "collapsed": false
   },
   "outputs": [],
   "source": [
    "my_number = random.randrange(100, 201)"
   ]
  },
  {
   "cell_type": "markdown",
   "metadata": {},
   "source": [
    "What if you don't want a number, but a random item? That requires a list. We will be covering lists soon, but to give you preview of what selecting a random item out of a list would look like, see below:"
   ]
  },
  {
   "cell_type": "code",
   "execution_count": null,
   "metadata": {
    "collapsed": false
   },
   "outputs": [],
   "source": [
    "my_list = [\"Larry\", \"Moe\", \"Curly\"]\n",
    "i = random.randrange(3)\n",
    "print(my_list[i])"
   ]
  },
  {
   "cell_type": "markdown",
   "metadata": {},
   "source": [
    "All of the prior code generates integer numbers. If a floating point number is desired, a programmer may use the random function. The code below generates a random number from 0 to 1 such as 0.4355991106620656."
   ]
  },
  {
   "cell_type": "code",
   "execution_count": null,
   "metadata": {
    "collapsed": false
   },
   "outputs": [],
   "source": [
    "my_number = random.random()"
   ]
  },
  {
   "cell_type": "markdown",
   "metadata": {},
   "source": [
    "With some simple math, this number can be adjusted. For example, the code below generates a random floating point number between 10 and 15:"
   ]
  },
  {
   "cell_type": "code",
   "execution_count": null,
   "metadata": {
    "collapsed": false
   },
   "outputs": [],
   "source": [
    "my_number = random.random() * 5 + 10"
   ]
  },
  {
   "cell_type": "markdown",
   "metadata": {},
   "source": [
    "## It's time to test our coding skills! Complete the following three programs with a partner."
   ]
  },
  {
   "cell_type": "markdown",
   "metadata": {},
   "source": [
    "<table width=\"100%\" border=\"1\" cellpadding=\"2\" cellspacing=\"0\">\n",
    "<tr bgcolor=\"#00FF00\">\n",
    "<td width=\"90\" style=\"vertical-align:top\"><img src=\"http://www.hermonswebsites.com/PyNotebooks/Python/sith.png\" style=\"border:2px solid #021a40;\">\n",
    "</td><td><h2><center><b>Jedi Training Task</b></center></h2></td></tr>\n",
    "<tr>\n",
    "<td valign=\"top\" colspan=\"2\"><center><font size=\"+2\"><b>Coin Toss</b></font></center><br>\n",
    "<font size=\"+1\">\n",
    "\n",
    "<ol>\n",
    "<li>Create a program that will print a random 0 or 1.</li><br>\n",
    "<li>Instead of 0 or 1, print heads or tails. Do this using if statements. Don't select from a list.</li><Br>\n",
    "<li>Add a loop so that the program does this 50 times.</li><Br>\n",
    "<li>Create a running total for the number of heads flipped, and the number of tails.</li><Br>\n",
    "\n",
    "</ol>\n",
    "</td></tr></table>"
   ]
  },
  {
   "cell_type": "markdown",
   "metadata": {},
   "source": [
    "<table width=\"100%\" border=\"1\" cellpadding=\"2\" cellspacing=\"0\">\n",
    "<tr bgcolor=\"#00FF00\">\n",
    "<td width=\"90\" style=\"vertical-align:top\"><img src=\"http://www.hermonswebsites.com/PyNotebooks/Python/sith.png\" style=\"border:2px solid #021a40;\">\n",
    "</td><td><h2><center><b>Jedi Training Task</b></center></h2></td></tr>\n",
    "<tr>\n",
    "<td valign=\"top\" colspan=\"2\"><center><font size=\"+2\"><b>Roshambo</b></font></center><br>\n",
    "<font size=\"+1\">\n",
    "\n",
    "<ol>\n",
    "<li>Create a program that randomly prints 0, 1, or 2.</li><br>\n",
    "<li>Expand the program so it randomly prints rock, paper, or scissors using if statements. Don't select from a list.</li><Br>\n",
    "<li>Add to the program so it first asks the user their choice as well as if they want to quit.</li><Br>\n",
    "<li>(It will be easier if you have them enter 1, 2, or 3.)</li><Br>\n",
    "<li>Add conditional statement to figure out who wins.</li><Br>\n",
    "<li>When the user quits print a win/loss record</li><Br>\n",
    "</ol>\n",
    "</td></tr></table>"
   ]
  },
  {
   "cell_type": "markdown",
   "metadata": {},
   "source": [
    "<table width=\"100%\" border=\"1\" cellpadding=\"2\" cellspacing=\"0\">\n",
    "<tr bgcolor=\"#00FF00\">\n",
    "<td width=\"90\" style=\"vertical-align:top\"><img src=\"http://www.hermonswebsites.com/PyNotebooks/Python/sith.png\" style=\"border:2px solid #021a40;\">\n",
    "</td><td><h2><center><b>Jedi Training Task</b></center></h2></td></tr>\n",
    "<tr>\n",
    "<td valign=\"top\" colspan=\"2\"><center><font size=\"+2\"><b>The Camel Game</b></font></center><br>\n",
    "<font size=\"+1\">\n",
    "\n",
    "&nbsp;&nbsp;&nbsp;&nbsp;&nbsp;The idea for Camel originally came from the Heath Users Group and was published in 1979 in <a href=\"http://www.atariarchives.org/morebasicgames/showpage.php?page=24\" target=\"_blank\">More BASIC Computer Games</a> where you can see the output of the game.<br><br>\n",
    "\n",
    "&nbsp;&nbsp;&nbsp;&nbsp;&nbsp;The idea is to ride your camel across the desert while being chased. You need to manage your thirst, how tired the camel is, and how far ahead of the natives you are.<br><br>\n",
    "\n",
    "&nbsp;&nbsp;&nbsp;&nbsp;&nbsp;The game is flexible. For example, you could create a Star Wars themed versions of this game where you need to ride a wampa across Hoth. It is easy to add sandstorms and other random events to the game to make it more interesting. Even though it is only a text-based game, playing it can become very addicting.<br><br>\n",
    "\n",
    "Here are the steps to complete this program. Feel free to modify and add to it. <b><u>Remember to comment your code while you are writing it</u>.</b> Try the game with friends and family.<br><br>\n",
    "<ol>\n",
    "<li>Create a new program and print the instructions to the screen. Do this with multiple print statements. Don't use one print statement and multiple \\n characters to jam everything on one line.</li><br>\n",
    "<i><b>\"Welcome to Camel!\n",
    "You have stolen a camel to make your way across the great Mobi desert.\n",
    "The natives want their camel back and are chasing you down! Survive your\n",
    "desert trek and out run the natives.\"</i></b><br><br>\n",
    "<li>Create a boolean variable called done and set to False.</li><br>\n",
    "<li>Create a while loop that will keep looping while done is False.</li><br>\n",
    "<li>Inside the loop, print out the following:<br><br>\n",
    "A. Drink from your canteen.<br>\n",
    "B. Ahead moderate speed.<br>\n",
    "C. Ahead full speed.<br>\n",
    "D. Stop for the night.<br>\n",
    "E. Status check.<br>\n",
    "Q. Quit.<br><br>\n",
    "<li>Ask the user for their choice. Make sure to add a space before the quote so the user input doesn't run into your text.</li><br>\n",
    "<li>If the user's choice is Q, then set done to True. By doing something like user_choice.upper() instead of just user_choice in your if statement you can make it case insensitive.</li><br>\n",
    "<li>Test and make sure that you can quit out of the game.</li><br>\n",
    "<li>Before your main program loop, create variables for miles traveled, thirst, camel tiredness. Set these to zero.</li><br>\n",
    "<li>Create a variable for the distance the natives have traveled and set it to -20. (Twenty miles back.)</li><br>\n",
    "<li>Create and set an initial number of drinks in the canteen.</li><br>\n",
    "<li>Add an elif in your main program loop and see if the user is asking for status. If so, print out something like this:<br><br>\n",
    "Miles traveled:  0<br>\n",
    "Drinks in canteen:  3<br>\n",
    "The natives are 10 miles behind you.<br><br>\n",
    "<li>Add an elif in your main program loop and handle if the user wants to stop for the night. If the user does, reset the camel's tiredness to zero. Print that the camel is happy, and move the natives up a random amount from 7 to 14 or so.</li><br>\n",
    "<li>Add an elif in your main program loop and handle if the user wants to go ahead full speed. If the user does, go forward a random amount between 10 and 20 inclusive. Print how many miles the user traveled. Add 1 to thirst. Add a random 1 to 3 to camel tiredness. Move the natives up 7 to 14 miles.</li><br>\n",
    "<li>Add an elif in your main program loop and handle if the user wants to go ahead moderate speed. If the user does, go forward a random amount between 5 and 12 inclusive. Print how many miles the user traveled. Add 1 to thirst. Add a random 1 to camel tiredness. Move the natives up 7 to 14 miles.</li><br>\n",
    "<li>Add an elif in your main program loop and handle if the user wants to go ahead drink from the canteen. If the user does, make sure there are drinks in the canteen. If there are, subtract one drink and set the player's thirst to zero. Otherwise print an error.</li><br>\n",
    "<li>In the loop, print “You are thirsty.” if the user's thirst is above 4.</li><br>\n",
    "<li>Print “You died of thirst!” if the user's thirst is above 6. Set done to true. Make sure you create your code so that the program doesn't print both “Your are thirsty” and “You died of thirst!” Use elif as appropriate.</li><br>\n",
    "<li>Print “Your camel is getting tired.” if the camel's tiredness is above 5.</li><br>\n",
    "<li>Print “Your camel is dead.” if the camel's tiredness is above 8. Like the prior steps, print one or the other. It is a good idea to include a check with the done variable so that you don't print that your camel is getting tired after you died of thirst.</li><br>\n",
    "<li>If the natives have caught up, print that they caught the player and end the game.</li><br>\n",
    "<li>Else if the natives are less than 15 miles behind, print “The natives are getting close!”</li><br>\n",
    "<li>If the user has traveled 200 miles across the desert, print that they won and end the game. Make sure they aren't dead before declaring them a winner.</li><br>\n",
    "<li>Add a one-in-twenty chance of finding an oasis. Print that the user found it, refill the canteen, reset player thirst, and rest the camel.</li><br>\n",
    "<li>Play the game and tune the numbers so it is challenging but not impossible. Fix any bugs you find.</li><br>\n",
    "<li>Remember that it is good idea to put blank lines between logical groupings of code in your program. For example, put a blank line after the instructions, and between each user command.</li><br>\n",
    "<li>It is considered better style to use while not done: instead of while done == False:</li><br>\n",
    "<li>To prevent bad message combinations, such as printing “You died of thirst.” and “You found an oasis!” on the same turn, use the <b>and</b> operator. Such as, if not done and thirst > 4:</li><br>\n",
    "\n",
    "\n",
    "</td></tr></table>"
   ]
  },
  {
   "cell_type": "markdown",
   "metadata": {},
   "source": [
    "<table width=\"100%\" cellpadding=\"2\" cellspacing=\"2\">\n",
    "<tr>\n",
    "<td style=\"border: 1px solid white;\" width=\"100px\">\n",
    "<div>\n",
    "<a href=\"http://nbviewer.ipython.org/github/CSP-UHS/Hermons_Book_of_Python/blob/master/Chapter03.ipynb\"><img src=\"http://www.hermonswebsites.com/PyNotebooks/Python/leftarrow.png\" height=\"50px\" width=\"50px\" align=\"left\"></a>\n",
    "</div>\n",
    "</td>\n",
    "<td style=\"border: 1px solid white;\">\n",
    "<div align=\"center\">\n",
    "<a href=\"http://nbviewer.ipython.org/github/CSP-UHS/Hermons_Book_of_Python/blob/master/Chapter00.ipynb\"><h2>Table of Contents</h2></a>\n",
    "</div>\n",
    "</td>\n",
    "<td style=\"border: 1px solid white;\" width=\"100px\">\n",
    "<div>\n",
    "<a href=\"http://nbviewer.ipython.org/github/CSP-UHS/Hermons_Book_of_Python/blob/master/Chapter05.ipynb\"><img src=\"http://www.hermonswebsites.com/PyNotebooks/Python/rightarrow.png\"  height=\"50px\" width=\"50px\"  align=\"right\"></a>\n",
    "</div>\n",
    "</td>\n",
    "</tr></table>"
   ]
  }
 ],
 "metadata": {
  "kernelspec": {
   "display_name": "Python 2",
   "language": "python",
   "name": "python2"
  },
  "language_info": {
   "codemirror_mode": {
    "name": "ipython",
    "version": 2
   },
   "file_extension": ".py",
   "mimetype": "text/x-python",
   "name": "python",
   "nbconvert_exporter": "python",
   "pygments_lexer": "ipython2",
   "version": "2.7.10"
  }
 },
 "nbformat": 4,
 "nbformat_minor": 0
}
