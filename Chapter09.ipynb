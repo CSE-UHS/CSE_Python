{
 "metadata": {
  "name": "",
  "signature": "sha256:d5b61e804cc41ea6cd6ee83ee2e2a8b84d4e6d4b3b7bf13d0c45aae64469741f"
 },
 "nbformat": 3,
 "nbformat_minor": 0,
 "worksheets": [
  {
   "cells": [
    {
     "cell_type": "markdown",
     "metadata": {},
     "source": [
      "<table width=\"100%\" border=\"0\" cellpadding=\"2\" cellspacing=\"0\">\n",
      "<tr>\n",
      "<td width=\"40%\"><center><a href=\"http://nbviewer.ipython.org/github/CSE-UHS/CSE_Python/blob/master/Chapter08.ipynb\"> <---Ch. 08 The Iterative Prisoner's Dilemma</a></td>\n",
      "<td width=\"20%\"><center><a href=\"http://nbviewer.ipython.org/github/CSE-UHS/CSE_Python/blob/master/Chapter00.ipynb\">Table of Contents</a></td>\n",
      "<td width=\"40%\"><center><a href=\"http://nbviewer.ipython.org/github/CSE-UHS/CSE_Python/blob/master/Chapter10.ipynb\">Ch. 10 Libraries - Matplotlib  ---></a></td>\n",
      "</tr></table>"
     ]
    },
    {
     "cell_type": "heading",
     "level": 1,
     "metadata": {},
     "source": [
      "Chapter 9: Classes, Objects and Methods"
     ]
    },
    {
     "cell_type": "markdown",
     "metadata": {},
     "source": [
      "   <p>&nbsp;&nbsp;&nbsp;&nbsp;&nbsp;Classes, Objects and Methods are very powerful programming tools. They make programming easier. In fact, you are already familiar with the concept of classes and objects. A class is a \u201cclassification\u201d of an object. Think of a class as the \"blueprint\" of how to build a house. The blueprint is the class. The house is the object. Just as you can make several houses from one blueprint, you can create several objects from one class.  An object is called an \"instance\" of a class. When we create an object from a class it is called \"instantiation\". Objects have attributes, such as a person's name, height, and age. Objects also have methods (functions). Methods define what an object can do, like run, jump, or sit.</p>\n",
      " \n",
      " <h2>Part I: Why learn about classes?</h2>\n",
      " \n",
      "<p>&nbsp;&nbsp;&nbsp;&nbsp;&nbsp;Each character in an adventure game needs data: a name, location, strength, are they raising their arm, what direction they are headed, etc. Plus those characters do things. They run, jump, hit, and talk.\n",
      "\n",
      "Without classes, our Python code to store this data might look like:</p>"
     ]
    },
    {
     "cell_type": "code",
     "collapsed": false,
     "input": [
      "name = \"Batman\"\n",
      "status = \"Superhero\"\n",
      "strength = 100\n",
      "max_KAPOW_points = 50\n",
      "current_KAPOW_points = 50"
     ],
     "language": "python",
     "metadata": {},
     "outputs": [],
     "prompt_number": 1
    },
    {
     "cell_type": "markdown",
     "metadata": {},
     "source": [
      "&nbsp;&nbsp;&nbsp;&nbsp;In order to do anything with this character, we'll need to pass that data to a function:"
     ]
    },
    {
     "cell_type": "code",
     "collapsed": false,
     "input": [
      "def display_character(name, status, strength, max_KAPOW_points, current_KAPOW_points):\n",
      "    print(name, status, strength, max_KAPOW_points, current_KAPOW_points)\n",
      "    \n",
      "display_character(name, status, strength, max_KAPOW_points, current_KAPOW_points)"
     ],
     "language": "python",
     "metadata": {},
     "outputs": [
      {
       "output_type": "stream",
       "stream": "stdout",
       "text": [
        "('Batman', 'Superhero', 100, 50, 50)\n"
       ]
      }
     ],
     "prompt_number": 4
    },
    {
     "cell_type": "markdown",
     "metadata": {},
     "source": [
      "&nbsp;&nbsp;&nbsp;&nbsp;&nbsp;Now imagine creating a program that has a set of variables like that for each superhero and villian in our game. Then we need to create functions that work with those items. The data gets out of hand very quickly and it will get even worse! As our game expands, we may need to add new fields to describe our character such as max_speed:"
     ]
    },
    {
     "cell_type": "code",
     "collapsed": false,
     "input": [
      "name = \"Batman\"\n",
      "status = \"Superhero\"\n",
      "strength = 100\n",
      "max_KAPOW_points = 50\n",
      "current_KAPOW_points = 50\n",
      "max_speed = 20\n",
      "\n",
      "def display_character(name, status, strength, max_KAPOW_points, current_KAPOW_points, max_speed):\n",
      "    print(name, status, strength, max_KAPOW_points, current_KAPOW_points, max_speed)\n",
      "    \n",
      "display_character(name, status, strength, max_KAPOW_points, current_KAPOW_points, max_speed)\n"
     ],
     "language": "python",
     "metadata": {},
     "outputs": [
      {
       "output_type": "stream",
       "stream": "stdout",
       "text": [
        "('Batman', 'Superhero', 100, 50, 50, 20)\n"
       ]
      }
     ],
     "prompt_number": 5
    },
    {
     "cell_type": "markdown",
     "metadata": {},
     "source": [
      "&nbsp;&nbsp;&nbsp;&nbsp;&nbsp;In example above, there is only one function. But in a large project, we might have hundreds of functions that deal with the main character. Adding a new field to help describe what that character has and can do would require us to go through each one of those functions and add it to the parameter list. That would be a lot of work. And perhaps we need to add max_speed to different types of characters like monsters. Classes help alleviate this problem."
     ]
    },
    {
     "cell_type": "heading",
     "level": 2,
     "metadata": {},
     "source": [
      "Part 2: Defining and Creating Simple Classes"
     ]
    },
    {
     "cell_type": "markdown",
     "metadata": {},
     "source": [
      "&nbsp;&nbsp;&nbsp;&nbsp;&nbsp;A better way to manage multiple data attributes is to define a structure that has all of the information. Then we can give that \u201cgrouping\u201d of information a name, like Character. This can be easily done in Python and any other modern language by using a class. For example, we can define a class representing a character in a game:"
     ]
    },
    {
     "cell_type": "code",
     "collapsed": false,
     "input": [
      "class Character():\n",
      "    \"\"\" This is a class that represents the main character in a game. \"\"\"\n",
      "    def __init__(self):\n",
      "        \"\"\" This is a method or function called a constructor \n",
      "        that sets up the variables in the object immediately. \"\"\"\n",
      "        self.name = \"\"\n",
      "        self.status = \"\"\n",
      "        self.strength = 0\n",
      "        self.max_KAPOW_points = 0\n",
      "        self.current_KAPOW_points = 0\n",
      "        self.max_speed = 0"
     ],
     "language": "python",
     "metadata": {},
     "outputs": [],
     "prompt_number": 1
    },
    {
     "cell_type": "markdown",
     "metadata": {},
     "source": [
      "&nbsp;&nbsp;&nbsp;&nbsp;&nbsp;In the code above, Address is the class name. The variables in the class, such as name and city, are called attributes or fields. (Note the similarities and differences between declaring a class and declaring a function.)\n",
      "\n",
      "Unlike functions and variables, class names should begin with an upper case letter. While it is possible to begin a class with a lower case letter, it is not considered good practice.\n",
      "\n",
      "The def __init__(self): in a special function called a constructor that is run automatically when the class is created. We'll discuss the constructor more in a bit.\n",
      "\n",
      "The self. is kind of like the pronoun my. When inside the class Address we are talking about my name, my city, etc. We don't want to use self. outside of the class definition for Address, to refer to an Address field. Why? Because just like the pronoun \u201cmy,\u201d it means someone totally different when said by a different person!"
     ]
    },
    {
     "cell_type": "markdown",
     "metadata": {},
     "source": [
      "<table width=\"100%\" border=\"0\" cellpadding=\"2\" cellspacing=\"0\">\n",
      "<tr>\n",
      "<td width=\"40%\"><center><a href=\"http://nbviewer.ipython.org/github/CSE-UHS/CSE_Python/blob/master/Chapter08.ipynb\"> <---Ch. 08 The Iterative Prisoner's Dilemma</a></td>\n",
      "<td width=\"20%\"><center><a href=\"http://nbviewer.ipython.org/github/CSE-UHS/CSE_Python/blob/master/Chapter00.ipynb\">Table of Contents</a></td>\n",
      "<td width=\"40%\"><center><a href=\"http://nbviewer.ipython.org/github/CSE-UHS/CSE_Python/blob/master/Chapter10.ipynb\">Ch. 10 Libraries - Matplotlib  ---></a></td>\n",
      "</tr></table>"
     ]
    }
   ],
   "metadata": {}
  }
 ]
}