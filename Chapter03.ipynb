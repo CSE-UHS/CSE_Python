{
 "cells": [
  {
   "cell_type": "markdown",
   "metadata": {},
   "source": [
    "<div align=\"right\">\n",
    "<a href=\"http://nbviewer.ipython.org/github/CSE-UHS/CSE_Python/blob/master/Chapter00.ipynb\" align=\"right\"><h2>Table of Contents</h2></a>\n",
    "</div>"
   ]
  },
  {
   "cell_type": "markdown",
   "metadata": {},
   "source": [
    "# Chapter 3: If-Else Structures"
   ]
  },
  {
   "cell_type": "markdown",
   "metadata": {},
   "source": [
    "## If Statements (Conditional Statements)"
   ]
  },
  {
   "cell_type": "markdown",
   "metadata": {},
   "source": [
    "How do we tell if a player has beat the high score? How can we tell if he has run out of lives? How can we tell if she has the key required to open the locked door?\n",
    "\n",
    "A program can test for these conditions with an <b>if statement</b>. An if statement is also known as a <b>conditional statement</b> if you want to impress everyone how smart you are. The if statement allows a computer to make a decision. Is it hot outside? Has the spaceship reached the edge of the screen? Has too much money been withdrawn from the account?\n",
    "\n",
    "We already used these If-Else structures in Scratch. They looked like the following:\n",
    "<center><img src=\"https://dl.dropboxusercontent.com/u/90219577/Hermon/CSE_Website/notebooks/03/scratch.png\"></center>"
   ]
  },
  {
   "cell_type": "markdown",
   "metadata": {},
   "source": [
    "## Basic Comparisons"
   ]
  },
  {
   "cell_type": "markdown",
   "metadata": {},
   "source": [
    "Here are a few examples of if statements. The first section sets up two variables (a and b) for use in the if statements. Then two if statements show how to compare the variables to see if one is greater than the other. Create a new Python file to practice with the code in this chapter."
   ]
  },
  {
   "cell_type": "code",
   "execution_count": 1,
   "metadata": {
    "collapsed": false
   },
   "outputs": [
    {
     "name": "stdout",
     "output_type": "stream",
     "text": [
      "a is less than b\n",
      "Done\n"
     ]
    }
   ],
   "source": [
    "# Variables used in the example if statements\n",
    "a = 4\n",
    "b = 5\n",
    " \n",
    "# Basic comparisons\n",
    "if a < b:\n",
    "    print(\"a is less than b\")\n",
    " \n",
    "if a > b:\n",
    "    print(\"a is greater than b\")\n",
    " \n",
    "print(\"Done\")"
   ]
  },
  {
   "cell_type": "markdown",
   "metadata": {},
   "source": [
    "Since a is less than b, the first statement will print out if this code is run. If the variables a and b were both equal to 4, then neither of the two if statements above would print anything out. The number 4 is not greater than 4, so the if statement would fail."
   ]
  },
  {
   "cell_type": "markdown",
   "metadata": {},
   "source": [
    "<table border=0 cellpadding=2 cellspacing=0>\n",
    "<tr>\n",
    "<td valign=\"top\" width=\"330\"><img src=\"https://dl.dropboxusercontent.com/u/90219577/Hermon/CSE_Website/notebooks/03/flowchart.png\">\n",
    "</td>\n",
    "<td style=\"vertical-align:top\"><br><font size=\"+2\">To show the flow of a program a flowchart may be used. Most people can follow a flowchart even without an introduction to programming. <br><br>\n",
    "\n",
    "This book skips an in-depth look at flowcharting because it is boring. But if you want to be a superstar programmer, please read more about it at:\n",
    "http://en.wikipedia.org/wiki/Flowchart<br><br></font>\n",
    "\n",
    "<img src=\"https://dl.dropboxusercontent.com/u/90219577/Hermon/CSE_Website/notebooks/03/bacon.png\">\n",
    "</td>\n",
    "</tr>\n",
    "</table>"
   ]
  },
  {
   "cell_type": "markdown",
   "metadata": {},
   "source": [
    "The prior example checked for greater than or less than. Numbers that were equal would not pass the test. To check for values greater than or equal, the following examples show how to do this:"
   ]
  },
  {
   "cell_type": "code",
   "execution_count": 3,
   "metadata": {
    "collapsed": false
   },
   "outputs": [
    {
     "name": "stdout",
     "output_type": "stream",
     "text": [
      "a is less than or equal to b\n"
     ]
    }
   ],
   "source": [
    "if a <= b:\n",
    "    print(\"a is less than or equal to b\")\n",
    " \n",
    "if a >= b:\n",
    "    print(\"a is greater than or equal to b\")"
   ]
  },
  {
   "cell_type": "markdown",
   "metadata": {},
   "source": [
    "The <= and >= symbols must used in order, and there may not be a space between them. For example, =< will not work, nor will < =.\n",
    "\n",
    "When taking coding tests, some students like to use the ≤ symbol. For example:\n",
    "if a ≤ b:\n",
    "\n",
    "This ≤ symbol doesn't actually work in a program. Plus most people don't know how to easily type it on the keyboard. (Just in case you are curious, on a Mac hold down the option key and click either > or <.) So when writing out code, remember that it is <= and not ≤. Many people lose points on tests for this reason; don't be that person.\n",
    "\n",
    "The next set of code checks to see if two items are equal or not. The operator for equal is == and the operator for not equal is !=. Here they are in action."
   ]
  },
  {
   "cell_type": "code",
   "execution_count": 4,
   "metadata": {
    "collapsed": false
   },
   "outputs": [
    {
     "name": "stdout",
     "output_type": "stream",
     "text": [
      "a and b are not equal\n"
     ]
    }
   ],
   "source": [
    "# Equal\n",
    "if a == b:\n",
    "    print(\"a is equal to b\")\n",
    " \n",
    "# Not equal\n",
    "if a != b:\n",
    "    print(\"a and b are not equal\")"
   ]
  },
  {
   "cell_type": "markdown",
   "metadata": {},
   "source": [
    "It is very easy to mix up when to use == and =. Use == if you are asking if they are equal, use = if you are assigning a value.\n",
    "\n",
    "The two most common mistakes in mixing the = and == operators are demonstrated below. Please, Please, Please study the difference and have a good grasp of this concept. It will save you a lot of trouble in the future."
   ]
  },
  {
   "cell_type": "code",
   "execution_count": null,
   "metadata": {
    "collapsed": false
   },
   "outputs": [],
   "source": [
    "# This is wrong\n",
    "a == 1\n",
    " \n",
    "# This is also wrong\n",
    "if a = 1:\n",
    "    print(\"A is one\")"
   ]
  },
  {
   "cell_type": "markdown",
   "metadata": {},
   "source": [
    "## Indentation"
   ]
  },
  {
   "cell_type": "markdown",
   "metadata": {},
   "source": [
    "Indentation matters. Each line under the if statement that is indented will only be executed if the statement is true. Indentation is 4 spaces. Notice also the : at the end of the <b>if</b> line."
   ]
  },
  {
   "cell_type": "code",
   "execution_count": null,
   "metadata": {
    "collapsed": false
   },
   "outputs": [],
   "source": [
    "if a == 1:\n",
    "    print(\"If a is one, this will print.\")\n",
    "    print(\"So will this.\")\n",
    "    print(\"And this.\")\n",
    " \n",
    "print(\"This will always print because it is not indented.\")"
   ]
  },
  {
   "cell_type": "markdown",
   "metadata": {},
   "source": [
    "Indentation must be the same. This code doesn't work."
   ]
  },
  {
   "cell_type": "code",
   "execution_count": null,
   "metadata": {
    "collapsed": false
   },
   "outputs": [],
   "source": [
    "if a == 1:\n",
    "  print(\"Indented two spaces.\")\n",
    "    print(\"Indented four. This will generate an error.\")\n",
    "   print(\"The computer will want you to make up your mind.\")"
   ]
  },
  {
   "cell_type": "markdown",
   "metadata": {},
   "source": [
    "Once an if statement has been finished, it is not possible to re-indent to go back to it. The test has to be performed again."
   ]
  },
  {
   "cell_type": "code",
   "execution_count": null,
   "metadata": {
    "collapsed": false
   },
   "outputs": [],
   "source": [
    "if a == 1:\n",
    "    print(\"If a is one, this will print.\")\n",
    "    print(\"So will this.\")\n",
    " \n",
    "print(\"This will always print because it is not indented.\")\n",
    "    print(\"This will generate an error. Why it is indented?\")\n"
   ]
  },
  {
   "cell_type": "markdown",
   "metadata": {},
   "source": [
    "## Using And/Or"
   ]
  },
  {
   "cell_type": "markdown",
   "metadata": {},
   "source": [
    "An if statement can check multiple conditions by chaining together comparisons with and and or. These are also considered to be operators just like + or - are."
   ]
  },
  {
   "cell_type": "code",
   "execution_count": null,
   "metadata": {
    "collapsed": false
   },
   "outputs": [],
   "source": [
    "# And\n",
    "if a < b and a < c:\n",
    "    print(\"a is less than b and c\")\n",
    " \n",
    "# Non-exclusive or\n",
    "if a < b or a < c:\n",
    "    print(\"a is less than either b or c (or both)\")"
   ]
  },
  {
   "cell_type": "markdown",
   "metadata": {},
   "source": [
    "A common mistake is to omit a variable when checking it against multiple conditions. The code below does not work because the computer does not know what to check against the variable c. It will not assume to check it against a."
   ]
  },
  {
   "cell_type": "code",
   "execution_count": null,
   "metadata": {
    "collapsed": false
   },
   "outputs": [],
   "source": [
    "# This is not correct\n",
    "if a < b or < c:\n",
    "    print(\"a is less than b and c\")"
   ]
  },
  {
   "cell_type": "markdown",
   "metadata": {},
   "source": [
    "## Boolean Variables"
   ]
  },
  {
   "cell_type": "markdown",
   "metadata": {},
   "source": [
    "Python supports Boolean variables. What are Boolean variables? Boolean variables can store either a True or a value of False. <a href=\"https://en.wikipedia.org/wiki/Boolean_algebra\" target=\"_blank\">Boolean algebra</a> was developed by <a href=\"https://en.wikipedia.org/wiki/George_Boole\" target=\"_blank\">George Boole</a> back in 1854. If only he knew how important his work would become as the basis for modern computer logic!\n",
    "\n",
    "An if statement needs an expression to evaluate to True or False. What may seem odd is that it does not actually need to do any comparisons if a variable already evaluates to True or False."
   ]
  },
  {
   "cell_type": "code",
   "execution_count": null,
   "metadata": {
    "collapsed": false
   },
   "outputs": [],
   "source": [
    "# Boolean data type. This is legal!\n",
    "a = True\n",
    "if a:\n",
    "    print(\"a is true\")"
   ]
  },
  {
   "cell_type": "markdown",
   "metadata": {},
   "source": [
    "Back when I was in school it was popular to say some false statement. Wait three seconds, then shout “NOT!” Well, even your computer thinks that is lame. If you are going to do that, you have to start with the not operator. The following code uses the <b>not</b> to flip the value of a between true and false."
   ]
  },
  {
   "cell_type": "code",
   "execution_count": null,
   "metadata": {
    "collapsed": false
   },
   "outputs": [],
   "source": [
    "# How to use the not function\n",
    "if not a:\n",
    "    print(\"a is false\")"
   ]
  },
  {
   "cell_type": "markdown",
   "metadata": {},
   "source": [
    "## Else and Else If"
   ]
  },
  {
   "cell_type": "markdown",
   "metadata": {},
   "source": [
    "Colons are required at the end of the <b>if</b> and <b>else</b> statements. The indentation tells the Python interpreter which block of code belongs to that if or else block. Just as Scratch grouped the code in if/else blocks, Python uses indentation to group code. Always use four spaces for each level of indentation. \n",
    "<center><img src=\"https://dl.dropboxusercontent.com/u/90219577/Hermon/CSE_Website/notebooks/03/else.png\"></center>"
   ]
  },
  {
   "cell_type": "markdown",
   "metadata": {},
   "source": [
    "Copy the following code into your editor and run it. This code will get the temperature from the user and print if it is hot."
   ]
  },
  {
   "cell_type": "code",
   "execution_count": null,
   "metadata": {
    "collapsed": false
   },
   "outputs": [],
   "source": [
    "temperature = int(raw_input(\"What is the temperature in Fahrenheit? \"))\n",
    "if temperature > 90:\n",
    "    print(\"It is hot outside\")\n",
    "print(\"Done\")"
   ]
  },
  {
   "cell_type": "markdown",
   "metadata": {},
   "source": [
    "If the programmer wants code to be executed if it is not hot, she can use the else statement. Notice how the else is lined up with the i in the if statement, and how it is followed by a colon just like the if statement.\n",
    "\n",
    "In the case of an if...else statement, one block of code will always be executed. The first block will be executed if the statement evaluates to True, the second block if it evaluates to False."
   ]
  },
  {
   "cell_type": "code",
   "execution_count": null,
   "metadata": {
    "collapsed": false
   },
   "outputs": [],
   "source": [
    "temperature = int(raw_input(\"What is the temperature in Fahrenheit? \"))\n",
    "if temperature > 90:\n",
    "    print(\"It is hot outside\")\n",
    "else:\n",
    "    print(\"It is not hot outside\")\n",
    "print(\"Done\")"
   ]
  },
  {
   "cell_type": "markdown",
   "metadata": {},
   "source": [
    "It is possible to chain several if statements together using the else...if statement. Python abbreviates this as <b>elif</b>."
   ]
  },
  {
   "cell_type": "code",
   "execution_count": null,
   "metadata": {
    "collapsed": false
   },
   "outputs": [],
   "source": [
    "temperature = int(raw_input(\"What is the temperature in Fahrenheit? \"))\n",
    "if temperature > 90:\n",
    "    print(\"It is hot outside\")\n",
    "elif temperature < 30:\n",
    "    print(\"It is cold outside\")\n",
    "else:\n",
    "    print(\"It is not hot outside\")\n",
    "print(\"Done\")"
   ]
  },
  {
   "cell_type": "markdown",
   "metadata": {},
   "source": [
    "In the code below, the program will output “It is hot outside” even if the user types in 120 degrees. <b>FIX THIS CODE!</b>"
   ]
  },
  {
   "cell_type": "code",
   "execution_count": null,
   "metadata": {
    "collapsed": false
   },
   "outputs": [],
   "source": [
    "temperature = int(raw_input(\"What is the temperature in Fahrenheit? \"))\n",
    "if temperature > 90:\n",
    "    print(\"It is hot outside\")\n",
    "elif temperature > 110:\n",
    "    print(\"Oh man, you could fry eggs on the pavement!\")\n",
    "elif temperature < 30:\n",
    "    print(\"It is cold outside\")\n",
    "else:\n",
    "    print(\"It is ok outside\")\n",
    "print(\"Done\")"
   ]
  },
  {
   "cell_type": "markdown",
   "metadata": {},
   "source": [
    "## Text Comparisons"
   ]
  },
  {
   "cell_type": "markdown",
   "metadata": {},
   "source": [
    "It is possible to use an if statement to check text."
   ]
  },
  {
   "cell_type": "code",
   "execution_count": null,
   "metadata": {
    "collapsed": false
   },
   "outputs": [],
   "source": [
    "user_name = raw_input(\"What is your name? \")\n",
    "if user_name == \"Marc\":\n",
    "    print(\"You have a cool name.\")\n",
    "else:\n",
    "    print(\"Your name is dumb.\")"
   ]
  },
  {
   "cell_type": "markdown",
   "metadata": {},
   "source": [
    "The prior example will only match if the user enters “Marc”. It will not work if the user enters “marc” or “MARC”.\n",
    "\n",
    "A common mistake is to forget the quotes around the string being compared. In the example below, the computer will think that Marc is a variable that stores a value. It will flag an error because it has no idea what is stored in the variable Marc."
   ]
  },
  {
   "cell_type": "code",
   "execution_count": null,
   "metadata": {
    "collapsed": false
   },
   "outputs": [],
   "source": [
    "user_name = raw_input(\"What is your name? \")\n",
    "if user_name == Marc: # This does not work because quotes are missing\n",
    "    print(\"You have a cool name.\")\n",
    "else:\n",
    "    print(\"Your name is dumb.\")"
   ]
  },
  {
   "cell_type": "markdown",
   "metadata": {},
   "source": [
    "When comparing a variable to multiple possible strings of text, it is important to remember that the comparison must include the variable. For example:"
   ]
  },
  {
   "cell_type": "code",
   "execution_count": null,
   "metadata": {
    "collapsed": false
   },
   "outputs": [],
   "source": [
    "# This does not work!\n",
    "if user_name == \"Marc\" or \"Sarah\":"
   ]
  },
  {
   "cell_type": "markdown",
   "metadata": {},
   "source": [
    "Instead, the code should read:"
   ]
  },
  {
   "cell_type": "code",
   "execution_count": null,
   "metadata": {
    "collapsed": false
   },
   "outputs": [],
   "source": [
    "# This does work\n",
    "if user_name == \"Marc\" or user_name == \"Sarah\":"
   ]
  },
  {
   "cell_type": "markdown",
   "metadata": {},
   "source": [
    "If the program needs to match regardless as to the case of the text entered, the easiest way to do that is to convert everything to lower case. This can be done with the <b>lower</b> command.\n",
    "\n",
    "<center><font size=+2><b>Learn to be insensitive!</b></font></center>\n",
    "\n",
    "The example below will take whatever the user enters, convert it to lower case, and then do the comparison. Important: Don't compare it against a string that has uppercase. If the user input is converted to lowercase, then compared against uppercase letters, there is no way a match can occur."
   ]
  },
  {
   "cell_type": "code",
   "execution_count": 6,
   "metadata": {
    "collapsed": false
   },
   "outputs": [
    {
     "name": "stdout",
     "output_type": "stream",
     "text": [
      "What is your name? Marc\n",
      "You have a cool name.\n"
     ]
    }
   ],
   "source": [
    "user_name = raw_input(\"What is your name? \")\n",
    "if user_name.lower() == \"marc\":\n",
    "    print(\"You have a cool name.\")\n",
    "else:\n",
    "    print(\"Your name is dumb.\")"
   ]
  },
  {
   "cell_type": "markdown",
   "metadata": {},
   "source": [
    "## Your Turn! Complete the following practice programs before starting your project:"
   ]
  },
  {
   "cell_type": "markdown",
   "metadata": {},
   "source": [
    "<font size=+1>1.) Write a Python program that will take in a number from the user and print if it is positive, negative, or zero. Use a proper if/elif/else chain, don't just use three if statements.<br><br>\n",
    "2.) Write a Python program that will take in a number from a user and print out \"Success\" if it is greater than -10 and less than 10, inclusive.<br><br>\n",
    "3.) Open and modify your grade calculator program to also print out the appropriate letter grade.</font>"
   ]
  },
  {
   "cell_type": "markdown",
   "metadata": {},
   "source": [
    "<table width=\"100%\" border=\"1\" cellpadding=\"2\" cellspacing=\"0\">\n",
    "<tr>\n",
    "<td width=\"90\" bgcolor=\"#00FF00\" style=\"vertical-align:top\"><img src=\"https://dl.dropboxusercontent.com/u/90219577/Hermon/CSE_Website/notebooks/sith.png\" style=\"border:2px solid #021a40;\"><center><b>\n",
    "Jedi<br>Training<br>Task</b></center></td>\n",
    "<td valign=\"top\"><center><font size=\"+2\"><b>Quiz Master Project</b></font></center><br>\n",
    "<font size=\"+1\">&nbsp;&nbsp;&nbsp;&nbsp;&nbsp;In this project it's time for you to grow up and be the teacher for a change. You and your partner will create an interactive quiz. Click on <a href=\"https://www.youtube.com/embed/lGOGnLapv9c\" target=\"_blank\">CATastrophe Python Quiz</a> to see the output of my example program. Please create your own original questions. I like to be entertained while I check these programs. Your program should include the following features:<br>\n",
    "\n",
    "<ol>\n",
    "<li>Create your own quiz with five or more questions. Ask at least one of each of the following types of questions:</li>\n",
    "<ul>\n",
    "<li>a number as an answer (e.g., What is 1+1?)</li>\n",
    "<li>text as an answer (e.g. What is Harry Potter's last name?)</li>\n",
    "<li>a multiple choice (Which of these choices are correct? A, B, or C?)</li><Br>\n",
    "</ul>\n",
    "<li>When you have the user enter non-numeric answers, think and cover the different ways a user could enter a correct answer. For example, if the answer is “a”, would “A” also be acceptable?</li><Br>\n",
    "<li>Let the user know if he or she gets the question correct. Print the correct answer if the user gets it wrong.</li><Br>\n",
    "<li>You need to keep track of how many questions they get correct.</li><Br>\n",
    "<li>At the end of the program print the percentage of questions the user gets right.</li><Br>\n",
    "</ol><br>\n",
    "<b>Keep the following in mind when creating the program:</b>\n",
    "\n",
    "<ol>\n",
    "\n",
    "<li>Variable names should start with a lower case letter. Upper case letters work, but it is not considered proper. (Right, you didn't realize that programming was going to be like English Tea Time, did you?)</li><Br>\n",
    "<li>To create a running total of the number correct, create a variable to store this score. Set it to zero. With an if statement, add one to the variable each time the user gets a correct answer. (How do you know if they got it correct? Remember that if you are printing out “correct” then you have already done that part. Just add a line there to add one to the number correct.)</li><Br>\n",
    "<li>Calculate the percentage by using a formula at the end of the game. Don't just add 20% for each question the user gets correct. If you add 20% each time, then you have to change the program 5 places if you add a 6th question. With a formula, you only need 1 change.</li><Br>\n",
    "<li>To print a blank line so that all the questions don't run into each other, use the following code:<br><br>\n",
    "<center><b>print( )</b></center><br></li><Br>\n",
    "<li>Remember the program can print multiple items on one line. This can be useful when printing the user's score at the end.<br>\n",
    "<br>\n",
    "<center><b>print(\"The value in x is\", x)</b></center><br></li><Br>\n",
    "<li>Separate out your code by using blank lines to group sections together. For example, put a blank line between the code for each question.</li><Br>\n",
    "<li>Sometimes it makes sense to re-use variables. Rather than having a different variable to hold the user's answer for each question, you could reuse the same one.</li><Br>\n",
    "<li>Use descriptive variable names. x is a terrible variable name. Instead use something like number_correct.</li><Br>\n",
    "<li><b><u>You must have at least two other people take your quiz to give you feedback before officially demonstrating it to your instructor for completion</u></b></li><Br>\n",
    "</ol>\n",
    "<center>\n",
    "</td></tr></table>"
   ]
  },
  {
   "cell_type": "markdown",
   "metadata": {},
   "source": [
    "<table width=\"100%\" cellpadding=\"2\" cellspacing=\"2\">\n",
    "<tr>\n",
    "<td style=\"border: 1px solid white;\" width=\"100px\">\n",
    "<div>\n",
    "<a href=\"http://nbviewer.ipython.org/github/CSE-UHS/CSE_Python/blob/master/Chapter02.ipynb\"><img src=\"https://dl.dropboxusercontent.com/u/90219577/Hermon/CSE_Website/notebooks/leftarrow.png\" height=\"50px\" width=\"50px\" align=\"left\"></a>\n",
    "</div>\n",
    "</td>\n",
    "<td style=\"border: 1px solid white;\">\n",
    "<div align=\"center\">\n",
    "<a href=\"http://nbviewer.ipython.org/github/CSE-UHS/CSE_Python/blob/master/Chapter00.ipynb\"><h2>Table of Contents</h2></a>\n",
    "</div>\n",
    "</td>\n",
    "<td style=\"border: 1px solid white;\" width=\"100px\">\n",
    "<div>\n",
    "<a href=\"http://nbviewer.ipython.org/github/CSE-UHS/CSE_Python/blob/master/Chapter04.ipynb\"><img src=\"https://dl.dropboxusercontent.com/u/90219577/Hermon/CSE_Website/notebooks/rightarrow.png\"  height=\"50px\" width=\"50px\"  align=\"right\"></a>\n",
    "</div>\n",
    "</td>\n",
    "</tr></table>"
   ]
  }
 ],
 "metadata": {
  "kernelspec": {
   "display_name": "Python 2",
   "language": "python",
   "name": "python2"
  },
  "language_info": {
   "codemirror_mode": {
    "name": "ipython",
    "version": 2
   },
   "file_extension": ".py",
   "mimetype": "text/x-python",
   "name": "python",
   "nbconvert_exporter": "python",
   "pygments_lexer": "ipython2",
   "version": "2.7.10"
  }
 },
 "nbformat": 4,
 "nbformat_minor": 0
}
