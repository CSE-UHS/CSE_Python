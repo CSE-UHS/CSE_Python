{
 "cells": [
  {
   "cell_type": "markdown",
   "metadata": {
    "deletable": true,
    "editable": true
   },
   "source": [
    "<div align=\"right\">\n",
    "<a href=\"http://nbviewer.ipython.org/github/CSP-UHS/Hermons_Book_of_Python/blob/master/Chapter00.ipynb\" align=\"right\"><h2>Table of Contents</h2></a>\n",
    "</div>"
   ]
  },
  {
   "cell_type": "markdown",
   "metadata": {
    "deletable": true,
    "editable": true
   },
   "source": [
    "# Chapter 21: EV3 Robot"
   ]
  },
  {
   "cell_type": "markdown",
   "metadata": {
    "deletable": true,
    "editable": true
   },
   "source": [
    "## The EV3 Brick"
   ]
  },
  {
   "cell_type": "markdown",
   "metadata": {
    "deletable": true,
    "editable": true
   },
   "source": [
    "<img src=\"http://www.hermonswebsites.com/PyNotebooks/Python/21/regrets.jpg\" style=\"width: 400px; height: 300px;\">\n",
    "\n",
    "&nbsp;&nbsp;&nbsp;&nbsp;&nbsp;You have come to the right place to learn how to program droids! We wouldn't want you to have any regrets! Before we get into programming our droids we need to know some basics about the robot's computer which is called the EV3 Brickman or Brick for short. Let's first look at the top of the Brick.\n",
    "\n",
    "<img src=\"http://www.hermonswebsites.com/PyNotebooks/Python/21/display.jpg\">\n",
    "\n",
    "&nbsp;&nbsp;&nbsp;&nbsp;&nbsp;The top of the Brick is divided into the display section and the button section. The display will be used to show various menus and files. You will also be able to write text and draw images to the display screen with your programs.\n",
    "\n",
    "&nbsp;&nbsp;&nbsp;&nbsp;&nbsp;The buttons are used to navigate on the display screen. There are <b>up, right, down</b> and <b>left buttons</b> that help you navigate. The center button is called the <b>Enter</b> or <b>Select</b> button and will be used to select and run your programs as well as turn on the Brick. The <b>Back</b> button is kind of in a weird location but is a very important button. It can be pressed to get down to the <b>Shutdown</b> screen so that you can power down the Brick. Probably the most important use is that you can interrupt a running program by doing a long press of the back button.\n",
    "\n",
    "### Stopping a Program? \n",
    "Long press the back button!\n",
    "\n",
    "### EV3 Freezes Up?  \n",
    "<ol>\n",
    "<li>Hold down the Back, Center, and Left buttons on the EV3 brick.</li>\n",
    "<li>When the screen goes blank, release the Back button.</li>\n",
    "<li>When the screen says “Starting,” release the Center and Left buttons.</li>\n",
    "</ol>\n",
    "\n",
    "<img src=\"http://www.hermonswebsites.com/PyNotebooks/Python/21/usb.jpg\">\n",
    "\n",
    "&nbsp;&nbsp;&nbsp;&nbsp;&nbsp;On the left side of the Brick you will find two important things which we are using. A USB port where we have inserted our <b>Edimax wifi dongle</b> as well as our <b>SD</b> slot where we have inserted our SD card with our EV3DEV image so that we can program in Python.\n",
    "\n",
    "\n",
    "<img src=\"http://www.hermonswebsites.com/PyNotebooks/Python/21/motors.jpg\">\n",
    "\n",
    "&nbsp;&nbsp;&nbsp;&nbsp;&nbsp;The top of the Brick are our outputs labeled <b>A-D</b>. These are where motors will be attached. There is also a <b>PC</b> port to connect the robot to a computer.\n",
    "\n",
    "\n",
    "<img src=\"http://www.hermonswebsites.com/PyNotebooks/Python/21/sensors.jpg\">\n",
    "\n",
    "&nbsp;&nbsp;&nbsp;&nbsp;&nbsp;The bottom of the Brick are our inputs labeled <b>1-4</b>. These are where sensors will be attached. Data from the sensors such as how many centimeters you are away from a wall or what color you are moving over will enter the Brick through these ports and then can be used in the program to output something to the motors to make the robot do something else."
   ]
  },
  {
   "cell_type": "markdown",
   "metadata": {
    "deletable": true,
    "editable": true
   },
   "source": [
    "## Preparing the EV3 Robot"
   ]
  },
  {
   "cell_type": "markdown",
   "metadata": {
    "deletable": true,
    "editable": true
   },
   "source": [
    "We will be programming EV3 Lego Mindstorm robots with Python. Since the EV3 brick doesn't come with a Python Environment already installed, we will have to first do some initial setup. If you are being provided robots with the Python Environment already installed you can skip steps 1-2 although you should still read them.\n",
    "\n",
    "&nbsp;&nbsp;&nbsp;&nbsp;&nbsp;To get the Python Environment and then eventually your python programs onto the robot you will need the following four things:\n",
    "\n",
    "<ul>\n",
    "<li>A microSD or microSDHC card (2GB - 32GB). microSDXC is not supported on the EV3. All cards larger than 32GB will not work with the EV3!</li>\n",
    "<li><a href=\"https://www.amazon.com/gp/product/B003MTTJOY/ref=oh_aui_detailpage_o00_s00?ie=UTF8&psc=1\" target=\"_blank\">Edimax EW-7811Un 802.11n Wireless Adapter</a> (officially supported by LEGO’s software)</li>\n",
    "<li><a href=\"https://etcher.io/\" target=\"_blank\">Etcher Program</a> to flash the EV3DEV image to the SD card</li>\n",
    "<li><a href=\"https://filezilla-project.org/download.php\" target=\"_blank\">FileZilla</a> to transfer your programs to your robot.</li>\n",
    "\n",
    "</ul>"
   ]
  },
  {
   "cell_type": "markdown",
   "metadata": {
    "deletable": true,
    "editable": true
   },
   "source": [
    "### Step 1: Download EV3DEV Image"
   ]
  },
  {
   "cell_type": "markdown",
   "metadata": {
    "deletable": true,
    "editable": true
   },
   "source": [
    "&nbsp;&nbsp;&nbsp;&nbsp;&nbsp;Download the latest ev3dev image file <a href=\"https://github.com/ev3dev/ev3dev/releases/download/ev3dev-jessie-2017-06-09/ev3dev-jessie-ev3-generic-2017-06-09.zip\" target=\"_blank\">here</a>."
   ]
  },
  {
   "cell_type": "markdown",
   "metadata": {
    "deletable": true,
    "editable": true
   },
   "source": [
    "### Step 2: Flash EV3DEV Image to SD Card"
   ]
  },
  {
   "cell_type": "markdown",
   "metadata": {
    "deletable": true,
    "editable": true
   },
   "source": [
    "&nbsp;&nbsp;&nbsp;&nbsp;&nbsp;Launch Etcher. Click the \"Select image\" button and browse to the folder where you downloaded an ev3dev release. Select the file that you downloaded. Plug the SD card into your computer (if your computer doesn’t have a micro SD slot, you can use an adapter or external reader). Etcher should detect the new device and display its information under the \"Select drive\" step. Confirm that the selected drive is correct. When you are confident that you have selected the correct drive, click \"Flash!\" and wait for the operation to complete."
   ]
  },
  {
   "cell_type": "markdown",
   "metadata": {
    "deletable": true,
    "editable": true
   },
   "source": [
    "### Step 3: Booting and Shutting Down EV3"
   ]
  },
  {
   "cell_type": "markdown",
   "metadata": {
    "deletable": true,
    "editable": true
   },
   "source": [
    "&nbsp;&nbsp;&nbsp;&nbsp;&nbsp;It is very difficult to get the microSD card out of the EV3 brick so you can fold over a strip of electrical tape on the edge of it to use as a handle. Put the SD Card in your EV3 and power it on by pushing the <b>Select</b> button. At first, you will see the MINDSTORMS boot splash and the red LEDs will be on. This is immediately followed by the ev3dev boot splash and the LEDs changing to orange. The LEDs indicate disk (SD card) activity. After about one minute, the screen will go blank. This happens on the first boot only. The first boot takes longer than subsequent boots. After another minute or two, you will see the brickman loading… screen. When the boot is complete, the LEDs will turn green. You’ll often want to turn off your EV3 while it isn't in use. Turn off the EV3 by pressing the back button from the main menu in brickman or pressing and holding the back button from any screen in brickman. This will open a dialog where you can select Power Off to turn off the EV3."
   ]
  },
  {
   "cell_type": "markdown",
   "metadata": {
    "deletable": true,
    "editable": true
   },
   "source": [
    "### Step 4: Connecting to Wifi"
   ]
  },
  {
   "cell_type": "markdown",
   "metadata": {
    "deletable": true,
    "editable": true
   },
   "source": [
    "&nbsp;&nbsp;&nbsp;&nbsp;&nbsp;Apparently any USB Wi-Fi dongle which supports Linux will work but the one above is very tiny and works automatically just by plugging it in. Once you have plugged in a dongle, you can use Brickman’s <b>\"Wireless and Networks > Wi-Fi\"</b> menu to connect to a network. Make sure you check the <b>\"Powered\"</b> box so that it starts searching for Wi-Fi networks, and then choose the one you want from the list that appears. Type the password in, and you’re good to go. The EV3 brick should remember this in the future."
   ]
  },
  {
   "cell_type": "markdown",
   "metadata": {
    "deletable": true,
    "editable": true
   },
   "source": [
    "### Step 5: Connecting to Your Robot"
   ]
  },
  {
   "cell_type": "markdown",
   "metadata": {
    "deletable": true,
    "editable": true
   },
   "source": [
    "&nbsp;&nbsp;&nbsp;&nbsp;&nbsp;Here we will learn how to use FileZilla to open a connection so we will be able to upload files. Any FTP client will work and I usually prefer a program for Mac called Fetch but FileZilla is a free download and works with any computers so we will use it here. The EV3 brick acts as a server so we will be able to connect to it. Open FileZilla and go to <b>\"File\" > \"Site manager\"</b>. It should look something like this:\n",
    "\n",
    "<img src=\"http://www.hermonswebsites.com/PyNotebooks/Python/21/filezilla.jpg\">\n",
    "\n",
    "&nbsp;&nbsp;&nbsp;&nbsp;&nbsp;Hit the \"New Site\" button and name it EV3. The host information will be the IP address that you can always find on the screen of the brick. Change the protocol to <b>SFTP</b>. The username is <b><i>robot</i></b>. The password is <b><i>maker</i></b>. You’re now connected to the brick and will be able to see the files and copy programs into the robot folder simply by dropping your programs into the folder.\n",
    "\n",
    "<img src=\"http://www.hermonswebsites.com/PyNotebooks/Python/21/filezilla2.jpg\">"
   ]
  },
  {
   "cell_type": "markdown",
   "metadata": {
    "deletable": true,
    "editable": true
   },
   "source": [
    "### Step 6: Writing Your First Program"
   ]
  },
  {
   "cell_type": "markdown",
   "metadata": {
    "deletable": true,
    "editable": true
   },
   "source": [
    "&nbsp;&nbsp;&nbsp;&nbsp;&nbsp;Let's write your first program! Open a new file in Canopy or any editor of your choice. All of our robot programs will start with the same line of code which looks like:\n",
    "\n",
    "<img src=\"http://www.hermonswebsites.com/PyNotebooks/Python/21/code1.jpg\">"
   ]
  },
  {
   "cell_type": "markdown",
   "metadata": {
    "deletable": true,
    "editable": true
   },
   "source": [
    "&nbsp;&nbsp;&nbsp;&nbsp;&nbsp;Since this first line begins with a hash character you could assume that this is simply a comment that will be ignored by the compiler when the program is run. This would be a false assumption because in fact, lines beginning with #! are actually special instructions called 'shebangs' that DO effect how the program runs since they tell the compiler which program to use to open the file. We are using Python 3 so our first line of code must use the Python 3 shebang. This line of code will also let us run the program directly from the EV3 brickman.\n",
    "\n",
    "&nbsp;&nbsp;&nbsp;&nbsp;&nbsp;The second line of code that we need looks like the following and of course is used to import the Python library. All of our robot programs must have these two lines of code at the top.\n",
    "\n",
    "<img src=\"http://www.hermonswebsites.com/PyNotebooks/Python/21/code2.jpg\">"
   ]
  },
  {
   "cell_type": "markdown",
   "metadata": {
    "deletable": true,
    "editable": true
   },
   "source": [
    "<font size=\"+2\"><a href=\"http://www.hermonswebsites.com/PyNotebooks/Python/21/documentation.pdf\" target=\"_blank\">EV3 Documentation of Classes and Methods</a></font>"
   ]
  },
  {
   "cell_type": "markdown",
   "metadata": {
    "deletable": true,
    "editable": true
   },
   "source": [
    "&nbsp;&nbsp;&nbsp;&nbsp;&nbsp;The documentation for the classes and methods of EV3 are linked above. You should download it to reference often as you program your robots. In our first simple program we are going to use the <b>speak</b> method in the <b>Sound</b> class. This allows our robot to convert text to speech. Below is the program. Copy it into your editor and name the file <b>speak.py</b>. The <b>.wait()</b> makes sure the text is completely read before the program ends. Feel free to change the text to something else as long as it is appropriate.\n",
    "\n",
    "<img src=\"http://www.hermonswebsites.com/PyNotebooks/Python/21/program1.jpg\">"
   ]
  },
  {
   "cell_type": "markdown",
   "metadata": {
    "deletable": true,
    "editable": true
   },
   "source": [
    "### Step 7: Uploading and Running Your Program"
   ]
  },
  {
   "cell_type": "markdown",
   "metadata": {
    "deletable": true,
    "editable": true
   },
   "source": [
    "&nbsp;&nbsp;&nbsp;&nbsp;&nbsp;If you are connected to your EV3 through FileZilla, simply drop your speak.py file into your robot folder. This will upload it to your EV3. This program, however, will actually not be able to run. The file needs to be executable which means we need to change it's permissions so that it can be run from the EV3 brick. To do this simply right-click on the speak.py file name in FileZilla. You should see the following:\n",
    "\n",
    "<img src=\"http://www.hermonswebsites.com/PyNotebooks/Python/21/upload.jpg\">\n",
    "\n",
    "&nbsp;&nbsp;&nbsp;&nbsp;&nbsp;Select <b>File permissions...</b> and then enter <b>777</b> into the Numeric Value text box as seen below. Whenever you upload a different file name you will have to change these permissions. There will now be an asterisk(*) next to the file name on the EV3 brickman showing that the file is executable.\n",
    "\n",
    "<img src=\"http://www.hermonswebsites.com/PyNotebooks/Python/21/permissions.jpg\">\n",
    "\n",
    "&nbsp;&nbsp;&nbsp;&nbsp;&nbsp;To run the program, navigate to <b>File Browser</b> on the EV3 brick and select your program by pressing the center button. There is about an 8 second delay before any program begins on the EV3 brick."
   ]
  },
  {
   "cell_type": "markdown",
   "metadata": {
    "deletable": true,
    "editable": true
   },
   "source": [
    "<table style=\"background-color: #FFFFFF; border: 1px solid #000000; width: 100%; padding: 2px;\">\n",
    "<tr style=\"background-color: #00FF00;\">\n",
    "<td width=\"90\" style=\"vertical-align: top; border: 1px solid #000000;\"><img src=\"http://www.hermonswebsites.com/PyNotebooks/Python/sith.png\" style=\"border: 2px solid #021a40;\">\n",
    "</td><td style=\"border: 1px solid #000000;\"><h2><center><b>Droid Training Task</b></center></h2></td></tr>\n",
    "<tr>\n",
    "<td valign=\"top\" colspan=\"2\" style=\"text-align: left;\">\n",
    "<center><font size=\"+1\"><b>First Droid</b></font></center><br>\n",
    "<font size=\"+1\">\n",
    "&nbsp;&nbsp;&nbsp;&nbsp;&nbsp;Demonstrate to your instructor that you programmed the robot to speak and then remove the program from the robot. You should keep all of your droid programs in your Google Drive but do not leave them on the robot. Every team needs to learn how to make their own program for the robot.\n",
    "</font>\n",
    "</td></tr></table>"
   ]
  },
  {
   "cell_type": "markdown",
   "metadata": {
    "deletable": true,
    "editable": true
   },
   "source": [
    "<table  style=\"background-color: #FFFFFF; width: 100%; padding: 2px;\">\n",
    "<tr style=\"background-color: #FFFFFF;\">\n",
    "<td style=\"border: 1px solid white;\" width=\"250px\">\n",
    "<div>\n",
    "<a href=\"http://nbviewer.ipython.org/github/CSP-UHS/Hermons_Book_of_Python/blob/master/Chapter20.ipynb\"><img src=\"http://www.hermonswebsites.com/PyNotebooks/Python/leftarrow.png\" height=\"50px\" width=\"50px\" align=\"left\"></a>\n",
    "</div>\n",
    "</td>\n",
    "<td style=\"border: 1px solid white;\">\n",
    "<div align=\"center\">\n",
    "<a href=\"http://nbviewer.ipython.org/github/CSP-UHS/Hermons_Book_of_Python/blob/master/Chapter00.ipynb\"><h2>Table of Contents</h2></a>\n",
    "</div>\n",
    "</td>\n",
    "<td style=\"border: 1px solid white;\" width=\"100px\">\n",
    "<div>\n",
    "<a href=\"http://nbviewer.ipython.org/github/CSP-UHS/Hermons_Book_of_Python/blob/master/Chapter22.ipynb\"><img src=\"http://www.hermonswebsites.com/PyNotebooks/Python/rightarrow.png\"  height=\"50px\" width=\"50px\"  align=\"right\"></a>\n",
    "</div>\n",
    "</td>\n",
    "</tr></table>"
   ]
  }
 ],
 "metadata": {
  "kernelspec": {
   "display_name": "Python 2",
   "language": "python",
   "name": "python2"
  },
  "language_info": {
   "codemirror_mode": {
    "name": "ipython",
    "version": 2
   },
   "file_extension": ".py",
   "mimetype": "text/x-python",
   "name": "python",
   "nbconvert_exporter": "python",
   "pygments_lexer": "ipython2",
   "version": "2.7.10"
  }
 },
 "nbformat": 4,
 "nbformat_minor": 0
}
