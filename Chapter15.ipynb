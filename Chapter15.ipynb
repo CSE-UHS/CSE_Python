{
 "cells": [
  {
   "cell_type": "markdown",
   "metadata": {},
   "source": [
    "<div align=\"right\">\n",
    "<a href=\"http://nbviewer.ipython.org/github/CSE-UHS/CSE_Python/blob/master/Chapter00.ipynb\" align=\"right\"><h2>Hermon's Book of Python</h2></a>\n",
    "</div>"
   ]
  },
  {
   "cell_type": "markdown",
   "metadata": {},
   "source": [
    "# Chapter 15: Playing with Pixels"
   ]
  },
  {
   "cell_type": "markdown",
   "metadata": {},
   "source": [
    "## Part 1: Introduction"
   ]
  },
  {
   "cell_type": "markdown",
   "metadata": {},
   "source": [
    "&nbsp;&nbsp;&nbsp;&nbsp;&nbsp;Have you ever played with special photo effects on a computer? Now that you know that images are really just zeros and ones, you might wonder: how are those special effects created?\n",
    "\n",
    "&nbsp;&nbsp;&nbsp;&nbsp;&nbsp;Even very routine computer work involves constant manipulation of images. Every time you move a window on the screen, click on a menu, or even just move the mouse, the pixels on the screen change. What algorithms are used to determine the zeros and ones for the graphics card to send to the monitor?"
   ]
  },
  {
   "cell_type": "markdown",
   "metadata": {},
   "source": [
    "## Part 2: Using Arrays of Pixels"
   ]
  },
  {
   "cell_type": "markdown",
   "metadata": {},
   "source": [
    "&nbsp;&nbsp;&nbsp;&nbsp;&nbsp;In the last chapter, you created an ndarray called ax. It was an array of SubplotAxes objects. You accessed one SubplotAxes by using an index in square brackets: ax[0]. You probably recognize that this is the same syntax used to access an element of a list. However, the ndarray is different than a list; it is an array. All the elements of an array are of the same type, and as a result the computer can access the elements more quickly. Lists and tuples are slower than arrays, but they can mix different data types, like strings and integers.\n",
    "\n",
    "&nbsp;Create the following program importing again the J-Hawk Scholar image and run it."
   ]
  },
  {
   "cell_type": "code",
   "execution_count": null,
   "metadata": {
    "collapsed": false
   },
   "outputs": [],
   "source": [
    "import matplotlib.pyplot as plt \n",
    "import os.path\n",
    "import numpy as np\n",
    "\n",
    "directory = os.path.dirname(os.path.abspath(__file__)) \n",
    "filename = os.path.join(directory, 'scholar.jpg')\n",
    "\n",
    "\n",
    "img = plt.imread(filename)  # Read the image data into an array\n",
    "\n",
    "\n",
    "fig, ax = plt.subplots(1, 1)\n",
    "ax.imshow(img, interpolation='none')\n",
    "fig.show()"
   ]
  },
  {
   "cell_type": "markdown",
   "metadata": {},
   "source": [
    "&nbsp;&nbsp;&nbsp;&nbsp;&nbsp;The imread() function is NOT a method being called on an object here; plt was the nickname we assigned to the matplotlib.pyplot library when we imported it. The imread() function takes a string that is the name of the image file. It returns an array object that is an ndarray, an object with properties and methods defined in the numpy library. Down below in the <b><u>iPython Session window</u></b> try the following:"
   ]
  },
  {
   "cell_type": "code",
   "execution_count": null,
   "metadata": {
    "collapsed": false
   },
   "outputs": [],
   "source": [
    "type(img)"
   ]
  },
  {
   "cell_type": "markdown",
   "metadata": {},
   "source": [
    "&nbsp;&nbsp;&nbsp;&nbsp;&nbsp;The authors of the ndarray package called it ndarray because it supports n-dimensional (i.e., any number (n) dimensional) arrays. RGB color images are 3 dimensional arrays. The first array is how many rows of pixels there are in the image. The second array is how many pixels there are in a row. The third array is a list of the three color intensities (RGB) of each pixel. Sometimes this third array has a fourth number for each pixel called the alpha channel that identifies how opaque the pixel is. Opaque is the opposite of transparent; you cannot see through an opaque object. If you press CMD-I on an image on your desktop you will see if it is an RGB with an alpha channel or not as well as the height and width of the image in pixels.<br>\n",
    "<br>\n",
    "<center><h2>[row][column][color channel]</h2></center>"
   ]
  },
  {
   "cell_type": "markdown",
   "metadata": {},
   "source": [
    "## Part 3: Rendering an Image on Screen"
   ]
  },
  {
   "cell_type": "markdown",
   "metadata": {},
   "source": [
    "&nbsp;&nbsp;&nbsp;&nbsp;&nbsp;Create a new .py file and save it in your working directory. Also, download an image from the internet that you would like to use in this chapter and put it in the same folder as your python script. For my examples, I will be using the Scholar J-Hawk. If you would like to use it you can download it <a href=\"https://dl.dropboxusercontent.com/u/90219577/Hermon/CSE_Website/notebooks/14/scholar.png\" target=\"_blank\">here</a>.\n",
    "\n",
    "&nbsp;&nbsp;&nbsp;&nbsp;&nbsp;Copy the following code to your new .py file. Please read through the program\n",
    "as it is heavily commented with explanation about each part of the code."
   ]
  },
  {
   "cell_type": "code",
   "execution_count": null,
   "metadata": {
    "collapsed": false
   },
   "outputs": [],
   "source": [
    "'''\n",
    "J_Hawk_Scholar.py: Read and show an image.\n",
    "'''\n",
    "\n",
    "'''\n",
    "Below we import several libraries from which we can call instances or objects of classes\n",
    "as well as methods on those objects.\n",
    "'''\n",
    "\n",
    "import matplotlib.pyplot as plt \n",
    "import os.path     # used to determine pathways to image file to load into program.\n",
    "import numpy as np      # “as” lets us use standard abbreviations\n",
    "\n",
    "'''Read the image data'''\n",
    "# Get the name of this working directory which contains this python script\n",
    "directory = os.path.dirname(os.path.abspath(__file__)) \n",
    "\n",
    "# Build an absolute filename from directory + filename. Make sure the image\n",
    "# file and this script are in the same directory. Enter your image name instead of scholar.png.\n",
    "filename = os.path.join(directory, 'scholar.png')\n",
    "\n",
    "# Read the image data into an array\n",
    "img = plt.imread(filename)\n",
    "\n",
    "'''Show the image data'''\n",
    "\n",
    "'''\n",
    "To review, a class is a category of objects that have properties (a set of variables with potentially\n",
    "unique values for each object) and methods (a common set of scripts that do things). An object is an\n",
    "instance of its class.\n",
    "\n",
    "In the line below, plt.subplots(1, 1)  creates a 1 x 1 grid of subplots in a figure. It returns a 2-tuple.\n",
    "The first element of the tuple is an object in the class Figure. The second element of the tuple is an \n",
    "object in the class AxesSubplot.\n",
    "\n",
    "The particular Figure object is being stored in a new variable called (fig). The particular AxesSubplot\n",
    "object is being stored in a variable called, (ax). These variables could be called something else but\n",
    "these are standard names for the plt module.\n",
    "'''\n",
    "\n",
    "fig, ax = plt.subplots(1, 1)\n",
    "\n",
    "'''We can show the image by calling the imshow() method on the ax object that was created above. We have\n",
    "entered two arguments in the imshow() method. The first one is the image and the second one was about\n",
    "interpolation. The matplotlib interface will normally interpolate between values of the image pixels,\n",
    "inferring intermediate colors for screen pixels between the centers of image pixels. This will make for \n",
    "a clearer image. If interpolation='none' it will be blurrier. Run the program again without the interpolation\n",
    "argument.\n",
    "\n",
    "'''\n",
    "ax.imshow(img, interpolation='none')\n",
    "\n",
    "\n",
    "# Show the figure on the screen\n",
    "fig.show()\n"
   ]
  },
  {
   "cell_type": "markdown",
   "metadata": {},
   "source": [
    "&nbsp;&nbsp;&nbsp;&nbsp;&nbsp;When you play the program by clicking the green play button, you should see a new window displaying your image, perhaps hidden behind other windows...so MOVE WINDOWS OUT OF THE WAY TO SEE IT. \n",
    "\n",
    "&nbsp;&nbsp;&nbsp;&nbsp;&nbsp;The figures created by matplotlib are interactive graphical user interfaces (GUIs). The GUI shows the coordinates of the mouse pointer, as shown below. These coordinates are the image coordinates, more or less. (That's not quite true, since the coordinates shown by the GUI can be between integers, unlike the image coordinates. Also, we could have placed the image with its upper left corner somewhere other than (0, 0).)\n",
    "\n",
    "<br><center><img src=\"https://dl.dropboxusercontent.com/u/90219577/Hermon/CSE_Website/notebooks/14/jscreen.png\"></center>\n",
    "\n",
    "&nbsp;&nbsp;&nbsp;&nbsp;&nbsp;If you used the J-Hawk Scholar image, what are the coordinates of the pupil of the eye? If you chose your own image find the coordinates of some part of the image. Notice where (0,0) is located and which way the x and y axes are arranged."
   ]
  },
  {
   "cell_type": "markdown",
   "metadata": {},
   "source": [
    "## Part 4: Arrays of Objects"
   ]
  },
  {
   "cell_type": "markdown",
   "metadata": {},
   "source": [
    "&nbsp;&nbsp;&nbsp;&nbsp;&nbsp;Methods often return data. Calling subplots(1, 1) returns a tuple of two objects:<br>\n",
    "\n",
    "<center><h2>(Figure, AxesSubplot)</h2></center><br>\n",
    "\n",
    "&nbsp;&nbsp;&nbsp;&nbsp;&nbsp;The method subplots can also be used to create a grid of AxesSubplots. In this case subplots (1, n) will return:<br>\n",
    "\n",
    "<center><h2>(Figure, ndarray of AxesSubplots)</h2></center><br>\n",
    "\n",
    "where ndarray is an n-d array, short for an \"n-dimensional array.\" You can access the elements of an ndarray with an index in square brackets as seen below. In ax[0] we set interpolation to zero but in ax[1] we defaulted it to on. Perhaps you can see that the second object is clearer."
   ]
  },
  {
   "cell_type": "code",
   "execution_count": null,
   "metadata": {
    "collapsed": false
   },
   "outputs": [],
   "source": [
    "import matplotlib.pyplot as plt \n",
    "import os.path     \n",
    "import numpy as np  \n",
    "\n",
    "\n",
    "directory = os.path.dirname(os.path.abspath(__file__)) \n",
    "\n",
    "filename = os.path.join(directory, 'scholar.png')\n",
    "\n",
    "img = plt.imread(filename)\n",
    "\n",
    "fig, ax = plt.subplots(1, 2)  #change n to number of objects to put in the array.\n",
    "\n",
    "ax[0].imshow(img, interpolation='none') #remember first object is always object 0 not object 1\n",
    "\n",
    "ax[1].imshow(img)\n",
    "\n",
    "fig.show()"
   ]
  },
  {
   "cell_type": "markdown",
   "metadata": {},
   "source": [
    "<center><img src=\"https://dl.dropboxusercontent.com/u/90219577/Hermon/CSE_Website/notebooks/14/interpolation.png\"></center>"
   ]
  },
  {
   "cell_type": "markdown",
   "metadata": {},
   "source": [
    "&nbsp;&nbsp;&nbsp;&nbsp;&nbsp;We also could iterate through the array as seen below:"
   ]
  },
  {
   "cell_type": "code",
   "execution_count": null,
   "metadata": {
    "collapsed": false
   },
   "outputs": [],
   "source": [
    "import matplotlib.pyplot as plt \n",
    "import os.path     \n",
    "import numpy as np  \n",
    "\n",
    "\n",
    "directory = os.path.dirname(os.path.abspath(__file__)) \n",
    "\n",
    "filename = os.path.join(directory, 'scholar.png')\n",
    "\n",
    "img = plt.imread(filename)\n",
    "\n",
    "fig, ax = plt.subplots(1, 5)  #change n to number of objects to put in the array.\n",
    "\n",
    "for birds in ax:         #iterate through the array of objects!\n",
    "    birds.imshow(img)\n",
    "\n",
    "fig.show()"
   ]
  },
  {
   "cell_type": "markdown",
   "metadata": {},
   "source": [
    "<center><img src=\"https://dl.dropboxusercontent.com/u/90219577/Hermon/CSE_Website/notebooks/14/5birds.png\"></center>"
   ]
  },
  {
   "cell_type": "code",
   "execution_count": null,
   "metadata": {
    "collapsed": false
   },
   "outputs": [],
   "source": [
    "#test.py that finally works\n",
    "\n",
    "# Import the my_functions.py file\n",
    "import my_functions\n",
    " \n",
    "# cse call that does work\n",
    "my_functions.cse()"
   ]
  },
  {
   "cell_type": "markdown",
   "metadata": {},
   "source": [
    "## Part 5: Application Programming Interface (API) for plt.SubplotAxes"
   ]
  },
  {
   "cell_type": "markdown",
   "metadata": {},
   "source": [
    "&nbsp;&nbsp;&nbsp;&nbsp;&nbsp;An API for a class describes all methods you can call on objects in the class. Here are some of the methods from the API for AxesSubplot.<br>\n",
    "\n",
    "<center><img src=\"https://dl.dropboxusercontent.com/u/90219577/Hermon/CSE_Website/notebooks/14/subplotaxes.png\"></center>"
   ]
  },
  {
   "cell_type": "markdown",
   "metadata": {},
   "source": [
    "&nbsp;&nbsp;&nbsp;&nbsp;&nbsp;Along with the methods for displaying data above, we can still use the plot() method as we did in an earlier chapter.<br><br>\n",
    "<center><h2>ax[0].plot(x, y, 'ro')</h2></center>\n",
    "<br>places red circles (coded by 'ro') at all points (xi, yi) where x and y are lists of the xi and yi coordinates, respectively."
   ]
  },
  {
   "cell_type": "markdown",
   "metadata": {},
   "source": [
    "<table width=\"100%\" border=\"1\" cellpadding=\"2\" cellspacing=\"0\">\n",
    "<tr>\n",
    "<td width=\"90\" bgcolor=\"#00FFFF\" style=\"vertical-align:top\"><img src=\"https://dl.dropboxusercontent.com/u/90219577/Hermon/CSE_Website/notebooks/Scholar.png\"></td>\n",
    "<td valign=\"top\"><center><font size=\"+2\"><b>J-Hawk Scholar</b></font></center><br>\n",
    "<font size=\"+1\">\n",
    "\n",
    "&nbsp;&nbsp;&nbsp;&nbsp;&nbsp;Download the <a href=\"https://dl.dropboxusercontent.com/u/90219577/Hermon/CSE_Website/notebooks/14/scholar.png\" target=\"_blank\">J-Hawk Scholar Image</a> and then write an image manipulation program that outputs the following as ONE image as closely as possible. Of course, you should use your first, middle and last name. Show Mr. Hermon your result before you upload it to Scholar.\n",
    "<center><img src=\"https://dl.dropboxusercontent.com/u/90219577/Hermon/CSE_Website/notebooks/14/Ch14.png\"></center>\n",
    "</td></tr></table>"
   ]
  },
  {
   "cell_type": "markdown",
   "metadata": {},
   "source": [
    "<div align=\"right\">\n",
    "<a href=\"http://nbviewer.ipython.org/github/CSE-UHS/CSE_Python/blob/master/Chapter00.ipynb\" align=\"right\"><h2>Hermon's Book of Python</h2></a>\n",
    "</div>"
   ]
  }
 ],
 "metadata": {
  "kernelspec": {
   "display_name": "Python 2",
   "language": "python",
   "name": "python2"
  },
  "language_info": {
   "codemirror_mode": {
    "name": "ipython",
    "version": 2
   },
   "file_extension": ".py",
   "mimetype": "text/x-python",
   "name": "python",
   "nbconvert_exporter": "python",
   "pygments_lexer": "ipython2",
   "version": "2.7.10"
  }
 },
 "nbformat": 4,
 "nbformat_minor": 0
}
