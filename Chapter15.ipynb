{
 "cells": [
  {
   "cell_type": "markdown",
   "metadata": {},
   "source": [
    "<div align=\"right\">\n",
    "<a href=\"http://nbviewer.ipython.org/github/CSE-UHS/CSE_Python/blob/master/Chapter00.ipynb\" align=\"right\"><h2>Table of Contents</h2></a>\n",
    "</div>"
   ]
  },
  {
   "cell_type": "markdown",
   "metadata": {},
   "source": [
    "# Chapter 15: Playing with Pixels"
   ]
  },
  {
   "cell_type": "markdown",
   "metadata": {},
   "source": [
    "## Part 1: Introduction"
   ]
  },
  {
   "cell_type": "markdown",
   "metadata": {},
   "source": [
    "&nbsp;&nbsp;&nbsp;&nbsp;&nbsp;Have you ever played with special photo effects on a computer? Now that you know that images are really just zeros and ones, you might wonder: how are those special effects created?\n",
    "\n",
    "&nbsp;&nbsp;&nbsp;&nbsp;&nbsp;Even very routine computer work involves constant manipulation of images. Every time you move a window on the screen, click on a menu, or even just move the mouse, the pixels on the screen change. What algorithms are used to determine the zeros and ones for the graphics card to send to the monitor?"
   ]
  },
  {
   "cell_type": "markdown",
   "metadata": {},
   "source": [
    "## Part 2: Using Arrays of Pixels"
   ]
  },
  {
   "cell_type": "markdown",
   "metadata": {},
   "source": [
    "&nbsp;&nbsp;&nbsp;&nbsp;&nbsp;In the last chapter, you created an ndarray called ax. It was an array of SubplotAxes objects. You accessed one SubplotAxes by using an index in square brackets: ax[0]. You probably recognize that this is the same syntax used to access an element of a list. However, the ndarray is different than a list; it is an array. All the elements of an array are of the same type, and as a result the computer can access the elements more quickly. Lists and tuples are slower than arrays, but they can mix different data types, like strings and integers.\n",
    "\n",
    "&nbsp;Create the following program importing again the J-Hawk Scholar image and run it."
   ]
  },
  {
   "cell_type": "code",
   "execution_count": null,
   "metadata": {
    "collapsed": false
   },
   "outputs": [],
   "source": [
    "import matplotlib.pyplot as plt \n",
    "import os.path\n",
    "import numpy as np\n",
    "\n",
    "directory = os.path.dirname(os.path.abspath(__file__)) \n",
    "filename = os.path.join(directory, 'scholar.jpg')\n",
    "\n",
    "\n",
    "img = plt.imread(filename)  # Read the image data into an array\n",
    "\n",
    "\n",
    "fig, ax = plt.subplots(1, 1)\n",
    "ax.imshow(img, interpolation='none')\n",
    "fig.show()"
   ]
  },
  {
   "cell_type": "markdown",
   "metadata": {},
   "source": [
    "&nbsp;&nbsp;&nbsp;&nbsp;&nbsp;The imread() function is NOT a method being called on an object here; plt was the nickname we assigned to the matplotlib.pyplot library when we imported it. The imread() function takes a string that is the name of the image file. It returns an array object that is an ndarray, an object with properties and methods defined in the numpy library. Down below in the <b><u>iPython Session window</u></b> try the following:"
   ]
  },
  {
   "cell_type": "code",
   "execution_count": null,
   "metadata": {
    "collapsed": false
   },
   "outputs": [],
   "source": [
    "type(img)"
   ]
  },
  {
   "cell_type": "markdown",
   "metadata": {},
   "source": [
    "&nbsp;&nbsp;&nbsp;&nbsp;&nbsp;The authors of the ndarray package called it ndarray because it supports n-dimensional (i.e., any number (n) dimensional) arrays. RGB color images are 3 dimensional arrays. The first array is how many rows of pixels there are in the image. The second array is how many pixels there are in a row. The third array is a list of the three color intensities (RGB) of each pixel from 0-255. Sometimes this third array has a fourth number for each pixel called the alpha channel that identifies how opaque the pixel is. Opaque is the opposite of transparent; you cannot see through an opaque object. If you press CMD-I on an image on your desktop you will see if it is an RGB with an alpha channel or not as well as the height and width of the image in pixels.<br>\n",
    "<br>\n",
    "<center><h2>[row][column][color channel]</h2></center><br><br>\n",
    "&nbsp;&nbsp;&nbsp;&nbsp;&nbsp;Since the first array is the number of rows, we can easily determine the height of an image by calling the length of the image. Try the following in the <b>iPython Session Window</b> and record."
   ]
  },
  {
   "cell_type": "code",
   "execution_count": null,
   "metadata": {
    "collapsed": false
   },
   "outputs": [],
   "source": [
    "len(img)"
   ]
  },
  {
   "cell_type": "markdown",
   "metadata": {},
   "source": [
    "&nbsp;&nbsp;&nbsp;&nbsp;&nbsp;So now we know the height of the image or how many rows of pixels there are. Now how can we determine the width of the image. Well, it would be how many pixels are in a given row. You could choose any row but we will choose the first one which if you remember is indexed at [0]. So to find the width of the image you should try the following in the <b>iPython Session Window</b> and record."
   ]
  },
  {
   "cell_type": "code",
   "execution_count": null,
   "metadata": {
    "collapsed": false
   },
   "outputs": [],
   "source": [
    "len(img[0])"
   ]
  },
  {
   "cell_type": "markdown",
   "metadata": {},
   "source": [
    "&nbsp;&nbsp;&nbsp;&nbsp;&nbsp;Since img[5] is the 6th row of pixels, img[5][9] would be the 10th pixel in the 6th row. (Even the best coders sometimes forget that the first item in a list or an array is indexed with zero!). Remember the third array of an image is a list of the three RGB intensities of a certain pixel. The following code will print the RGB array of the 10th pixel in the 6th row. Try it out in the <b>iPython Session Window</b> and record."
   ]
  },
  {
   "cell_type": "code",
   "execution_count": null,
   "metadata": {
    "collapsed": false
   },
   "outputs": [],
   "source": [
    "img[5][9]"
   ]
  },
  {
   "cell_type": "markdown",
   "metadata": {},
   "source": [
    "&nbsp;&nbsp;&nbsp;&nbsp;&nbsp;Run your mouse cursor over the image and record the position of a pixel in the yellow beak, the blue body and the red feathers. In the <b>iPython Session Window</b> determine and record the RGB arrays for each of those pixels.\n",
    "\n",
    "&nbsp;&nbsp;&nbsp;&nbsp;&nbsp;Since there are three elements in the 3rd RGB array, [0] would give the red value only, [1] would be the green value only and [2] would be the blue value only. Run your mouse cursor to x = 200 and y = 300 and predict the green value. Use the following code to check your guess. (Remember your number of rows comes first which would be your y-value and the number of pixels over would be your x-value). \n",
    "\n",
    "&nbsp;&nbsp;&nbsp;&nbsp;&nbsp; After you test the following code down in your <b>iPython Session Window</b>, determine the red and blue values individually also. Try some other points."
   ]
  },
  {
   "cell_type": "code",
   "execution_count": null,
   "metadata": {
    "collapsed": false
   },
   "outputs": [],
   "source": [
    "img[300][200][1] "
   ]
  },
  {
   "cell_type": "markdown",
   "metadata": {},
   "source": [
    "## Part 3: Manipulating Pixels"
   ]
  },
  {
   "cell_type": "markdown",
   "metadata": {},
   "source": [
    "&nbsp;&nbsp;&nbsp;&nbsp;&nbsp;You can assign new values to a pixel. Add the following lines of code in your program in the <b>code editor</b> before the fig.show() in your code. Execute the code and examine the figure it creates."
   ]
  },
  {
   "cell_type": "code",
   "execution_count": null,
   "metadata": {
    "collapsed": false
   },
   "outputs": [],
   "source": [
    "for row in range(105, 125):\n",
    "    for column in range(215, 235):\n",
    "        img[row][column] = [0, 0, 255] # makes a blue square"
   ]
  },
  {
   "cell_type": "markdown",
   "metadata": {},
   "source": [
    "&nbsp;&nbsp;&nbsp;&nbsp;&nbsp;The nested for loops iterate through a rectangle of pixels. The outer loop runs through each row, from row 105 through row 125. For each iteration of that outer loop, the inner loop works across the image from column 215 to column 235. A new list of RGB values is assigned to every one of these pixels. This results in a 20 x 20 blue square on the J-Hawk. \n",
    "\n",
    "&nbsp;&nbsp;&nbsp;&nbsp;&nbsp;The assignment of color in this new code can be placed within an if structure so that not all pixels get the new assignment of color. Try replacing the code for a blue square with the following lines of code. The conditional in the new code uses the built-in function sum() to add together the values of the three RGB pixels. If red + green + blue is more than 600, the pixel was bright and in this image was probably white. So basically, if the pixel was white we will color it yellow instead."
   ]
  },
  {
   "cell_type": "code",
   "execution_count": null,
   "metadata": {
    "collapsed": false
   },
   "outputs": [],
   "source": [
    "height = len(img)\n",
    "width = len(img[0])\n",
    "for r in range(height):\n",
    "    for c in range(width):\n",
    "        if sum(img[r][c])>600: # brightness R+G+B goes up to 3*255=765\n",
    "            img[r][c]=[255,255,0] # R + G  =  yellow"
   ]
  },
  {
   "cell_type": "markdown",
   "metadata": {},
   "source": [
    "&nbsp;&nbsp;&nbsp;&nbsp;&nbsp;In this code the nested for loops iterate through the entire image. The outer loop runs through row [0] to the bottom of the image. For each iteration of that outer loop, the inner loop works across the image from column [0] to the last column. Using the sum() function the program adds up the RGB values of each pixel it comes to and determines if the sum is greater than 600. If a pixel is pure white the sum would be 765 so 600 will make sure we find each pixel that is fairly bright. If the (if) condition is true the program will change that white pixel to yellow. "
   ]
  },
  {
   "cell_type": "markdown",
   "metadata": {},
   "source": [
    "## Part 4: The Illuminati"
   ]
  },
  {
   "cell_type": "markdown",
   "metadata": {},
   "source": [
    "&nbsp;&nbsp;&nbsp;&nbsp;&nbsp;There are ways to send secret information in photographs using the lowest-place-value bits in each color byte. Concealing information in an image is called <b><u>steganography</u></b>, which is what this section should be entitled. (I just called it \"The Illuminati\" to try to get you to read it!) The 1s place and 2s place of each RGB pixel intensity could be changed to encode the numbers 0 to 63, more than enough for the alphabet. Let's see if you can understand how this works.\n",
    "\n",
    "&nbsp;&nbsp;&nbsp;&nbsp;&nbsp;Let's say a single pixel in your image is colored white. The RGB array for this is [255, 255, 255]. The number 255 is a decimal number. We can convert it to a binary number which would use 8 bits or 1 byte of data. The array would now look like [11111111, 11111111, 11111111]. The ones and the twos place are what we call the <b>least significant bits</b>. We can change these least sigbits and not even come close to changing the color to the human eye.<br><br>\n",
    "<center> \n",
    "11111100 =  252<br>\n",
    "11111101 =  253<br>\n",
    "11111110 =  254<br>\n",
    "11111111 =  255<br><br>\n",
    "</center>\n",
    "\n",
    "&nbsp;&nbsp;&nbsp;&nbsp;&nbsp;Since we have 2 <b>least significant bits</b> in each byte and 3 bytes/pixel we could use 6 bits/pixel to store information and no human would be able to notice a difference in the image. A string of 6 bits would allow us to encode 0 to 63. Since there are only 26 letters of the alphabet technically we would only need 5 bits to encode secret messages in pictures.\n",
    "\n",
    "&nbsp;&nbsp;&nbsp;&nbsp;&nbsp;Let's look at an example: Suppose we have a magneta pixel:<br><br>\n",
    "\n",
    "<center>RGB = (255, 0, 255) = (11111111, 00000000, 11111111) binary</center><br>\n",
    "\n",
    "If we simply changed the last two bits of each byte to the following:<br><br>\n",
    "\n",
    "<center>(111111<b>01</b>, 000000<b>10</b>, 111111<b>01</b>)</center><br><br>\n",
    "\n",
    "we could stay very near the same color value of magenta but encode for the letter <b>(y)</b>. HOW, you ask? Well, first we set A-Z to equal 1-26. Next, we always take the last two bits of the binary pixel colors and string them together. So for our modified magenta pixel above that would be:<br><br>\n",
    "<center>011001</center>\n",
    "<br>\n",
    "&nbsp;&nbsp;&nbsp;&nbsp;&nbsp;This binary number 011001 converts to decimal 25 which would correlate to the 25th letter of the alphabet <b>(y)</b>! Even with a small 100 x 100 pixel image, you could send a 10,000 character hidden message. Crazy awesome, right? Below I have created a steganography program that will let you encode messages into an image file or decode messages from images that have already been encoded. Also below is an image which I have already encoded with a secret message. Use the program to determine the message. Once you have decoded it, feel free to encode with a new message and e-mail to a friend. They of course will not be able to determine the message unless they have this same decoding program. You can download the program and the image by right clicking and selecting \"Save link as\"<br><br>\n",
    "\n",
    "<a href=\"https://dl.dropboxusercontent.com/u/90219577/Hermon/CSE_Website/notebooks/14/steganography.py\" target=\"_blank\">Download Steganography Program</a><br><br>\n",
    "<center><a href=\"https://dl.dropboxusercontent.com/u/90219577/Hermon/CSE_Website/notebooks/14/illuminati.jpg\" target=\"_blank\"><img src=\"https://dl.dropboxusercontent.com/u/90219577/Hermon/CSE_Website/notebooks/14/illuminati.jpg\" width=\"300\" height=\"300\"></a></center>"
   ]
  },
  {
   "cell_type": "markdown",
   "metadata": {},
   "source": [
    "<table width=\"100%\" border=\"1\" cellpadding=\"2\" cellspacing=\"0\">\n",
    "<tr>\n",
    "<td width=\"90\" bgcolor=\"#00FF00\" style=\"vertical-align:top\"><img src=\"https://dl.dropboxusercontent.com/u/90219577/Hermon/CSE_Website/notebooks/sith.png\" style=\"border:2px solid #021a40;\"><center><b>\n",
    "Jedi<br>Training<br>Task</b></center></td>\n",
    "<td valign=\"top\"><center><font size=\"+2\"><b>Pixel Dust</b></font></center><br>\n",
    "<font size=\"+1\">\n",
    "\n",
    "1.) Using the <a href=\"https://dl.dropboxusercontent.com/u/90219577/Hermon/CSE_Website/notebooks/14/scholar.jpg\" target=\"_blank\">J-Hawk Scholar image</a>, write an image manipulation program that underlines the U with a yellow rectangle and colors the graduation cap cyan. Save the image and show to your instructor.<br><br> \n",
    "\n",
    "2.) Also show your instructor the secret message encoded in the Illuminati symbol above.\n",
    "</td></tr></table>"
   ]
  },
  {
   "cell_type": "markdown",
   "metadata": {},
   "source": [
    "<div align=\"right\">\n",
    "<a href=\"http://nbviewer.ipython.org/github/CSE-UHS/CSE_Python/blob/master/Chapter00.ipynb\" align=\"right\"><h2>Table of Contents</h2></a>\n",
    "</div>"
   ]
  }
 ],
 "metadata": {
  "kernelspec": {
   "display_name": "Python 2",
   "language": "python",
   "name": "python2"
  },
  "language_info": {
   "codemirror_mode": {
    "name": "ipython",
    "version": 2
   },
   "file_extension": ".py",
   "mimetype": "text/x-python",
   "name": "python",
   "nbconvert_exporter": "python",
   "pygments_lexer": "ipython2",
   "version": "2.7.10"
  }
 },
 "nbformat": 4,
 "nbformat_minor": 0
}
